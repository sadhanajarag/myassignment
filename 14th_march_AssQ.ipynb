{
 "cells": [
  {
   "cell_type": "markdown",
   "id": "d219b387",
   "metadata": {},
   "source": []
  },
  {
   "cell_type": "markdown",
   "id": "f59e1c93",
   "metadata": {},
   "source": [
    "F Test Formula helps us to compare the variances of two different sets of values. To use F distribution under the null hypothesis, it is important to determine the mean of the two given observations at first and then calculate the variance. \n",
    "\n",
    "σ2=∑(x−x¯)2/n−1\n",
    "\n",
    "In the above formula, \n",
    "\n",
    "σ2 is the variance\n",
    "\n",
    "x is the values given in a set of data\n",
    "\n",
    "x is the mean of the given Data set \n",
    "\n",
    "n is the total number of values in the Data set\n",
    "\n",
    "\n",
    "Null Hypothesis :\n",
    "    While running an F Test, it is very important to note that the population variances are equal. In more simple words, it is always assumed that the variances are equal to unity or 1. Therefore, the variances are always equal in the case of the null hypothesis"
   ]
  },
  {
   "cell_type": "markdown",
   "id": "eabd0700",
   "metadata": {},
   "source": [
    "## Q1. Write a Python function that takes in two arrays of data and calculates the F-value for a variance ratio test. The function should return the F-value and the corresponding p-value for the test."
   ]
  },
  {
   "cell_type": "code",
   "execution_count": 24,
   "id": "4ee6e77d",
   "metadata": {},
   "outputs": [],
   "source": [
    "x = [10, 12, 22, 25, 27, 28, 41, 45, 51]\n",
    "y = [14, 15, 15, 17, 18, 22, 25, 25, 27]"
   ]
  },
  {
   "cell_type": "code",
   "execution_count": 16,
   "id": "c3a447c9",
   "metadata": {},
   "outputs": [
    {
     "data": {
      "text/plain": [
       "(4.38712, 0.019127)"
      ]
     },
     "execution_count": 16,
     "metadata": {},
     "output_type": "execute_result"
    }
   ],
   "source": [
    "import numpy as np\n",
    "import scipy\n",
    "\n",
    "#define F-test function\n",
    "def f_test(x, y):\n",
    "    x = np.array(x)\n",
    "    y = np.array(y)\n",
    "    f = np.var(x)/np.var(y) #calculate F test statistic \n",
    "    dfn = x.size-1 #define degrees of freedom numerator \n",
    "    dfd = y.size-1 #define degrees of freedom denominator \n",
    "    p = 1-scipy.stats.f.cdf(f, dfn, dfd) #find p-value of F test statistic \n",
    "    return f, p\n",
    "\n",
    "#perform F-test\n",
    "f_test(x, y)\n",
    "\n",
    "(4.38712, 0.019127)"
   ]
  },
  {
   "cell_type": "markdown",
   "id": "825d9295",
   "metadata": {},
   "source": [
    "## Q2. Given a significance level of 0.05 and the degrees of freedom for the numerator and denominator of an F-distribution, write a Python function that returns the critical F-value for a two-tailed test."
   ]
  },
  {
   "cell_type": "code",
   "execution_count": null,
   "id": "491161ba",
   "metadata": {},
   "outputs": [],
   "source": [
    "#find F critical value\n",
    "import scipy.stats\n",
    "scipy.stats.f.ppf(q=1-.05, dfn, dfd)\n",
    "\n",
    "scipy.stats.f.ppf(q=1-.05, dfn=6, dfd=8)"
   ]
  },
  {
   "cell_type": "markdown",
   "id": "6e325257",
   "metadata": {},
   "source": [
    "## Q3. Write a Python program that generates random samples from two normal distributions with known variances and uses an F-test to determine if the variances are equal. The program should output the F- value, degrees of freedom, and p-value for the test."
   ]
  },
  {
   "cell_type": "code",
   "execution_count": 10,
   "id": "0c86cc79",
   "metadata": {},
   "outputs": [],
   "source": [
    "import numpy as np\n",
    "x=np.random.normal(3,size=(2, 4)) "
   ]
  },
  {
   "cell_type": "code",
   "execution_count": 11,
   "id": "f782ab8f",
   "metadata": {},
   "outputs": [],
   "source": [
    "import numpy as np\n",
    "y= np.random.normal(3,size=(2, 4))"
   ]
  },
  {
   "cell_type": "code",
   "execution_count": 12,
   "id": "33e8c9df",
   "metadata": {},
   "outputs": [
    {
     "name": "stdout",
     "output_type": "stream",
     "text": [
      "[[2.8009192  3.4248072  4.54712199 4.45795939]\n",
      " [3.48953489 3.74041692 2.23555215 3.78852194]]\n"
     ]
    }
   ],
   "source": [
    "print(x)"
   ]
  },
  {
   "cell_type": "code",
   "execution_count": 13,
   "id": "d40faf58",
   "metadata": {},
   "outputs": [
    {
     "name": "stdout",
     "output_type": "stream",
     "text": [
      "[[3.96583639 3.35561006 2.34882883 2.04219728]\n",
      " [2.75824911 2.02849591 3.36558355 2.82997397]]\n"
     ]
    }
   ],
   "source": [
    "print(y)"
   ]
  },
  {
   "cell_type": "code",
   "execution_count": 18,
   "id": "e9d95c95",
   "metadata": {},
   "outputs": [
    {
     "data": {
      "text/plain": [
       "(1.2584689300211116, 0.38469282570454255, 7)"
      ]
     },
     "execution_count": 18,
     "metadata": {},
     "output_type": "execute_result"
    }
   ],
   "source": [
    "import numpy as np\n",
    "\n",
    "\n",
    "#define F-test function\n",
    "def f_test(x, y):\n",
    "    x = np.array(x)\n",
    "    y = np.array(y)\n",
    "    f = np.var(x)/np.var(y) #calculate F test statistic \n",
    "    dfn = x.size-1 #define degrees of freedom numerator \n",
    "    dfd = y.size-1 #define degrees of freedom denominator \n",
    "    p = 1-scipy.stats.f.cdf(f, dfn, dfd) #find p-value of F test statistic \n",
    "    return f, p,dfn\n",
    "\n",
    "#perform F-test\n",
    "f_test(x, y)\n"
   ]
  },
  {
   "cell_type": "markdown",
   "id": "35157245",
   "metadata": {},
   "source": [
    "## Q4.The variances of two populations are known to be 10 and 15. A sample of 12 observations is taken from each population. Conduct an F-test at the 5% significance level to determine if the variances are significantly different."
   ]
  },
  {
   "cell_type": "code",
   "execution_count": null,
   "id": "54478a51",
   "metadata": {},
   "outputs": [],
   "source": [
    "var1=10\n",
    "var2=15\n",
    "n=12\n",
    "alpha=0.05\n",
    "\n"
   ]
  },
  {
   "cell_type": "code",
   "execution_count": null,
   "id": "116f32d6",
   "metadata": {},
   "outputs": [],
   "source": [
    "F Value = Larger Sample Variance / Smaller Sample Variance = σ12  / σ22"
   ]
  },
  {
   "cell_type": "markdown",
   "id": "7ff9318e",
   "metadata": {},
   "source": [
    "#Step 1 : State the hypothesis\n",
    "\n",
    "Null Hypothesis :null hypothesis assumes that the variances are equal. H0: σ1**2 = σ2**2. \n",
    "\n",
    "Alternate hypothesis :The variances are unequal. H1: σ12 ≠ σ22. Here, σ12 and σ22 are the symbols for variances."
   ]
  },
  {
   "cell_type": "code",
   "execution_count": 34,
   "id": "a18e82d8",
   "metadata": {},
   "outputs": [
    {
     "name": "stdout",
     "output_type": "stream",
     "text": [
      "1.5\n"
     ]
    }
   ],
   "source": [
    "#Step 2 : Calculate the test statistic.\n",
    "\n",
    "#(F distribution). i.e., = σ12 / σ22 Where σ12 is assumed to be larger sample variance, and σ22 is the smaller sample variance\n",
    "\n",
    "F_dist = 15/10\n",
    "print(F_dist)"
   ]
  },
  {
   "cell_type": "code",
   "execution_count": null,
   "id": "1d09b1c4",
   "metadata": {},
   "outputs": [],
   "source": [
    "#Step 3: Calculate the degrees of freedom.\n",
    "Degree of freedom (df1) = n1 – 1 and Degree of freedom (df2) = n2 – 1 where n1 and n2 are the sample sizes.\n",
    "n=12\n",
    "n-1=11\n",
    "Distribution for the test:F11,11 where n1 – 1 = 11 and n2 – 1 = 11\n",
    "#Go to f table and check significance level 0.05 and df1=11 and df2=11 and check f critical value\n",
    "Fdistribution is between the range  =(2.79<F value <2.85 )"
   ]
  },
  {
   "cell_type": "code",
   "execution_count": 36,
   "id": "e0db2468",
   "metadata": {},
   "outputs": [
    {
     "name": "stdout",
     "output_type": "stream",
     "text": [
      "2.8179304699530863\n"
     ]
    }
   ],
   "source": [
    "from scipy.stats import f \n",
    "f_critical_values= scipy.stats.f.ppf(q=1-.05, dfn=11, dfd=11)\n",
    "print(f_critical_values)"
   ]
  },
  {
   "cell_type": "code",
   "execution_count": 35,
   "id": "57660af2",
   "metadata": {},
   "outputs": [
    {
     "name": "stdout",
     "output_type": "stream",
     "text": [
      "Failed to reject the null hypothesis.\n"
     ]
    }
   ],
   "source": [
    "#Result:\n",
    "if F_dist > f_critical_values:\n",
    "    print (\"Reject the null hypothesis.\")\n",
    "else:\n",
    "    print(\"Failed to reject the null hypothesis.\")"
   ]
  },
  {
   "cell_type": "code",
   "execution_count": null,
   "id": "2c5dd5ca",
   "metadata": {},
   "outputs": [],
   "source": [
    "Inference :The variances are equal. H0: σ12 = σ22. "
   ]
  },
  {
   "cell_type": "markdown",
   "id": "269cad79",
   "metadata": {},
   "source": [
    "## Q5. A manufacturer claims that the variance of the diameter of a certain product is 0.005. A sample of 25 products is taken, and the sample variance is found to be 0.006. Conduct an F-test at the 1% significance level to determine if the claim is justified."
   ]
  },
  {
   "cell_type": "code",
   "execution_count": null,
   "id": "b0c04ada",
   "metadata": {},
   "outputs": [],
   "source": [
    "n=25\n",
    "n-1=24\n",
    "var1=0.005\n",
    "var2=0.006\n",
    "alpha=0.01"
   ]
  },
  {
   "cell_type": "code",
   "execution_count": null,
   "id": "19774867",
   "metadata": {},
   "outputs": [],
   "source": [
    "Null Hypothesis = H0 :variances are equal\n",
    "    \n",
    "Alternative Hypothesis = H1 =variances are not equal or greater."
   ]
  },
  {
   "cell_type": "code",
   "execution_count": 43,
   "id": "a7cbf2c9",
   "metadata": {},
   "outputs": [
    {
     "name": "stdout",
     "output_type": "stream",
     "text": [
      "1.2\n"
     ]
    }
   ],
   "source": [
    "#F statistic = F Value = σ1**2  / σ2**2 \n",
    "f_stat= 0.006/0.005\n",
    "print(f_stat)"
   ]
  },
  {
   "cell_type": "code",
   "execution_count": 40,
   "id": "05d4cf2f",
   "metadata": {},
   "outputs": [
    {
     "name": "stdout",
     "output_type": "stream",
     "text": [
      "2.659072104348157\n"
     ]
    }
   ],
   "source": [
    "from scipy.stats import f \n",
    "f_critical_values= scipy.stats.f.ppf(q=1-0.01,dfn=24, dfd=24)\n",
    "print(f_critical_values)"
   ]
  },
  {
   "cell_type": "code",
   "execution_count": 41,
   "id": "da1b6ec6",
   "metadata": {},
   "outputs": [
    {
     "name": "stdout",
     "output_type": "stream",
     "text": [
      "Failed to reject the null hypothesis.\n"
     ]
    }
   ],
   "source": [
    "#Result:\n",
    "if F_dist > f_critical_values:\n",
    "    print (\"Reject the null hypothesis.\")\n",
    "else:\n",
    "    print(\"Failed to reject the null hypothesis.\")"
   ]
  },
  {
   "cell_type": "code",
   "execution_count": null,
   "id": "e97af794",
   "metadata": {},
   "outputs": [],
   "source": [
    "Inference : At the 1% significance level i.e. 99% of CI we are failed to reject null hypothesis .i.e we can say varience are equal"
   ]
  },
  {
   "cell_type": "markdown",
   "id": "238fdc28",
   "metadata": {},
   "source": [
    "## Q6. Write a Python function that takes in the degrees of freedom for the numerator and denominator of an F-distribution and calculates the mean and variance of the distribution. The function should return the mean and variance as a tuple."
   ]
  },
  {
   "cell_type": "code",
   "execution_count": null,
   "id": "ecfb96b5",
   "metadata": {},
   "outputs": [],
   "source": [
    "def fun_f_dist(df_denominator,df_numerator):\n",
    "    mean = df_denominator / (df_denominator - 2)\n",
    "    variance = (2 * (df_denominator ** 2) * (df_numerator + df_denominator - 2)) / \n",
    "               ((df_numerator * (df_denominator - 2) ** 2 * (df_denominator - 4)))\n",
    "    return (mean, variance)"
   ]
  },
  {
   "cell_type": "markdown",
   "id": "d649b1c4",
   "metadata": {},
   "source": [
    "## Q7. A random sample of 10 measurements is taken from a normal population with unknown variance. The sample variance is found to be 25. Another random sample of 15 measurements is taken from another normal population with unknown variance, and the sample variance is found to be 20. Conduct an F-test at the 10% significance level to determine if the variances are significantly different."
   ]
  },
  {
   "cell_type": "code",
   "execution_count": null,
   "id": "ca88c9a1",
   "metadata": {},
   "outputs": [],
   "source": [
    "H0=Variances are equal\n",
    "H1=Variances are different"
   ]
  },
  {
   "cell_type": "code",
   "execution_count": 47,
   "id": "cd8f45af",
   "metadata": {},
   "outputs": [
    {
     "name": "stdout",
     "output_type": "stream",
     "text": [
      "1.25\n"
     ]
    }
   ],
   "source": [
    "Sample_count1_n1=10\n",
    "Sample_count_n2=15\n",
    "df1=9\n",
    "df2=14\n",
    "var1=25\n",
    "var2=20\n",
    "alpha=0.1\n",
    "\n",
    "F_stat = var1/var2\n",
    "print(F_stat)\n"
   ]
  },
  {
   "cell_type": "code",
   "execution_count": null,
   "id": "735ce11c",
   "metadata": {},
   "outputs": [],
   "source": [
    "Now from the F table the critical value F(0.1, 9, 14) = 2.12"
   ]
  },
  {
   "cell_type": "code",
   "execution_count": 49,
   "id": "592556b8",
   "metadata": {},
   "outputs": [
    {
     "name": "stdout",
     "output_type": "stream",
     "text": [
      "2.121954566976902\n"
     ]
    }
   ],
   "source": [
    "from scipy.stats import f \n",
    "f_critical_values= scipy.stats.f.ppf(q=1-0.1,dfn=9, dfd=14)\n",
    "print(f_critical_values)"
   ]
  },
  {
   "cell_type": "code",
   "execution_count": 48,
   "id": "b0871304",
   "metadata": {},
   "outputs": [
    {
     "name": "stdout",
     "output_type": "stream",
     "text": [
      "Failed to reject the null hypothesis.\n"
     ]
    }
   ],
   "source": [
    "#Result:\n",
    "if F_stat > 2.12:\n",
    "    print (\"Reject the null hypothesis.\")\n",
    "else:\n",
    "    print(\"Failed to reject the null hypothesis.\")"
   ]
  },
  {
   "cell_type": "code",
   "execution_count": null,
   "id": "56fc2dbe",
   "metadata": {},
   "outputs": [],
   "source": [
    "Interpretation :10% significance level ,we can say that variences are same"
   ]
  },
  {
   "cell_type": "markdown",
   "id": "e06e9146",
   "metadata": {},
   "source": [
    "## Q8. The following data represent the waiting times in minutes at two different restaurants on a Saturday night: Restaurant A: 24, 25, 28, 23, 22, 20, 27; Restaurant B: 31, 33, 35, 30, 32, 36. Conduct an F-test at the 5% significance level to determine if the variances are significantly different."
   ]
  },
  {
   "cell_type": "code",
   "execution_count": null,
   "id": "e6d918f5",
   "metadata": {},
   "outputs": [],
   "source": [
    "Restaurant A    Restaurant B\n",
    "24                   31\n",
    "25                   33\n",
    "28                   35\n",
    "23                   30\n",
    "22                   32\n",
    "20                   36\n",
    "27                   "
   ]
  },
  {
   "cell_type": "code",
   "execution_count": null,
   "id": "8ac268d7",
   "metadata": {},
   "outputs": [],
   "source": [
    "H0 : Varience are equal\n",
    "H1 : Varience are significantly different"
   ]
  },
  {
   "cell_type": "code",
   "execution_count": 88,
   "id": "bfd92db3",
   "metadata": {},
   "outputs": [
    {
     "name": "stdout",
     "output_type": "stream",
     "text": [
      "*******By Critical Values Calculation*******\n",
      "\n",
      "Failed to reject Null hypothesis.\n",
      "\n",
      "*********By P Values Calculation*********\n",
      "\n",
      "Failed to reject Null Hypothesis.\n",
      "\n"
     ]
    },
    {
     "data": {
      "text/plain": [
       "(1.4551907719609583, 0.3487407873968742)"
      ]
     },
     "execution_count": 88,
     "metadata": {},
     "output_type": "execute_result"
    }
   ],
   "source": [
    "import numpy as np\n",
    "import scipy.stats \n",
    "res_a = [24,25,28,23,22,20,27]\n",
    "res_b = [31,33,35,30,32,36]\n",
    "a = np.array(res_a)\n",
    "b = np.array(res_b)\n",
    "alpha=0.05\n",
    "# calculate variance of each group\n",
    "#print(np.var(a), np.var(b))\n",
    "\n",
    "def f_test(a, b):\n",
    "    #Calculate F value\n",
    "    f = np.var(a,ddof=1)/np.var(b,ddof=1)\n",
    "    #print(f)\n",
    "    nun = a.size-1\n",
    "    #print(nun)\n",
    "    dun = b.size-1\n",
    "    # calculate F value from F table\n",
    "    f_critical_value = scipy.stats.f.ppf(q=1-.05, dfn=nun, dfd=dun)\n",
    "    # calculate P value \n",
    "    p_value = 1-scipy.stats.f.cdf(f, nun, dun)\n",
    "    #print(\"P Value\",p_value)\n",
    "    print(\"*******By Critical Values Calculation*******\\n\")\n",
    "    \n",
    "    if f < f_critical_values:\n",
    "        print (\"Failed to reject Null hypothesis.\\n\")\n",
    "    else:\n",
    "        print(\"Reject the null hypothesis.\\n\")\n",
    "        \n",
    "    print(\"*********By P Values Calculation*********\\n\")\n",
    "    if p_value >alpha:\n",
    "        print (\"Failed to reject Null Hypothesis.\\n\")\n",
    "    else:\n",
    "        print(\"Reject the null hypothesis.\\n\")\n",
    "    return f, p_value\n",
    "\n",
    "f_test(a, b)"
   ]
  },
  {
   "cell_type": "code",
   "execution_count": null,
   "id": "2053ed71",
   "metadata": {},
   "outputs": [],
   "source": [
    "Inference :with 5% significance level varience are not significantly different"
   ]
  },
  {
   "cell_type": "markdown",
   "id": "1394623f",
   "metadata": {},
   "source": [
    "## Q9. The following data represent the test scores of two groups of students: Group A: 80, 85, 90, 92, 87, 83;Group B: 75, 78, 82, 79, 81, 84. Conduct an F-test at the 1% significance level to determine if the variances are significantly different."
   ]
  },
  {
   "cell_type": "code",
   "execution_count": 89,
   "id": "acf771ff",
   "metadata": {},
   "outputs": [],
   "source": [
    "group_A = [80,85,90,92,87,83]\n",
    "group_B = [75,78,82,79,81,84]"
   ]
  },
  {
   "cell_type": "code",
   "execution_count": 96,
   "id": "7d1af02e",
   "metadata": {},
   "outputs": [
    {
     "name": "stdout",
     "output_type": "stream",
     "text": [
      "*******By Critical Values Calculation*******\n",
      "\n",
      "Failed to reject Null hypothesis.\n",
      "\n",
      "*********By P Values Calculation*********\n",
      "\n",
      "Failed to reject Null Hypothesis.\n",
      "\n"
     ]
    },
    {
     "data": {
      "text/plain": [
       "(1.9442622950819677, 0.2415521774535344)"
      ]
     },
     "execution_count": 96,
     "metadata": {},
     "output_type": "execute_result"
    }
   ],
   "source": [
    "import numpy as np\n",
    "\n",
    "a = np.array(group_A)\n",
    "b = np.array(group_B)\n",
    "alpha = 0.01\n",
    "n1=n2=6\n",
    "\n",
    "def f_test(a, b):\n",
    "    #Calculate F value\n",
    "    f = np.var(a,ddof=1)/np.var(b,ddof=1)\n",
    "    #print(f)\n",
    "    nun = a.size-1\n",
    "    #print(nun)\n",
    "    dun = b.size-1\n",
    "    # calculate F value from F table\n",
    "    f_critical_value = scipy.stats.f.ppf(q=1-.01, dfn=nun, dfd=dun)\n",
    "    # calculate P value \n",
    "    p_value = 1-scipy.stats.f.cdf(f, nun, dun)\n",
    "    #print(\"P Value\",p_value)\n",
    "    print(\"*******By Critical Values Calculation*******\\n\")\n",
    "    \n",
    "    if f < f_critical_values:\n",
    "        print (\"Failed to reject Null hypothesis.\\n\")\n",
    "    else:\n",
    "        print(\"Reject the null hypothesis.\\n\")\n",
    "        \n",
    "    print(\"*********By P Values Calculation*********\\n\")\n",
    "    if p_value >alpha:\n",
    "        print (\"Failed to reject Null Hypothesis.\\n\")\n",
    "    else:\n",
    "        print(\"Reject the null hypothesis.\\n\")\n",
    "    return f, p_value\n",
    "\n",
    "f_test(a, b)"
   ]
  },
  {
   "cell_type": "code",
   "execution_count": null,
   "id": "8cba1ccb",
   "metadata": {},
   "outputs": [],
   "source": [
    "Inference :with 1% significance level varience are not significantly different"
   ]
  }
 ],
 "metadata": {
  "kernelspec": {
   "display_name": "Python 3 (ipykernel)",
   "language": "python",
   "name": "python3"
  },
  "language_info": {
   "codemirror_mode": {
    "name": "ipython",
    "version": 3
   },
   "file_extension": ".py",
   "mimetype": "text/x-python",
   "name": "python",
   "nbconvert_exporter": "python",
   "pygments_lexer": "ipython3",
   "version": "3.9.13"
  }
 },
 "nbformat": 4,
 "nbformat_minor": 5
}
