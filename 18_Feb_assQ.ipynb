{
 "cells": [
  {
   "cell_type": "markdown",
   "id": "b3dd10fb-d26f-4d98-8850-cc8cd4db7794",
   "metadata": {},
   "source": [
    "## Q1. What is an API? Give an example, where an API is used in real life."
   ]
  },
  {
   "cell_type": "markdown",
   "id": "86f2cfa8-a015-4707-8e12-aab824f507be",
   "metadata": {},
   "source": [
    "API stands for “Application Programming Interface.” An API is a software intermediary that allows two applications to talk to each other.\n",
    "In other words, an API is the messenger that delivers your request to the provider that you’re requesting it from and\n",
    "then delivers the response back to you. \n",
    "\n",
    "Third-Party Login:\n",
    "\n",
    "Many web applications allow users to sign in with their Facebook, Google, Github, or other accounts instead of making an account directly. But that doesn’t mean they’re getting access to your social media. Instead, the app makes an API call to check if the user is already signed in to the third-party website. The API makes the confirmation, then handles the authentication in the app’s place.\n",
    "\n",
    "Ecommerce:\n",
    "\n",
    "Do any online shopping outside of Amazon and you’ll see a “pay with PayPal” option at checkout. The API that powers this works similarly to the third-party login APIs mentioned above. Again, the store doesn’t directly access your PayPal account. It instead sends the purchase order to the PayPal API and PayPal handles the rest of the transaction.\n",
    "\n",
    "Weather Apps:\n",
    "\n",
    "Have you ever looked up the weather with a Google search? How about with a smart device? These apps aren’t gathering weather data by themselves. Instead, they’re gathering that information through the API of any weather service. It’s a simple matter of sending the API request to the weather service."
   ]
  },
  {
   "cell_type": "markdown",
   "id": "da7210c1-60d4-41ce-825a-a56b1ebde623",
   "metadata": {},
   "source": [
    "## Q2. Give advantages and disadvantages of using API."
   ]
  },
  {
   "cell_type": "markdown",
   "id": "9726203f-bd8b-4a42-bbe3-3af3b288cc1a",
   "metadata": {},
   "source": [
    "Advantages:\n",
    "\n",
    "1)Flexibility :\n",
    "    \n",
    "    You can put as much time into the business as you'd like. \n",
    "    If you like the work and have some initial experience, you can start small and manage all aspects of the business on your own.\n",
    "    \n",
    "2)Scalable :\n",
    "    \n",
    "    With businesses and processes changing daily, there will always be demand for new features, products and services for your business. \n",
    "    Additionally, there are several different business models and pricing tiers you can implement that will allow you to reach all types\n",
    "    of customers.\n",
    "    \n",
    "\n",
    "3)No overhead costs :\n",
    "    \n",
    "    To get your API started, there are no costs associated with overhead, storage, packaging, \n",
    "    etc. This will save you a lot of time and money!\n",
    "    \n",
    "DisAdvantages:\n",
    "    \n",
    "1)Security Issues:\n",
    "    \n",
    "    With any Saas business, data loss and security issues may arise throughout your process of building your product. \n",
    "    It's critical that you understand exactly what you're responsible for and how to avoid potential issues down the road.\n",
    "    \n",
    "2)Complex Maintainance :\n",
    "    \n",
    "    Your API will require a long-term investment due to the need for updates, bug fixes, and security vulnerabilities.\n",
    "    It's important that you (or someone on your team) stays on top of this at all times.\n",
    "3)Demanding:\n",
    "\n",
    "    This is one of the major disadvantages starting a API. It's important to understand that you may need to \n",
    "    make yourself available on a 24/7 basis.\n",
    "\n",
    "    "
   ]
  },
  {
   "cell_type": "markdown",
   "id": "b562ca3f-d262-4d8b-a2c8-52687c923e4e",
   "metadata": {},
   "source": [
    "## Q3. What is a Web API? Differentiate between API and Web API."
   ]
  },
  {
   "cell_type": "code",
   "execution_count": null,
   "id": "2d19e9f8-434f-4121-a373-178646e1e181",
   "metadata": {},
   "outputs": [],
   "source": [
    "Web API:\n",
    "    \n",
    "    It is a collection of some open protocols and standards which are used to exchange data between systems or applications.\n",
    "    \n",
    "    \n",
    "    \n",
    "Differences between API and Web API\n",
    "\n",
    "API : Run both online and offline\n",
    "Web API : Require network connection.\n",
    "\n",
    "API : Often public\n",
    "Web API : Provide access to limited group\n",
    "\n",
    "API: It is used any style of communication\n",
    "Web API : Only REST SOAP and XML RPC communication.\n",
    "\n",
    "API : It support both http and https protocol.\n",
    "Web API : It supports only HTTP protocol.\n",
    "\n",
    "API : support XML and JSON.\n",
    "Web API : supports only XML\n",
    "\n",
    "API :Web API can be API but vise versa not true\n",
    "Web API :Web API can be API but vise versa not true\n",
    "\n",
    "\n"
   ]
  },
  {
   "cell_type": "markdown",
   "id": "196c4852-f623-4504-a01d-fb5afc1a5ba3",
   "metadata": {},
   "source": [
    "## Q4. Explain REST and SOAP Architecture. Mention shortcomings of SOAP."
   ]
  },
  {
   "cell_type": "markdown",
   "id": "f4267d7c-0090-4797-9832-2dc55a65e2dd",
   "metadata": {},
   "source": [
    "\n",
    "A web API allows two computer systems to communicate over a network.\n",
    "A server or a client can offer the API, like a web browser. When the server provides an API, it is called a web service.\n",
    "There are two main ways to design a web service: SOAP and REST.\n",
    "\n",
    "What is SOAP :(protocol based)\n",
    "\n",
    "SOAP is a way for different computer systems to communicate with each other and exchange information. \n",
    "It uses a standardized format called XML to send messages between the systems.\n",
    "This allows the systems to understand each other, even if they are built using different programming languages and run on different operating systems.\n",
    "\n",
    "Think of SOAP as sending a letter to a friend. The letter has a specific format and structure, such as a heading, an address, and a message. The letter also has rules for how it should be processed, such as where it should be delivered and how the reader should open it. Similarly, SOAP provides a standardized format and rules for exchanging information between computer systems.\n",
    "\n",
    "What is REST?(Architecture Based)\n",
    "\n",
    "REST, which stands for Representational State Transfer, is a standard architectural style for building web services. In simple terms, it’s a way of creating a communication system between different software systems over the Internet. When you make a RESTful API, you create rules for how the various systems should interact.\n",
    "\n",
    "Think of REST as if you were calling a friend on the phone. You pick up the phone, dial their number, and then talk to them. You don’t need to worry about how you are communicating because those rules have already been established. Similarly, REST provides a set of rules for how systems should communicate over the Internet.\n",
    "\n",
    "REST is a popular way of building APIs because it’s flexible and scalable and uses standards already widely adopted on the web (such as HTTP and URLs).\n",
    "\n"
   ]
  },
  {
   "cell_type": "code",
   "execution_count": null,
   "id": "2b74b7a3-8760-40cd-a41f-e7e6a65c745d",
   "metadata": {},
   "outputs": [],
   "source": [
    "Use SOAP when:\n",
    "    \n",
    "You require a well-defined and predictable messaging structure.\n",
    "SOAP uses XML to encode its messages, providing a clear and standard format for data exchange.\n",
    "You need to integrate with existing systems that use SOAP. \n",
    "Using SOAP will make integration easier if you are connecting to legacy systems or other systems that only support SOAP.\n",
    "\n",
    "Use REST when:\n",
    "    \n",
    "You want to build a highly scalable and performant system.\n",
    "REST is lightweight and uses simple HTTP requests, making it fast and efficient.\n",
    "You need to access resources over the web. \n",
    "REST uses standard HTTP methods (such as GET, POST, PUT, and DELETE) to interact with resources, making it easy to consume REST APIs from web and mobile applications.\n",
    "You want to allow different clients to interact with your system using a variety of programming languages.\n",
    "REST is language-agnostic and can be consumed by any client that can make HTTP requests.\n",
    "\n",
    "\n",
    "Disadvantages of SOAP:\n",
    "    \n",
    "Compared to REST, a complex structure can make it harder to implement and maintain.\n",
    "\n",
    "SOAP has a larger overhead compared to REST which requires more data to be transmitted for each request.\n",
    "\n",
    "SOAP only supports XML as its data format, which can be limiting for applications that need to handle other data formats."
   ]
  },
  {
   "cell_type": "markdown",
   "id": "65775ac1-36da-4832-b0bc-0a9b6531ccc5",
   "metadata": {},
   "source": [
    "# Q5. Differentiate between REST and SOAP."
   ]
  },
  {
   "cell_type": "markdown",
   "id": "a82df399-901d-4e00-8b0a-d0a237bfa1dc",
   "metadata": {},
   "source": [
    "Differences::\n",
    "\n",
    "\n",
    "Message format :\n",
    "\n",
    "        SOAP uses XML as its message format, \n",
    "        REST can use XML, JSON, or other formats. \n",
    "        \n",
    "Request and response handling:\n",
    "\n",
    "        SOAP is a single request-response communication style. For example, SOAP will always send data in an XML format\n",
    "        REST can use multiple formats for requests and responses. REST can send data in JSON, plain text, HTML, and more.\n",
    "\n",
    "Protocol:\n",
    " \n",
    "        SOAP uses SOAP protocol, a group of specifications for exchanging information in a distributed environment.\n",
    "        REST uses HTTP, the same protocol used by web browsers.\n",
    "\n",
    "Data transmission:\n",
    "\n",
    "        SOAP supports only document-style message exchange (one-way or request-response). \n",
    "        SOAP sends data in SOAP envelopes.\n",
    "        \n",
    "        REST supports multiple message exchange styles such as one-way, request-response, and streaming.  \n",
    "        while REST sends data in the body of an HTTP request.\n",
    "\n",
    "Flexibility:\n",
    "\n",
    "            One of the critical reasons why REST is considered more flexible than SOAP is that it allows for a broader range of data formats. While SOAP only uses XML, JSON, or other formats, REST can use XML. This means that REST is better suited to handle data that doesn’t fit well into an XML format, such as binary data or media files.\n",
    "\n",
    "Error handling:\n",
    "\n",
    "        SOAP has built-in error handling through specific codes and messages, making detecting and responding to mistakes easier for systems. \n",
    "        REST uses HTTP status codes, such as 404 for resource not found and 500 for server-side error, to indicate error conditions. HTTP status codes provide a flexible and widely supported way of showing error conditions in REST."
   ]
  }
 ],
 "metadata": {
  "kernelspec": {
   "display_name": "Python 3 (ipykernel)",
   "language": "python",
   "name": "python3"
  },
  "language_info": {
   "codemirror_mode": {
    "name": "ipython",
    "version": 3
   },
   "file_extension": ".py",
   "mimetype": "text/x-python",
   "name": "python",
   "nbconvert_exporter": "python",
   "pygments_lexer": "ipython3",
   "version": "3.10.8"
  }
 },
 "nbformat": 4,
 "nbformat_minor": 5
}
