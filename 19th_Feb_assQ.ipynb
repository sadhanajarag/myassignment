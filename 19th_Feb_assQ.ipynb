{
 "cells": [
  {
   "cell_type": "markdown",
   "id": "8582a956-33be-440a-a9bf-1905ef507556",
   "metadata": {},
   "source": [
    "## Q1. What is Flask Framework? What are the advantages of Flask Framework?"
   ]
  },
  {
   "cell_type": "markdown",
   "id": "6085d586-8dbe-4f72-83df-b5e5e0bc71aa",
   "metadata": {},
   "source": [
    "Flask is an micro framework offering basic features of web app. This framework has no dependencies on external libraries. The framework offers extensions for form validation, object-relational mappers, open authentication systems, uploading mechanism, and several other tools.\n",
    "A Python web framework called Flask describes the tools for building simple online apps. It was made by Armin Ronacher, the leader of a global community of Python enthusiasts (POCCO). Both the Jinja2 document engine and the WSGI middleware are utilized. A free, lightweight framework is Flask.\n",
    "\n",
    "\n",
    "\n",
    "Advantages:\n",
    "\n",
    "Higher compatibility with latest technologies\n",
    "Technical experimentation\n",
    "Easier to use for simple cases\n",
    "Codebase size is relatively smaller\n",
    "High scalability for simple applications,\n",
    "Easy to build a quick prototype\n",
    "Routing URL is easy\n",
    "Easy to develop and maintain applications\n",
    "Database integration is easy\n",
    "Small core and easily extensible\n",
    "Minimal yet powerful platform\n",
    "Lots of resources available online especially on GitHub\n",
    "\n"
   ]
  },
  {
   "cell_type": "markdown",
   "id": "e3bd4d38-efe6-435d-9c72-442acf039b56",
   "metadata": {},
   "source": [
    "## Q2. Create a simple Flask application to display ‘Hello World!!’. Attach the screenshot of the output in Jupyter Notebook."
   ]
  },
  {
   "cell_type": "code",
   "execution_count": null,
   "id": "1aa471dc-fab9-46bc-a684-cee94d35707e",
   "metadata": {},
   "outputs": [],
   "source": [
    "from flask import Flask\n",
    "\n",
    "app = Flask(__name__)\n",
    "\n",
    "@app.route(\"/\")\n",
    "def hello():\n",
    "    return \"Hello World\"\n",
    "\n",
    "\n",
    "if __name__=='__main__':\n",
    "    app.run(host = \"0.0.0.0\")"
   ]
  },
  {
   "cell_type": "markdown",
   "id": "4b15db07-8c23-4f70-9bd3-55e01574b3bd",
   "metadata": {},
   "source": [
    "## Q3. What is App routing in Flask? Why do we use app routes?"
   ]
  },
  {
   "cell_type": "markdown",
   "id": "e10b33dc-0581-4e3f-b3c8-ce540b53d1d0",
   "metadata": {},
   "source": [
    "Ans:\n",
    "\n",
    "App routing is used to map the specific URL with the associated function that is intended to perform some task.\n",
    "The routing technique helps a user remember application URLs and is useful to access the desired page directly without having to navigate from the home page.\n",
    "\n",
    "The route() decorator in Flask is used to bind URL to a function.\n",
    "\n",
    "You can handle multiple routes with a single function by stacking additional route decorators above any route. \n",
    "in simple terms, you can also define multiple rules for the same function. However, they have to be unique."
   ]
  },
  {
   "cell_type": "markdown",
   "id": "85d477b8-4cc8-4a80-8464-0cf63ed93bc5",
   "metadata": {},
   "source": [
    "## Q4. Create a “/welcome” route to display the welcome message “Welcome to ABC Corporation” and a “/” route to show the following details:\n",
    "\n",
    "    Company Name: ABC Corporation\n",
    "    Location: India\n",
    "    Contact Detail: 999-999-9999"
   ]
  },
  {
   "cell_type": "code",
   "execution_count": 3,
   "id": "b6076979-77a3-4b5d-a28b-8918fa5370e8",
   "metadata": {},
   "outputs": [],
   "source": [
    "from flask import Flask\n",
    "app = Flask(__name__)\n",
    "\n",
    "@app.route(\"/\")\n",
    "def welcome():\n",
    "    return \"<h2>Company Name: ABC Corporation</h2><h2>Location: India</h2><h2>Contact Detail: 999-999-9999</h2>\"\n",
    "\n",
    "@app.route(\"/welcome\")\n",
    "def welcome1():\n",
    "    return \"<h1><center>Welcome to ABC Corporation</center></h1>\"\n",
    "\n",
    "\n",
    "if __name__==\"__main__\":\n",
    "    app.run(host = \"0.0.0.0\")"
   ]
  },
  {
   "cell_type": "markdown",
   "id": "808b6458-1659-49b3-b47a-6649513b1702",
   "metadata": {},
   "source": [
    "## Q5. What function is used in Flask for URL Building? Write a Python code to demonstrate the working of the url_for() function."
   ]
  },
  {
   "cell_type": "markdown",
   "id": "a74aecfd-98bd-4b73-958f-90876d74e7b3",
   "metadata": {},
   "source": [
    "The url_for() function is very useful for dynamically building a URL for a specific function. \n",
    "\n",
    "The function accepts the name of a function as first argument, and one or more keyword arguments, each corresponding to the variable part of URL."
   ]
  },
  {
   "cell_type": "code",
   "execution_count": null,
   "id": "ea3189a8-e275-4fda-8ab2-d9cd10987464",
   "metadata": {},
   "outputs": [],
   "source": [
    "from flask import Flask, redirect, url_for\n",
    "\n",
    "app = Flask(__name__)\n",
    "\n",
    "@app.route('/admin')\n",
    "def hello_admin():\n",
    "   return '<h1><center>Hello Admin!!!!!</center></h1>'\n",
    "\n",
    "@app.route('/guest/<guest>')\n",
    "def hello_guest(guest):\n",
    "   return '<h2><center>Hello {} as Guest</center><h2>'.format(guest)\n",
    "   \n",
    "@app.route('/user/<name>')\n",
    "def hello_user(name):\n",
    "   if name =='Admin':\n",
    "      return redirect(url_for('hello_admin'))\n",
    "   else:\n",
    "      return redirect(url_for('hello_guest',guest = name))\n",
    "\n",
    "if __name__ == '__main__':\n",
    "   app.run(host = '0.0.0.0')"
   ]
  }
 ],
 "metadata": {
  "kernelspec": {
   "display_name": "Python 3 (ipykernel)",
   "language": "python",
   "name": "python3"
  },
  "language_info": {
   "codemirror_mode": {
    "name": "ipython",
    "version": 3
   },
   "file_extension": ".py",
   "mimetype": "text/x-python",
   "name": "python",
   "nbconvert_exporter": "python",
   "pygments_lexer": "ipython3",
   "version": "3.10.8"
  }
 },
 "nbformat": 4,
 "nbformat_minor": 5
}
