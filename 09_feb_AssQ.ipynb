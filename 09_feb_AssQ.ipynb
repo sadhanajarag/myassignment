{
 "cells": [
  {
   "cell_type": "markdown",
   "id": "8e3ee03d-4692-4f1d-9d13-b3cd36b25ce3",
   "metadata": {},
   "source": [
    "## Q1, Create a vehicle class with an init method having instance variables as name_of_vehicle, max_speed\n",
    "## and average_of_vehicle."
   ]
  },
  {
   "cell_type": "code",
   "execution_count": 6,
   "id": "450c4d40-66c8-436e-b2f2-d72e435d3c0f",
   "metadata": {},
   "outputs": [
    {
     "name": "stdout",
     "output_type": "stream",
     "text": [
      "Name:  Toyato\n",
      "Speed:  86\n",
      "Avg:  56\n"
     ]
    }
   ],
   "source": [
    "class vehicle:\n",
    "    def __init__(self,name_of_vehicle,max_speed,average_of_vehicle):\n",
    "        self.name_of_vehicle=name_of_vehicle\n",
    "        self.max_speed=max_speed\n",
    "        self.average_of_vehicle=average_of_vehicle\n",
    "        \n",
    "    def show(self):\n",
    "        print(\"Name: \",self.name_of_vehicle)\n",
    "        print(\"Speed: \",self.max_speed)\n",
    "        print(\"Avg: \",self.average_of_vehicle)\n",
    "def main():\n",
    "    veh=vehicle(\"Toyato\",86,56)\n",
    "    veh.show()\n",
    "    \n",
    "main()\n"
   ]
  },
  {
   "cell_type": "markdown",
   "id": "4a547362-ebec-4afd-a3e3-029bff74e630",
   "metadata": {},
   "source": [
    "## Q2. Create a child class car from the vehicle class created in Que 1, which will inherit the vehicle class.Create a method named seating_capacity which takes capacity as an argument and returns the name of the vehicle and its seating capacity."
   ]
  },
  {
   "cell_type": "code",
   "execution_count": 5,
   "id": "daec16f7-631c-473b-94ef-f9aa24733d2d",
   "metadata": {},
   "outputs": [
    {
     "name": "stdout",
     "output_type": "stream",
     "text": [
      "Name of the vehicle: Toyato\n",
      "Seating capacity 10\n",
      "Name of the vehicle: Wagnor\n",
      "Seating capacity 15\n"
     ]
    }
   ],
   "source": [
    "class vehicle:\n",
    "    def __init__(self,name_of_vehicle,max_speed,average_of_vehicle):\n",
    "        self.name_of_vehicle=name_of_vehicle\n",
    "        self.max_speed=max_speed\n",
    "        self.average_of_vehicle=average_of_vehicle\n",
    "class car(vehicle):\n",
    "    def seating_capacity(self,capacity):\n",
    "        self.capacity=capacity\n",
    "        print(\"Name of the vehicle:\" ,self.name_of_vehicle);\n",
    "        print(\"Seating capacity\",self.capacity)\n",
    "def main():\n",
    "    c=car(\"Toyato\",86,56)\n",
    "   # c.vehicle(\"Toyato\",86,56)\n",
    "    c.seating_capacity(10)\n",
    "    c1=car(\"Wagnor\",80,50)\n",
    "    c1.seating_capacity(15)\n",
    "    \n",
    "main()"
   ]
  },
  {
   "cell_type": "markdown",
   "id": "a25387b1-a768-4684-b531-a6a1ed492b8c",
   "metadata": {},
   "source": [
    "## Q3. What is multiple inheritance? Write a python code to demonstrate multiple inheritance."
   ]
  },
  {
   "cell_type": "code",
   "execution_count": null,
   "id": "8352c7e9-48fd-43ae-9806-7384dd28dfa9",
   "metadata": {},
   "outputs": [],
   "source": [
    "Ans:The class which inherit the property and behaviour from more than one class which is called as multiple inheritance."
   ]
  },
  {
   "cell_type": "code",
   "execution_count": 7,
   "id": "c7fe4068-e5a1-48a7-aff3-11c60e499607",
   "metadata": {},
   "outputs": [
    {
     "name": "stdout",
     "output_type": "stream",
     "text": [
      "Employee Id: 123\n",
      "Age : 67\n",
      "Name : Radha\n"
     ]
    }
   ],
   "source": [
    "class Employee:\n",
    "    def E1(self,emp_id,age):\n",
    "        self.emp_id=emp_id\n",
    "        self.age=age\n",
    "class Human:\n",
    "    def H1(self,name):\n",
    "        self.name=name\n",
    "class Male(Employee,Human):\n",
    "    def display(self):\n",
    "        print(\"Employee Id:\",self.emp_id)\n",
    "        print(\"Age :\",self.age)\n",
    "        print(\"Name :\",self.name)\n",
    "def main():\n",
    "    m=Male()\n",
    "    m.E1(123,67)\n",
    "    m.H1(\"Radha\")\n",
    "    m.display()\n",
    "        \n",
    "main()"
   ]
  },
  {
   "cell_type": "markdown",
   "id": "a257cfd9-b448-4113-9a28-800170836096",
   "metadata": {},
   "source": [
    "## Q4. What are getter and setter in python? Create a class and create a getter and a setter method in this class."
   ]
  },
  {
   "cell_type": "code",
   "execution_count": null,
   "id": "de24b736-10a0-4b22-ad7b-7aa1123a6952",
   "metadata": {},
   "outputs": [],
   "source": [
    "Data hiding is implemented by declaring variables inside class private. When data is private, it is accessible outside the class using public methods.\n",
    "\n",
    "Methods defined inside class perform two operations.\n",
    "⦁\tSetter operation\n",
    "⦁\tGetter operation\n",
    "\n",
    "The operation which modifies state of object or values of the object is called setter method or setter operation.\n",
    "The operation which does not modify state of object or values of the object is called getter operation or method.\n"
   ]
  },
  {
   "cell_type": "code",
   "execution_count": 7,
   "id": "6877a1af-e704-46cb-b320-81b61fbb4941",
   "metadata": {},
   "outputs": [
    {
     "name": "stdout",
     "output_type": "stream",
     "text": [
      "20\n",
      "10\n",
      "None\n"
     ]
    }
   ],
   "source": [
    "class stack:\n",
    "    def __init__(self):\n",
    "        self.__l=list()\n",
    "    \n",
    "    def push(self,ele):\n",
    "        self.__l.append(ele)\n",
    "    def pop(self):\n",
    "        if len(self.__l)==0:\n",
    "            return None\n",
    "        else:\n",
    "            ele=self.__l[-1]\n",
    "            del self.__l[-1]\n",
    "            return ele\n",
    "def main():\n",
    "    s=stack()\n",
    "    s.push(10)\n",
    "    s.push(20)\n",
    "    print(s.pop())\n",
    "    print(s.pop())\n",
    "    print(s.pop())\n",
    "        \n",
    "    \n",
    "    \n",
    "main()"
   ]
  },
  {
   "cell_type": "markdown",
   "id": "5e0ecde0-a819-450d-afee-84f628f8643e",
   "metadata": {},
   "source": [
    "## Q5.What is method overriding in python? Write a python code to demonstrate method overriding."
   ]
  },
  {
   "cell_type": "code",
   "execution_count": null,
   "id": "13e9aadc-06c8-48c3-a5a0-a52dfc3c986e",
   "metadata": {},
   "outputs": [],
   "source": [
    "Redefining of base class method within derived class is called method overriding.\n",
    "Defining method in derived class or sub class with same name as method exists in base class is called method overriding.\n",
    "Method overriding allows to extend functionality of base class method within derived class. \n",
    "If derived class wants to have different implementation of base class method we use method overriding.\n"
   ]
  },
  {
   "cell_type": "code",
   "execution_count": 12,
   "id": "dfd4a149-ee53-4f8f-960d-d08d9991a2c9",
   "metadata": {},
   "outputs": [
    {
     "name": "stdout",
     "output_type": "stream",
     "text": [
      "parent eat veg\n",
      "child eat Non-Veg\n",
      "parent drink juice\n",
      "child like to drink hot chocolate\n"
     ]
    }
   ],
   "source": [
    "class Parent:\n",
    "    def eat(self):\n",
    "        print(\"parent eat veg\")\n",
    "    def drink(self):\n",
    "        print(\"parent drink juice\")\n",
    "class Child(Parent):\n",
    "    def eat(self):\n",
    "        #super().eat()\n",
    "        print(\"child eat Non-Veg\")\n",
    "    def colddrink(self):\n",
    "        print(\"child like to drink hot chocolate\")\n",
    "def main():\n",
    "    c=Child()\n",
    "    c.eat()\n",
    "    c.drink()\n",
    "    c.colddrink()\n",
    "main()"
   ]
  },
  {
   "cell_type": "code",
   "execution_count": null,
   "id": "efdbeea8-b468-4cb8-bb5d-9d3f9bbd54e9",
   "metadata": {},
   "outputs": [],
   "source": []
  },
  {
   "cell_type": "code",
   "execution_count": null,
   "id": "9e812304-cdf2-4d4a-8793-273b44bfbfdc",
   "metadata": {},
   "outputs": [],
   "source": []
  },
  {
   "cell_type": "code",
   "execution_count": null,
   "id": "59263007-6e43-4843-863c-f15ac764341f",
   "metadata": {},
   "outputs": [],
   "source": []
  },
  {
   "cell_type": "code",
   "execution_count": null,
   "id": "0094dba1-c078-4395-ab38-f130b081cab3",
   "metadata": {},
   "outputs": [],
   "source": []
  },
  {
   "cell_type": "code",
   "execution_count": null,
   "id": "6e0e7e65-7265-4495-92f2-9380a8773412",
   "metadata": {},
   "outputs": [],
   "source": []
  },
  {
   "cell_type": "code",
   "execution_count": null,
   "id": "64dc80c2-4854-4955-b38e-6f6a6b74b0fb",
   "metadata": {},
   "outputs": [],
   "source": []
  },
  {
   "cell_type": "code",
   "execution_count": null,
   "id": "5f9d25ba-b443-446e-88e8-2e9e555ea51f",
   "metadata": {},
   "outputs": [],
   "source": []
  },
  {
   "cell_type": "code",
   "execution_count": null,
   "id": "bc0aa3cd-aaa5-4c11-9449-af12faa891f8",
   "metadata": {},
   "outputs": [],
   "source": []
  },
  {
   "cell_type": "code",
   "execution_count": null,
   "id": "e0d4d7cd-acef-4f65-b786-16e751ef599f",
   "metadata": {},
   "outputs": [],
   "source": []
  },
  {
   "cell_type": "code",
   "execution_count": null,
   "id": "ff04b7fc-ca3f-4a31-b532-88999b529b91",
   "metadata": {},
   "outputs": [],
   "source": []
  },
  {
   "cell_type": "code",
   "execution_count": null,
   "id": "918f51d0-84f7-46a5-ab85-7fddf14456dc",
   "metadata": {},
   "outputs": [],
   "source": []
  }
 ],
 "metadata": {
  "kernelspec": {
   "display_name": "Python 3 (ipykernel)",
   "language": "python",
   "name": "python3"
  },
  "language_info": {
   "codemirror_mode": {
    "name": "ipython",
    "version": 3
   },
   "file_extension": ".py",
   "mimetype": "text/x-python",
   "name": "python",
   "nbconvert_exporter": "python",
   "pygments_lexer": "ipython3",
   "version": "3.10.8"
  }
 },
 "nbformat": 4,
 "nbformat_minor": 5
}
