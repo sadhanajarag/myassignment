{
 "cells": [
  {
   "cell_type": "markdown",
   "id": "cc5c1907-bf6c-4116-9b4a-9673c1624685",
   "metadata": {},
   "source": [
    "# Q1. What is a database? Differentiate between SQL and NoSQL databases."
   ]
  },
  {
   "cell_type": "code",
   "execution_count": null,
   "id": "a955be3c-b68b-4795-94a2-7577e00f6c88",
   "metadata": {},
   "outputs": [],
   "source": [
    "Database is an organized collection of data and information or interrelated data collected at one place."
   ]
  },
  {
   "cell_type": "raw",
   "id": "7436d4aa-df3e-4ff5-baee-63188c9463c6",
   "metadata": {},
   "source": [
    "Differentiate between SQL and NoSQL databases."
   ]
  },
  {
   "cell_type": "code",
   "execution_count": null,
   "id": "6372c6e3-7b72-4dbf-984c-98d5cc140906",
   "metadata": {},
   "outputs": [],
   "source": [
    "1)Type of Database : \n",
    "        SQL:Relational Database\n",
    "        NoSQL : Non relational Database\n",
    "2) Schema :\n",
    "        SQL:Predefined schema\n",
    "        NoSQL:Dynamic schema\n",
    "3)Database Category :\n",
    "        SQL : Table Based Database\n",
    "        NoSQL: Documnet based database,key value store,graph store \n",
    "4)Complex Queries :\n",
    "        SQL: Good for complex queries\n",
    "        NoSQL: Not good for complex queries\n",
    "5)Language:\n",
    "        SQL:structured query language\n",
    "        NoSQL:Unstructured Query language.\n",
    "6)Online processing:\n",
    "        SQL:OLTP\n",
    "        NoSQL:OLAP"
   ]
  },
  {
   "cell_type": "markdown",
   "id": "c2996dcc-22ca-4e18-8843-8f67895bf9cc",
   "metadata": {},
   "source": [
    "## Q2. What is DDL? Explain why CREATE, DROP, ALTER, and TRUNCATE are used with an example."
   ]
  },
  {
   "cell_type": "code",
   "execution_count": null,
   "id": "f3fcbbe4-426a-4d49-94c3-37a9d6adc18e",
   "metadata": {},
   "outputs": [],
   "source": [
    "DDL(Data Defination Language):\n",
    "All these commands acts on table structure.\n",
    "it includes columns,datatypes and size.\n",
    "all DDL commands are auto commited.\n",
    "DDL command =DDL commands+COMMIT\n",
    "Let say we created one table a and insert 10 values in it.\n",
    "but wehen we say rollback structure of table remain same but all inserted rows get rollbacked as create command is autocommit.\n"
   ]
  },
  {
   "cell_type": "code",
   "execution_count": null,
   "id": "a99aa018-3d1b-4ec6-b144-baae7499994d",
   "metadata": {},
   "outputs": [],
   "source": [
    "Create: This command is used to create table.\n",
    "\n",
    "create table <table-name>(col-name datatype,\n",
    "col-name datatype,\n",
    "col-name datatype,…)"
   ]
  },
  {
   "cell_type": "markdown",
   "id": "331e82a0-db0c-45bb-ada4-dca7404eb8af",
   "metadata": {},
   "source": [
    "## ALTER command:\n",
    "    \n",
    "command used to modify the table structure that include datatypes,columns and size.\n",
    "Using ALETR command we can\n",
    "\n",
    "\t1.Add column \n",
    "\t2.drop column\n",
    "\t3.rename column \n",
    "\t4.modify a column. -->increase/decrease field size or changing datatype. \n",
    "    \n",
    "##  DROP Command:\n",
    "\n",
    "command used to drop table from database.\n",
    "drop the structure along with data.\n",
    "\n",
    "Syntax:DROP table <tablename>\n",
    "\n",
    "## TRUNCATE COMMAND:-\n",
    "    \n",
    "Command used to delete all the data from table \n",
    "will empty the table.truncate commands releases all the Blocks allocated for the tabLe and when the blockes are releases then data stored in the blocks also get released.\n",
    "    \n",
    "syn TRUNCATE TABLE <TAB NAME>\n",
    "\tTRUNCATE TABLE EMP;\n",
    "    \n",
    "acts on data not on structure of table..\n",
    "data gets deleted not table.\n",
    "\n",
    "Code:\n",
    "\n",
    "CREATE DATABASE if not EXISTS Test;\n",
    "\n",
    "#Creating the TABLE\n",
    "Create table if not  EXISTS Test.student(\"Student_id int,sname varchar(20),dept_no varchar(20)\");\n",
    "\n",
    "#Alter The TABLE\n",
    "#Add COLUMN\n",
    "Alter table Test.student add(gender char(1));\n",
    "\n",
    "#Drop COLUMN\n",
    "Alter table Test.student drop gender;\n",
    "\n",
    "#Rename COLUMN\n",
    "Alter table Test.student Rename column sname To Stu_name;\n",
    "\n",
    "#Modify the COLUMN\n",
    "Alter Table Test.student Modify Stu_name varchar(25);\n",
    "\n",
    "#DROP command\n",
    "DROP table Test.student;\n",
    "\n",
    "#Truncate Table\n",
    "TRUNCATE TABLE Test.student;"
   ]
  },
  {
   "cell_type": "markdown",
   "id": "c242b1dd-e948-43e1-8ee3-2adb4a5db3f2",
   "metadata": {},
   "source": [
    "## Q3. What is DML? Explain INSERT, UPDATE, and DELETE with an example."
   ]
  },
  {
   "cell_type": "code",
   "execution_count": null,
   "id": "20169274-7852-415e-b6d8-fba2be9f0637",
   "metadata": {},
   "outputs": [],
   "source": [
    "DATA MANUPULATION LANGUAGE:\n",
    "    \n",
    "DML Commands acts on Table data.DML commands acts instances(RAM)\n",
    "To save these operations execute COMMIT.To cancel these operation execute ROLLBACK."
   ]
  },
  {
   "cell_type": "markdown",
   "id": "a31c3c4e-7db9-4dd4-9ef6-69aad96d4698",
   "metadata": {},
   "source": [
    "INSERT  COMMAND:\n",
    "\n",
    "The INSERT INTO statement is used to insert new records in a table.\n",
    "\n",
    "Two way we can insert into table \n",
    "1. Specify both the column names and the values to be inserted:\n",
    "syntax:\n",
    "INSERT INTO table_name (column1, column2, column3, ...)\n",
    "VALUES (value1, value2, value3, ...);\n",
    "\n",
    "2. If you are adding values for all the columns of the table, you do not need to specify the column names in the SQL query. However, make sure the order of the values is in the same order as the columns in the table. \n",
    "\n",
    "INSERT INTO table_name\n",
    "VALUES (value1, value2, value3, ...);\n",
    "\n",
    "\n",
    "DELETE COMMAND:\n",
    "Command used to delete rows/rows from table based on a condition.\n",
    "using DELETE command we can delete all rows and specific rows.\n",
    "\n",
    "Syn:delete from tabname where condition\n",
    "    \n",
    "Here where condition is optional if it is not there then it applies to all rows.\n",
    "\n",
    "\n",
    "UPDATE COMMAND::\n",
    "\n",
    "Used to modified the data in table.\n",
    "Using update commands, we can modify the all rows or specific rows.\n",
    "Using update command we can modified single column or multiple column\n",
    "\n",
    "Syntax:\n",
    "Update Tabname \n",
    "Set colname =value,colname=value…\n",
    "Where [condition]..\n"
   ]
  },
  {
   "cell_type": "code",
   "execution_count": null,
   "id": "4679472d-f329-4691-8ea9-79d8ef5fd019",
   "metadata": {},
   "outputs": [],
   "source": [
    "## Code from MYSQL\n",
    "\n",
    "\n",
    "CREATE DATABASE if not EXISTS Collage;\n",
    "\n",
    "Create table if not exists Collage.Student (sid int,sname VARCHAR(20),dept_no int);\n",
    "\n",
    "#inserting VALUES\n",
    "insert into Collage.Student values (101,'Raj',10);\n",
    "insert into Collage.Student values (102,'Ram',10);\n",
    "\n",
    "insert into Collage.Student values (103,'Ravi',10);\n",
    "\n",
    "COMMIT;\n",
    "\n",
    "##Update command\n",
    "UPDATE Collage.Student set dept_no=11 where sid=101;\n",
    "commit;\n",
    "\n",
    "##DELETE command\n",
    "delete from Collage.Student where sid=101;\n",
    "COMMIT;\n"
   ]
  },
  {
   "cell_type": "markdown",
   "id": "cf7c2667-ef46-4a9d-9463-90aefb23a6d0",
   "metadata": {},
   "source": [
    "## Q4. What is DQL? Explain SELECT with an example."
   ]
  },
  {
   "cell_type": "code",
   "execution_count": null,
   "id": "b0f85212-3f70-4412-b344-481ad892eef0",
   "metadata": {},
   "outputs": [],
   "source": [
    "DQL (Data Query Language):\n",
    "    \n",
    "DQL statements are used for performing queries on the data within schema objects. \n",
    "The purpose of the DQL Command is to get some schema relation based on the query passed to it.\n",
    "It includes the SELECT statement. This command allows getting the data out of the database to perform operations with it. \n",
    "When a SELECT is fired against a table or tables the result is compiled into a further temporary table, which is displayed or perhaps received by the program i.e. a front-end.\n",
    "\n",
    "DQL Command :SELECT\n",
    "\n",
    "Syn: SELECT columns/* from tablename;\n",
    "\n",
    "SELECT command is used to display data from table.\n"
   ]
  },
  {
   "cell_type": "code",
   "execution_count": null,
   "id": "a9d449a4-62c4-4292-b1e5-454946423d98",
   "metadata": {},
   "outputs": [],
   "source": [
    "select * from Collage.Student;"
   ]
  },
  {
   "cell_type": "markdown",
   "id": "d4623c85-eb35-446c-a352-5fd430554366",
   "metadata": {},
   "source": [
    "## Q5. Explain Primary Key and Foreign Key."
   ]
  },
  {
   "cell_type": "code",
   "execution_count": null,
   "id": "f471a458-d8ba-4105-ab8f-6e27e8ba63b5",
   "metadata": {},
   "outputs": [],
   "source": [
    "INTEGRITY CONSTRAINTS:\n",
    "    \n",
    "Integrity constraints are rules to maintain the data integrity i.e data quality\n",
    "used to prevent users from entering invalid data.\n",
    "used to enforce rule like min,max sal must be 3000 etc.\n",
    "\n",
    "Primary Key is one of the integrity constraint.We can apply this contraint on table or column level.\n",
    "\n",
    "PRAMARY KEY:\n",
    "1) Primary key doesn’t accepts duplicate and null values,\n",
    "2) It is combination of unique and not null\n",
    "3) Primary key = unique+not null\n",
    "\n",
    "NOTE:Primary key is allowed only one per table\n",
    "If u want the similar to primary key as we cant have 2 primary key so we can use contraints UNIQUE NOT NULL .\n",
    "\n",
    "e.g\n",
    "Create table if not exists Collage.Department (Dept_no int PRIMARY KEY, dept_name VARCHAR(10));\n",
    "\n",
    "\n",
    "FOREIN KEY:-\n",
    "\n",
    "Foreign key is used to establish relationship between 2 tables.\n",
    "To establish relationship between  two tables and take pk of one table and add it to another table as\\Fk  and declare the references  constraints.\n",
    "values entered in fk column should match with  values entered in pk column.fk is allows duplicates and nulls\n",
    "after declaring fk  a relationship  is established between two table called parent/child relationship.\n",
    "pk table is parent and fk is child.\n",
    "\n",
    "e.g \n",
    "\n",
    "Create table if not exists Collage.Student (sid int PRIMARY KEY,sname VARCHAR(20),dept_no int references Collage.Department(Dept_no));\n",
    "\n",
    "\n",
    "\n"
   ]
  },
  {
   "cell_type": "markdown",
   "id": "006be7cd-f84c-4fda-806e-72a87560c257",
   "metadata": {},
   "source": [
    "## Q6. Write a python code to connect MySQL to python. Explain the cursor() and execute() method."
   ]
  },
  {
   "cell_type": "code",
   "execution_count": null,
   "id": "567eb902-f320-422e-ab30-ee82b490a00d",
   "metadata": {},
   "outputs": [],
   "source": [
    "import mysql.connector\n",
    "# import mysql.connector\n",
    "#create user 'user'@'%' identified by 'password'\n",
    "mydb = mysql.connector.connect(\n",
    "  host=\"localhost\",\n",
    "  user=\"abc\",\n",
    "  password=\"password\"\n",
    ")\n",
    "print(mydb)\n",
    "mycursor = mydb.cursor()\n",
    "mycursor.execute(\"create database if not exists Company\")\n",
    "mycursor.execute(\"create table if not exists Company.Project(Pid int primary key ,Pname varchar(20)\")\n",
    "mycursor.execute(\"create TABLE if not exists Company.Employee (Emp_no INT primary key,Ename VARCHAR(50),project_id references Company.Project(Pid))\")\n",
    "mydb.close()\n",
    "\n"
   ]
  },
  {
   "cell_type": "code",
   "execution_count": null,
   "id": "b253c232-7a06-4151-9865-f57ed352d849",
   "metadata": {},
   "outputs": [],
   "source": [
    "cursor() object:\n",
    "    \n",
    "cursor object is used to send SQL statements to database.\n",
    "After executing SQL statement, the result of SQL statements are returned inside cursor object.\n",
    "\n",
    "for creating the object:\n",
    "    Cursor object is created using cursor() method of MySQLConnection object.\n",
    "\n",
    "    e.g\n",
    "    \n",
    "    cn=mysql.connector.connect(database=\"<DB name>\",user=\"<Username>\",password=\"<Password>\")\n",
    "    c=cn.cursor()#creating cursor object.\n",
    "    \n",
    "\n",
    "execute() method:\n",
    "Cursor object provides the following method to send SQL statements to database\n",
    "⦁\texecute()\n",
    "⦁\texecutemany()\n",
    "\n",
    "execute():this method execute given SQL statements and return result inside cursor object.\n",
    "\n",
    "execute(“SQL statement”,params)\n",
    "\n",
    "SQL statements are two types\n",
    "⦁\tstatic SQL statement\n",
    "⦁\tDynamic SQL statement\n",
    "\n",
    "\n",
    "Static SQL statement\n",
    "An SQL statement with values is called static SQL statement\n",
    "\n",
    "Dynamic SQL statement\n",
    "An SQL statement with replacement fields or parameters is called dynamic SQL statement\n",
    "\n"
   ]
  },
  {
   "cell_type": "markdown",
   "id": "2070ab03-764e-46ce-9aa0-98cc07dcc26a",
   "metadata": {},
   "source": [
    "## Q7. Give the order of execution of SQL clauses in an SQL query."
   ]
  },
  {
   "cell_type": "markdown",
   "id": "bd4d3450-adba-414e-a2aa-1d8592bbe73c",
   "metadata": {},
   "source": [
    "##Below is the order of execution in sql query.\n",
    "Order of execution means when we submitted the query to database which statement will execute first by the database..\n",
    "\n",
    "FROM\n",
    "ON\n",
    "JOIN\n",
    "WHERE\n",
    "GROUP BY\n",
    "WITH CUBE or WITH ROLLUP\n",
    "HAVING\n",
    "SELECT\n",
    "DISTINCT\n",
    "ORDER BY\n",
    "TOP\n",
    "\n",
    "e.g\n",
    "\n",
    "SELECT DISTINCT ----6,7\n",
    "<TOP_specification> <select_list> --9\n",
    "FROM <left_table>  ---1\n",
    "<join_type> JOIN <right_table>\n",
    "ON <join_condition> ---2\n",
    "WHERE <where_condition> ---3\n",
    "GROUP BY <group_by_list>---4\n",
    "HAVING <having_condition> ---5\n",
    "ORDER BY <order_by_list>  ---8\n",
    "\n"
   ]
  }
 ],
 "metadata": {
  "kernelspec": {
   "display_name": "Python 3 (ipykernel)",
   "language": "python",
   "name": "python3"
  },
  "language_info": {
   "codemirror_mode": {
    "name": "ipython",
    "version": 3
   },
   "file_extension": ".py",
   "mimetype": "text/x-python",
   "name": "python",
   "nbconvert_exporter": "python",
   "pygments_lexer": "ipython3",
   "version": "3.10.8"
  }
 },
 "nbformat": 4,
 "nbformat_minor": 5
}
