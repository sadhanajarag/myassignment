{
 "cells": [
  {
   "cell_type": "markdown",
   "id": "ea9909b6",
   "metadata": {},
   "source": [
    "## Q1. How does bagging reduce overfitting in decision trees?"
   ]
  },
  {
   "cell_type": "markdown",
   "id": "3cf50e32",
   "metadata": {},
   "source": [
    "What is bagging?\n",
    "\n",
    "Bagging means Bootstrap Aggregation.\n",
    "Bagging means building different models using sample subset and then aggregating the predictions of the different models to reduce variance.\n",
    "\n",
    "Suppose we have a set of ‘n’ independent observations say Z1, Z2….Zn. The variance of individual observation is σ2.\n",
    "\n",
    "The mean of all data points will be (Z1+Z2+….+Zn)/n\n",
    "Similarly, the variance of that mean will be σ2/n.\n",
    "\n",
    "So, if we increase the number of data points, the variance of the mean is reduced. This is the concept behind bagging-decision trees.which eliminates the challenge of overfitting."
   ]
  },
  {
   "cell_type": "markdown",
   "id": "8df8e92f",
   "metadata": {},
   "source": [
    "## Q2. What are the advantages and disadvantages of using different types of base learners in bagging?"
   ]
  },
  {
   "cell_type": "markdown",
   "id": "54138c04",
   "metadata": {},
   "source": [
    "### Advantages :\n",
    "    \n",
    "1. The biggest advantage of bagging is that multiple weak learners can work better than a single strong learner.\n",
    "\n",
    "2. It provides stability and increases the machine learning algorithm’s accuracy that is used in statistical classification and regression.\n",
    "\n",
    "3. It helps in reducing variance, i.e. it avoids overfitting.\n",
    "\n",
    "### Disadvantages :\n",
    "\n",
    "1. It may result in high bias if it is not modelled properly and thus may result in underfitting.\n",
    "\n",
    "2. Since we must use multiple models, it becomes computationally expensive and may not be suitable in various use cases."
   ]
  },
  {
   "cell_type": "markdown",
   "id": "80580e5a",
   "metadata": {},
   "source": [
    "## Q3. How does the choice of base learner affect the bias-variance tradeoff in bagging?"
   ]
  },
  {
   "cell_type": "markdown",
   "id": "6b6ac3fb",
   "metadata": {},
   "source": [
    "Bagging esenble technique main aim is to reduce the varience so sometime it can be increase the the bias of the model.\n",
    "If we choose the base learner as having high varience like decision trees, support vector machines and k-nearest neighbors. then it try to reduce the varience so it works well on the high varience models.\n",
    "\n",
    "\n",
    "If your base model is having high bias like linear regression, logistics regression,that are more stable or subject to high amounts of bias do not provide as much benefit as there’s less variation within the dataset of the model.\n",
    "\n",
    "bagging will be works good on high varience model as the main idea of bagging is to reduce varience.\n"
   ]
  },
  {
   "cell_type": "markdown",
   "id": "f00f9c9d",
   "metadata": {},
   "source": [
    "## Q4. Can bagging be used for both classification and regression tasks? How does it differ in each case?"
   ]
  },
  {
   "cell_type": "markdown",
   "id": "23139540",
   "metadata": {},
   "source": [
    "You definitely can. You can use bagging with any type of classifier. However, because bagging is an ensemble method, and logistic regression is a stable classifier, they are not a powerful combo. On the other hand, decision trees are unstable classifiers and they work well when combined in ensemble.\n",
    "\n",
    "The reason for this is that in order for your ensemble to work well, the classifiers in the ensemble should produce independent mistakes. Unstable classifiers, such as decision trees, tend to perform significantly different when the training set is slightly perturbed. This is why the ensemble methods use bootstrap sampling to create a separate training set for all classifiers in the ensemble."
   ]
  },
  {
   "cell_type": "markdown",
   "id": "687fe931",
   "metadata": {},
   "source": [
    "## Q5. What is the role of ensemble size in bagging? How many models should be included in the ensemble?"
   ]
  },
  {
   "cell_type": "markdown",
   "id": "c27c8773",
   "metadata": {},
   "source": [
    "- Size: The more ensemble members the better — within reason. The accuracy of the ensemble will increase as more members are added until eventually new members don’t bring new information.\n",
    "\n",
    "- Diversity :In order for the accuracy of the ensemble to be better than the individual, there must be diversity in the ensemble members.\n",
    "\n",
    "\n",
    "1. The accuracy estimates were obtained using cross-validation.\n",
    "2. The impact of ensemble size is shown in below figure.\n",
    "3. With two estimators (members) the ensemble has an accuracy of 0.87. \n",
    "4. This increases to above 0.91 with seven estimators but there is no material increase with the addition of more estimators. This increase-then-plateau pattern is typical, although for other datasets the plateau might not be reached until significantly more estimators are added.\n",
    "\n",
    "- diversity is to control the overlap in the datasets used to train the estimators.\n",
    "- The ensemble size is always 100 and the first ensemble members are trained using 95% of the data sampled without replacement. So the estimators are all very similar to each other. Then the next ensemble is trained using 90% of the data and so on.\n"
   ]
  },
  {
   "cell_type": "code",
   "execution_count": 2,
   "id": "ff2237ff",
   "metadata": {},
   "outputs": [
    {
     "data": {
      "image/png": "[encoded data removed]",
      "text/plain": [
       "<IPython.core.display.Image object>"
      ]
     },
     "execution_count": 2,
     "metadata": {},
     "output_type": "execute_result"
    }
   ],
   "source": [
    "from IPython.display import Image\n",
    "Image(filename='C:estimator.png') "
   ]
  },
  {
   "cell_type": "markdown",
   "id": "84dadee9",
   "metadata": {},
   "source": [
    "Above The impact of ensemble size and diversity on accuracy. On the left, accuracy increases as more estimators (ensemble members) are added. On the right, for an ensemble of 10 estimators, diversity can be increased by using smaller subsets of the data resulting in less training set overlap. Accuracy increases as estimators are less similar. Graphs by author."
   ]
  },
  {
   "cell_type": "markdown",
   "id": "6e1e77b2",
   "metadata": {},
   "source": [
    "- There are no restrictions/guidelines on the number of models. You can start even from 3 models. You can keep the number of models as a hyperparameter if the training cost is less. Typically, you will observe the slanted 'L' shaped curve for MSE vs # of models plot. You can take the elbow point as the final # of models."
   ]
  },
  {
   "cell_type": "markdown",
   "id": "c90f4ea0",
   "metadata": {},
   "source": [
    "## Q6. Can you provide an example of a real-world application of bagging in machine learning?"
   ]
  },
  {
   "cell_type": "markdown",
   "id": "cfb8f05a",
   "metadata": {},
   "source": [
    "- **Healthcare**: Bagging has been used to form medical data predictions. For example, ensemble methods have been used for an array of bioinformatics problems, such as gene and/or protein selection to identify a specific trait of interest. More specifically, this research delves into its use to predict the onset of diabetes based on various risk predictors.\n",
    "\n",
    "- **Environment**: Ensemble methods, such as bagging, have been applied within the field of remote sensing. More specifically, this research sows how it has been used to map the types of wetlands within a coastal landscape."
   ]
  },
  {
   "cell_type": "code",
   "execution_count": null,
   "id": "a4fd5c4f",
   "metadata": {},
   "outputs": [],
   "source": []
  },
  {
   "cell_type": "code",
   "execution_count": null,
   "id": "89b9a792",
   "metadata": {},
   "outputs": [],
   "source": []
  },
  {
   "cell_type": "code",
   "execution_count": null,
   "id": "a2cafa1c",
   "metadata": {},
   "outputs": [],
   "source": []
  }
 ],
 "metadata": {
  "kernelspec": {
   "display_name": "Python 3 (ipykernel)",
   "language": "python",
   "name": "python3"
  },
  "language_info": {
   "codemirror_mode": {
    "name": "ipython",
    "version": 3
   },
   "file_extension": ".py",
   "mimetype": "text/x-python",
   "name": "python",
   "nbconvert_exporter": "python",
   "pygments_lexer": "ipython3",
   "version": "3.9.13"
  }
 },
 "nbformat": 4,
 "nbformat_minor": 5
}
