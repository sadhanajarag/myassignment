{
 "cells": [
  {
   "cell_type": "markdown",
   "id": "5b3e7a70-48d3-4397-a9bb-42a8118f8cfb",
   "metadata": {},
   "source": [
    "## 03_feb_assQ"
   ]
  },
  {
   "cell_type": "markdown",
   "id": "996378d2-c626-4ff8-93fc-b83cae3c3e31",
   "metadata": {},
   "source": [
    "### Q1. Which keyword is used to create a function? Create a function to return a list of odd numbers in the range of 1 to 25"
   ]
  },
  {
   "cell_type": "markdown",
   "id": "90ff6f1f-3949-4ae5-a917-d65d221880f0",
   "metadata": {},
   "source": [
    "#### Ans: Def is word that use to create a function."
   ]
  },
  {
   "cell_type": "code",
   "execution_count": 12,
   "id": "46dea3c5-66b5-4852-a7d1-c8ea15f96561",
   "metadata": {},
   "outputs": [],
   "source": [
    "def odd(n):\n",
    "    n1=[]\n",
    "    for i in range (n):\n",
    "        if (i%2)!=0:\n",
    "            n1.append(i)\n",
    "    return n1\n",
    "        "
   ]
  },
  {
   "cell_type": "code",
   "execution_count": 14,
   "id": "1055d312-610d-440e-ada6-d07a412011b6",
   "metadata": {},
   "outputs": [
    {
     "data": {
      "text/plain": [
       "[1, 3, 5, 7, 9, 11, 13, 15, 17, 19, 21, 23]"
      ]
     },
     "execution_count": 14,
     "metadata": {},
     "output_type": "execute_result"
    }
   ],
   "source": [
    "odd(25)"
   ]
  },
  {
   "cell_type": "markdown",
   "id": "d45d5dfb-ba51-4c19-b099-d96c1a8ca6ff",
   "metadata": {},
   "source": [
    "### Q2. Why *args and **kwargs is used in some functions? Create a function each for *args and **kwargs to demonstrate their use."
   ]
  },
  {
   "cell_type": "code",
   "execution_count": null,
   "id": "c4a9b393-996b-408f-b20c-00241207ef71",
   "metadata": {},
   "outputs": [],
   "source": [
    "*args  : >when we come across with n similar function calls with variable number of values\n",
    "\tthen with normal python programming we need to define n -function definitions.\n",
    "\tThis approach leads more developement time and more wxecution time and more code redunduncy\n",
    "\tso to overcome to this typeof problem,we define one function defintion for n similar fucntion\n",
    "\tcalls with variable number of values a.This approach gives less developement,less execution time and\n",
    "\tredundency of code is reduced.\n",
    "==>to hold variable number of values ,in the fucntion definition ,we use\n",
    "\ta formal parameter preceded with astrik(*) and that formal parameter is called Variable lengh Parameter\n",
    "\tand whose type is tuple.\n",
    "syn : def fname(list of formal param,*param)\n",
    "\n",
    "**kwargs:\n",
    "    when we come across with n similar function calls with keywords variable number of values\n",
    "\tthen with normal python programming we need to define n -function definitions\n",
    "\tThis approach leads more developement time and more wxecution time and more code redunduncy\n",
    "\tso to overcome to this typeof problem,we define one function defintion for n similar fucntion\n",
    "\tcalls with keyword variable number of values.This approach gives less developement,less execution time and\n",
    "\tredundency of code is reduced\n",
    "==>to hold variable number of values ,in the fucntion definition ,we use\n",
    "\ta formal parameter preceded with astrik(**) and that formal parameter is called Keyword Variable lengh Parameter\n",
    "\tand whose type is Dict.\n",
    "Syn : def fname(list of formal param,**param):\n",
    "\t"
   ]
  },
  {
   "cell_type": "code",
   "execution_count": 59,
   "id": "3526f6e4-45c9-4274-9f59-be47879b5671",
   "metadata": {},
   "outputs": [
    {
     "name": "stdout",
     "output_type": "stream",
     "text": [
      "first list:oddvalue   and  second list:Even values\n"
     ]
    },
    {
     "data": {
      "text/plain": [
       "([23], [10, 20])"
      ]
     },
     "execution_count": 59,
     "metadata": {},
     "output_type": "execute_result"
    }
   ],
   "source": [
    "test1(10,20,23,\"skill\")"
   ]
  },
  {
   "cell_type": "code",
   "execution_count": null,
   "id": "2fde98c5-d9d5-4328-a478-b1673008efdf",
   "metadata": {},
   "outputs": [],
   "source": [
    "findtotalmarks(\"Harshita\",\"x\",Eng=50,Hindi=60,Sco=70,Sci=80,Maths=90)"
   ]
  },
  {
   "cell_type": "code",
   "execution_count": 81,
   "id": "66486150-4ca4-4c2d-a795-db0cdb5b6b5a",
   "metadata": {},
   "outputs": [],
   "source": [
    "def find_tot_marks(stdname,stdcls,**marks):\n",
    "    tot=0\n",
    "    print(\"Name\",stdname)\n",
    "    print(\"Class\",stdcls)\n",
    "    for s,m in marks.items():\n",
    "        tot=tot+m\n",
    "        print(\"sub: {} and marks : {}\".format(s,m))\n",
    "            \n",
    "    print(\"Total Marks:{}\".format(tot))"
   ]
  },
  {
   "cell_type": "code",
   "execution_count": 82,
   "id": "ed6c6db5-7264-4e41-958d-8c15bd4e0391",
   "metadata": {},
   "outputs": [
    {
     "name": "stdout",
     "output_type": "stream",
     "text": [
      "Name Rajeshwari\n",
      "Class XII\n",
      "sub: Bio and marks : 55\n",
      "sub: Zoo and marks : 60\n",
      "sub: Che and marks : 58\n",
      "Total Marks:173\n"
     ]
    }
   ],
   "source": [
    "find_tot_marks(\"Rajeshwari\",\"XII\",Bio=55,Zoo=60,Che=58)"
   ]
  },
  {
   "cell_type": "markdown",
   "id": "836e70ff-d6aa-4a44-8d4a-9c2a2bcd312f",
   "metadata": {
    "tags": []
   },
   "source": [
    "### Q3:Q3.  What is an iterator in python? Name the method used to initialise the iterator object and the method used for iteration. Use these methods to print the first five elements of the given list [2, 4, 6, 8, 10, 12, 14, 16,18, 20]"
   ]
  },
  {
   "cell_type": "markdown",
   "id": "3758e773-a3f8-4d81-af46-1ce5377d1369",
   "metadata": {},
   "source": [
    "1.\tIterator\n",
    "        Iterator is used to read elements/items from collections (linear or non linear (OR) index/non-index)\n",
    "        Iterator is a cursor object. Using this cursor object we can read each time one value/item from collection.\n",
    "        Iterator is read only and forward only.\n",
    "\n",
    "How to create iterator object?\n",
    "\n",
    "Iter() function is used to return iterator object\n",
    "\n",
    "Syntax: iter(collection/iterable)\n"
   ]
  },
  {
   "cell_type": "code",
   "execution_count": 19,
   "id": "447afc69-41ad-425c-a988-0c2a3b4a2149",
   "metadata": {},
   "outputs": [
    {
     "name": "stdout",
     "output_type": "stream",
     "text": [
      "2\n",
      "4\n",
      "6\n",
      "8\n",
      "10\n"
     ]
    }
   ],
   "source": [
    "list1=[2, 4, 6, 8, 10, 12, 14, 16,18, 20]\n",
    "a=iter(list1[0:5])\n",
    "i=0\n",
    "for value in a:\n",
    "    print(value)\n",
    "   "
   ]
  },
  {
   "cell_type": "markdown",
   "id": "0dfa98a0-fe1a-4808-be7e-3825823b0a8f",
   "metadata": {},
   "source": [
    "### Q4.  What is a generator function in python? Why yield keyword is used? Give an example of a generator function"
   ]
  },
  {
   "cell_type": "markdown",
   "id": "3c8afd37-8196-48fe-99b7-405e75eb6fc7",
   "metadata": {},
   "source": [
    "Ans:Generator is special function which is returns generate iterator object\n",
    "    Generator is used to generate sequence of values\n",
    "    Using generators, we can create custom range.\n",
    "    A function which returns a generator iterator. It looks like a normal function except that it contains yield   expressions for producing a series of values usable in a for-loop or that can be retrieved one at a time with the next() function.\n",
    "\n",
    "generator iterator:\n",
    "\n",
    "An object created by a generator function.\n",
    "\n",
    "yield keyword:\n",
    "\n",
    "generator function return value using yield keyword\n",
    "yield after returning value, it pauses execution of function.\n",
    "When iterate one more value, it resumes back and execute from where it is stopped.\n",
    "Function which contains yield keyword is called generator function\n"
   ]
  },
  {
   "cell_type": "code",
   "execution_count": 42,
   "id": "ee1f4ed5-e59e-4be0-b94e-6b1027dbe995",
   "metadata": {},
   "outputs": [],
   "source": [
    "def prime_fun(start,stop):   \n",
    "    for num in range(start,stop+1):\n",
    "        c=0\n",
    "        for i in range(1,num+1):\n",
    "            if num%i==0:\n",
    "                c=c+1\n",
    "        if c==2:\n",
    "            yield num"
   ]
  },
  {
   "cell_type": "code",
   "execution_count": 43,
   "id": "9033e518-0c6d-4091-8a5b-dd13a71dcc1f",
   "metadata": {},
   "outputs": [],
   "source": [
    "prime_value=prime_fun(1,12)"
   ]
  },
  {
   "cell_type": "code",
   "execution_count": 44,
   "id": "85f1f8fd-5ec5-469a-af9d-4497a8efa734",
   "metadata": {},
   "outputs": [
    {
     "name": "stdout",
     "output_type": "stream",
     "text": [
      "2\n",
      "3\n",
      "5\n",
      "7\n",
      "11\n"
     ]
    }
   ],
   "source": [
    "for i in prime_value:\n",
    "    print(i)"
   ]
  },
  {
   "cell_type": "markdown",
   "id": "e2c12586-ab4b-407c-91f1-10c54bbd91bf",
   "metadata": {},
   "source": [
    "### Q5. Create a generator function for prime numbers less than 1000. Use the next() method to print the first 20 prime numbers."
   ]
  },
  {
   "cell_type": "code",
   "execution_count": null,
   "id": "eb175793-883e-47d8-9fce-e51fd36147b1",
   "metadata": {},
   "outputs": [],
   "source": [
    "def prime_fun(start,stop):   \n",
    "    for num in range(start,stop+1):\n",
    "        c=0\n",
    "        for i in range(1,num+1):\n",
    "            if num%i==0:\n",
    "                c=c+1\n",
    "        if c==2:\n",
    "            yield num"
   ]
  },
  {
   "cell_type": "code",
   "execution_count": null,
   "id": "f001cc4d-2e12-46a3-b704-af118b3041b7",
   "metadata": {},
   "outputs": [],
   "source": [
    "prime_value=prime_fun(1,12)"
   ]
  },
  {
   "cell_type": "code",
   "execution_count": null,
   "id": "b68abf99-3a76-49ea-a5c3-5e1b6fa0d4cc",
   "metadata": {},
   "outputs": [],
   "source": [
    "for i in prime_value:\n",
    "    print(i)"
   ]
  },
  {
   "cell_type": "code",
   "execution_count": 65,
   "id": "b26ad5f8-3fa1-4a3e-871e-047a4c98df32",
   "metadata": {},
   "outputs": [],
   "source": [
    "def prime_1000(a,n):\n",
    "    for i in range (1,n+1):\n",
    "        c=0\n",
    "        for j in range(1,i+1):\n",
    "            if i%j==0:\n",
    "                c=c+1\n",
    "        if c==2:\n",
    "            yield i"
   ]
  },
  {
   "cell_type": "code",
   "execution_count": 87,
   "id": "61e7cab0-5497-4490-bb18-6c627ad37fa8",
   "metadata": {},
   "outputs": [],
   "source": [
    "prime_value=prime_1000(1,1000)"
   ]
  },
  {
   "cell_type": "code",
   "execution_count": 88,
   "id": "c313a11d-fdba-4a09-8d3f-f32748d85fa3",
   "metadata": {},
   "outputs": [
    {
     "name": "stdout",
     "output_type": "stream",
     "text": [
      "<generator object prime_1000 at 0x7f4d141f8f20>\n",
      "First 20 prime numbera are below\n",
      "2  3  5  7  11  13  17  19  23  29  31  37  41  43  47  53  59  61  67  71\n"
     ]
    }
   ],
   "source": [
    "print(prime_value)\n",
    "v1 = next(prime_value)\n",
    "v2 = next(prime_value)\n",
    "v3 = next(prime_value)\n",
    "v4 = next(prime_value)\n",
    "v5 = next(prime_value)\n",
    "v6 = next(prime_value)\n",
    "v7 = next(prime_value)\n",
    "v8 = next(prime_value)\n",
    "v9 = next(prime_value)\n",
    "v10 = next(prime_value)\n",
    "v11 = next(prime_value)\n",
    "v12 = next(prime_value)\n",
    "v13 = next(prime_value)\n",
    "v14 = next(prime_value)\n",
    "v15 = next(prime_value)\n",
    "v16 = next(prime_value)\n",
    "v17 = next(prime_value)\n",
    "v18 = next(prime_value)\n",
    "v19 = next(prime_value)\n",
    "v20 = next(prime_value)\n",
    "print(\"First 20 prime numbera are below\")\n",
    "print(v1,'',v2,'',v3,'',v4,'',v5,'',v6,'',v7,'',v8,'',v9,'',v10,'',v11,'',v12,'',v13,'',v14,'',v15,'',v16,'',v17,'',v18,'',v19,'',v20)"
   ]
  },
  {
   "cell_type": "code",
   "execution_count": null,
   "id": "fc5eb716-1c38-4f54-adad-74f8834d249b",
   "metadata": {},
   "outputs": [],
   "source": []
  },
  {
   "cell_type": "code",
   "execution_count": null,
   "id": "0070a800-e65d-4534-b21d-a15414048e64",
   "metadata": {},
   "outputs": [],
   "source": []
  },
  {
   "cell_type": "code",
   "execution_count": null,
   "id": "0baa415e-1b74-4295-8130-59b8dfa6e1a3",
   "metadata": {},
   "outputs": [],
   "source": []
  },
  {
   "cell_type": "code",
   "execution_count": null,
   "id": "915e82fb-d3bf-4556-b0e9-0ad42d4532aa",
   "metadata": {},
   "outputs": [],
   "source": []
  },
  {
   "cell_type": "code",
   "execution_count": null,
   "id": "bf472274-93e0-441d-9d46-f4f783d4d9ba",
   "metadata": {},
   "outputs": [],
   "source": []
  },
  {
   "cell_type": "code",
   "execution_count": null,
   "id": "99871262-8447-4f8b-9a58-30091ebc696e",
   "metadata": {},
   "outputs": [],
   "source": []
  }
 ],
 "metadata": {
  "kernelspec": {
   "display_name": "Python 3 (ipykernel)",
   "language": "python",
   "name": "python3"
  },
  "language_info": {
   "codemirror_mode": {
    "name": "ipython",
    "version": 3
   },
   "file_extension": ".py",
   "mimetype": "text/x-python",
   "name": "python",
   "nbconvert_exporter": "python",
   "pygments_lexer": "ipython3",
   "version": "3.10.8"
  }
 },
 "nbformat": 4,
 "nbformat_minor": 5
}
