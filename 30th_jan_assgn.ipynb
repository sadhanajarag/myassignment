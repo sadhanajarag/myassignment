{
 "cells": [
  {
   "cell_type": "markdown",
   "id": "317af3f1-c136-4a28-b992-bb921f9271b4",
   "metadata": {},
   "source": [
    "### Q1 Accept the percentage from the user and assign the grade by using following criteria\n",
    "\n",
    "    Mark         Grade\n",
    "\n",
    "    >90            A\n",
    "    <=90 and >80   B\n",
    "    >=60 and <=80  C\n",
    "    Below 60       D\n"
   ]
  },
  {
   "cell_type": "code",
   "execution_count": 18,
   "id": "4239117c-ddf9-4fb7-8b7a-95a988a7ba9c",
   "metadata": {},
   "outputs": [
    {
     "name": "stdin",
     "output_type": "stream",
     "text": [
      "Enter the Percentage you got in the Exam: 0\n"
     ]
    },
    {
     "name": "stdout",
     "output_type": "stream",
     "text": [
      "You got 0.0 % and your grade  is  : D\n"
     ]
    }
   ],
   "source": [
    "percentage=float(input(\"Enter the Percentage you got in the Exam:\"))\n",
    "if percentage<60 and  percentage>=0:\n",
    "    print(\"You got {} % and your grade  is  : D\".format(percentage))\n",
    "elif percentage>=60 and percentage<=80:\n",
    "    print(\"You got {} % and your grade  is  : C\".format(percentage))\n",
    "elif percentage>80 and percentage<=90:\n",
    "    print(\"You got {} % and your grade  is  : B\".format(percentage))\n",
    "elif percentage>90 and percentage <=100:\n",
    "    print(\"You got {} % and your grade  is  : A\".format(percentage))\n",
    "elif percentage>100 or percentage < 0:\n",
    "    print(\"Percentage is not correct.Please enter valid percentage\")\n",
    "else:\n",
    "    print(\"something went wrong.Please try again!!!!\")"
   ]
  },
  {
   "cell_type": "code",
   "execution_count": null,
   "id": "50d1adff-8a1d-4f38-bc1c-8922d156bd60",
   "metadata": {},
   "outputs": [],
   "source": [
    "### Q2 Write the program accept the cost price of the bike and display the road tax according to the following criteria\n",
    "Tax                  Cost(Price)\n",
    "15                    >100000\n",
    "10                    >50000 and <=1000000\n",
    "5                      <=50000"
   ]
  },
  {
   "cell_type": "code",
   "execution_count": 17,
   "id": "51276e8f-2618-4622-8649-5a48cb88940b",
   "metadata": {},
   "outputs": [
    {
     "name": "stdin",
     "output_type": "stream",
     "text": [
      "Enter the cost of bike : 3000\n"
     ]
    },
    {
     "name": "stdout",
     "output_type": "stream",
     "text": [
      "You have to pay : 150.0 road tax as you have bike with  cost : 3000.0\n"
     ]
    }
   ],
   "source": [
    "bike_price=float(input(\"Enter the cost of bike :\"))\n",
    "road_tax=0 \n",
    "\n",
    "if bike_price <=0:\n",
    "    print(\"Cost of bike is not negative\")\n",
    "elif bike_price>100000:\n",
    "    road_tax=bike_price*0.15\n",
    "    print(\"You have to pay : {} road tax as you have bike with  cost : {}\".format(road_tax,bike_price))\n",
    "elif bike_price>50000 and bike_price<=100000:\n",
    "    road_tax=bike_price*0.10\n",
    "    print(\"You have to pay : {} road tax as you have bike with  cost : {}\".format(road_tax,bike_price))\n",
    "elif bike_price<50000:\n",
    "    road_tax=bike_price*0.05\n",
    "    print(\"You have to pay : {} road tax as you have bike with  cost : {}\".format(road_tax,bike_price))\n",
    "else:\n",
    "    print(\"The entered cost of bike is wrong.Please try again\")\n",
    "    "
   ]
  },
  {
   "cell_type": "markdown",
   "id": "ebb5f670-d864-4e4f-ad39-e4788aab1de2",
   "metadata": {},
   "source": [
    "### Q3 :Accept the city from user and display monument of that city\n",
    "    City        Monument\n",
    "    Delhi       Red Fort\n",
    "    Agra        Taj Mahal\n",
    "    Jaypur      Jal Mahal\n",
    "    "
   ]
  },
  {
   "cell_type": "code",
   "execution_count": 22,
   "id": "28a53dd8-c2ec-4738-8290-946e0b8586bb",
   "metadata": {},
   "outputs": [
    {
     "name": "stdin",
     "output_type": "stream",
     "text": [
      "Enter The Name of City visapur\n"
     ]
    },
    {
     "name": "stdout",
     "output_type": "stream",
     "text": [
      "Sorry the monument of given city is not listed here\n"
     ]
    }
   ],
   "source": [
    "city=input(\"Enter The Name of City\")\n",
    "if city.lower()==\"delhi\":\n",
    "    print(\"The city {} have very famous monumnet : Red Fort\".format(city))\n",
    "elif city.lower()==\"agra\":\n",
    "    print(\"The city {} have very famous monumnet : Taj Mahal\".format(city))\n",
    "elif city.lower()==\"jaipur\":\n",
    "    print(\"The city {} have very famous monumnet : Jal Mahal\".format(city))\n",
    "else:\n",
    "    print(\"Sorry!!!! the monument of given city is not listed here\")"
   ]
  },
  {
   "cell_type": "markdown",
   "id": "8bf906b3-a2f4-4429-849b-0d4a6aa42a2f",
   "metadata": {},
   "source": [
    "### Q4:Check how many time the number is divisible by 3 before it is less than or equal to 10"
   ]
  },
  {
   "cell_type": "code",
   "execution_count": 44,
   "id": "35eb8c33-6e6d-44db-b639-dd1a91da04e3",
   "metadata": {},
   "outputs": [
    {
     "name": "stdin",
     "output_type": "stream",
     "text": [
      "Enter the number : 27\n"
     ]
    },
    {
     "name": "stdout",
     "output_type": "stream",
     "text": [
      "The number is divisible by 3 before its <=10 is : 6\n"
     ]
    }
   ],
   "source": [
    "number=float(input(\"Enter the number :\"))\n",
    "i=0\n",
    "if number<=0:\n",
    "    print(\"Number should be non negative\")\n",
    "else:\n",
    "    while number>=10:\n",
    "        if (number%3==0):\n",
    "            i=i+1\n",
    "        \n",
    "        number=number-1\n",
    "    \n",
    "    else:\n",
    "        print(\"The number is divisible by 3 before its <=10 is :\",i)\n",
    "    \n",
    "\n",
    "    "
   ]
  },
  {
   "cell_type": "markdown",
   "id": "9d351128-fc52-42e8-bc9e-0ebcc23510c5",
   "metadata": {},
   "source": [
    "### Q5:Why and when we use while loop in python give detailed description and example."
   ]
  },
  {
   "cell_type": "markdown",
   "id": "045eb63c-7a3a-4b7e-bdaf-a325ed5e87f5",
   "metadata": {},
   "source": [
    "While statement:\n",
    "    While is called entry-controlled loop\n",
    "    While loop repeat one or more than one statement until given condition is True.\n",
    "\n",
    "Syntax:\n",
    "while condition:\n",
    "    statement-1\n",
    "    statement-2\n",
    "\n",
    "statement-1, statement-2 are repeated until condition is True. When condition is False, it stop executing while loop.\n",
    "\t \n",
    "\n",
    "While loop required 3 statements\n",
    "1.\tInitialization statement\n",
    "2.\tCondition\n",
    "3.\tUpdate statement\n",
    "\n",
    "\t-Initialization statement, which define initial value of condition\n",
    "\t-Condition, is a Boolean expression which define how many times the while loop has to repeated\n",
    "\t-Update statement is statement which updates condition.\n",
    "\n",
    "    num=1\n",
    "    while num<=10:\n",
    "        print(num,end=' ')\n",
    "        num=num+1\n",
    "\n",
    "Output:\n",
    "1 2 3 4 5 6 7 8 9 10 \n",
    "\n",
    "\n",
    "With the break statement we can stop the loop even if the while condition is true\n",
    "\n",
    "        i = 1\n",
    "        while i < 6:\n",
    "          print(i)\n",
    "          if i == 3:\n",
    "            break\n",
    "          i += 1\n",
    "\n",
    "with the continue statement we can stop the current iteration, and continue with the next:\n",
    "\n",
    "    i = 0\n",
    "    while i < 6:\n",
    "      i += 1\n",
    "      if i == 3:\n",
    "        continue\n",
    "      print(i)\n",
    "\n",
    "With the else statement we can run a block of code once when the condition no longer is true:\n",
    "\n",
    "    i = 1\n",
    "    while i < 5:\n",
    "      print(i)\n",
    "      i += 1\n",
    "    else:\n",
    "      print(\"i is no longer less than 5\")"
   ]
  },
  {
   "cell_type": "markdown",
   "id": "0e07fb84-60b0-499e-91a3-58a32cede627",
   "metadata": {},
   "source": [
    "### Q6: Use nested while loop to printed 3 different patterns"
   ]
  },
  {
   "cell_type": "code",
   "execution_count": 67,
   "id": "58229c63-7707-4550-a9ba-ab053c3a0e3b",
   "metadata": {},
   "outputs": [
    {
     "name": "stdout",
     "output_type": "stream",
     "text": [
      "# \n",
      "# # \n",
      "# # # \n",
      "# # # # \n",
      "# # # # # \n"
     ]
    }
   ],
   "source": [
    "i=1\n",
    "while i<6:\n",
    "    j=0\n",
    "    while j<i:\n",
    "        print (\"#\",end=\" \")\n",
    "        j=j+1\n",
    "    print('')\n",
    "    i=i+1\n",
    "    "
   ]
  },
  {
   "cell_type": "code",
   "execution_count": 71,
   "id": "43a9eff5-a82e-419c-b4e8-5eb8a8036a7c",
   "metadata": {},
   "outputs": [
    {
     "name": "stdout",
     "output_type": "stream",
     "text": [
      "# # # # # \n",
      "# # # # \n",
      "# # # \n",
      "# # \n",
      "# \n"
     ]
    }
   ],
   "source": [
    "i=5\n",
    "while i>=1:\n",
    "    j=0\n",
    "    while j<i:\n",
    "        print (\"#\",end=\" \")\n",
    "        j=j+1\n",
    "    print('')\n",
    "    i=i-1"
   ]
  },
  {
   "cell_type": "code",
   "execution_count": 95,
   "id": "3e2e7248-480f-43c0-99f3-bf3bdceedc22",
   "metadata": {},
   "outputs": [
    {
     "name": "stdout",
     "output_type": "stream",
     "text": [
      "    *\n",
      "   ***\n",
      "  *****\n",
      " *******\n",
      "*********\n"
     ]
    }
   ],
   "source": [
    "size = 5\n",
    "i = 0\n",
    "# outer loop\n",
    "while i < size:\n",
    "    j = 0\n",
    "    # inner loop to print spaces\n",
    "    while j < size - i - 1:\n",
    "        print(' ', end='')\n",
    "        j += 1\n",
    "    k = 0\n",
    "    # inner loop to print stars\n",
    "    while k < 2 * i + 1:\n",
    "        print('*', end='')\n",
    "        k += 1\n",
    "    print()\n",
    "    i += 1\n",
    "        "
   ]
  },
  {
   "cell_type": "markdown",
   "id": "1813070f-a850-432b-aaf1-59d28b238292",
   "metadata": {},
   "source": [
    "### Q7: Reverse a while loop to display number from 10 to 1"
   ]
  },
  {
   "cell_type": "code",
   "execution_count": 53,
   "id": "880b7324-4559-4e8c-8505-00f87be4ea8b",
   "metadata": {},
   "outputs": [
    {
     "name": "stdout",
     "output_type": "stream",
     "text": [
      " 10\n",
      " 9\n",
      " 8\n",
      " 7\n",
      " 6\n",
      " 5\n",
      " 4\n",
      " 3\n",
      " 2\n",
      " 1\n"
     ]
    }
   ],
   "source": [
    "num=10\n",
    "while num>=1:\n",
    "    print(\"\\r\",num)\n",
    "    num=num-1\n",
    "    "
   ]
  },
  {
   "cell_type": "code",
   "execution_count": null,
   "id": "1fd1f1e0-c92d-4d0c-9007-3a3d8fe48ac8",
   "metadata": {},
   "outputs": [],
   "source": [
    "### Q8:Same question as 7"
   ]
  },
  {
   "cell_type": "code",
   "execution_count": null,
   "id": "50d3c8f5-5a5c-4eb4-ac5c-d71c90228b63",
   "metadata": {},
   "outputs": [],
   "source": []
  },
  {
   "cell_type": "code",
   "execution_count": null,
   "id": "887f0bb3-56dc-4d3b-9f0e-d78d726219f9",
   "metadata": {},
   "outputs": [],
   "source": []
  },
  {
   "cell_type": "code",
   "execution_count": null,
   "id": "c0d252c8-eca0-423b-8127-9c0d389ca1ba",
   "metadata": {},
   "outputs": [],
   "source": []
  },
  {
   "cell_type": "code",
   "execution_count": null,
   "id": "da4feb4d-951f-4b13-8714-a8ab4be0a4ce",
   "metadata": {},
   "outputs": [],
   "source": []
  },
  {
   "cell_type": "code",
   "execution_count": null,
   "id": "01193a92-31c3-40cd-9500-f953d089336d",
   "metadata": {},
   "outputs": [],
   "source": []
  },
  {
   "cell_type": "code",
   "execution_count": null,
   "id": "d568ee02-662b-421b-92bd-be71289a9b81",
   "metadata": {},
   "outputs": [],
   "source": []
  },
  {
   "cell_type": "code",
   "execution_count": null,
   "id": "60462fd3-6678-4c67-86f6-1310435517f4",
   "metadata": {},
   "outputs": [],
   "source": []
  },
  {
   "cell_type": "code",
   "execution_count": null,
   "id": "74c833a4-7da3-444d-8b6f-46867902c5af",
   "metadata": {},
   "outputs": [],
   "source": []
  },
  {
   "cell_type": "code",
   "execution_count": null,
   "id": "ecf9e03a-c884-4a77-9278-d1868df3d85b",
   "metadata": {},
   "outputs": [],
   "source": []
  },
  {
   "cell_type": "code",
   "execution_count": null,
   "id": "0eb26a63-f9dc-4619-a6ad-480a2a090395",
   "metadata": {},
   "outputs": [],
   "source": []
  },
  {
   "cell_type": "code",
   "execution_count": null,
   "id": "ddaa5d88-7e9e-4feb-98fe-d64803ccd97f",
   "metadata": {},
   "outputs": [],
   "source": []
  },
  {
   "cell_type": "code",
   "execution_count": null,
   "id": "0f11aa6a-7702-4a1a-be2a-57585f5a315c",
   "metadata": {},
   "outputs": [],
   "source": []
  },
  {
   "cell_type": "code",
   "execution_count": null,
   "id": "89e6ea80-2918-4565-906a-b0307f40b7d9",
   "metadata": {},
   "outputs": [],
   "source": []
  },
  {
   "cell_type": "code",
   "execution_count": null,
   "id": "8ae5ddd1-1de3-4f2a-b833-af9b2925a92e",
   "metadata": {},
   "outputs": [],
   "source": []
  },
  {
   "cell_type": "code",
   "execution_count": null,
   "id": "c63a6451-bd73-4668-bedb-04aa9f6fef07",
   "metadata": {},
   "outputs": [],
   "source": []
  },
  {
   "cell_type": "code",
   "execution_count": null,
   "id": "1bac6005-a0bb-4f56-aab4-55229847a589",
   "metadata": {},
   "outputs": [],
   "source": []
  },
  {
   "cell_type": "code",
   "execution_count": null,
   "id": "211bee27-200a-4e12-950b-917b7927e855",
   "metadata": {},
   "outputs": [],
   "source": []
  },
  {
   "cell_type": "code",
   "execution_count": null,
   "id": "2d85a2e9-5447-496e-872a-095dde9b6bd2",
   "metadata": {},
   "outputs": [],
   "source": []
  },
  {
   "cell_type": "code",
   "execution_count": null,
   "id": "a46b8474-d6cd-48e9-9bd3-20040f56c109",
   "metadata": {},
   "outputs": [],
   "source": []
  },
  {
   "cell_type": "code",
   "execution_count": null,
   "id": "171396cb-fe6a-4fcb-b4ed-809356d19a88",
   "metadata": {},
   "outputs": [],
   "source": []
  },
  {
   "cell_type": "code",
   "execution_count": null,
   "id": "5cfc9e4a-b375-4366-ba65-998e9cb73372",
   "metadata": {},
   "outputs": [],
   "source": []
  },
  {
   "cell_type": "code",
   "execution_count": null,
   "id": "8a6f98fb-205a-4a00-9002-5b8cca751f79",
   "metadata": {},
   "outputs": [],
   "source": []
  },
  {
   "cell_type": "code",
   "execution_count": null,
   "id": "ce416823-8c71-4316-83f0-9d701dd1524d",
   "metadata": {},
   "outputs": [],
   "source": []
  },
  {
   "cell_type": "code",
   "execution_count": null,
   "id": "57380409-03cc-48fc-a37d-79be48384ebc",
   "metadata": {},
   "outputs": [],
   "source": []
  },
  {
   "cell_type": "code",
   "execution_count": null,
   "id": "11dec622-178e-45ab-aeb2-9b3c122c625d",
   "metadata": {},
   "outputs": [],
   "source": []
  },
  {
   "cell_type": "code",
   "execution_count": null,
   "id": "149f15c5-c94c-405a-9ab3-e8a5d75e1bb3",
   "metadata": {},
   "outputs": [],
   "source": []
  },
  {
   "cell_type": "code",
   "execution_count": null,
   "id": "99fe9f05-94ae-48d3-a4ca-8ffb33160c60",
   "metadata": {},
   "outputs": [],
   "source": []
  },
  {
   "cell_type": "code",
   "execution_count": null,
   "id": "bd77b926-5b3d-4a95-b1c5-97db20f4d77f",
   "metadata": {},
   "outputs": [],
   "source": []
  },
  {
   "cell_type": "code",
   "execution_count": null,
   "id": "92964d0c-7869-40d5-a7c0-d45c3326f704",
   "metadata": {},
   "outputs": [],
   "source": []
  },
  {
   "cell_type": "code",
   "execution_count": null,
   "id": "fafca119-221f-48db-b57a-283375b8b4d0",
   "metadata": {},
   "outputs": [],
   "source": []
  },
  {
   "cell_type": "code",
   "execution_count": null,
   "id": "5552db0a-e114-4765-9617-5d6837f58255",
   "metadata": {},
   "outputs": [],
   "source": []
  },
  {
   "cell_type": "code",
   "execution_count": null,
   "id": "5f6c6c80-e433-43bb-b1e6-24e37c031cb7",
   "metadata": {},
   "outputs": [],
   "source": []
  },
  {
   "cell_type": "code",
   "execution_count": null,
   "id": "74e358a4-3aa7-4dca-922f-3afa26b9aed0",
   "metadata": {},
   "outputs": [],
   "source": []
  },
  {
   "cell_type": "code",
   "execution_count": null,
   "id": "1e508ed4-112a-4fd6-800f-cdb49c5ab13d",
   "metadata": {},
   "outputs": [],
   "source": []
  },
  {
   "cell_type": "code",
   "execution_count": null,
   "id": "0d5d576e-419b-454f-8a76-e5d0c6202817",
   "metadata": {},
   "outputs": [],
   "source": []
  },
  {
   "cell_type": "code",
   "execution_count": null,
   "id": "29463dfd-54af-43c0-832d-8d0ad7e51a47",
   "metadata": {},
   "outputs": [],
   "source": []
  },
  {
   "cell_type": "code",
   "execution_count": null,
   "id": "cfc3bb53-316f-44b0-a45d-2cac1c6c2ef9",
   "metadata": {},
   "outputs": [],
   "source": []
  },
  {
   "cell_type": "code",
   "execution_count": null,
   "id": "2c797d66-a9ee-4cfa-a6a4-d615b182de78",
   "metadata": {},
   "outputs": [],
   "source": []
  },
  {
   "cell_type": "code",
   "execution_count": null,
   "id": "a0099c4f-c0db-4fd1-ab45-560619fecb56",
   "metadata": {},
   "outputs": [],
   "source": []
  },
  {
   "cell_type": "code",
   "execution_count": null,
   "id": "857ef13a-73d6-4ad9-90c5-bf073f833495",
   "metadata": {},
   "outputs": [],
   "source": []
  },
  {
   "cell_type": "code",
   "execution_count": null,
   "id": "34f46ea3-4fad-458b-bcea-15e03ae38123",
   "metadata": {},
   "outputs": [],
   "source": []
  },
  {
   "cell_type": "code",
   "execution_count": null,
   "id": "2c5954c1-9704-46f4-8fd6-6109f1d65bb4",
   "metadata": {},
   "outputs": [],
   "source": []
  },
  {
   "cell_type": "code",
   "execution_count": null,
   "id": "b10c9fba-b35b-4393-bbaf-8f58c23cfeab",
   "metadata": {},
   "outputs": [],
   "source": []
  },
  {
   "cell_type": "code",
   "execution_count": null,
   "id": "9fae232a-1df0-4490-b507-2db9786880be",
   "metadata": {},
   "outputs": [],
   "source": []
  },
  {
   "cell_type": "code",
   "execution_count": null,
   "id": "0fed1d08-4988-4d75-a232-4e9f9586210a",
   "metadata": {},
   "outputs": [],
   "source": []
  },
  {
   "cell_type": "code",
   "execution_count": null,
   "id": "10703b18-bd67-4ba6-a479-d8f8519dafff",
   "metadata": {},
   "outputs": [],
   "source": []
  }
 ],
 "metadata": {
  "kernelspec": {
   "display_name": "Python 3 (ipykernel)",
   "language": "python",
   "name": "python3"
  },
  "language_info": {
   "codemirror_mode": {
    "name": "ipython",
    "version": 3
   },
   "file_extension": ".py",
   "mimetype": "text/x-python",
   "name": "python",
   "nbconvert_exporter": "python",
   "pygments_lexer": "ipython3",
   "version": "3.10.8"
  }
 },
 "nbformat": 4,
 "nbformat_minor": 5
}
