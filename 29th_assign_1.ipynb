{
 "cells": [
  {
   "cell_type": "markdown",
   "id": "f31bb218-494f-4c5b-9cc0-1156e74a8c18",
   "metadata": {},
   "source": [
    "## Assignment 29th Jan"
   ]
  },
  {
   "cell_type": "markdown",
   "id": "5b966cd8-d813-40e6-a46f-3ba75faebf18",
   "metadata": {},
   "source": [
    "### Q1:Who develope python programming language?\n",
    "#### Ans : Initially python conceived in the late 1980s by Guido van Rossum at CWI (Centrum Wiskunde and Informatica) which is situated in the Netherlands.The language was finally released for the use of the public in the year 1991."
   ]
  },
  {
   "cell_type": "markdown",
   "id": "cd9a352d-1ea1-4f41-9ea2-0b28c04b9dea",
   "metadata": {},
   "source": [
    "### Q2:What type of programming does python support?\n",
    "#### Ans:Python is an interpreted programming language, supporting object-oriented, structured, and functional programming"
   ]
  },
  {
   "cell_type": "markdown",
   "id": "196a2a8e-8273-4cd0-8b1d-4b237eb5c59c",
   "metadata": {},
   "source": [
    "### Q3:Is python case sensetive while dealing with identifier?\n",
    "#### Ans: Yes.As Age,AGE and age are three different variable."
   ]
  },
  {
   "cell_type": "markdown",
   "id": "14ce591d-a405-4361-b2e6-3bc5ae7fc977",
   "metadata": {},
   "source": [
    "### Q4: What is the correct extension of python file?\n",
    "#### Ans: .py is the correct extension of python file"
   ]
  },
  {
   "cell_type": "markdown",
   "id": "95cf34e1-5e24-45ec-8254-9d1f1dca1759",
   "metadata": {},
   "source": [
    "### Q5: Is python code compiled or intepreted?\n",
    "#### Ans:First compiled and then interpreted. The compilation part is hidden from the programmer to reduce complexity.The compilation part is done first when we execute our code and this will generate byte code and internally this byte code gets converted by the python virtual machine(p.v.m) according to the underlying platform(machine+operating system)."
   ]
  },
  {
   "cell_type": "markdown",
   "id": "4c04e4b7-f33f-48fa-82cf-7061204af465",
   "metadata": {},
   "source": [
    "### Q6:Name a few block of code used to define the python language?\n",
    "#### Ans:"
   ]
  },
  {
   "cell_type": "code",
   "execution_count": 7,
   "id": "a62e3ffa-5660-41bb-b96f-f6828e68c947",
   "metadata": {},
   "outputs": [
    {
     "name": "stdin",
     "output_type": "stream",
     "text": [
      "Enter Your age: 120\n"
     ]
    },
    {
     "name": "stdout",
     "output_type": "stream",
     "text": [
      "Its not correct age for any human being\n"
     ]
    }
   ],
   "source": [
    "age=int(input(\"Enter Your age:\"))\n",
    "if age<18:\n",
    "    if age<=0:\n",
    "        print(\"Dont bluff:Please enter correct age\")\n",
    "    else:\n",
    "        print(\"you are not eligible for vote\")\n",
    "elif age>=18:\n",
    "    if age>=110:\n",
    "        print(\"Its not correct age for any human being\")\n",
    "    else:\n",
    "        print(\"You can Vote\")\n",
    "    "
   ]
  },
  {
   "cell_type": "markdown",
   "id": "d13296a2-5f62-46a7-87f7-4689430b7565",
   "metadata": {},
   "source": [
    "### Q7:State a Character used to give single line comment in python?\n",
    "#### Ans: '#' (Hash) is used to give single line comment."
   ]
  },
  {
   "cell_type": "markdown",
   "id": "553b4359-f879-4afa-a810-ad8bfd0de3da",
   "metadata": {},
   "source": [
    "### Q8 : Mention a function which is used to find out the version of python?\n",
    "#### Ans:"
   ]
  },
  {
   "cell_type": "code",
   "execution_count": 8,
   "id": "67fa1958-ca52-45f5-ba7a-7fa4b002b0bc",
   "metadata": {},
   "outputs": [
    {
     "name": "stdout",
     "output_type": "stream",
     "text": [
      "3.10.8 | packaged by conda-forge | (main, Nov 22 2022, 08:26:04) [GCC 10.4.0]\n"
     ]
    }
   ],
   "source": [
    "import sys\n",
    "print(sys.version)"
   ]
  },
  {
   "cell_type": "markdown",
   "id": "887df32a-1873-4939-83d8-4e34ccd58ffd",
   "metadata": {},
   "source": [
    "### Q9:Python is support creation of anonymous function at runtime using a construct  called.......\n",
    "#### Ans:Lambda"
   ]
  },
  {
   "cell_type": "markdown",
   "id": "98482fd9-dc34-4f37-93e0-e3790db53470",
   "metadata": {},
   "source": [
    "### Q10: What does pip stand for in python?\n",
    "#### Ans: Preferred Installer Program"
   ]
  },
  {
   "cell_type": "markdown",
   "id": "24666e5d-2b39-416d-9cfa-705bd5d4802c",
   "metadata": {},
   "source": [
    "### Q11:Mention few in built functions in python?\n",
    "#### Ans: bin(),type(),id(),int(),str(),bool()"
   ]
  },
  {
   "cell_type": "markdown",
   "id": "2aa31983-b002-4b02-84ec-544362e6d899",
   "metadata": {},
   "source": [
    "### Q12 : What is maximum possible lenght of identifier in python??\n",
    "#### Ans:The maximum possible length of an identifier in the Python language is 79 char."
   ]
  },
  {
   "cell_type": "markdown",
   "id": "abd5050f-f315-4bf2-b936-df831fa1f3ed",
   "metadata": {},
   "source": [
    "### Q13 :What are benifits of using python?\n",
    "Ans:\n",
    "\n",
    "1. Easy to Learn & Use While Coding\n",
    "2. Extensible Feature\n",
    "3. Interpreted Language\n",
    "4. Expressive Language\n",
    "5. Cross-Platform Portable Language\n",
    "6. Dynamic Memory Allocation\n",
    "7. Object-Oriented Language\n",
    "8. Open-Source Programming Language\n",
    "9. Large Standard Library\n",
    "10. Easy to Integrate\n",
    "11. Embeddable"
   ]
  },
  {
   "cell_type": "markdown",
   "id": "4fd63733-3d5b-4730-a42b-3acb184902f3",
   "metadata": {},
   "source": [
    "### Q14 : How  is memory managed in python?\n",
    "#### Ans: All things in python are objects. All the datatypes, functions, etc get automatically converted to the object data type and get stored in the heap memory. The references to those are stored in the stack memory. There are 2 types of memory allocation in python. \n",
    "    1.Static memory allocation\n",
    "        e.g list1 = [\"a\", \"b\", \"c\"]\n",
    "            print(list1)\n",
    "    2.Dynamic memory allocation\n",
    "        list1 = []\n",
    "        list1.append(\"a\")\n",
    "        list1.append(\"b\")\n",
    "        print(list1)\n",
    "        \n",
    "In above example in static allocation list is already decided so its memory is already decided but in  Dynamic we have empty list and with append function we are allocating the new memory to the list.\n",
    "\n",
    "Reference counting:Reference counting in python is used to keep track of the number of times an object is used in the program. \n",
    "\n",
    "e.g 1  a=\"Mango\"\n",
    "    b=a\n",
    "    del b\n",
    "e.g 2 a=\"Mango\"\n",
    "    b=a\n",
    "    del a\n",
    "In python when there are two variables with the same values, instead of creating two objects, python reference the second object to the first object. So in cases of multiple variables with the same values, a lot of memory can be saved.\n",
    "In example 1 we have one value at the end as we delete b which is referering value of a variable\n",
    "In example 2 we have zero value at the end as we have deleted the variable a which is reference by b so both gets deleted.\n",
    "\n",
    "Garbage Collector :When the reference count of an object becomes zero, it gets collected by the garbage collector. The garbage collector is an inbuilt module in python. This ensures that the unused memory is retained and used by the other objects. "
   ]
  },
  {
   "cell_type": "markdown",
   "id": "ce336232-bb7e-4716-9b5b-633ce3b19286",
   "metadata": {},
   "source": [
    "### Q15:How to install python an window and set the a vriable path?\n",
    "#### Ans:"
   ]
  },
  {
   "cell_type": "markdown",
   "id": "98160e51-1cf3-404c-9a24-1355ad598946",
   "metadata": {},
   "source": [
    "#### Ans:This is URL from where u can download the python for window \"https://www.python.org/downloads/windows/\" By default path is set to \"C:\\Users\\cypri\\AppData\\Local\\Programs\\Python\" but we can change it by setting path in the environment variable of sysstem properties."
   ]
  },
  {
   "cell_type": "markdown",
   "id": "0aa3f05e-19b6-41c9-a831-c740791a4ada",
   "metadata": {},
   "source": [
    "### Q16: Is Indentation requiered in python??\n",
    "#### Ans: Indentation is a very important concept of Python because without proper indenting, you will end up seeing IndentationError.Your code will not get compiled"
   ]
  },
  {
   "cell_type": "code",
   "execution_count": null,
   "id": "b9e08dd3-c7b9-4029-833f-26335f0b12cc",
   "metadata": {},
   "outputs": [],
   "source": []
  },
  {
   "cell_type": "code",
   "execution_count": null,
   "id": "0d0dce7d-9c9c-4b70-80f2-57a4843b2960",
   "metadata": {},
   "outputs": [],
   "source": []
  },
  {
   "cell_type": "code",
   "execution_count": null,
   "id": "734bbff0-d036-493d-87d4-9045114a7dae",
   "metadata": {},
   "outputs": [],
   "source": []
  },
  {
   "cell_type": "code",
   "execution_count": null,
   "id": "bd5e6696-82d0-4a4c-bf76-d62432110981",
   "metadata": {},
   "outputs": [],
   "source": []
  },
  {
   "cell_type": "code",
   "execution_count": null,
   "id": "5c9f3589-e0c7-49e6-b2a8-c1b4855dd969",
   "metadata": {},
   "outputs": [],
   "source": []
  },
  {
   "cell_type": "code",
   "execution_count": null,
   "id": "9db72716-fc45-4e14-9ddf-bb27b2ed2530",
   "metadata": {},
   "outputs": [],
   "source": []
  },
  {
   "cell_type": "code",
   "execution_count": null,
   "id": "eb8fa037-7f7b-4290-905b-c6c6f3792db0",
   "metadata": {},
   "outputs": [],
   "source": []
  },
  {
   "cell_type": "code",
   "execution_count": null,
   "id": "434d7552-d95d-4a4d-a503-01e2f5b0e72b",
   "metadata": {},
   "outputs": [],
   "source": []
  },
  {
   "cell_type": "code",
   "execution_count": null,
   "id": "fadb0aff-4b3e-4aca-aef2-eb5c08557dc8",
   "metadata": {},
   "outputs": [],
   "source": []
  },
  {
   "cell_type": "code",
   "execution_count": null,
   "id": "88e9603b-39b1-43c3-9c9b-6d68b184af1a",
   "metadata": {},
   "outputs": [],
   "source": []
  },
  {
   "cell_type": "code",
   "execution_count": null,
   "id": "c7e6c902-3d8b-4dd1-b8dd-331f627abe70",
   "metadata": {},
   "outputs": [],
   "source": []
  },
  {
   "cell_type": "code",
   "execution_count": null,
   "id": "add8d7f4-ab2b-4163-b863-887a12280c24",
   "metadata": {},
   "outputs": [],
   "source": []
  },
  {
   "cell_type": "markdown",
   "id": "c68450c8-d332-409e-8503-fc67259a5d9f",
   "metadata": {},
   "source": []
  }
 ],
 "metadata": {
  "kernelspec": {
   "display_name": "Python 3 (ipykernel)",
   "language": "python",
   "name": "python3"
  },
  "language_info": {
   "codemirror_mode": {
    "name": "ipython",
    "version": 3
   },
   "file_extension": ".py",
   "mimetype": "text/x-python",
   "name": "python",
   "nbconvert_exporter": "python",
   "pygments_lexer": "ipython3",
   "version": "3.10.8"
  }
 },
 "nbformat": 4,
 "nbformat_minor": 5
}
