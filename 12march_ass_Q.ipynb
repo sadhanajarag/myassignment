{
 "cells": [
  {
   "cell_type": "markdown",
   "id": "21730584",
   "metadata": {},
   "source": [
    "## Q1. Calculate the 95% confidence interval for a sample of data with a mean of 50 and a standard deviation of 5 using Python. Interpret the results."
   ]
  },
  {
   "cell_type": "code",
   "execution_count": 4,
   "id": "5f4c9591",
   "metadata": {},
   "outputs": [
    {
     "name": "stdout",
     "output_type": "stream",
     "text": [
      "(40.200180077299734, 59.799819922700266)\n"
     ]
    }
   ],
   "source": [
    "from scipy import stats\n",
    "import numpy as np\n",
    "\n",
    "mean = 50\n",
    "sigma = 5\n",
    "#alpha = 0.05 so critical value for two tailed = 1.96\n",
    "CI=0.95\n",
    "\n",
    "\n",
    "mean, sigma = 50,5\n",
    "\n",
    "conf_int = stats.norm.interval(0.95, loc=mean, \n",
    "    scale=sigma)\n",
    "print(conf_int)"
   ]
  },
  {
   "cell_type": "markdown",
   "id": "97124fb5",
   "metadata": {},
   "source": [
    "## Q2. Conduct a chi-square goodness of fit test to determine if the distribution of colors of M&Ms in a bag matches the expected distribution of 20% blue, 20% orange, 20% green, 10% yellow, 10% red, and 20%  brown. Use Python to perform the test with a significance level of 0.05."
   ]
  },
  {
   "cell_type": "code",
   "execution_count": null,
   "id": "ef758a64",
   "metadata": {},
   "outputs": [],
   "source": [
    "#Step 1: Define the hypotheses.\n",
    "#We will perform the Chi-Square goodness of fit test using the following hypotheses:\n",
    "\n",
    "H0:The distribution of colors of M&Ms in a bag matches the expected distribution\n",
    "H1::The distribution of colors of M&Ms in a bag does not matches the expected distribution"
   ]
  },
  {
   "cell_type": "code",
   "execution_count": null,
   "id": "f7ce2ea4",
   "metadata": {},
   "outputs": [],
   "source": [
    "# step 2:\n",
    "We use the following formula to calculate the Chi-Square test statistic X2:\n",
    "\n",
    "X2 = Σ(O-E)2 / E\n",
    "\n",
    "where:\n",
    "\n",
    "Σ:  “sum”\n",
    "O: observed value\n",
    "E: expected value"
   ]
  },
  {
   "cell_type": "code",
   "execution_count": null,
   "id": "99561854",
   "metadata": {},
   "outputs": [],
   "source": [
    "Step 3: Calculate (O-E)2 / E for each color\n",
    "#blue 0.2\n",
    "#orange 0.2\n",
    "#green 0.2\n",
    "#yellow 0.1\n",
    "#red 0.1\n",
    "# brown 0.2"
   ]
  },
  {
   "cell_type": "code",
   "execution_count": 29,
   "id": "b8d9fd68",
   "metadata": {},
   "outputs": [
    {
     "name": "stdout",
     "output_type": "stream",
     "text": [
      "chi square value determined by formula : 8.00722738335216\n",
      "chi_square_test_statistic is : 8.00722738335216\n",
      "p_value : 0.15583776186026865\n",
      "Chi sqare critical value : 11.070497693516351\n"
     ]
    }
   ],
   "source": [
    "# importing packages\n",
    "import scipy.stats as stats\n",
    "import numpy as np\n",
    "  \n",
    "# no of hours a student studies\n",
    "# in a week vs expected no of hours\n",
    "observed = [20.00,20.00,20.00,20.00,10.00,10.00]\n",
    "expected = [16.67, 16.67, 16.67, 16.65, 16.67,16.67]\n",
    "  \n",
    "# determining chi square goodness of fit using formula\n",
    "chi_square_test_statistic1 = 0\n",
    "for i in range(len(observed)):\n",
    "    chi_square_test_statistic1 = chi_square_test_statistic1 + \\\n",
    "        (np.square(observed[i]-expected[i]))/expected[i]\n",
    "\n",
    "print('chi square value determined by formula : ' +\n",
    "      str(chi_square_test_statistic1))\n",
    "   \n",
    "    \n",
    "#chi-Square Goodness of Fit Test by scipy library\n",
    "chi_square_test_statistic, p_value = stats.chisquare(\n",
    "    observed, expected)\n",
    "  \n",
    "# chi square test statistic and p value\n",
    "print('chi_square_test_statistic is : ' +\n",
    "      str(chi_square_test_statistic))\n",
    "print('p_value : ' + str(p_value))\n",
    "\n",
    "\n",
    "# find Chi-Square critical value\n",
    "print(\"Chi sqare critical value :\",stats.chi2.ppf(1-0.05, df=5))"
   ]
  },
  {
   "cell_type": "code",
   "execution_count": null,
   "id": "72ca489c",
   "metadata": {},
   "outputs": [],
   "source": [
    "Step 3: calculate chi square statastics \n",
    "x2=(20-16.67)/16.67+(20-16.67)/16.67+(20-16.67)/16.67+(20-16.67)/16.67+(10-16.67)/16.67+(10-16.67)/16.67\n",
    "x2=5.337+2.668\n",
    "x2=8.0056"
   ]
  },
  {
   "cell_type": "code",
   "execution_count": null,
   "id": "3e07f4fd",
   "metadata": {},
   "outputs": [],
   "source": [
    "#here we have alpha = 0.05\n",
    "and df = n-1\n",
    "so from chi square table we got the value of df=5 and alpha =0.05 =11.071"
   ]
  },
  {
   "cell_type": "code",
   "execution_count": 25,
   "id": "4c99c4f6",
   "metadata": {},
   "outputs": [
    {
     "name": "stdout",
     "output_type": "stream",
     "text": [
      "11.070497693516351\n"
     ]
    }
   ],
   "source": [
    "# find Chi-Square critical value\n",
    "print(stats.chi2.ppf(1-0.05, df=5))"
   ]
  },
  {
   "cell_type": "code",
   "execution_count": 32,
   "id": "0653336a",
   "metadata": {},
   "outputs": [
    {
     "name": "stdout",
     "output_type": "stream",
     "text": [
      "Failed to reject the null hypothesis\n"
     ]
    }
   ],
   "source": [
    "calculated_value = 8.0056\n",
    "the_value_from_chart = 11.070497693516351\n",
    "if calculated_value <= the_value_from_chart:\n",
    "    print(\"Failed to reject the null hypothesis\")\n",
    "else:\n",
    "    print(\"Reject the null hypothesis\")\n",
    "    "
   ]
  },
  {
   "cell_type": "code",
   "execution_count": 33,
   "id": "f571e5f1",
   "metadata": {},
   "outputs": [
    {
     "name": "stdout",
     "output_type": "stream",
     "text": [
      "Failed to reject null hypothesis\n"
     ]
    }
   ],
   "source": [
    "if p_value<=0.05:\n",
    "    print(\"Reject the null hypothesis\")\n",
    "else:\n",
    "    print(\"Failed to reject null hypothesis\")"
   ]
  },
  {
   "cell_type": "code",
   "execution_count": null,
   "id": "516e4c79",
   "metadata": {},
   "outputs": [],
   "source": [
    "Inference :The distribution of colors of M&Ms in a bag matches the expected distribution"
   ]
  },
  {
   "cell_type": "markdown",
   "id": "fd9a1dd5",
   "metadata": {},
   "source": [
    "## Q3:## Q3. Use Python to calculate the chi-square statistic and p-value for a contingency table with the following\n",
    "## data:"
   ]
  },
  {
   "cell_type": "code",
   "execution_count": null,
   "id": "fe5468dc",
   "metadata": {},
   "outputs": [],
   "source": [
    "                    Group A             Group B\n",
    "\n",
    "Outcome 1                 20                   15\n",
    "Outcome 2                 10                   25\n",
    "Outcome 3                 15                   20"
   ]
  },
  {
   "cell_type": "markdown",
   "id": "908f65bc",
   "metadata": {},
   "source": [
    "## Interpret the results of the test."
   ]
  },
  {
   "cell_type": "code",
   "execution_count": null,
   "id": "67e4f822",
   "metadata": {},
   "outputs": [],
   "source": [
    "#Step 1: Define the hypotheses.\n",
    "#We will perform the Chi-Square Chi-Square Test of Independence using the following hypotheses:\n",
    "\n",
    "H0:There is no relation between two variable.\n",
    "H1::There is relation between two variable"
   ]
  },
  {
   "cell_type": "code",
   "execution_count": null,
   "id": "b6874a82",
   "metadata": {},
   "outputs": [],
   "source": [
    "# step 2:\n",
    "We use the following formula to calculate the Chi-Square test statistic X2:\n",
    "\n",
    "X2 = Σ(O-E)2 / E\n",
    "\n",
    "where:\n",
    "\n",
    "Σ:  “sum”\n",
    "O: observed value\n",
    "E: expected value"
   ]
  },
  {
   "cell_type": "code",
   "execution_count": null,
   "id": "f4c16ef1",
   "metadata": {},
   "outputs": [],
   "source": [
    "Step 3:\n",
    "    We dont have expected value for each group so calculate that first\n",
    "    \n",
    "    \n",
    "expected value =R*C/n\n",
    "R=row total\n",
    "C=coloumn total\n",
    "n= sum of row n column"
   ]
  },
  {
   "cell_type": "code",
   "execution_count": null,
   "id": "999a34d3",
   "metadata": {},
   "outputs": [],
   "source": [
    "                        Group A             Group B    Row Total\n",
    "\n",
    "Outcome 1                 20                   15       35\n",
    "Outcome 2                 10                   25       35\n",
    "Outcome 3                 15                   20       35\n",
    "column total              45                   60       105"
   ]
  },
  {
   "cell_type": "code",
   "execution_count": null,
   "id": "52daba19",
   "metadata": {},
   "outputs": [],
   "source": [
    "Expected oucome of 1 for Group A = 35*45/105 = 15\n",
    "Expected oucome of 1 for Group B = 35*60/105 = 20\n",
    "Expected oucome of 2 for Group A  = 35*45/105 = 15\n",
    "Expected oucome of 2 for Group B = 35*60/105 = 20\n",
    "Expected oucome of 3 for Group A = 35*45/105 = 15\n",
    "Expected oucome of 3 for Group B = 35*60/105 = 20"
   ]
  },
  {
   "cell_type": "code",
   "execution_count": null,
   "id": "f1f23b52",
   "metadata": {},
   "outputs": [],
   "source": [
    "Expected Value Table\n",
    "\n",
    "                        Group A             Group B    Row Total\n",
    "\n",
    "Outcome 1                 15(20)               20(15)       35\n",
    "Outcome 2                 15(10)               20(25)       35\n",
    "Outcome 3                 15(15)               20(20)       35\n",
    "column total              45                   60           105"
   ]
  },
  {
   "cell_type": "code",
   "execution_count": null,
   "id": "83a0cf7b",
   "metadata": {},
   "outputs": [],
   "source": [
    "Step 4:\n",
    "    \n",
    "X2 = Σ(O-E)2 / E\n",
    "\n",
    "X**2= (20-15)**2/15+(15-20)**2/20+(10-15)**2/15+(25-20)**2/20+(15-15)**2/15+(20-20)**2/20"
   ]
  },
  {
   "cell_type": "code",
   "execution_count": 1,
   "id": "673a60b6",
   "metadata": {},
   "outputs": [
    {
     "data": {
      "text/plain": [
       "5.833333333333334"
      ]
     },
     "execution_count": 1,
     "metadata": {},
     "output_type": "execute_result"
    }
   ],
   "source": [
    "25/20+25/20+25/15+25/15"
   ]
  },
  {
   "cell_type": "code",
   "execution_count": null,
   "id": "67e7c72d",
   "metadata": {},
   "outputs": [],
   "source": [
    "X2=5.83"
   ]
  },
  {
   "cell_type": "code",
   "execution_count": null,
   "id": "a1f70966",
   "metadata": {},
   "outputs": [],
   "source": [
    "df = 2\n",
    "#from the table we found that area between df =2 and s2 is 5.83 lies between x2 = 4.605 and x2=5.991 \n",
    "#i.e alpha value between 0.05< area < 0.1\n",
    "Inference :  means p value > 0.05 by table"
   ]
  },
  {
   "cell_type": "code",
   "execution_count": null,
   "id": "ee0abdc1",
   "metadata": {},
   "outputs": [],
   "source": [
    "#by python script .\n"
   ]
  },
  {
   "cell_type": "code",
   "execution_count": 2,
   "id": "bcd9d2ac",
   "metadata": {},
   "outputs": [],
   "source": [
    "data = [[20, 10, 15],\n",
    "        [15, 25, 20]]"
   ]
  },
  {
   "cell_type": "code",
   "execution_count": 3,
   "id": "35a61db9",
   "metadata": {},
   "outputs": [
    {
     "data": {
      "text/plain": [
       "(5.833333333333334,\n",
       " 0.05411376622282158,\n",
       " 2,\n",
       " array([[15., 15., 15.],\n",
       "        [20., 20., 20.]]))"
      ]
     },
     "execution_count": 3,
     "metadata": {},
     "output_type": "execute_result"
    }
   ],
   "source": [
    "import scipy.stats as stats\n",
    "\n",
    "#perform the Chi-Square Test of Independence\n",
    "stats.chi2_contingency(data)"
   ]
  },
  {
   "cell_type": "code",
   "execution_count": null,
   "id": "83dc96e6",
   "metadata": {},
   "outputs": [],
   "source": [
    "The way to interpret the output is as follows:\n",
    "Chi-Square Test Statistic: 0.864\n",
    "p-value: 0.649\n",
    "Degrees of freedom: 2 (calculated as #rows-1 * #columns-1)\n",
    "Array: The last array displays the expected values for each cell in the contingency table."
   ]
  },
  {
   "cell_type": "code",
   "execution_count": 4,
   "id": "bacc3dc4",
   "metadata": {},
   "outputs": [
    {
     "name": "stdout",
     "output_type": "stream",
     "text": [
      "Failed to reject null hypothesis\n"
     ]
    }
   ],
   "source": [
    "p_value =0.649\n",
    "if p_value<=0.05:\n",
    "    print(\"Reject the null hypothesis\")\n",
    "else:\n",
    "    print(\"Failed to reject null hypothesis\")"
   ]
  },
  {
   "cell_type": "code",
   "execution_count": null,
   "id": "09c31185",
   "metadata": {},
   "outputs": [],
   "source": [
    "Inference : There is no relation between two variable."
   ]
  },
  {
   "cell_type": "markdown",
   "id": "7e085e0d",
   "metadata": {},
   "source": [
    "## Q4. A study of the prevalence of smoking in a population of 500 individuals found that 60 individuals smoked. Use Python to calculate the 95% confidence interval for the true proportion of individuals in the population who smoke."
   ]
  },
  {
   "cell_type": "code",
   "execution_count": 6,
   "id": "1b047c49",
   "metadata": {},
   "outputs": [],
   "source": [
    "total_inv = 500\n",
    "smoke_inv = 60\n",
    "CI = 95\n",
    "alpha =0.05"
   ]
  },
  {
   "cell_type": "code",
   "execution_count": null,
   "id": "066207ad",
   "metadata": {},
   "outputs": [],
   "source": [
    "Confidence Interval = p  +/-  z*√p(1-p) / n"
   ]
  },
  {
   "cell_type": "code",
   "execution_count": null,
   "id": "cdb4e04b",
   "metadata": {},
   "outputs": [],
   "source": [
    "where:\n",
    "\n",
    "p: sample proportion\n",
    "z: the chosen z-value\n",
    "n: sample size\n",
    "\n",
    "Confidence Level\tz-value\n",
    "0.90\t1.645\n",
    "0.95\t1.96"
   ]
  },
  {
   "cell_type": "code",
   "execution_count": 13,
   "id": "cdc2064c",
   "metadata": {},
   "outputs": [
    {
     "name": "stdout",
     "output_type": "stream",
     "text": [
      "0.12\n"
     ]
    }
   ],
   "source": [
    "p=smoke_inv/total_inv\n",
    "print(p)"
   ]
  },
  {
   "cell_type": "code",
   "execution_count": null,
   "id": "393b015b",
   "metadata": {},
   "outputs": [],
   "source": [
    "z=0.5=alpha so alpha/2=0.025 and z value for 0.025 =+/-1.96"
   ]
  },
  {
   "cell_type": "code",
   "execution_count": 20,
   "id": "b6e81de8",
   "metadata": {},
   "outputs": [
    {
     "name": "stdout",
     "output_type": "stream",
     "text": [
      "Confidence interval :  0.09151586546865079 0.1484841345313492\n"
     ]
    }
   ],
   "source": [
    "import math \n",
    "\n",
    "lower_Confidence_Interval=p-1.96*(math.sqrt((p*(1-p))/total_inv))\n",
    "upper_Confidence_Interval=p+1.96*(math.sqrt((p*(1-p))/total_inv))\n",
    "print (\"Confidence interval : \",lower_Confidence_Interval , upper_Confidence_Interval)"
   ]
  },
  {
   "cell_type": "code",
   "execution_count": 21,
   "id": "f010a854",
   "metadata": {},
   "outputs": [
    {
     "name": "stdout",
     "output_type": "stream",
     "text": [
      "Confidence interval :  9.15158654686508 14.84841345313492\n"
     ]
    }
   ],
   "source": [
    "print (\"Confidence interval : \",lower_Confidence_Interval*100 , upper_Confidence_Interval*100)"
   ]
  },
  {
   "cell_type": "code",
   "execution_count": null,
   "id": "6949d0db",
   "metadata": {},
   "outputs": [],
   "source": [
    "#Interpretation:\n",
    "\n",
    "We estimate with 95% confidence that between 9.15% and 14.84.4% of true proportion of individuals in the population who smoke."
   ]
  },
  {
   "cell_type": "code",
   "execution_count": 17,
   "id": "937bb03b",
   "metadata": {},
   "outputs": [],
   "source": [
    "#(math.sqrt((p*(1-p))/total_inv))*1.96 + p"
   ]
  },
  {
   "cell_type": "markdown",
   "id": "5074f463",
   "metadata": {},
   "source": [
    "## Q5. Calculate the 90% confidence interval for a sample of data with a mean of 75 and a standard deviation of 12 using Python. Interpret the results."
   ]
  },
  {
   "cell_type": "code",
   "execution_count": null,
   "id": "37a228e0",
   "metadata": {},
   "outputs": [],
   "source": [
    "CI=90\n",
    "alpha = 0.1\n",
    "xbar =  75\n",
    "sigma = 12"
   ]
  },
  {
   "cell_type": "code",
   "execution_count": null,
   "id": "572b5881",
   "metadata": {},
   "outputs": [],
   "source": [
    "Confidence Interval = x  +/-  z*(s/√n)"
   ]
  },
  {
   "cell_type": "code",
   "execution_count": 23,
   "id": "204fc668",
   "metadata": {},
   "outputs": [
    {
     "name": "stdout",
     "output_type": "stream",
     "text": [
      "(73.49206383773911, 76.50793616226089)\n"
     ]
    }
   ],
   "source": [
    "# By formula scipy\n",
    "\n",
    "from scipy import stats\n",
    "import numpy as np\n",
    "mean, sigma = 75,12\n",
    "\n",
    "conf_int = stats.norm.interval(0.1, loc=mean, \n",
    "    scale=sigma)\n",
    "print(conf_int)"
   ]
  },
  {
   "cell_type": "code",
   "execution_count": null,
   "id": "c7b60d3e",
   "metadata": {},
   "outputs": [],
   "source": [
    "#Interpretation:\n",
    "\n",
    "We estimate with 90% confidence that between sample data between 73.49206383773911 and 76.50793616226089."
   ]
  },
  {
   "cell_type": "markdown",
   "id": "41307fad",
   "metadata": {},
   "source": [
    "## Q6. Use Python to plot the chi-square distribution with 10 degrees of freedom. Label the axes and shade the area corresponding to a chi-square statistic of 15."
   ]
  },
  {
   "cell_type": "code",
   "execution_count": 37,
   "id": "35dbbf81",
   "metadata": {},
   "outputs": [
    {
     "name": "stdout",
     "output_type": "stream",
     "text": [
      "pdf : 0.03645819822751832\n",
      "cdf : 0.8679381437122794\n"
     ]
    }
   ],
   "source": [
    "import numpy as np\n",
    "from scipy.stats import chi2\n",
    "import matplotlib.pyplot as plt\n",
    "print(\"pdf :\",chi2.pdf(15,10))\n",
    "print(\"cdf :\", chi2.cdf(15,10))\n",
    "x = np.arange(0,20,0.001)\n",
    "#plt.plot(chi2.pdf(,10))\n",
    "#plt.show()"
   ]
  },
  {
   "cell_type": "code",
   "execution_count": 79,
   "id": "972244ab",
   "metadata": {},
   "outputs": [
    {
     "data": {
      "image/png": "[encoded data removed]",
      "text/plain": [
       "<Figure size 640x480 with 1 Axes>"
      ]
     },
     "metadata": {},
     "output_type": "display_data"
    }
   ],
   "source": [
    "x = np.arange(0,30,0.001)\n",
    "plt.plot(x, chi2.pdf(x, df=10))\n",
    "plt.fill_between(x,chi2.pdf(x, df=10),color='r', where =(x>15))\n",
    "plt.show()"
   ]
  },
  {
   "cell_type": "markdown",
   "id": "37ea5349",
   "metadata": {},
   "source": [
    "## Q7. A random sample of 1000 people was asked if they preferred Coke or Pepsi. Of the sample, 520 preferred Coke. Calculate a 99% confidence interval for the true proportion of people in the population who prefer Coke."
   ]
  },
  {
   "cell_type": "code",
   "execution_count": 82,
   "id": "5aa76cc0",
   "metadata": {},
   "outputs": [],
   "source": [
    "total_sample = 1000\n",
    "coke = 520\n",
    "#pepsi = 1000-520\n",
    "pepsi=480\n",
    "CI = 99\n",
    "alpha =0.01"
   ]
  },
  {
   "cell_type": "code",
   "execution_count": null,
   "id": "5fa8dbcf",
   "metadata": {},
   "outputs": [],
   "source": [
    "Confidence Interval = p  +/-  z*√p(1-p) / n"
   ]
  },
  {
   "cell_type": "code",
   "execution_count": null,
   "id": "f87501d7",
   "metadata": {},
   "outputs": [],
   "source": [
    "where:\n",
    "\n",
    "p: sample proportion\n",
    "z: the chosen z-value\n",
    "n: sample size\n",
    "\n",
    "Confidence Level\tz-value\n",
    "0.90\t1.645\n",
    "0.95\t1.96\n",
    "0.99\t2.58"
   ]
  },
  {
   "cell_type": "code",
   "execution_count": 84,
   "id": "cc35d631",
   "metadata": {},
   "outputs": [
    {
     "name": "stdout",
     "output_type": "stream",
     "text": [
      "0.52\n"
     ]
    }
   ],
   "source": [
    "p=coke/total_sample\n",
    "print(p)"
   ]
  },
  {
   "cell_type": "code",
   "execution_count": null,
   "id": "60625883",
   "metadata": {},
   "outputs": [],
   "source": [
    "z=0.01=alpha so alpha/2=0.005 and z value for 0.005 =+/-2.58"
   ]
  },
  {
   "cell_type": "code",
   "execution_count": 85,
   "id": "c4578a95",
   "metadata": {},
   "outputs": [
    {
     "name": "stdout",
     "output_type": "stream",
     "text": [
      "Confidence interval :  0.4792392659536166 0.5607607340463834\n"
     ]
    }
   ],
   "source": [
    "import math \n",
    "\n",
    "lower_Confidence_Interval=p-2.58*(math.sqrt((p*(1-p))/total_sample))\n",
    "upper_Confidence_Interval=p+2.58*(math.sqrt((p*(1-p))/total_sample))\n",
    "print (\"Confidence interval : \",lower_Confidence_Interval , upper_Confidence_Interval)"
   ]
  },
  {
   "cell_type": "code",
   "execution_count": 86,
   "id": "0b5257c3",
   "metadata": {},
   "outputs": [
    {
     "name": "stdout",
     "output_type": "stream",
     "text": [
      "Confidence interval :  47.92392659536166 56.076073404638336\n"
     ]
    }
   ],
   "source": [
    "print (\"Confidence interval : \",lower_Confidence_Interval*100 , upper_Confidence_Interval*100)"
   ]
  },
  {
   "cell_type": "code",
   "execution_count": null,
   "id": "a2277229",
   "metadata": {},
   "outputs": [],
   "source": [
    "#Interpretation:\n",
    "\n",
    "We estimate with 99% confidence that between 47.923% and 56.076% of true proportion of individuals who preffer coke."
   ]
  },
  {
   "cell_type": "code",
   "execution_count": 87,
   "id": "8d995a1a",
   "metadata": {},
   "outputs": [
    {
     "name": "stdout",
     "output_type": "stream",
     "text": [
      "Confidence interval :  0.43923926595361656 0.5207607340463833\n"
     ]
    }
   ],
   "source": [
    "#import math \n",
    "\n",
    "#lower_Confidence_Interval=0.48-2.58*(math.sqrt((0.48*(1-0.48))/total_sample))\n",
    "#upper_Confidence_Interval=0.48+2.58*(math.sqrt((0.48*(1-0.48))/total_sample))\n",
    "#print (\"Confidence interval : \",lower_Confidence_Interval , upper_Confidence_Interval)"
   ]
  },
  {
   "cell_type": "markdown",
   "id": "f72206ac",
   "metadata": {},
   "source": [
    "## Q8. A researcher hypothesizes that a coin is biased towards tails. They flip the coin 100 times and observe 45 tails. Conduct a chi-square goodness of fit test to determine if the observed frequencies match the expected frequencies of a fair coin. Use a significance level of 0.05."
   ]
  },
  {
   "cell_type": "code",
   "execution_count": null,
   "id": "07463371",
   "metadata": {},
   "outputs": [],
   "source": [
    "H0= coin is not towards tails i.e the coin is fair.\n",
    "H1= coin is biased towards tails"
   ]
  },
  {
   "cell_type": "code",
   "execution_count": 89,
   "id": "2b33fbf6",
   "metadata": {},
   "outputs": [],
   "source": [
    "n=100\n",
    "observed_tail=45\n",
    "observed_head=55\n",
    "expected_tail=50\n",
    "expected_head=50"
   ]
  },
  {
   "cell_type": "code",
   "execution_count": 90,
   "id": "99185e64",
   "metadata": {},
   "outputs": [
    {
     "name": "stdout",
     "output_type": "stream",
     "text": [
      "1.0\n"
     ]
    }
   ],
   "source": [
    "chi_square_statastic = (observed_tail-expected_tail)**2/expected_tail + (observed_head-expected_head)**2/expected_head\n",
    "print(chi_square_statastic)"
   ]
  },
  {
   "cell_type": "code",
   "execution_count": 93,
   "id": "f8723327",
   "metadata": {},
   "outputs": [
    {
     "name": "stdout",
     "output_type": "stream",
     "text": [
      "3.841458820694124\n"
     ]
    }
   ],
   "source": [
    "chi_squre_by_scipy=stats.chi2.ppf(1-0.05, df=1)\n",
    "print(chi_squre_by_scipy)"
   ]
  },
  {
   "cell_type": "code",
   "execution_count": 94,
   "id": "3b322826",
   "metadata": {},
   "outputs": [
    {
     "name": "stdout",
     "output_type": "stream",
     "text": [
      "Failed to Reject Null hypothesis\n"
     ]
    }
   ],
   "source": [
    "if chi_square_statastic>chi_squre_by_scipy:\n",
    "    print(\"Reject Null hypothesis\")\n",
    "else:\n",
    "    print(\"Failed to Reject Null hypothesis\")"
   ]
  },
  {
   "cell_type": "code",
   "execution_count": null,
   "id": "9467be85",
   "metadata": {},
   "outputs": [],
   "source": [
    "Inference :coin is not towards tails i.e the coin is fair"
   ]
  },
  {
   "cell_type": "markdown",
   "id": "b16ee6f1",
   "metadata": {},
   "source": [
    "## Q9. A study was conducted to determine if there is an association between smoking status (smoker or non-smoker) and lung cancer diagnosis (yes or no). The results are shown in the contingency table below.Conduct a chi-square test for independence to determine if there is a significant association between smoking status and lung cancer diagnosis.Use a significance level of 0.05."
   ]
  },
  {
   "cell_type": "code",
   "execution_count": null,
   "id": "00ade89e",
   "metadata": {},
   "outputs": [],
   "source": [
    "Lung Cancer: Yes           Lung Cancer: No\n",
    "\n",
    "Smoker       60              140\n",
    "Non-smoker    30              170\n"
   ]
  },
  {
   "cell_type": "code",
   "execution_count": null,
   "id": "74d060f7",
   "metadata": {},
   "outputs": [],
   "source": [
    "H0 : There is an association between smoking status (smoker or non-smoker) and lung cancer.\n",
    "H1 : There is no association between smoking status (smoker or non-smoker) and lung cancer."
   ]
  },
  {
   "cell_type": "code",
   "execution_count": 102,
   "id": "3cdbe9be",
   "metadata": {},
   "outputs": [],
   "source": [
    "data = [[60, 140],\n",
    "        [30, 170]]"
   ]
  },
  {
   "cell_type": "code",
   "execution_count": 103,
   "id": "695a9638",
   "metadata": {},
   "outputs": [
    {
     "data": {
      "text/plain": [
       "(12.057347670250895,\n",
       " 0.0005158863863703744,\n",
       " 1,\n",
       " array([[ 45., 155.],\n",
       "        [ 45., 155.]]))"
      ]
     },
     "execution_count": 103,
     "metadata": {},
     "output_type": "execute_result"
    }
   ],
   "source": [
    "import scipy.stats as stats\n",
    "\n",
    "#perform the Chi-Square Test of Independence\n",
    "stats.chi2_contingency(data)"
   ]
  },
  {
   "cell_type": "code",
   "execution_count": null,
   "id": "91aa8cd7",
   "metadata": {},
   "outputs": [],
   "source": [
    "The way to interpret the output is as follows:\n",
    "Chi-Square Test Statistic: 8.71566112986045\n",
    "p-value: 0.0031548798716941324\n",
    "Degrees of freedom: 1 (calculated as #rows-1 * #columns-1)\n",
    "Array: The last array displays the expected values for each cell in the contingency table."
   ]
  },
  {
   "cell_type": "code",
   "execution_count": 97,
   "id": "c3d6fa2b",
   "metadata": {},
   "outputs": [
    {
     "name": "stdout",
     "output_type": "stream",
     "text": [
      "Reject the null hypothesis\n"
     ]
    }
   ],
   "source": [
    "p_value =0.0031548798716941324\n",
    "if p_value<=0.05:\n",
    "    print(\"Reject the null hypothesis\")\n",
    "else:\n",
    "    print(\"Failed to reject null hypothesis\")"
   ]
  },
  {
   "cell_type": "code",
   "execution_count": null,
   "id": "066ae268",
   "metadata": {},
   "outputs": [],
   "source": [
    "Inference: There is an association between smoking status (smoker or non-smoker) and lung cancer."
   ]
  },
  {
   "cell_type": "markdown",
   "id": "216b1bb9",
   "metadata": {},
   "source": [
    "### By Hand calculation"
   ]
  },
  {
   "cell_type": "code",
   "execution_count": null,
   "id": "a7348a3a",
   "metadata": {},
   "outputs": [],
   "source": [
    "Step 3:\n",
    "    We dont have expected value for each group so calculate that first\n",
    "    \n",
    "    \n",
    "expected value =R*C/n\n",
    "R=row total\n",
    "C=coloumn total\n",
    "n= sum os row n column"
   ]
  },
  {
   "cell_type": "code",
   "execution_count": null,
   "id": "4d6f3246",
   "metadata": {},
   "outputs": [],
   "source": [
    "Lung Cancer: Yes           Lung Cancer: No    TotalRow\n",
    "\n",
    "Smoker       60              140             200\n",
    "Non-smoker    30              170            200\n",
    "Total column   90             310            400 "
   ]
  },
  {
   "cell_type": "code",
   "execution_count": null,
   "id": "277c1b86",
   "metadata": {},
   "outputs": [],
   "source": [
    "Expected smoker and lung cancer(yes) = 90*200/400 = 45\n",
    "Expected Non-smoker and  Lung Cancer: Yes = 90*200/400 = 45\n",
    "Expected smoker and Lung Cancer: No  = 200*310/400 = 155\n",
    "Expected Non-smoker and Lung Cancer: No = 200*310/400 = 155\n"
   ]
  },
  {
   "cell_type": "code",
   "execution_count": null,
   "id": "8e614466",
   "metadata": {},
   "outputs": [],
   "source": [
    "Expected Value :\n",
    "    \n",
    "       Lung Cancer: Yes           Lung Cancer: No    TotalRow\n",
    "\n",
    "Smoker           60  (45)                140  (155)            200\n",
    "Non-smoker       30   (45)               170   (155)           200\n",
    "Total column     90                   310             400 "
   ]
  },
  {
   "cell_type": "code",
   "execution_count": 105,
   "id": "2ebdb984",
   "metadata": {},
   "outputs": [
    {
     "name": "stdout",
     "output_type": "stream",
     "text": [
      "12.903225806451612\n"
     ]
    }
   ],
   "source": [
    "#Step 3: calculate chi square statastics \n",
    "X2 = ((60-45)**2/45)+((30-45)**2/45)+((140-155)**2/155)+((170-155)**2/155)\n",
    "print(X2)"
   ]
  },
  {
   "cell_type": "code",
   "execution_count": 101,
   "id": "a9433119",
   "metadata": {},
   "outputs": [
    {
     "name": "stdout",
     "output_type": "stream",
     "text": [
      "1\n"
     ]
    }
   ],
   "source": [
    "#here we have alpha = 0.05\n",
    "df = (2-1)*(2-1)=1\n",
    "print(df)\n",
    "so from chi square table we got the value of df=1 and alpha =0.05 =3.841\n",
    "X2_by_chi_sqaure_table=3.841"
   ]
  },
  {
   "cell_type": "code",
   "execution_count": null,
   "id": "23b524a6",
   "metadata": {},
   "outputs": [],
   "source": [
    "X2>The value of x2 get from chi square table\n",
    "12.90>3.841"
   ]
  },
  {
   "cell_type": "code",
   "execution_count": 107,
   "id": "826d10c4",
   "metadata": {},
   "outputs": [
    {
     "name": "stdout",
     "output_type": "stream",
     "text": [
      "Reject the null hypothesis\n"
     ]
    }
   ],
   "source": [
    "X2_by_chi_sqaure_table=3.841\n",
    "\n",
    "if X2>=X2_by_chi_sqaure_table:\n",
    "    print(\"Reject the null hypothesis\")\n",
    "else:\n",
    "    print(\"Failed to reject null hypothesis\")"
   ]
  },
  {
   "cell_type": "code",
   "execution_count": null,
   "id": "bf56f2b7",
   "metadata": {},
   "outputs": [],
   "source": [
    "Inference :There is an association between smoking status (smoker or non-smoker) and lung cancer."
   ]
  },
  {
   "cell_type": "markdown",
   "id": "3adac525",
   "metadata": {},
   "source": [
    "## Q10. A study was conducted to determine if the proportion of people who prefer milk chocolate, dark chocolate, or white chocolate is different in the U.S. versus the U.K. A random sample of 500 people from the U.S. and a random sample of 500 people from the U.K. were surveyed. The results are shown in the contingency table below. Conduct a chi-square test for independence to determine if there is a significant association between chocolate preference and country of origin.Use a significance level of 0.01."
   ]
  },
  {
   "cell_type": "code",
   "execution_count": null,
   "id": "2e955b17",
   "metadata": {},
   "outputs": [],
   "source": [
    "                             Milk Chocolate                      Dark Chocolate                    White Chocolate\n",
    "\n",
    "U.S. (n=500)                      200                               150                                150\n",
    "U.K. (n=500)                      225                                175                                 100"
   ]
  },
  {
   "cell_type": "code",
   "execution_count": null,
   "id": "22b0f49d",
   "metadata": {},
   "outputs": [],
   "source": [
    "H0 : There is significant association between chocolate preference and country of origin\n",
    "H1 : There is no significant association between chocolate preference and country of origin"
   ]
  },
  {
   "cell_type": "code",
   "execution_count": 108,
   "id": "6ab59418",
   "metadata": {},
   "outputs": [],
   "source": [
    "data = [[200, 150,150],\n",
    "        [225,175,100]]"
   ]
  },
  {
   "cell_type": "code",
   "execution_count": 109,
   "id": "e72ecdae",
   "metadata": {},
   "outputs": [
    {
     "data": {
      "text/plain": [
       "(13.393665158371041,\n",
       " 0.0012348168997745918,\n",
       " 2,\n",
       " array([[212.5, 162.5, 125. ],\n",
       "        [212.5, 162.5, 125. ]]))"
      ]
     },
     "execution_count": 109,
     "metadata": {},
     "output_type": "execute_result"
    }
   ],
   "source": [
    "import scipy.stats as stats\n",
    "\n",
    "#perform the Chi-Square Test of Independence\n",
    "stats.chi2_contingency(data)"
   ]
  },
  {
   "cell_type": "code",
   "execution_count": null,
   "id": "a74e864c",
   "metadata": {},
   "outputs": [],
   "source": [
    "The way to interpret the output is as follows:\n",
    "Chi-Square Test Statistic: 13.393665158371041\n",
    "p-value: 0.0012348168997745918\n",
    "Degrees of freedom: 2 (calculated as #rows-1 * #columns-1)\n",
    "Array: The last array displays the expected values for each cell in the contingency table."
   ]
  },
  {
   "cell_type": "code",
   "execution_count": 110,
   "id": "ddd32221",
   "metadata": {},
   "outputs": [
    {
     "name": "stdout",
     "output_type": "stream",
     "text": [
      "Reject the null hypothesis\n"
     ]
    }
   ],
   "source": [
    "p_value =0.0012348168997745918\n",
    "if p_value<=0.01:\n",
    "    print(\"Reject the null hypothesis\")\n",
    "else:\n",
    "    print(\"Failed to reject null hypothesis\")"
   ]
  },
  {
   "cell_type": "code",
   "execution_count": null,
   "id": "3a3c5ad2",
   "metadata": {},
   "outputs": [],
   "source": [
    "Inference: There is significant association between chocolate preference and country of origin"
   ]
  },
  {
   "cell_type": "markdown",
   "id": "0a5257bd",
   "metadata": {},
   "source": [
    "## Q11. A random sample of 30 people was selected from a population with an unknown mean and standard deviation. The sample mean was found to be 72 and the sample standard deviation was found to be 10.Conduct a hypothesis test to determine if the population mean is significantly different from 70. Use a significance level of 0.05."
   ]
  },
  {
   "cell_type": "code",
   "execution_count": null,
   "id": "a20b5d84",
   "metadata": {},
   "outputs": [],
   "source": [
    "H0 :population mean != 70\n",
    "H1 : populatipn mean >70\n",
    "H1 : populatipn mean <70\n",
    "H1= populatipn mean =70"
   ]
  },
  {
   "cell_type": "code",
   "execution_count": null,
   "id": "7973dd57",
   "metadata": {},
   "outputs": [],
   "source": [
    "n=30\n",
    "xbar=72\n",
    "sigma=10\n",
    "u=70\n",
    "alpha=0.05"
   ]
  },
  {
   "cell_type": "code",
   "execution_count": 112,
   "id": "d2bd3e35",
   "metadata": {},
   "outputs": [
    {
     "name": "stdout",
     "output_type": "stream",
     "text": [
      "1.0954451150103321\n"
     ]
    }
   ],
   "source": [
    "import numpy as np\n",
    "z_cal = (72-70)/(10/np.sqrt(30))\n",
    "print(z_cal)"
   ]
  },
  {
   "cell_type": "code",
   "execution_count": 113,
   "id": "f0d4e10a",
   "metadata": {},
   "outputs": [
    {
     "name": "stdout",
     "output_type": "stream",
     "text": [
      "0.27332167829229814\n"
     ]
    }
   ],
   "source": [
    "#two tail\n",
    "p_value=2*stats.norm.sf(z_cal)\n",
    "print(p_value)"
   ]
  },
  {
   "cell_type": "code",
   "execution_count": 114,
   "id": "de625e82",
   "metadata": {},
   "outputs": [
    {
     "name": "stdout",
     "output_type": "stream",
     "text": [
      "Failed to reject Null Hypothesis\n"
     ]
    }
   ],
   "source": [
    "if p_value<alpha:\n",
    "    print(\"Reject the Null hypothesis\")\n",
    "else :\n",
    "    print (\"Failed to reject Null Hypothesis\")\n"
   ]
  },
  {
   "cell_type": "code",
   "execution_count": null,
   "id": "8744d042",
   "metadata": {},
   "outputs": [],
   "source": [
    "Inference :population mean != 70"
   ]
  },
  {
   "cell_type": "code",
   "execution_count": 123,
   "id": "0a3e6f6a",
   "metadata": {},
   "outputs": [
    {
     "name": "stdout",
     "output_type": "stream",
     "text": [
      "0.13666083914614902\n"
     ]
    }
   ],
   "source": [
    "## right tail test\n",
    "\n",
    "p_value1 = 1-stats.norm.cdf(z_cal)\n",
    "print(p_value1)"
   ]
  },
  {
   "cell_type": "code",
   "execution_count": 119,
   "id": "57b1ce22",
   "metadata": {},
   "outputs": [
    {
     "name": "stdout",
     "output_type": "stream",
     "text": [
      "Failed to reject Null Hypothesis\n"
     ]
    }
   ],
   "source": [
    "if p_value1<alpha:\n",
    "    print(\"Reject the Null hypothesis\")\n",
    "else :\n",
    "    print (\"Failed to reject Null Hypothesis\")\n"
   ]
  },
  {
   "cell_type": "code",
   "execution_count": null,
   "id": "9b0ff95e",
   "metadata": {},
   "outputs": [],
   "source": [
    "Inference :population mean != 70"
   ]
  },
  {
   "cell_type": "code",
   "execution_count": 124,
   "id": "f07a1505",
   "metadata": {},
   "outputs": [
    {
     "name": "stdout",
     "output_type": "stream",
     "text": [
      "0.863339160853851\n"
     ]
    }
   ],
   "source": [
    "## Left tail test\n",
    "p_value2=stats.norm.cdf(z_cal)\n",
    "print(p_value2)"
   ]
  },
  {
   "cell_type": "code",
   "execution_count": 122,
   "id": "78cdf18b",
   "metadata": {},
   "outputs": [
    {
     "name": "stdout",
     "output_type": "stream",
     "text": [
      "Failed to reject Null Hypothesis\n"
     ]
    }
   ],
   "source": [
    "if p_value2<alpha:\n",
    "    print(\"Reject the Null hypothesis\")\n",
    "else :\n",
    "    print (\"Failed to reject Null Hypothesis\")\n"
   ]
  }
 ],
 "metadata": {
  "kernelspec": {
   "display_name": "Python 3 (ipykernel)",
   "language": "python",
   "name": "python3"
  },
  "language_info": {
   "codemirror_mode": {
    "name": "ipython",
    "version": 3
   },
   "file_extension": ".py",
   "mimetype": "text/x-python",
   "name": "python",
   "nbconvert_exporter": "python",
   "pygments_lexer": "ipython3",
   "version": "3.9.13"
  }
 },
 "nbformat": 4,
 "nbformat_minor": 5
}
