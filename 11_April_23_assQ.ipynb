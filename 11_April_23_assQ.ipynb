{
 "cells": [
  {
   "cell_type": "markdown",
   "id": "c173699d",
   "metadata": {},
   "source": [
    "### Q1. What is an ensemble technique in machine learning?"
   ]
  },
  {
   "cell_type": "code",
   "execution_count": 3,
   "id": "71037ff2",
   "metadata": {},
   "outputs": [
    {
     "data": {
      "image/png": "[encoded data removed]",
      "text/plain": [
       "<IPython.core.display.Image object>"
      ]
     },
     "execution_count": 3,
     "metadata": {},
     "output_type": "execute_result"
    }
   ],
   "source": [
    "from IPython.display import Image\n",
    "Image(filename='C:/Data science material/Krish Naik_PW skills/ML/Desicion Tree/1_JnWxe5qbkyxUrUftAN-mUQ.png') "
   ]
  },
  {
   "cell_type": "markdown",
   "id": "d485b160",
   "metadata": {},
   "source": [
    "### A. Simple Ensemble Techniques:\n",
    "\n",
    "           1.Max Voting:\n",
    "        \n",
    "            In this technique, multiple models are used to make predictions for each data point. The predictions by each model are considered as a ‘vote’. The predictions which we get from the majority of the models are used as the final prediction.mostly used in classification\n",
    "            \n",
    "        2.Averaging:\n",
    "             In this method, we take an average of predictions from all the models and use it to make the final prediction. Averaging can be used for making predictions in regression problems or while calculating probabilities for classification problems.\n",
    "             \n",
    "        3.Weighted Averaging:\n",
    "                All models are assigned different weights defining the importance of each model for prediction\n",
    "              \n",
    "              \n",
    "### B. Advanced Ensemble techniques:\n",
    "\n",
    "                1. Stacking :\n",
    "                            Stacking is an ensemble learning technique that uses predictions from multiple models (for example decision tree, knn or svm) to build a new model. This model is used for making predictions on the test set.\n",
    "                            \n",
    "                2. Blending:\n",
    "                            Blending follows the same approach as stacking but uses only a holdout (validation) set from the train set to make predictions. In other words, unlike stacking, the predictions are made on the holdout set only. The holdout set and the predictions are used to build a model which is run on the test set.\n",
    "                        \n",
    "               3. Bagging :\n",
    "                           The idea behind bagging is combining the results of multiple models (for instance, all decision trees) to get a generalized result.Bootstrapping is a sampling technique in which we create subsets of observations from the original dataset, with replacement. The size of the subsets is the same as the size of the original set.Bagging (or Bootstrap Aggregating) technique uses these subsets (bags) to get a fair idea of the distribution (complete set). The size of subsets created for bagging may be less than the original set.\n",
    "                              Suppose s1,s2,s3 and s4 are subset made with replacement of the original set of data then we run those decision tree parellely and The final predictions are determined by combining the predictions from all the models.\n",
    "                              \n",
    "                4. Bossting :\n",
    "                     Boosting is a sequential process, where each subsequent model attempts to correct the errors of the previous model. The succeeding models are dependent on the previous model. Let’s understand the way boosting works in the below steps.\n",
    "\n",
    "- A subset is created from the original dataset.\n",
    "- Initially, all data points are given equal weights.\n",
    "- A base model is created on this subset.\n",
    "- This model is used to make predictions on the whole dataset.\n",
    "\n",
    "- Errors are calculated using the actual values and predicted values.\n",
    "- The observations which are incorrectly predicted, are given higher weights.\n",
    "   (Here, the three misclassified blue-plus points will be given higher weights)\n",
    "- Another model is created and predictions are made on the dataset.\n",
    "     (This model tries to correct the errors from the previous model)\n",
    "\n",
    "         Similarly, multiple models are created, each correcting the errors of the previous model.The final model (strong learner) is the weighted mean of all the models (weak learners)"
   ]
  },
  {
   "cell_type": "markdown",
   "id": "0c4f0c47",
   "metadata": {},
   "source": [
    "## Q2. Why are ensemble techniques used in machine learning?"
   ]
  },
  {
   "cell_type": "markdown",
   "id": "9e080e57",
   "metadata": {},
   "source": [
    "There are two main reasons to use an ensemble over a single model, and they are related.\n",
    "\n",
    "1. Performance: An ensemble can make better predictions and achieve better performance than any single contributing model.\n",
    "\n",
    "2. Robustness: An ensemble reduces the spread or dispersion of the predictions and model performance."
   ]
  },
  {
   "cell_type": "markdown",
   "id": "cb56cbdf",
   "metadata": {},
   "source": [
    "## Q3. What is bagging?"
   ]
  },
  {
   "cell_type": "markdown",
   "id": "11c2f369",
   "metadata": {},
   "source": [
    "The idea behind bagging is combining the results of multiple models (for instance, all decision trees) to get a generalized result. \n",
    "\n",
    "Bagging follows below steps\n",
    "\n",
    "1. Multiple subsets are created from the original dataset, selecting observations with replacement.\n",
    "2. A base model (weak model) is created on each of these subsets.\n",
    "3. The models run in parallel and are independent of each other.\n",
    "4. The final predictions are determined by combining the predictions from all the models."
   ]
  },
  {
   "cell_type": "markdown",
   "id": "353c7b5e",
   "metadata": {},
   "source": [
    "## Q4. What is boosting?"
   ]
  },
  {
   "cell_type": "markdown",
   "id": "088d1ee5",
   "metadata": {},
   "source": [
    "Def :\n",
    "        Boosting is a sequential process, where each subsequent model attempts to correct the errors of the previous model. The succeeding models are dependent on the previous model. Let’s understand the way boosting works in the below steps.\n",
    "        \n",
    "1. A subset is created from the original dataset.\n",
    "\n",
    "2. Initially, all data points are given equal weights.\n",
    "\n",
    "3. A base model is created on this subset.\n",
    "\n",
    "4. This model is used to make predictions on the whole dataset.\n",
    "\n",
    "5. Errors are calculated using the actual values and predicted values.\n",
    "\n",
    "6. The observations which are incorrectly predicted, are given higher weights. (Here, the three misclassified blue-plus points will be given higher weights)\n",
    "\n",
    "7. Another model is created and predictions are made on the dataset. (This model tries to correct the errors from the previous model)\n",
    "\n",
    "   Similarly, multiple models are created, each correcting the errors of the previous model.The final model (strong learner) is the weighted mean of all the models (weak learners)"
   ]
  },
  {
   "cell_type": "markdown",
   "id": "dcac06d7",
   "metadata": {},
   "source": [
    "## Q5. What are the benefits of using ensemble techniques?"
   ]
  },
  {
   "cell_type": "markdown",
   "id": "7b52df36",
   "metadata": {},
   "source": [
    "There are two main reasons\n",
    "\n",
    "1. Performance – the team can make better forecasts and deliver better results than any single component model.\n",
    "\n",
    "2. Solidity- the team limits the spread or dispersion of model forecasts and performance.\n"
   ]
  },
  {
   "cell_type": "markdown",
   "id": "f789db62",
   "metadata": {},
   "source": [
    "## Q6. Are ensemble techniques always better than individual models?"
   ]
  },
  {
   "cell_type": "markdown",
   "id": "58ba00e4",
   "metadata": {},
   "source": [
    "No.Its all depend upon the dataset that you are handling.\n",
    "\n",
    "Ensemble methods have higher predictive accuracy, compared to the individual models.\n",
    "but Ensemble methods are very useful when there is both linear and non-linear type of data in the dataset. different models can be combined to handle this type of data."
   ]
  },
  {
   "cell_type": "markdown",
   "id": "26edc857",
   "metadata": {},
   "source": [
    "## Q7. How is the confidence interval calculated using bootstrap?\n"
   ]
  },
  {
   "cell_type": "code",
   "execution_count": 5,
   "id": "b285a869",
   "metadata": {},
   "outputs": [
    {
     "data": {
      "image/png": "[encoded data removed]",
      "text/plain": [
       "<IPython.core.display.Image object>"
      ]
     },
     "execution_count": 5,
     "metadata": {},
     "output_type": "execute_result"
    }
   ],
   "source": [
    "from IPython.display import Image\n",
    "Image(filename='download.png') "
   ]
  },
  {
   "cell_type": "markdown",
   "id": "14ff27af",
   "metadata": {},
   "source": [
    "- x* : is the sample mean from bootstrap means.\n",
    "- se : is the standard error of the bootstrap means.\n",
    "- z* : is critical value (found from the distribution table of normal CDF).\n",
    "- n : number of samples"
   ]
  },
  {
   "cell_type": "markdown",
   "id": "1b572648",
   "metadata": {},
   "source": [
    "## Q8. How does bootstrap work and What are the steps involved in bootstrap?"
   ]
  },
  {
   "cell_type": "markdown",
   "id": "34492caa",
   "metadata": {},
   "source": [
    "bootstrap steps look as follows:\n",
    "\n",
    "1. Obtain data sample x1,x2,…,xn drawn from a distribution F.\n",
    "2. Define u – statistic computed from the sample (mean, median, etc).\n",
    "3. Sample x*1, x*2, . . . , x*n with replacement from the original data sample.\n",
    "    Let it be F*  –  the empirical distribution. Repeat n times (n is bootstrap iterations).\n",
    "4. Compute u* –  the statistic calculated from each resample.\n",
    "\n",
    "Then the bootstrap principle says that:\n",
    "\n",
    "1. Empirical distribution from bootstraps is approximately equal to distribution of sample data:  F* ≈ F.\n",
    "2. The variation of statistic computed from the sample u is well-approximated by the variation of statistic computed from each resample u*. So, computed statistic u* from bootstrapping is a good proxy for statistic of sample data\n",
    "\n",
    "\n",
    "Bootstrap resampling gives us two important benefits:\n",
    "\n",
    "1. Non-parametric statistical analysis. There is no need to assume that our observations, or the underlying populations, are normally distributed. Thanks to the Central Limit Theorem, the resampling distribution of the effect size will approach a normality.\n",
    "\n",
    "2. Easy construction of the 95% CI from the resampling distribution. For 1000 bootstrap resamples of the mean difference, one can use the 25th value and the 975th value of the ranked differences as boundaries of the 95% confidence interval. (This captures the central 95% of the distribution.) Such an interval construction is known as a percentile interval."
   ]
  },
  {
   "cell_type": "markdown",
   "id": "fdddd1c9",
   "metadata": {},
   "source": [
    "## Q9. A researcher wants to estimate the mean height of a population of trees. They measure the height of a sample of 50 trees and obtain a mean height of 15 meters and a standard deviation of 2 meters. Use bootstrap to estimate the 95% confidence interval for the population mean height."
   ]
  },
  {
   "cell_type": "code",
   "execution_count": 8,
   "id": "d2648c93",
   "metadata": {},
   "outputs": [],
   "source": [
    "import pandas as pd\n",
    "import numpy as np\n",
    "import seaborn as sns\n",
    "from scipy import stats\n",
    "import matplotlib.pyplot as plt\n",
    "%matplotlib inline "
   ]
  },
  {
   "cell_type": "code",
   "execution_count": 51,
   "id": "af5a209d",
   "metadata": {},
   "outputs": [
    {
     "name": "stdout",
     "output_type": "stream",
     "text": [
      "[15.44555773 17.37283547 12.95606286 13.95219671 15.3197601  16.51983576\n",
      " 14.52312861 16.45044322 15.54156259 12.89632928 15.47114766 13.38954749\n",
      " 19.11740867 17.01501444 17.81286974 17.68388375 15.45102604 13.42371351\n",
      " 15.31378288 12.37397431 14.21409508 16.71310109 15.23612341 16.21032413\n",
      " 13.90643421 16.95153178 12.80565301 16.04203307 20.12196576 14.37722911\n",
      " 14.31233376 15.13301863 16.92788161 16.50173389 15.10841649 12.68930728\n",
      " 14.52868326 12.61148895 14.29994726 18.13758493 16.58464178 14.4878324\n",
      " 16.8500495  16.50015376 15.33600869 14.14034565 12.20964755 12.23765209\n",
      " 14.6450739  14.72951323]\n",
      "mean 15.251597721707899\n"
     ]
    }
   ],
   "source": [
    "#get the data with required range\n",
    "data = np.random.normal(15,2,50)\n",
    "print(data)\n",
    "print(\"mean\",np.mean(data))"
   ]
  },
  {
   "cell_type": "code",
   "execution_count": 50,
   "id": "242a7a62",
   "metadata": {},
   "outputs": [
    {
     "data": {
      "text/plain": [
       "15.324912850377205"
      ]
     },
     "execution_count": 50,
     "metadata": {},
     "output_type": "execute_result"
    }
   ],
   "source": [
    "bootstrap_replicate_1d(data,np.mean)"
   ]
  },
  {
   "cell_type": "code",
   "execution_count": 49,
   "id": "4c5c3206",
   "metadata": {},
   "outputs": [],
   "source": [
    "#\"\"\"Generate bootstrap replicate of 1D data.\"\"\"\n",
    "def bootstrap_replicate_1d(data, func):\n",
    "    bs_sample = np.random.choice(data, len(data))\n",
    "    return func(bs_sample)"
   ]
  },
  {
   "cell_type": "code",
   "execution_count": 52,
   "id": "c2fa11d3",
   "metadata": {},
   "outputs": [],
   "source": [
    "## generates many bootstrap replicates from the data set\n",
    "def draw_bs_reps(data, func, size=1):\n",
    "    \"\"\"Draw bootstrap replicates.\"\"\"\n",
    "    # Initialize array of replicates: bs_replicates\n",
    "    bs_replicates = np.empty(size)\n",
    "        # Generate replicates\n",
    "    for i in range(size):\n",
    "        bs_replicates[i] = bootstrap_replicate_1d(data, func)\n",
    "        \n",
    "    return bs_replicates"
   ]
  },
  {
   "cell_type": "code",
   "execution_count": 53,
   "id": "f569c52b",
   "metadata": {},
   "outputs": [
    {
     "data": {
      "text/plain": [
       "array([15.05126174])"
      ]
     },
     "execution_count": 53,
     "metadata": {},
     "output_type": "execute_result"
    }
   ],
   "source": [
    "draw_bs_reps(data, np.mean, size=1)"
   ]
  },
  {
   "cell_type": "markdown",
   "id": "202bc724",
   "metadata": {},
   "source": [
    "##### standard error of the mean, or SEM, is given by the standard deviation of the data divided by the square root of the number of data points. I.e., for a data set, sem = np.std(data) / np.sqrt(len(data))"
   ]
  },
  {
   "cell_type": "code",
   "execution_count": 54,
   "id": "cf265c43",
   "metadata": {},
   "outputs": [
    {
     "name": "stdout",
     "output_type": "stream",
     "text": [
      "0.25425853554650774\n",
      "0.25941299114086114\n"
     ]
    },
    {
     "data": {
      "image/png": "[encoded data removed]",
      "text/plain": [
       "<Figure size 640x480 with 1 Axes>"
      ]
     },
     "metadata": {},
     "output_type": "display_data"
    }
   ],
   "source": [
    "# Take 1000 bootstrap replicates of the mean: bs_replicates\n",
    "bs_replicates = draw_bs_reps(data, np.mean, size=1000)\n",
    "\n",
    "# Compute and print SEM\n",
    "sem = np.std(data) / np.sqrt(len(data))\n",
    "print(sem)\n",
    "\n",
    "# Compute and print standard deviation of bootstrap replicates\n",
    "bs_std = np.std(bs_replicates)\n",
    "print(bs_std)\n",
    "\n",
    "# Make a histogram of the results\n",
    "_ = plt.hist(bs_replicates, bins=50, density=True)\n",
    "_ = plt.xlabel('mean height')\n",
    "_ = plt.ylabel('PDF')"
   ]
  },
  {
   "cell_type": "markdown",
   "id": "2f65788c",
   "metadata": {},
   "source": [
    "##### Confidence intervals of data:\n",
    "\n",
    "A confidence interval gives upper and lower bounds on the range of parameter values you might expect to get if we repeat our measurements. For named distributions, you can compute them analytically or look them up, but one of the many beautiful properties of the bootstrap method is that you can take percentiles of your bootstrap replicates to get your confidence interval. Conveniently, you can use the np.percentile() function.\n",
    "Use the bootstrap replicates you just generated to compute the 95% confidence interval. That is, give the 2.5th and 97.5th percentile of your bootstrap replicates stored as bs_replicates. What is the 95% confidence interval?"
   ]
  },
  {
   "cell_type": "code",
   "execution_count": 55,
   "id": "48c83cb4",
   "metadata": {},
   "outputs": [
    {
     "data": {
      "text/plain": [
       "array([14.75216658, 15.7460973 ])"
      ]
     },
     "execution_count": 55,
     "metadata": {},
     "output_type": "execute_result"
    }
   ],
   "source": [
    "np.percentile(bs_replicates, [2.5, 97.5])"
   ]
  },
  {
   "cell_type": "code",
   "execution_count": null,
   "id": "8afd3fe1",
   "metadata": {},
   "outputs": [],
   "source": []
  }
 ],
 "metadata": {
  "kernelspec": {
   "display_name": "Python 3 (ipykernel)",
   "language": "python",
   "name": "python3"
  },
  "language_info": {
   "codemirror_mode": {
    "name": "ipython",
    "version": 3
   },
   "file_extension": ".py",
   "mimetype": "text/x-python",
   "name": "python",
   "nbconvert_exporter": "python",
   "pygments_lexer": "ipython3",
   "version": "3.9.13"
  }
 },
 "nbformat": 4,
 "nbformat_minor": 5
}
