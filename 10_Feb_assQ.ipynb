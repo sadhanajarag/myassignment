{
 "cells": [
  {
   "cell_type": "markdown",
   "id": "f4df38f8-974a-45b4-88df-4d3d7106e576",
   "metadata": {},
   "source": [
    "## Q1. Which function is used to open a file? What are the different modes of opening a file? Explain each mode of file opening."
   ]
  },
  {
   "cell_type": "markdown",
   "id": "141fbec4-07d9-41e6-81b6-99a8ab761f18",
   "metadata": {},
   "source": [
    "Ans:\n",
    "    open() function\n",
    "    It is a predefined function in python. This function opens the file in given mode and returns file object or file connection.\n",
    "    \n",
    "    \n",
    "Fileopening modes\t   Description\n",
    "\n",
    "w\t                  “w” stands for writing. Before opening the file, it truncates file first, if the file is existing. “w” is                              always created new file.\n",
    "r\t                   “r” stands for reading. this mode opens the file for reading data. If the file is not exists it raises                              OSError or FileNotExists\n",
    "a\t                   “a” stands for append. this mode open the file in append. it allows to add/write data to an existing file                              without truncating. If file is not exists, it will create new file\n",
    "“x”                 \topen for exclusive creation, failing if the file already exists\n",
    "“b”\t                    Binary type\n",
    "“t”                 \tText type\n",
    "“+”                      (r+,w+)\topen for updating (reading and writing)\n",
    "\n",
    "\n",
    "Default file mode is “r” and type is “t” 🡪 rt\n",
    "\n",
    "The functions used for writing text inside file\n",
    "⦁\twrite\n",
    "⦁\twriteline\n",
    "⦁\tprint\n",
    "\n",
    "1) write(s, /)\n",
    "      Write the string s to the stream and return the number of characters written.\n",
    "2) writelines(lines, /)\n",
    "    Write a list of lines to the stream. Line separators are not added, so it is usual for each of the lines provided to have a line separator at the end.\n",
    "\n",
    "3)print(values,sep=’ ‘,end=’\\n’,file=sys.stdout,flush=False)\n",
    "\n",
    "Python provides the following functions for reading data\n",
    "⦁\tread()\n",
    "⦁\treadline()\n",
    "\n",
    "1) read(size=- 1, /)\n",
    "   Read and return at most size characters from the stream as a single str. If size is negative or None, reads until EOF.\n",
    "\n",
    "\n",
    "2) readline(size=- 1, /)\n",
    "   Read until newline or EOF and return a single str. If the stream is already at EOF, an empty string is returned.\n",
    "\n"
   ]
  },
  {
   "cell_type": "markdown",
   "id": "bce24c10-d0be-4bc0-aa57-32964e523fbf",
   "metadata": {},
   "source": [
    "## Q2. Why close() function is used? Why is it important to close a file?"
   ]
  },
  {
   "cell_type": "markdown",
   "id": "da8a5e1e-55d1-4b71-88d4-5dd0443423de",
   "metadata": {},
   "source": [
    "\n",
    "The close() function closes the connection between the program and an open file identified by a handle. \n",
    "Any unwritten system buffers are flushed to the disk, and system resources used by the file are released\n",
    "\n",
    "Closing a file has the following consequences:\n",
    "\n",
    "1)The file descriptor is deallocated.\n",
    "\n",
    "2) Any record locks owned by the process on the file are unlocked.\n",
    "\n",
    "3) When all file descriptors associated with a pipe or FIFO have been closed, any unread data is discarded.\n",
    "\n",
    "If you don't close a file opened for reading \n",
    "\n",
    "1) It can be blocked for concurrent writes.\n",
    "2) You can loose a piece of last-written data which OS holds in the buffer.\n",
    "3) Never use a descriptor of already closed file. \n"
   ]
  },
  {
   "cell_type": "markdown",
   "id": "471e02cf-b438-4ebb-a482-fe50d159fb0c",
   "metadata": {},
   "source": [
    "## 3. Write a python program to create a text file. Write ‘I want to become a Data Scientist’ in that file. Then close the file. Open this file and read the content of the file."
   ]
  },
  {
   "cell_type": "code",
   "execution_count": 5,
   "id": "dcd75e9e-ce67-4381-8717-6b8a696514b8",
   "metadata": {},
   "outputs": [],
   "source": [
    "f=open(\"student1.txt\",\"w\")\n",
    "f.write(\"I want to become a Data Scientist\")\n",
    "f.close()\n",
    "  "
   ]
  },
  {
   "cell_type": "code",
   "execution_count": 6,
   "id": "84366222-2b69-4188-adda-f3959165a70d",
   "metadata": {},
   "outputs": [
    {
     "name": "stdout",
     "output_type": "stream",
     "text": [
      "I want to become a Data Scientist\n"
     ]
    }
   ],
   "source": [
    "f = open(\"student1.txt\", \"r\")\n",
    "print(f.read())"
   ]
  },
  {
   "cell_type": "markdown",
   "id": "efcfb115-efae-4263-9694-ebb5b0b5006c",
   "metadata": {},
   "source": [
    "## Q4. Explain the following with python code: read(), readline() and readlines()."
   ]
  },
  {
   "cell_type": "code",
   "execution_count": 7,
   "id": "f6687401-ebcc-4b2d-83be-aa3e02142eb4",
   "metadata": {},
   "outputs": [
    {
     "name": "stdout",
     "output_type": "stream",
     "text": [
      "I want to become a Data Scientist\n"
     ]
    }
   ],
   "source": [
    "## read(size=- 1, /):\n",
    "    \n",
    "## Read and return at most size characters from the stream as a single str. If size is negative or None, reads until EOF.\n",
    "f = open(\"student1.txt\", \"r\")\n",
    "print(f.read())"
   ]
  },
  {
   "cell_type": "code",
   "execution_count": 8,
   "id": "b45406c8-5050-405c-8c31-3697f8308d6c",
   "metadata": {},
   "outputs": [],
   "source": [
    "#readline(size=- 1, /)\n",
    "\n",
    "#Read until newline or EOF and return a single str. If the stream is already at EOF, an empty string is returned.\n",
    "f=open(\"student1.txt\",\"w\")\n",
    "f.write(\"\"\"I want to become a Data Scientist\n",
    "I want to become good coder\"\"\")\n",
    "f.close()\n"
   ]
  },
  {
   "cell_type": "code",
   "execution_count": 9,
   "id": "95a0d2eb-4a3e-4874-a5c3-c58644dc981f",
   "metadata": {},
   "outputs": [
    {
     "name": "stdout",
     "output_type": "stream",
     "text": [
      "I want to become a Data Scientist\n",
      "\n"
     ]
    }
   ],
   "source": [
    "f = open(\"student1.txt\", \"r\")\n",
    "print(f.readline())"
   ]
  },
  {
   "cell_type": "code",
   "execution_count": 10,
   "id": "c4b9de97-7a14-4e52-96b2-5ca43f012f41",
   "metadata": {},
   "outputs": [
    {
     "name": "stdout",
     "output_type": "stream",
     "text": [
      "['I want to become a Data Scientist\\n', 'I want to become good coder']\n"
     ]
    }
   ],
   "source": [
    "##readlines():\n",
    "##This function is used for reading the entire lines of data from the file in the form of list type\n",
    "\n",
    "#syntax:\n",
    "#\tdata=filepointer.realines()\n",
    "\n",
    "f = open(\"student1.txt\", \"r\")\n",
    "print(f.readlines())"
   ]
  },
  {
   "cell_type": "markdown",
   "id": "43d1d7e7-083d-4ad5-a9b7-dace7916e5b7",
   "metadata": {},
   "source": [
    "## Q5. Explain why with statement is used with open(). What is the advantage of using with statement and open() together?"
   ]
  },
  {
   "cell_type": "code",
   "execution_count": null,
   "id": "d7c5e2d3-b1eb-4251-8e83-ccfbdc04dd93",
   "metadata": {},
   "outputs": [],
   "source": [
    "syntax:\n",
    "\twith open (\"file name\",\"filemode\") as varname:\n",
    "\t---------------------------------\n",
    "\t-------------------------------\n",
    "\t------------------------------------\n",
    "Explaination:\n",
    "    \n",
    "==>here 'with' and 'as' are the key words\n",
    "==>var name represent a valid var name  and it is treated as file pointer and it can be read pointer or write pointer.\n",
    "==>open() is pre defined function which is used for opeining the file in specified file opening mode\n",
    "==>file mode can be r,aw,r+,w+,a+ and x\n",
    "==>with this syntax onnce we open the file ,it will automatically closing the file provided the PVM control comes out with ...open() ...as syntax.\n",
    "\n",
    "Advantages:\n",
    "1) No need to explicitly close the opened file, “with statement” takes care of that. \n",
    "2) When with the block ends, it will automatically close the file. So, it reduces the number of lines of code and reduces the chances of bug.\n",
    "3) Excellent handling in case of exception.\n",
    "4) file will be closed before control moves to the except block."
   ]
  },
  {
   "cell_type": "markdown",
   "id": "d91a2e44-6449-4a34-ac7b-19908a0d00e8",
   "metadata": {},
   "source": [
    "## Q6. Explain the write() and writelines() functions. Give a suitable example."
   ]
  },
  {
   "cell_type": "markdown",
   "id": "2a456f54-6771-47f4-97cc-fed81d04836a",
   "metadata": {},
   "source": [
    "Writing the data to the file\n",
    "===========================================================================\n",
    "\n",
    "==>To write the data to the file ,the file must be opened in the write mode(w,a,w+,a+,x)\n",
    "==>To write the data to the file ,we have two pre defined functions.they are\n",
    "\t1)write (str)\n",
    "\t2)writelines(str)\n",
    "\n",
    "1)write(str):\n",
    "\n",
    "This function is used for wrtiting any type of data in the form of string\n",
    "\n",
    "syntax:fileponter.write(str data)\n",
    "\n",
    "\n",
    "2)writelines(str)\n",
    "\n",
    "==>this function is used for writing any iterable object data to the file in the form of string\n",
    "\n",
    "syntax:\n",
    "\tfilepointer.writelines(iterable-object)\n",
    "\n",
    "\tExample:\n",
    "\t\t\tlst=[10,\"KVR\",94.25,\"HYD\"]\n",
    "\t\t\ttpl=[(20,\"RS\",99.99,\"NL\")"
   ]
  },
  {
   "cell_type": "code",
   "execution_count": 11,
   "id": "5f580292-d28f-4f76-b440-175e1f54be0a",
   "metadata": {},
   "outputs": [
    {
     "name": "stdout",
     "output_type": "stream",
     "text": [
      "welcome to the course PWSskills.\n"
     ]
    }
   ],
   "source": [
    "f = open(\"test.txt\", \"a\")\n",
    "f.writelines([\"welcome to the course PWSskills.\"])\n",
    "f.close()\n",
    "\n",
    "f = open(\"test.txt\", \"r\")\n",
    "print(f.read())"
   ]
  },
  {
   "cell_type": "code",
   "execution_count": 13,
   "id": "cf1b8d7f-4c8a-4a2a-bdc9-2e4ad41cb51f",
   "metadata": {},
   "outputs": [
    {
     "name": "stdout",
     "output_type": "stream",
     "text": [
      "This is new file to write!\n"
     ]
    }
   ],
   "source": [
    "f = open(\"test2.txt\", \"a\")\n",
    "f.write(\"This is new file to write!\")\n",
    "f.close()\n",
    "\n",
    "#open and read the file after the appending:\n",
    "f = open(\"test2.txt\", \"r\")\n",
    "print(f.read())"
   ]
  }
 ],
 "metadata": {
  "kernelspec": {
   "display_name": "Python 3 (ipykernel)",
   "language": "python",
   "name": "python3"
  },
  "language_info": {
   "codemirror_mode": {
    "name": "ipython",
    "version": 3
   },
   "file_extension": ".py",
   "mimetype": "text/x-python",
   "name": "python",
   "nbconvert_exporter": "python",
   "pygments_lexer": "ipython3",
   "version": "3.10.8"
  }
 },
 "nbformat": 4,
 "nbformat_minor": 5
}
