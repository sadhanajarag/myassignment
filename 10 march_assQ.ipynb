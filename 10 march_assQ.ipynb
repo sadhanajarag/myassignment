{
 "cells": [
  {
   "cell_type": "markdown",
   "id": "d5b0fcb9-337f-45dd-8e71-fcd7a0b8e672",
   "metadata": {},
   "source": [
    "## Q1: What is Estimation Statistics? Explain point estimate and interval estimate."
   ]
  },
  {
   "cell_type": "markdown",
   "id": "55e490ed-0573-41dc-b9ce-12930f25755b",
   "metadata": {},
   "source": [
    "Estimation in Statistics::\n",
    "    \n",
    "In statistics, estimation refers to the process by which one makes inferences about a population, based on information obtained from a sample"
   ]
  },
  {
   "cell_type": "markdown",
   "id": "614df54d-ada8-4557-aa0a-3742f04e156f",
   "metadata": {},
   "source": [
    "An estimate of a population parameter may be expressed in two ways:\n",
    "\n",
    "\n",
    "Point estimate:\n",
    "         A point estimate of a population parameter is a single value of a statistic. For example, the sample mean x is a point estimate of the population mean μ. Similarly, the sample proportion p is a point estimate of the population proportion P.\n",
    "\n",
    "Interval estimate:\n",
    "         An interval estimate is defined by two numbers, between which a population parameter is said to lie. For example, a < x < b is an interval estimate of the population mean μ. It indicates that the population mean is greater than a but less than b.\n",
    "\n",
    "example :Anna is an animal lover and volunteers at a local animal shelter in her town. She wants to make a proposition to the city council to create a dog park in the town. She wants to gather some data about the opinions of the town. Because she can't survey the entire town, she will need to collect data from a few people and make an estimation. An estimation is the tool that is used in mathematics to make inferences about populations from data.\n",
    "\n",
    "A point estimation :\n",
    "            is a type of estimation that uses a single value, a sample statistic, to infer information about the population. Point estimation can be a sample statistic. The sample mean of age for the sample, 32, can be used as a point estimation.\n",
    "\n",
    "Interval Estimation :\n",
    "            Is the range of number in which population parameter lies considering margin of error.\n",
    "            Because there is certain level of uncertainty.\n",
    "            Interval Estimation gives you the range rather than single value of pupulation parameter.\n",
    "            \n",
    "        In this estimation below three concept occurs.\n",
    "    \n",
    "Confidence Intervals:\n",
    "\n",
    "The confidence interval is the range of values that you expect your estimate to fall between a certain percentage of the time if you run your experiment again or re-sample the population in the same way.\n",
    "\n",
    "1) A confidence level.\n",
    "2) A statistic.\n",
    "3) A margin of error.\n",
    "\n",
    "The confidence level:\n",
    "            describes the uncertainty of a sampling method.\n",
    "            The confidence level is the percentage of times you expect to reproduce an estimate between the upper and lower bounds of the confidence interval, and is set by the alpha value.\n",
    "            \n",
    "example :\n",
    "         if you construct a confidence interval with a 95% confidence level, you are confident that 95 out of 100 times the estimate will fall between the upper and lower values specified by the confidence interval.\n",
    "         \n",
    "        Your desired confidence level is usually one minus the alpha (α) value you used in your statistical test:\n",
    "\n",
    "        Confidence level = 1 − a\n",
    "\n",
    "        So if you use an alpha value of p < 0.05 for statistical significance, then your confidence level would be 1 − 0.05 = 0.95, or 95%.\n"
   ]
  },
  {
   "cell_type": "markdown",
   "id": "ebaf1c41-5e0b-4615-98ad-731341c4d23c",
   "metadata": {},
   "source": [
    "## Q2. Write a Python function to estimate the population mean using a sample mean and standard deviation."
   ]
  },
  {
   "cell_type": "markdown",
   "id": "d467f89f-764a-4282-877c-a6aa1e231aaf",
   "metadata": {},
   "source": [
    "z score = xbar -  sample mean/(std deviation of sample/population /sqrt of n)\n",
    "\n",
    "1) From  sample mean and std deviation we can get the z score value \n",
    "2) Go to the z score table and check what is p value for that perticular z score \n",
    "3)  from that value we can conclude if the given sample mean will be the population mean or not.\n",
    "4) here we will get the area under the curve means means area under the curve with CI and with help of Z score we \n",
    "   can decide whether the actual population mean will be the sample mean or not or may be less than that or greter than that.\n"
   ]
  },
  {
   "cell_type": "code",
   "execution_count": 1,
   "id": "f29f520e-5b6b-4566-82b1-46c2c1af22e4",
   "metadata": {},
   "outputs": [
    {
     "name": "stdout",
     "output_type": "stream",
     "text": [
      "Reject the Null Hypothesis\n"
     ]
    },
    {
     "data": {
      "text/plain": [
       "'z value:2.3076923076923075p value:0.021016256227518675'"
      ]
     },
     "execution_count": 1,
     "metadata": {},
     "output_type": "execute_result"
    }
   ],
   "source": [
    "import scipy.stats as stats\n",
    "import numpy as np\n",
    "\n",
    "sample_mean = 168 \n",
    "std_deviation=3.9\n",
    "xbar=169.5\n",
    "sample_size=36\n",
    "\n",
    "def z_value(sample_mean,std_deviation,xbar,sample_size):\n",
    "    z=((xbar-sample_mean)/(std_deviation/sample_size**0.5))\n",
    "    #print(\"z value:\",z)\n",
    "    p_value=2*stats.norm.sf(z)\n",
    "    #print(\"p_value\",p_value)\n",
    "    \n",
    "    if p_value < 0.05:\n",
    "        print(\"Reject the Null Hypothesis\")\n",
    "    else:\n",
    "        print(\"We are failed to rejct the Null Hypothesis\")\n",
    "        \n",
    "    return \"z value:\" + str(z)+\"p value:\"+str(p_value)\n",
    "    \n",
    "\n",
    "z_value(sample_mean,std_deviation,xbar,sample_size)"
   ]
  },
  {
   "cell_type": "markdown",
   "id": "201a9e6a-ee9e-48ad-997f-7b4ec720bc48",
   "metadata": {},
   "source": [
    "here if p_value less than 0.05 means population mean cant be the 168."
   ]
  },
  {
   "cell_type": "markdown",
   "id": "e3b47835-b104-4d49-bc8c-f14e3f3f16b4",
   "metadata": {},
   "source": [
    "## Q3: What is Hypothesis testing? Why is it used? State the importance of Hypothesis testing."
   ]
  },
  {
   "cell_type": "markdown",
   "id": "9d4e03a8-88f5-4a97-959f-cc04eb14867c",
   "metadata": {},
   "source": [
    "Hypothesis testing in statistics refers to analyzing an assumption about a population parameter.\n",
    "It is used to make an educated guess about an assumption using statistics.\n",
    "With the use of sample data, hypothesis testing makes an assumption about how true the assumption is for the entire population from where the sample is being taken.  \n",
    "\n",
    "There are 7 main steps in hypothesis testing:\n",
    "\n",
    "1) State your research hypothesis as a null hypothesis and alternate hypothesis (Ho) and (Ha or H1).\n",
    "2) Choose the level of significance ,alpha\n",
    "3) collect data in a way designed to test the hypothesis.\n",
    "4) Perform an appropriate statistical test.\n",
    "5a) Critical value approach : Determine the critical value\n",
    "5b) P value approach : Determine p value with z score.\n",
    "6a) If the Critical value falls within the rejection area then reject the null hypothesis H0\n",
    "6b) if pvalue < alpha the reject H0 hypothesis\n",
    "7) Express the conclusion in context of the problem,.\n",
    "\n",
    "Why :\n",
    "\n",
    "1) The main purpose of hypothesis testing is to see if there is enough evidence to reject the null hypothesis.\n",
    "   If there is, you will feel that the alternative hypothesis is reasonable. \n",
    "2) Hypothesis testing is used to assess the plausibility of a hypothesis by using sample data.\n",
    "3) Research exists to validate or disprove assumptions about various phenomena. The process of validation involves     testing and it is in this context that we will explore hypothesis testing.\n",
    "4) Hypothesis testing is common in statistics as a method of making decisions using data. \n",
    "5) Hypothesis testing provides various techniques to test the hypothesis statement depending upon the variable and the data points. It finds its use in almost every field of research while answering statements such as whether this new medicine will work, a new testing method is appropriate, or if the outcomes of a random experiment are probable or not.\n",
    "6) In short by hypothesis testing we can check if the assumption made by expert team is accept or reject.\n",
    "\n",
    "\n",
    "Importance :\n",
    "\n",
    "1) Hypothesis testing is one of the most important concepts in statistics because it is how you decide if something really happened, or if certain treatments have positive effects, or if groups differ from each other or if one variable predicts another.\n",
    " In short, you want to proof if your data is statistically significant and unlikely to have occurred by chance alone. In essence then, a hypothesis test is a test of significance.\n",
    " \n",
    "2) In many organization we have to take the decision about prductivity,efficiency and many more for that they collected the data from varius resorces and with help of that data they infer so many decisions.to do that they mostly use the hypothesis testing.\n",
    "\n"
   ]
  },
  {
   "cell_type": "markdown",
   "id": "3a546be4-dc30-4424-998d-4058dc3529d4",
   "metadata": {},
   "source": [
    "## Q4. Create a hypothesis that states whether the average weight of male college students is greater than the average weight of female college students."
   ]
  },
  {
   "cell_type": "markdown",
   "id": "df48e937-ce3b-4e85-853d-7d5afd3da1af",
   "metadata": {},
   "source": [
    "Null Hypothesis=H0 : Average weight of collage student is greater  than or equal to  female collage students\n",
    "\n",
    "Alternative Hypothesis =H1:  Average weight of college student is  not greater than average weight of female college student.\n"
   ]
  },
  {
   "cell_type": "markdown",
   "id": "1f82f51d-1acd-4c9b-afee-272da8b31809",
   "metadata": {},
   "source": [
    "## Q5. Write a Python script to conduct a hypothesis test on the difference between two population means, given a sample from each population."
   ]
  },
  {
   "cell_type": "code",
   "execution_count": null,
   "id": "7a9bb0f8-d72b-445b-9978-696f01dcf4f9",
   "metadata": {},
   "outputs": [],
   "source": [
    "#Step 1 State the null hypothesis H0 and alternative hypothesis HA\n",
    " H 0: μ 1 = μ 2 or H 0: μ 1 – μ 2 = 0\n",
    "\n",
    "#Step 2 Decide on the significance level, α.\n",
    "\n",
    "Step 3 Compute the value of the test statistic.\n",
    "Step 4 Determine the p-value.\n",
    "Step 5 If p≤α, reject H0; otherwise, do not reject H0\n",
    "Step 6 .Interpret the result of the hypothesis test.\n",
    "\n",
    "\n",
    "def "
   ]
  },
  {
   "cell_type": "markdown",
   "id": "212c622b-703d-4dd9-9c3b-aa4554a46e1a",
   "metadata": {},
   "source": [
    "For independent samples of sizes n1 and n2  of population 1 and population 2 the mean of all possible differences between the two sample means equals the difference between the two population means.\n",
    "\n",
    "                        μx¯1−x¯2 = μ1−μ2\n",
    "\n",
    "Further, the standard deviation of all possible differences between the two sample means equals the square root of the sum of the population variances each divided by the corresponding sample size.\n",
    "\n",
    "\n",
    "σx¯1−x¯2=√σ1**2/n1+σ2**2/n2\n",
    "\n",
    "A normally distributed variable or a large enough sample size (recall the central limit theorem) causes the difference of the sample means (x¯1−x¯2\n",
    ") to be normally distributed too.\n"
   ]
  },
  {
   "cell_type": "markdown",
   "id": "92b47071-d78a-4868-a702-50c151e7a03b",
   "metadata": {},
   "source": [
    "The sampling distribution for the difference between the means is normal and both populations must be normal. \n",
    "The random variable is  X¯1−X¯2\n",
    " The normal distribution has the following format:\n",
    " \n",
    " X¯1−X¯2∼N[μ1−μ2,√(σ1)**2/n1+(σ2)**2/n2]\n",
    " \n",
    " The standard deviation is:\n",
    "\n",
    "                            √(σ1)**2/n1+(σ2)**2/n2\n",
    "\n",
    "The test statistic (z-score) is:\n",
    "\n",
    "z=(x¯1−x¯2)−(μ1−μ2)/√(σ1)**2/n1+(σ2)**2/n2(10.3.3)\n",
    "\n",
    "Z score with std deviation between 2 mean is difference of difference between sample and  difference between popualtion meandevided by square root of square of std deviation of first population devided by number of sample of first population plus square of std deviation of second population devided by number of sample of second population"
   ]
  },
  {
   "cell_type": "code",
   "execution_count": 52,
   "id": "c360b6da-9da1-450c-bab0-46dd1b0e1537",
   "metadata": {},
   "outputs": [
    {
     "name": "stdout",
     "output_type": "stream",
     "text": [
      "Do not reject  H0 hypothesis as P value is :0.1799024024627146\n"
     ]
    }
   ],
   "source": [
    "#script\n",
    "import scipy.stats as stats\n",
    "import numpy as np\n",
    "def z_test_withknown_std_deviation(sample_mean1,sample_mean2,std_dev1,std_dev2,size):\n",
    "    \n",
    "    z=(sample_mean1-sample_mean2)/math.sqrt(((std_dev1**2)/size)+((std_dev2**2)/size))\n",
    "    #print(z)\n",
    "    p_value=(1-stats.norm.cdf(z))\n",
    "    #print(p_value)\n",
    "    if p_value < 0.05:\n",
    "        return \"Do not accept H0 hypothesis as P value is  : \"+str(p_value)\n",
    "    else:\n",
    "        return \"Do not reject  H0 hypothesis as P value is :\"+str(p_value)\n",
    " \n",
    " \n",
    "if __name__== \"__main__\":\n",
    "    \n",
    "    sample_mean1 = 3\n",
    "    sample_mean2 = 2.9\n",
    "    std_dev1 = 0.33\n",
    "    std_dev2 = 0.36\n",
    "    size = 20\n",
    "\n",
    "    print (z_test_withknown_std_deviation(sample_mean1,sample_mean2,std_dev1,std_dev2,size))"
   ]
  },
  {
   "cell_type": "markdown",
   "id": "e77e3593-cb55-420a-b496-bcaddc0303b6",
   "metadata": {},
   "source": [
    "## Q6: What is a null and alternative hypothesis? Give some examples."
   ]
  },
  {
   "cell_type": "markdown",
   "id": "2709f158-3fb6-47ed-a17d-9baafba281bf",
   "metadata": {},
   "source": [
    "A null hypothesis:\n",
    "            is a statement of the status quo, one of no difference or no effect. \n",
    "            \n",
    "alternative hypothesis:\n",
    "                is one in which some difference or effect is expected. Thus the alternative hypothesis is the opposite of null hypothesis.\n",
    "                \n",
    "Ho = Null Hypothesis\n",
    "Statement of ‘no effect’ or ‘no difference’ or the “status quo”. Nothing new is happening.\n",
    "\n",
    "Ha = Alternative Hypothesis\n",
    "Statement/claim assumed to be true and we are trying to prove it to be true. Something new is happening\n",
    "\n",
    "The burden of proof rests with Ha.\n",
    "Assume that Ho = “true”, unless proven otherwise.\n",
    "\n",
    "Example :\n",
    "1) Investing in stock market: Buying stocks during down market will earn higher returns\n",
    "\n",
    "Null hypothesis: It is not true that buying stocks during down market will return higher return\n",
    "\n",
    "Alternate hypothesis: Buying stocks during down market earns higher returns.\n",
    "\n",
    "2) New heart medicine: New medicine reduces the risk of heart attack by 60%\n",
    "\n",
    "Null hypothesis: It is not true that new medicine reduces the risk of heart attack by 60%\n",
    "\n",
    "Alternate Hypothesis: New medicine reduces the risk of heart attack by at least 60%."
   ]
  },
  {
   "cell_type": "markdown",
   "id": "6cf49bbe-dbd4-4e03-9d19-88a01f58ef22",
   "metadata": {},
   "source": [
    "## Q7: Write down the steps involved in hypothesis testing."
   ]
  },
  {
   "cell_type": "markdown",
   "id": "fac1d1c3-b02d-40d5-808e-5a8c74a1ac1d",
   "metadata": {},
   "source": [
    "There are 8 main steps in hypothesis testing:\n",
    "\n",
    "1) State your research hypothesis as a null hypothesis and alternate hypothesis (Ho) and (Ha or H1).\n",
    "2) Choose the level of significance ,alpha\n",
    "3) Choose the sample size,means \n",
    "4) collect data in a way designed to test the hypothesis.\n",
    "5) Perform an appropriate statistical test.\n",
    "6) compute the p value for test statastic from sample result.\n",
    "7) Make the statastical decision :Reject H0 if p value < alpha\n",
    "8) Express the conclusion in context of the problem,.\n"
   ]
  },
  {
   "cell_type": "markdown",
   "id": "308637b7-ceb2-43ea-8dd8-7a11a4b25e20",
   "metadata": {},
   "source": [
    "# Q8. Define p-value and explain its significance in hypothesis testing."
   ]
  },
  {
   "cell_type": "markdown",
   "id": "652c9581-de0a-465e-adac-f56682747956",
   "metadata": {},
   "source": [
    "Defination:\n",
    "\n",
    "A p-value is the probability of observing a sample statistic that is at least as extreme as your sample statistic, given that the null hypothesis is true.\n",
    "\n",
    "A p-value indicates how believable the null hypothesis is, given the sample data. Specifically, assuming the null hypothesis is true, the p-value tells us the probability of obtaining an effect at least as large as the one we actually observed in the sample data. \n",
    "\n",
    "If the p-value of a hypothesis test is sufficiently low, we can reject the null hypothesis. Specifically, when we conduct a hypothesis test, we must choose a significance level at the outset. Common choices for significance levels are 0.01, 0.05, and 0.10.\n",
    "\n",
    "If the p-values is less than our significance level, then we can reject the null hypothesis.\n",
    "\n",
    "Otherwise, if the p-value is equal to or greater than our significance level, then we fail to reject the null hypothesis.\n",
    "\n",
    "significance :\n",
    " level of statistical significance is often expressed in p-value and the range between 0 and 1. The smaller the p-value, the stronger the evidence and hence, the result should be statistically significant. Hence, the rejection of the null hypothesis is highly possible, as the p-value becomes smaller.\n",
    "\n",
    "\n",
    "1) p<0.05: \n",
    "    A p -value less than 0.05 (typically ≤ 0.05) is statistically significant. It indicates strong evidence against the null hypothesis, as there is less than a 5% probability the null is correct (and the results are random). Therefore, we reject the null hypothesis and accept the alternative hypothesis.\n",
    "\n",
    "Point to note wrt to P value :\n",
    "\n",
    "1) if the p -value is below your threshold of significance (typically p < 0.05), you can reject the null hypothesis, but this does not mean that there is a 95% probability that the alternative hypothesis is true.\n",
    "\n",
    "2) The p -value is conditional upon the null hypothesis being true but is unrelated to the truth or falsity of the alternative hypothesis.\n",
    "3) A p -value higher than 0.05 (> 0.05) is not statistically significant and indicates strong evidence for the null hypothesis. This means we retain the null hypothesis and reject the alternative hypothesis. You should note that you cannot accept the null hypothesis; we can only reject it or fail to reject it.\n",
    "\n",
    "4) A statistically significant result cannot prove that a research hypothesis is correct (which implies 100% certainty).Instead, we may state our results “provide support for” or “give evidence for” our research hypothesis (as there is still a slight probability that the results occurred by chance and the null hypothesis was correct – e.g., less than 5%).\n"
   ]
  },
  {
   "cell_type": "markdown",
   "id": "78250012-f02a-4011-94b3-ca74b2d00e6c",
   "metadata": {},
   "source": [
    "## Q9. Generate a Student's t-distribution plot using Python's matplotlib library, with the degrees of freedom parameter set to 10."
   ]
  },
  {
   "cell_type": "code",
   "execution_count": 52,
   "id": "71440618-2b54-42f7-8c82-8946986428f4",
   "metadata": {},
   "outputs": [
    {
     "data": {
      "text/plain": [
       "(array([0.19789765, 0.19789765, 0.        , 0.19789765, 0.59369296,\n",
       "        0.39579531, 0.39579531]),\n",
       " array([-2.92256906, -2.41725736, -1.91194567, -1.40663397, -0.90132227,\n",
       "        -0.39601057,  0.10930113,  0.61461283]),\n",
       " <BarContainer object of 7 artists>)"
      ]
     },
     "execution_count": 52,
     "metadata": {},
     "output_type": "execute_result"
    },
    {
     "data": {
      "image/png": "[encoded data removed]",
      "text/plain": [
       "<Figure size 640x480 with 1 Axes>"
      ]
     },
     "metadata": {},
     "output_type": "display_data"
    }
   ],
   "source": [
    "from scipy.stats import t\n",
    "import matplotlib.pyplot as plt\n",
    "\n",
    "#generate t distribution with sample size 1000\n",
    "x = t.rvs(df=10, size=10)\n",
    "\n",
    "#create plot of t distribution\n",
    "plt.hist(x, density=True, edgecolor='black', bins=7, label='T distribution plot')"
   ]
  },
  {
   "cell_type": "markdown",
   "id": "601e3bd7-0d66-4e02-851e-a2c7e5e1613c",
   "metadata": {},
   "source": [
    "## Q10. Write a Python program to calculate the two-sample t-test for independent samples, given two random samples of equal size and a null hypothesis that the population means are equal."
   ]
  },
  {
   "cell_type": "markdown",
   "id": "ae3fbe53-78aa-4c6a-abcb-2a99e10892a1",
   "metadata": {},
   "source": [
    "A t test is a statistical test that is used to compare the means of two groups. It is often used in hypothesis testing to determine whether a process or treatment actually has an effect on the population of interest, or whether two groups are different from one another.\n",
    "\n",
    "Here the groups come from two different populations (e.g., two different species, or people from two separate cities), perform a two-sample t test\n",
    "here we are checking whether the two populations are different from one another, perform a two-tailed t test.\n",
    "\n",
    "Two sample t test formula = t= x1bar-x2bar/sqaure root of [(s square(1/n1+1/n2)]\n",
    "\n",
    "t is the t value,\n",
    "x1 and x2 are the means of the two groups being compared,\n",
    "s2 is the pooled standard error of the two groups,\n",
    "and n1 and n2 are the number of observations in each of the group\n",
    "\n",
    "Note :A larger t value shows that the difference between group means is greater than the pooled standard error, indicating a more significant difference between the groups.\n",
    "\n",
    "\n",
    "You can compare your calculated t value against the values in a critical value chart (e.g., Student’s t table) to determine whether your t value is greater than what would be expected by chance.\n",
    "If so, you can reject the null hypothesis and conclude that the two groups are in fact different."
   ]
  },
  {
   "cell_type": "code",
   "execution_count": null,
   "id": "15d280bb-2440-40eb-9dff-016870365913",
   "metadata": {},
   "outputs": [],
   "source": [
    "#python script for two sample ,two paired t test \n",
    "#H0 : Two population mean difference =0 means they are same\n",
    "#H1 : wo population are different from one another."
   ]
  },
  {
   "cell_type": "code",
   "execution_count": null,
   "id": "d368fdbd-01a2-4b80-b508-f50ef87e8444",
   "metadata": {},
   "outputs": [],
   "source": [
    "import math\n",
    "import numpy as np\n",
    "from scipy.stats import t\n",
    "#from statsmodels.stats.proportion import proportion_ztest\n",
    "def t_test(x1,x2,l):\n",
    "    #step 2 --get the difference of both sample array\n",
    "    x3=np.array(x1)-np.array(x2)\n",
    "    #Step 3 Do the sum of both array\n",
    "    D=sum(x3)\n",
    "    #print(D)\n",
    "    #step 4--get the squared value of differences x1-x2 and sum it\n",
    "    D1=sum(x3**2)\n",
    "    #print(D1)\n",
    "    #t=(ΣD/N)/math.sqrt(((ΣD**2)-(ΣD)**2/N)/((N-1)*N))\n",
    "    #Modify the formula according to inputs\n",
    "    t_test=D/l/(math.sqrt((D1-(D**2/l))/((l-1)*l)))\n",
    "    t_test=abs(t_test)\n",
    "    #print(t_test)\n",
    "    # p-value for 2-sided test\n",
    "    #p=2*(1 - t.cdf(abs(t1), l-1))\n",
    "    # 0.03988800677091664\n",
    "    #p1=2*(t.cdf(-abs(t1), l-1))\n",
    "    #print(p)\n",
    "    #print(p1)\n",
    "    t_test_table=t.ppf(1-.05/2,l-1)\n",
    "    if (t_test>t_test_table):\n",
    "        print(\"Reject the null hypothesis\")\n",
    "    else:\n",
    "        print(\"Accept the null hypothesis\")\n",
    "        \n",
    "    #print(t2)\n",
    "# 0.03988800677091648\n",
    "    #t=x1-x2/math.sqrt(s**2*((1/n1)+(1/n2)))\n",
    "    #t=(ΣD/N)/math.sqrt(((ΣD**2)-(ΣD)**2/N)/((N-1)*N))\n",
    "    return \"t value by calculation : \"+str(t_test)+\"by  t table :\"+str(t_test_table)\n",
    "\n",
    "#Sample data X1 population 1\n",
    "x1=[3,3,3,12,15,16,17,19,23,24,32]\n",
    "#Sample Data X2 of population 2\n",
    "x2=[20,13,13,20,29,32,23,20,25,15,30]\n",
    "\n",
    "size=len(x1)\n",
    "\n",
    "#call the function\n",
    "\n",
    "t_test(x1,x2,size)"
   ]
  },
  {
   "cell_type": "markdown",
   "id": "bfe90c7b-c4bf-41cc-a242-8c6c0d6aea9b",
   "metadata": {},
   "source": [
    "## Q11: What is Student’s t distribution? When to use the t-Distribution."
   ]
  },
  {
   "cell_type": "markdown",
   "id": "25050967-7f42-4c81-9183-cc663d817865",
   "metadata": {},
   "source": [
    "The t-distribution, also known as Student’s t-distribution, is a way of describing data that follow a bell curve when plotted on a graph, with the greatest number of observations close to the mean and fewer observations in the tails.\n",
    "\n",
    "It is a type of normal distribution used for smaller sample sizes, where the VARIENCE in the data is unknown.\n",
    "The variance in a t-distribution is estimated based on the degrees of freedom of the data set (total number of observations minus 1).\n",
    "\n",
    "\n",
    "In statistics, the t-distribution is most often used to:\n",
    "\n",
    "1) Find the critical values for a confidence interval when the data is approximately normally distributed.\n",
    "\n",
    "2) Find the corresponding p-value from a statistical test that uses the t-distribution (t-tests, regression analysis).\n",
    "\n",
    "t = [ x̄ - μ ] / [ s / sqrt( n ) ]\n",
    "\n",
    "\n",
    "where,\n",
    "t = t score\n",
    "x̄ = sample mean,\n",
    "μ = population mean,\n",
    "s = standard deviation of the sample,\n",
    "n = sample size \n",
    "\n",
    "Student’s t Distribution is used when \n",
    "\n",
    "1) The sample size must be 30 or less than 30.\n",
    "2) The population standard deviation(σ) is unknown.\n",
    "3) The population distribution must be unimodal and skewed.\n",
    "\n",
    "The t-distribution has been derived mathematically under the assumption of normally distributed population and the formula or equation will be like this \n",
    "\n",
    "f(t) = c(1+(t2/ν))(-ν+1) / 2\n",
    "\n",
    "where, \n",
    "c = Constant required to make the area under the curve equal to unity \n",
    "ν = Degrees of freedom \n",
    "\n",
    "The t-distribution has the following properties : \n",
    "\n",
    "1) The variable in t-distribution ranges from -∞ to +∞ (-∞ < t < +∞).\n",
    "2) t- distribution will be symmetric like normal distribution, if power of t is even in probability density function(pdf).\n",
    "3) For large values of ν(i.e increased sample size n); the t-distribution tends to a standard normal distribution. This implies that for different ν values, the shape of t-distribution also differs.\n",
    "4) The t-distribution is less peaked than normal distribution at the center and higher peaked in the tails.\n",
    "5) The mean of the distribution is equal to 0 for ν > 1 where ν = degrees of freedom, otherwise undefined.\n",
    "6) The median and mode of the distribution is equal to 0.\n",
    "7) The variance is equal to ν / ν-2 for ν > 2 and ∞ for 2 < ν ≤ 4 otherwise undefined.\n",
    "8) The skewness is equal to 0 for ν > 3, otherwise undefined."
   ]
  },
  {
   "cell_type": "markdown",
   "id": "e8770c39-e90a-496e-8176-3d38efc3941e",
   "metadata": {},
   "source": [
    "## Q12: What is t-statistic? State the formula for t-statistic."
   ]
  },
  {
   "cell_type": "markdown",
   "id": "3b2f4ef5-1b70-45ee-b642-72737bcd5ee5",
   "metadata": {},
   "source": [
    "The t statistic is used in the context of a t-test when doing hypothesis testing. \n",
    "\n",
    "where null hypothesis (Ho) which states there is no statistically significant difference.\n",
    "An alternative hypothesis (Ha) states there is a statistically significant difference. \n",
    "\n",
    "Def:\n",
    "\n",
    "T-statistic is the ratio of the departure of the estimated value of a parameter from its hypothesized value to its standard error.\n",
    "\n",
    "The t-value measures the size of the difference relative to the variation in your sample data.\n",
    "T-statistic is used when the sample size is less than 30 units or the population standard deviation is unknown.\n",
    "\n",
    "\n",
    "1) A one-sample t-test : \n",
    "\n",
    "    can be used to determine whether your sample comes from a population that is different from some specific value of interest.means if the sample came from the given population or not.\n",
    "    i.e A one sample t-test is used to test whether or not the mean of a population is equal to some value.\n",
    "\n",
    "Formula:\n",
    " \n",
    "        t = (x – μ) / (s/√n)\n",
    "        \n",
    "        x: sample mean\n",
    "        μ0: hypothesized population mean\n",
    "        s: sample standard deviation\n",
    "        n: sample size\n",
    "\n",
    "One Sample t-test: Formula\n",
    "\n",
    "A one-sample t-test always uses the following null hypothesis:\n",
    "\n",
    "    H0: μ = μ0 (population mean is equal to some hypothesized value μ0)\n",
    "    \n",
    "The alternative hypothesis can be either two-tailed, left-tailed, or right-tailed:\n",
    "\n",
    "    H1 (two-tailed): μ ≠ μ0 (population mean is not equal to some hypothesized value μ0)\n",
    "    H1 (left-tailed): μ < μ0 (population mean is less than some hypothesized value μ0)\n",
    "    H1 (right-tailed): μ > μ0 (population mean is greater than some hypothesized value μ0)\n",
    "    \n",
    "One Sample t-test: Assumptions:\n",
    "1) The variable under study should be either an interval or ratio variable.\n",
    "2) The observations in the sample should be independent.\n",
    "3) The variable under study should be approximately normally distributed. You can check this assumption by creating a histogram and visually checking if the distribution has roughly a “bell shape.”\n",
    "4) The variable under study should have no outliers. You can check this assumption by creating a boxplot and visually checking for outliers. \n",
    "\n",
    "Two Sample Test :\n",
    "    \n",
    "    A 2-sample t-test helps you determine whether two groups of samples are different and whether they come from the same or different populations.\n",
    "    A two sample t-test is used to determine whether or not two population means are equal.\n",
    "    \n",
    "Two Sample t-test: Formula\n",
    "\n",
    "A two-sample t-test always uses the following null hypothesis:\n",
    "\n",
    "    H0: μ1 = μ2 (the two population means are equal)\n",
    "    \n",
    "The alternative hypothesis can be either two-tailed, left-tailed, or right-tailed:\n",
    "\n",
    "    H1 (two-tailed): μ1 ≠ μ2 (the two population means are not equal)\n",
    "    H1 (left-tailed): μ1 < μ2 (population 1 mean is less than population 2 mean)\n",
    "    H1 (right-tailed): μ1> μ2 (population 1 mean is greater than population 2 mean)\n",
    "    \n",
    "We use the following formula to calculate the test statistic t:\n",
    "    \n",
    "        t = (x1 – x2)  /  sp(√1/n1 + 1/n2)\n",
    "\n",
    "where x1 and x2 are the sample means, \n",
    "n1 and n2 are the sample sizes, \n",
    "and where sp is calculated as:\n",
    "\n",
    "sp = √ (n1-1)s1**2 +  (n2-1)s2**2 /  (n1+n2-2)\n",
    "\n",
    "where s1**2 and s2**2 are the sample variances.\n",
    "\n",
    "Two Sample t-test: Assumptions\n",
    "\n",
    "1) The observations in one sample should be independent of the observations in the other sample.\n",
    "2) The data should be approximately normally distributed.\n",
    "3) The two samples should have approximately the same variance. If this assumption is not met, you should instead perform Welch’s t-test.\n",
    "4) The data in both samples was obtained using a random sampling method."
   ]
  },
  {
   "cell_type": "markdown",
   "id": "ea58aaf0-1b5b-4257-b8fb-b693b9e0e502",
   "metadata": {},
   "source": [
    "## Q13. A coffee shop owner wants to estimate the average daily revenue for their shop. They take a random sample of 50 days and find the sample mean revenue to be $500 with a standard deviation of $50. Estimate the population mean revenue with a 95% confidence interval."
   ]
  },
  {
   "cell_type": "code",
   "execution_count": null,
   "id": "dc3679ee-be56-4c24-b82e-c49570f6809d",
   "metadata": {},
   "outputs": [],
   "source": [
    "sample mean = xbar=500\n",
    "std deviation = 50\n",
    "n=50\n",
    "CI=95%\n",
    "so alpha =0.05 i.e alpha/2 =0.025\n",
    "Here we have to fine the population mean wrt confidence interval 95%\n",
    "Here we know std deviation and sample size is >30 so go for z test."
   ]
  },
  {
   "cell_type": "code",
   "execution_count": null,
   "id": "3a912b65-c68b-4fb4-b90d-18ddb9838cd6",
   "metadata": {},
   "outputs": [],
   "source": [
    "Zscore = xbar-μ/σ√n\n",
    "Based on CI we can draw the decision boundry i.e  1-0.025=0.9750\n",
    "zscore(0.9750) = 1.96 \n",
    "as this is normal dustribution we get the other side value = -1.96\n",
    "\n",
    "\n",
    "Here Lower CI= x¯±z α/2(σ/√n) \n",
    "Upper CI = x¯±z α/2(σ/√n) \n",
    " \n",
    "    Lower CI = 500 -((1.96)*50/root(50))\n",
    "                = 500 -(1.96*7.071)\n",
    "                = 500 - 13.86\n",
    "                = 486.14\n",
    "    Upper CI =500 + ((1.96)*50/root(50))\n",
    "            = 500 + (1.96*7.071)\n",
    "            = 513.86\n",
    "            \n",
    "            \n",
    "So population mean is lies between (486.14,513.86) with 95% of confidence interval"
   ]
  },
  {
   "cell_type": "markdown",
   "id": "9108033c-e4e7-4cb5-9452-5f1eaa1cc04b",
   "metadata": {},
   "source": [
    "## Q14. A researcher hypothesizes that a new drug will decrease blood pressure by 10 mmHg. They conduct a clinical trial with 100 patients and find that the sample mean decrease in blood pressure is 8 mmHg with a standard deviation of 3 mmHg. Test the hypothesis with a significance level of 0.05."
   ]
  },
  {
   "cell_type": "code",
   "execution_count": null,
   "id": "f54d5042-7709-4651-ba72-ed9a3a6540f2",
   "metadata": {},
   "outputs": [],
   "source": [
    "#Step 1: state  the hypothesis\n",
    "Ho : new drug will not decrease blodd pressure at least by 10 mmHg \n",
    "H1 : New drug will  decrese the blood pressure at least by 10 or greater mm Hg \n",
    "\n",
    "Here we need to do right "
   ]
  },
  {
   "cell_type": "code",
   "execution_count": null,
   "id": "ad239a18-fe0f-42b0-b794-ebabc038692c",
   "metadata": {},
   "outputs": [],
   "source": [
    "Step 2 :\n",
    "    Level of significance = alpha = 0.05 i,e CI 95%"
   ]
  },
  {
   "cell_type": "code",
   "execution_count": 6,
   "id": "779084af-164a-47d7-bf0f-ba19d0972831",
   "metadata": {},
   "outputs": [],
   "source": [
    "#Step 3:Test the statastic\n",
    "u=10\n",
    "xbar =8\n",
    "n=100\n",
    "alpha =0.05\n",
    "std_deviation =3"
   ]
  },
  {
   "cell_type": "code",
   "execution_count": 13,
   "id": "fce9f604-c286-43aa-acc2-ddc16df60c2a",
   "metadata": {},
   "outputs": [],
   "source": [
    "import math\n",
    "z_score = (xbar-u)/(std_deviation/math.sqrt(n))"
   ]
  },
  {
   "cell_type": "code",
   "execution_count": 14,
   "id": "d046a6de-fe83-44be-82a1-49c569987f5a",
   "metadata": {},
   "outputs": [
    {
     "data": {
      "text/plain": [
       "-6.666666666666667"
      ]
     },
     "execution_count": 14,
     "metadata": {},
     "output_type": "execute_result"
    }
   ],
   "source": [
    "z_score"
   ]
  },
  {
   "cell_type": "code",
   "execution_count": 20,
   "id": "33b9aa88-6f7c-40d1-915d-81d5b5f1cf9a",
   "metadata": {},
   "outputs": [
    {
     "name": "stdout",
     "output_type": "stream",
     "text": [
      "0.999999999986916\n"
     ]
    }
   ],
   "source": [
    "#step 4 :calculate p value \n",
    "from scipy import stats \n",
    "\n",
    "p_value=1-stats.norm.cdf(z_score)\n",
    "print(p_value)"
   ]
  },
  {
   "cell_type": "code",
   "execution_count": 21,
   "id": "0b55a3eb-adb0-446a-9a6b-c434af92ee43",
   "metadata": {},
   "outputs": [
    {
     "name": "stdout",
     "output_type": "stream",
     "text": [
      "Failed to reject Null Hypothesis\n"
     ]
    }
   ],
   "source": [
    "#step 5:compare p value with alpha\n",
    "if p_value <= 0.05:\n",
    "    print (\"Reject Null Hypothesis\")\n",
    "else:\n",
    "    print(\"Failed to reject Null Hypothesis\")"
   ]
  },
  {
   "cell_type": "code",
   "execution_count": null,
   "id": "8f662e1d-4292-4c2b-942a-c60ef0639a92",
   "metadata": {},
   "outputs": [],
   "source": [
    "#Step 6:Make inference\n",
    "Inference : we are failed to reject the null hypothesis that new drug will not decrease blodd pressure at least by 10 mmHg "
   ]
  },
  {
   "cell_type": "markdown",
   "id": "81ecf5d1-3f00-4a90-b38e-23ed85e6ca90",
   "metadata": {},
   "source": [
    "## Q15. An electronics company produces a certain type of product with a mean weight of 5 pounds and a standard deviation of 0.5 pounds. A random sample of 25 products is taken, and the sample mean weight is found to be 4.8 pounds. Test the hypothesis that the true mean weight of the products is less than 5 pounds with a significance level of 0.01."
   ]
  },
  {
   "cell_type": "code",
   "execution_count": null,
   "id": "c123cb09-048f-4f51-b458-55456bc527d1",
   "metadata": {},
   "outputs": [],
   "source": [
    "step 1:Declare the hypothesis\n",
    "Ho : weight of the products greater than equal to 5 pounds\n",
    "H1 : weight of the products < 5 pounds\n",
    "\n",
    "step2 : Here n<30 so we can go ahead for t test\n",
    "Step 3: decide the decision boundry\n",
    "        xbar =4.8 mue=5 std deviation =0.5 n=25\n",
    "        alpha =0.01 CI=99%\n",
    "\n",
    "        t = 4.8-5/0.5/root(25)\n",
    "        t = -0.2/0.1\n",
    "        t=-2\n",
    "        \n",
    "step 4 df = 24 and alpha =0.01\n",
    "so critical value = 2.492 \n",
    "so t < 2.492\n",
    "\n",
    "inference : Reject the null hypothesis means we are failed to accept that weight of the products greater than equal to 5 pounds\n"
   ]
  },
  {
   "cell_type": "markdown",
   "id": "e0bb4751-e546-4c8c-9228-ef973381d092",
   "metadata": {},
   "source": [
    "## Q16. Two groups of students are given different study materials to prepare for a test. The first group (n1 =30) has a mean score of 80 with a standard deviation of 10, and the second group (n2 = 40) has a mean score of 75 with a standard deviation of 8. Test the hypothesis that the population means for the two groups are equal with a significance level of 0.01."
   ]
  },
  {
   "cell_type": "code",
   "execution_count": 25,
   "id": "e34686bd-2d9f-408d-89ec-0c8f8d4da83e",
   "metadata": {},
   "outputs": [],
   "source": [
    "n1=30\n",
    "x1=80\n",
    "std_deviation1=10\n",
    "n2=40\n",
    "x2=75\n",
    "std_deviation2 = 8"
   ]
  },
  {
   "cell_type": "code",
   "execution_count": null,
   "id": "f296ef11-e7e6-4c80-a8cf-031d67ffbaa4",
   "metadata": {},
   "outputs": [],
   "source": [
    "A two-sample t-test always uses the following null hypothesis:\n",
    "\n",
    "H0: μ1 = μ2 (the two population means are equal)\n",
    "H1 (two-tailed): μ1 ≠ μ2 (the two population means are not equal)\n",
    "    \n",
    "z = (x1 – x2)  /  sp(√1/n1 + 1/n2)\n",
    "\n",
    "sp = √ (n1-1)s1**2 +  (n2-1)s2**2 /  (n1+n2-2)\n",
    "\n",
    "where s1**2 and s2**2 are the sample variances."
   ]
  },
  {
   "cell_type": "code",
   "execution_count": null,
   "id": "1e785e97-7752-439a-896b-addb1196a364",
   "metadata": {},
   "outputs": [],
   "source": [
    "#Step 1:Select the hypothesis\n",
    "H0:Population mean of two group are equal =u1-u2=0\n",
    "H1 :Population mean of two group are equal =u1-u2!=0"
   ]
  },
  {
   "cell_type": "code",
   "execution_count": null,
   "id": "f2b93f25-eac2-4b14-9275-39c36a1090f0",
   "metadata": {},
   "outputs": [],
   "source": [
    "#Step2:\n",
    "Significance of varience =0.01 i.e CI=99%"
   ]
  },
  {
   "cell_type": "code",
   "execution_count": 27,
   "id": "b23bf999-0542-42a0-8edb-d03b4e2030fb",
   "metadata": {},
   "outputs": [],
   "source": [
    "#step 3:Calculate the statastics\n",
    "from scipy import stats\n",
    "import math\n",
    "\n",
    "sp = math.sqrt((((n1-1)*(std_deviation1**2))+((n2-1)*(std_deviation2**2)))/(n1+n2-2))"
   ]
  },
  {
   "cell_type": "code",
   "execution_count": 28,
   "id": "b7ad44b0-298e-448c-8875-63c878dd03a0",
   "metadata": {},
   "outputs": [
    {
     "name": "stdout",
     "output_type": "stream",
     "text": [
      "8.908026783551485\n"
     ]
    }
   ],
   "source": [
    "print(sp)"
   ]
  },
  {
   "cell_type": "code",
   "execution_count": 31,
   "id": "20b5b2ab-79eb-4932-8029-3d25d37d5a70",
   "metadata": {},
   "outputs": [
    {
     "data": {
      "text/plain": [
       "2.3239677296992913"
      ]
     },
     "execution_count": 31,
     "metadata": {},
     "output_type": "execute_result"
    }
   ],
   "source": [
    "z_score"
   ]
  },
  {
   "cell_type": "code",
   "execution_count": 37,
   "id": "fe6c138b-6adc-4038-af2e-5fe0400cf3eb",
   "metadata": {},
   "outputs": [
    {
     "name": "stdout",
     "output_type": "stream",
     "text": [
      "2.3239677296992913\n"
     ]
    }
   ],
   "source": [
    "#calculate z value:\n",
    "#This is a two-tailed test, using a Z statistic and a 1% level of significance. Reject H0 if Z < -2.575 or is Z > 2.575.\n",
    "z_score = (x1-x2)/(sp*(math.sqrt((1/n1)+(1/n2))))\n",
    "print(z_score)"
   ]
  },
  {
   "cell_type": "code",
   "execution_count": 34,
   "id": "94c4a0cb-8a00-4b25-9d10-df91c2453e58",
   "metadata": {},
   "outputs": [
    {
     "name": "stdout",
     "output_type": "stream",
     "text": [
      "0.02012722366741645\n"
     ]
    }
   ],
   "source": [
    "#Step4:calculate p value \n",
    "p_value = 2*stats.norm.sf(z_score)\n",
    "print(p_value)"
   ]
  },
  {
   "cell_type": "code",
   "execution_count": null,
   "id": "183b09b9-cda0-4df1-9388-6480c1bc2a29",
   "metadata": {},
   "outputs": [],
   "source": [
    "#Step 5:compare p value with alpha"
   ]
  },
  {
   "cell_type": "code",
   "execution_count": 35,
   "id": "dc078aff-4c51-4b8e-ba84-cc75cda0a076",
   "metadata": {},
   "outputs": [
    {
     "name": "stdout",
     "output_type": "stream",
     "text": [
      "Failed to reject the null Hypothesis\n"
     ]
    }
   ],
   "source": [
    "if p_value <=0.01:\n",
    "    print(\"Reject the null Hypothesis\")\n",
    "else:\n",
    "    print(\"Failed to reject the null Hypothesis\")"
   ]
  },
  {
   "cell_type": "code",
   "execution_count": 38,
   "id": "2c16b114-b2a9-4a10-8a4d-820361dd4437",
   "metadata": {},
   "outputs": [
    {
     "name": "stdout",
     "output_type": "stream",
     "text": [
      "Failed to reject null hypothesis\n"
     ]
    }
   ],
   "source": [
    "#Step5b: compare the outcome with z value\n",
    "if ((z_score >=2.575)or (z_score <=-2.575)):\n",
    "    print(\"Reject the null hypothesis\")\n",
    "else :\n",
    "    print(\"Failed to reject null hypothesis\")"
   ]
  },
  {
   "cell_type": "code",
   "execution_count": null,
   "id": "89a6a28b-5b78-48c3-9bfc-d63d1ef1c7d4",
   "metadata": {},
   "outputs": [],
   "source": [
    "#STep6: Make Inference\n",
    "we are failed to reject null hypothesis means we are retaining it as  μ1 = μ2 (the two population means are equal)"
   ]
  },
  {
   "cell_type": "markdown",
   "id": "7fd2997c-76c3-4fd4-be7e-e0e0229d8082",
   "metadata": {},
   "source": [
    "# Q17. A marketing company wants to estimate the average number of ads watched by viewers during a TV program. They take a random sample of 50 viewers and find that the sample mean is 4 with a standard deviation of 1.5. Estimate the population mean with a 99% confidence interval."
   ]
  },
  {
   "cell_type": "code",
   "execution_count": 44,
   "id": "8758573b-a667-47b6-b7ab-1fa66900d5c4",
   "metadata": {},
   "outputs": [],
   "source": [
    "n=50\n",
    "xbar=4\n",
    "std_dev=1.5\n",
    "#CI=99\n",
    "alpha =0.01"
   ]
  },
  {
   "cell_type": "markdown",
   "id": "2f2e6884-34e4-4dbd-8897-8a7a8536b1e6",
   "metadata": {},
   "source": [
    "#Zscore = ((xbar-μ)/(std_dev/math.sqrt(50))\n",
    "Based on CI we can draw the decision boundry i.e  1-0.01=0.99\n",
    "zscore(0.99) = 2.575\n",
    "as this is normal dustribution we get the other side value = -2.575"
   ]
  },
  {
   "cell_type": "code",
   "execution_count": null,
   "id": "39db8cbb-cde0-4ef4-ad19-31106ec4297e",
   "metadata": {},
   "outputs": [],
   "source": [
    "z_score=2.575"
   ]
  },
  {
   "cell_type": "code",
   "execution_count": 46,
   "id": "68f69d86-c211-4dcf-8e95-962f531db6c8",
   "metadata": {},
   "outputs": [
    {
     "name": "stdout",
     "output_type": "stream",
     "text": [
      "3.5070119977212775\n"
     ]
    }
   ],
   "source": [
    "lower_bound = xbar-(z_score*(std_dev/(math.sqrt(50))))\n",
    "print(lower_bound)"
   ]
  },
  {
   "cell_type": "code",
   "execution_count": 48,
   "id": "56e771ae-106b-43c1-b92a-a47fab84f432",
   "metadata": {},
   "outputs": [
    {
     "name": "stdout",
     "output_type": "stream",
     "text": [
      "4.4929880022787225\n"
     ]
    }
   ],
   "source": [
    "upper_bound = xbar+(z_score*(std_dev/(math.sqrt(50))))\n",
    "print(upper_bound)"
   ]
  },
  {
   "cell_type": "code",
   "execution_count": 51,
   "id": "a49e25de-1301-431f-85fa-913697202c4b",
   "metadata": {},
   "outputs": [
    {
     "name": "stdout",
     "output_type": "stream",
     "text": [
      "Population mean in between3.5070119977212775 and 4.4929880022787225...\n"
     ]
    }
   ],
   "source": [
    "print (\"Population mean in between\"+str(lower_bound)+\" and \"+str(upper_bound)+\"...\")"
   ]
  },
  {
   "cell_type": "code",
   "execution_count": null,
   "id": "555b9875-cced-4330-a859-0e89c436bf2d",
   "metadata": {},
   "outputs": [],
   "source": []
  },
  {
   "cell_type": "code",
   "execution_count": null,
   "id": "d114db52-be5d-4418-b76e-2f99a7b8a814",
   "metadata": {},
   "outputs": [],
   "source": []
  },
  {
   "cell_type": "code",
   "execution_count": null,
   "id": "a2fd6fe7-0198-4323-b05a-005054cd9492",
   "metadata": {},
   "outputs": [],
   "source": []
  },
  {
   "cell_type": "code",
   "execution_count": null,
   "id": "9712bf1f-d3ba-4230-b6fc-b752da2f418d",
   "metadata": {},
   "outputs": [],
   "source": []
  },
  {
   "cell_type": "code",
   "execution_count": null,
   "id": "cfb8c4dd-83d4-430d-a98e-6ddf2c41cbf7",
   "metadata": {},
   "outputs": [],
   "source": []
  },
  {
   "cell_type": "code",
   "execution_count": null,
   "id": "6dc811f4-08be-4ed3-99ae-cad952790dcb",
   "metadata": {},
   "outputs": [],
   "source": []
  }
 ],
 "metadata": {
  "kernelspec": {
   "display_name": "Python 3 (ipykernel)",
   "language": "python",
   "name": "python3"
  },
  "language_info": {
   "codemirror_mode": {
    "name": "ipython",
    "version": 3
   },
   "file_extension": ".py",
   "mimetype": "text/x-python",
   "name": "python",
   "nbconvert_exporter": "python",
   "pygments_lexer": "ipython3",
   "version": "3.10.8"
  }
 },
 "nbformat": 4,
 "nbformat_minor": 5
}
