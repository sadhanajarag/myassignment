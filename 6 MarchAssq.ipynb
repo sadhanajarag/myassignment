{
 "cells": [
  {
   "cell_type": "markdown",
   "id": "551db3f1-9d30-4700-bec4-5a6496631052",
   "metadata": {},
   "source": [
    "## Q1. What is Statistics?"
   ]
  },
  {
   "cell_type": "markdown",
   "id": "7f5f6884-a6c2-4ce8-a1d7-cca50343aacb",
   "metadata": {},
   "source": [
    "statistics, the science of collecting, analyzing, presenting, and interpreting data."
   ]
  },
  {
   "cell_type": "markdown",
   "id": "3e531afd-8679-46e6-bf7b-96fd58f9c0cd",
   "metadata": {},
   "source": [
    "## Q2. Define the different types of statistics and give an example of when each type might be used."
   ]
  },
  {
   "cell_type": "markdown",
   "id": "93203742-3f03-43f8-b951-daa0bae371c9",
   "metadata": {},
   "source": [
    "There are two types of statistics.\n",
    "\n",
    "\n",
    "descriptive statistics:\n",
    "\n",
    "    One type is called descriptive statistics, which focuses on summarising data. \n",
    "    we use numerical and graphical way to describe and display the data.\n",
    "    Through graphs or tables, or numerical calculations, descriptive statistics uses the data to provide descriptions of the population.\n",
    "    \n",
    "inferential statistics:\n",
    "\n",
    "    Another type is called inferential statistics, which focuses on making conclusions about populations based on samples.\n",
    "    Based on the data sample taken from the population, inferential statistics makes the predictions and inferences.\n",
    "    \n",
    "when descriptive statastic used :\n",
    "\n",
    "    -To create an overview of the entire data set by summarizing it\n",
    "    -To generate an actionable set of information from the large data set having multiple variables\n",
    "    -To segregate the data into homogeneous groups to enable comparison\n",
    "    \n",
    "when descriptive statastic used :\n",
    "\n",
    "        Inferential statistics is mainly used to derive estimates about a large group (or population) and draw conclusions on the data based on hypotheses testing methods."
   ]
  },
  {
   "cell_type": "markdown",
   "id": "f0aea84f-7296-4708-a6ad-b66fe974f425",
   "metadata": {},
   "source": [
    "## Q3. What are the different types of data and how do they differ from each other? Provide an example of each type of data."
   ]
  },
  {
   "cell_type": "markdown",
   "id": "dff0ccf1-616c-497b-9a92-b7aabf847132",
   "metadata": {},
   "source": [
    "1)Quantitative:\n",
    "\n",
    "         -Easier to explain and It answers key questions such as “how many, “how much” and “how often”.\n",
    "         -Quantitative data can be expressed as a number or can be quantified. \n",
    "         -we can measure by numerical variables.\n",
    "         \n",
    "\n",
    "Examples of quantitative data:\n",
    "\n",
    "                    Scores on tests and exams e.g. 85, 67, 90 and etc.\n",
    "                    The weight of a person or a subject.\n",
    "                    Your shoe size.\n",
    "                    The temperature in a room.\n",
    "                    \n",
    "There are 2 general types of quantitative data: \n",
    "\n",
    "                    discrete data and continuous data.\n",
    "                    \n",
    "a)discrete data:\n",
    "\n",
    "                -Discrete data is a count that involves only integers. The discrete values cannot be subdivided into parts.\n",
    "                -For example, the number of children in a class is discrete data. You can count whole individuals. You can’t count                     1.5 kids\n",
    "                -whole number with specific range\n",
    "                -e.g no of children,no of bank account.\n",
    "    \n",
    "b)contineous data: \n",
    "\n",
    "                -Continuous data is information that could be meaningfully divided into finer levels. It can be measured on a scale or continuum and can have almost any numeric value.\n",
    "                -float and having contineous range\n",
    "                -weight and height of kid\n",
    "                - temerature,speed.\n",
    "        \n",
    "        \n",
    "2)Qualitative:\n",
    "\n",
    "        -Qualitative data can’t be expressed as a number and can’t be measured. \n",
    "        -Qualitative data consist of words, pictures, and symbols, not numbers.\n",
    "        -Qualitative data is also called categorical data because the information can be sorted by category, not by number.\n",
    "        -Qualitative data can answer questions such as “how this has happened” or and “why this has happened”.\n",
    "\n",
    "Examples of qualitative data:\n",
    "\n",
    "        -Colors e.g. the color of the sea\n",
    "        -Your favorite holiday destination such as Hawaii, New Zealand and etc.\n",
    "        -Names as John, Patricia,…..\n",
    "        -Ethnicity such as American Indian, Asian, etc.\n",
    "        \n",
    "Two type of qualitative data:\n",
    "\n",
    "            1)Nominal data\n",
    "            2)Ordinal Data\n",
    "            \n",
    "a) Nominal data:\n",
    "\n",
    "          The nominal data just name a thing without applying it to order.\n",
    "          Actually, the nominal data could just be called “labels.”\n",
    "\n",
    "Examples of Nominal Data:\n",
    "\n",
    "    -Gender (Women, Men)\n",
    "    -Hair color (Blonde, Brown, Brunette, Red, etc.)\n",
    "    -Marital status (Married, Single, Widowed)\n",
    "    -Examples of qualitative data:\n",
    "\n",
    " b) Ordinal data:\n",
    " \n",
    "         -Ordinal data shows where a number is in order. This is the crucial difference from nominal types of data.\n",
    "        -Ordinal data is data which is placed into some kind of order by their position on a scale. \n",
    "        -Ordinal data may indicate superiority.\n",
    "        -However, you cannot do arithmetic with ordinal numbers because they only show sequence.\n",
    "        -ordinal data is qualitative data for which the values are ordered.\n",
    "        -We can also assign numbers to ordinal data to show their relative position. But we cannot do math with those numbers. For example: “first, second, third…etc.”\n",
    "\n",
    "Examples of Ordinal Data:\n",
    "\n",
    "        -The first, second and third person in a competition.\n",
    "        -Letter grades: A, B, C, and etc.\n",
    "        -When a company asks a customer to rate the sales experience on a scale of 1-10."
   ]
  },
  {
   "cell_type": "markdown",
   "id": "4901578a-a3ff-483d-b0e2-14ca751b65f1",
   "metadata": {},
   "source": [
    "## Q4. Categorise the following datasets with respect to quantitative and qualitative data types:\n",
    "(i) Grading in exam: A+, A, B+, B, C+, C, D, E\n",
    "\n",
    "(ii) Colour of mangoes: yellow, green, orange, red\n",
    "\n",
    "(iii) Height data of a class: [178.9, 179, 179.5, 176, 177.2, 178.3, 175.8,...]\n",
    "\n",
    "(iv) Number of mangoes exported by a farm: [500, 600, 478, 672, ...]"
   ]
  },
  {
   "cell_type": "markdown",
   "id": "a9faf749-5440-42a1-9895-7d6bf7897981",
   "metadata": {},
   "source": [
    "ANS:"
   ]
  },
  {
   "cell_type": "markdown",
   "id": "b1ae7d40-396e-44b4-a1ea-15ec2c99640f",
   "metadata": {},
   "source": [
    "(i) Grading in exam: A+, A, B+, B, C+, C, D, E  : Qualitative ordinal data type"
   ]
  },
  {
   "cell_type": "markdown",
   "id": "2c6f27b5-2d2d-4b84-82b5-957f9a2cb8d5",
   "metadata": {},
   "source": [
    "(ii) Colour of mangoes: yellow, green, orange, red : Qualitative nominal data type"
   ]
  },
  {
   "cell_type": "markdown",
   "id": "38735d0a-5bad-48c9-8a21-7b04c64566d6",
   "metadata": {},
   "source": [
    "iii) Height data of a class: [178.9, 179, 179.5, 176, 177.2, 178.3, 175.8,...] : Quantitative/contineous Ratio scale data"
   ]
  },
  {
   "cell_type": "markdown",
   "id": "56ff2fb7-0e0f-4171-8869-c490fc9b7fe1",
   "metadata": {},
   "source": [
    "(iv) Number of mangoes exported by a farm: [500, 600, 478, 672, ...] :Quantitative /discrete data"
   ]
  },
  {
   "cell_type": "markdown",
   "id": "7b2b8716-529b-4cbd-ae32-d670650523be",
   "metadata": {},
   "source": [
    "## Q5. Explain the concept of levels of measurement and give an example of a variable for each level."
   ]
  },
  {
   "cell_type": "markdown",
   "id": "09c695a4-611b-457c-81bd-dde8203c4e72",
   "metadata": {},
   "source": [
    "Levels of measurement, also called scales of measurement, tell you how precisely variables are recorded. \n",
    "In scientific research, a variable is anything that can take on different values across your data set (e.g., height or test scores).\n",
    "\n",
    "There are 4 levels of measurement:\n",
    "\n",
    "1. Nominal: the data can only be categorized\n",
    "2. Ordinal: the data can be categorized and ranked\n",
    "3. Interval: the data can be categorized, ranked, and evenly spaced\n",
    "4. Ratio: the data can be categorized, ranked, evenly spaced, and has a natural zero."
   ]
  },
  {
   "cell_type": "markdown",
   "id": "d0df6946-3fc2-480d-872d-c08c81048966",
   "metadata": {},
   "source": [
    "1. Nominal scale of measurement:\n",
    "\n",
    "    \n",
    "                -This scale has certain characteristics, but doesn’t have any form of numerical meaning. \n",
    "                -The data can be placed into categories but can’t be multiplied, divided, added or subtracted from one another.                   -It’s also not possible to measure the difference between data points.\n",
    "                -e.g eye colour,country of birth.\n",
    "                \n",
    "   \n",
    "   Nominal data can be broken down again into three categories:\n",
    "    \n",
    "\n",
    "        1)Nominal with order: Some nominal data can be sub-categorised in order, such as “cold, warm, hot and very hot.”\n",
    "\n",
    "        2)Nominal without order: Nominal data can also be sub-categorised as nominal without order, such as male and female.\n",
    "\n",
    "        3)Dichotomous: Dichotomous data is defined by having only two categories or levels, such as “yes’ and ‘no’.\n",
    "        \n",
    "\n",
    "2. Ordinal scale of measurement\n",
    "\n",
    "                -The ordinal scale defines data that is placed in a specific order.\n",
    "                -Ranking and order is matters\n",
    "                -we cant add or substract or coudnt differentiate from one another..\n",
    "                -difference can not measure\n",
    "                -e.g education degree and ranking of race\n",
    "\n",
    "3. Interval scale of measurement\n",
    "    \n",
    "                    --Rank and order matters of the data\n",
    "                    --difference also can easily be measured.\n",
    "                    -- ratio can not be measured of such data\n",
    "                    --does not zero starting value.\n",
    "                    --e.g temperature ,month of day\n",
    "                    --we can do add and substact but not divide and multiply.\n",
    "                    ---Having properties of nominal and ordinal data.\n",
    "                    \n",
    "4. Ratio scale of measurement\n",
    "        \n",
    "                    -Data order and rank matters\n",
    "                    --We can also measure the difference  and ratios also can be meausred\n",
    "                    --does have zero starting point.\n",
    "                    --marks in exams...0 marks ...we can get double of value,we can caluclate differences.\n",
    "                    --ratio scale can be added, subtracted, divided and multiplied\n",
    "                    --e.g lenght ,weight "
   ]
  },
  {
   "cell_type": "markdown",
   "id": "29a2cfb8-9d4d-48b7-9184-f2e3e79cbe19",
   "metadata": {},
   "source": [
    "## Q6. Why is it important to understand the level of measurement when analyzing data? Provide an example to illustrate your answer."
   ]
  },
  {
   "cell_type": "markdown",
   "id": "f4d3a693-d69a-4593-9dc0-1fabe39fe4a1",
   "metadata": {},
   "source": [
    "Level of measurement is important because the higher the level of measurement of a variable, the more powerful are the statistical techniques that can be used to analyze it.\n",
    "\n",
    "The type of statistical test that can be used to derive a conclusion about the wider population depends upon the level of measurement of the variable under consideration. \n",
    "\n",
    "The level of measurement of a variable is nothing but the mathematical nature of a variable or, how a variable is measured.\n",
    "\n",
    "One of the most important and basic step in learning Statistics is understanding the levels of measurement for the variables.\n",
    "\n",
    "e.g \n",
    "    -lets say  we want to calculate the avarage salary of the employee which are in range of age 30-40 india\n",
    "    here we coudnt collect each and every person salary within 30-40 age range so we will select data from different region liek west south north and east and collect or we will do survey and according the collected we are doing some calculationn here data can be differ wrt so many other conditions like education,field of work etc. so by considering so many factor which can effect \n",
    "    the salary of person within specific range of age 30-40.so while doing the analysis we have to consider so many levels of data without knowing this we coudnt do correct analysis.\n",
    "    -So compute the average or choose a random sample from the entire population and compute the average salary for that sample, and then use the statistical tests to derive conclusions for a wider population\n",
    "    -The type of statistical test that can be used to derive a conclusion about the wider population depends upon the level of measurement of the variable under consideration."
   ]
  },
  {
   "cell_type": "markdown",
   "id": "22000fcd-3beb-4a1a-bd14-3877393757f3",
   "metadata": {},
   "source": [
    "## Q7. How nominal data type is different from ordinal data type."
   ]
  },
  {
   "cell_type": "markdown",
   "id": "cb6d00b2-5018-47ff-b0c5-7f7185ff67b2",
   "metadata": {},
   "source": [
    "Differences:\n",
    "    \n",
    "1) Nominal Data :Data having simple naming system.\n",
    "2) Ordinal Data :Data having the naming system which define the order of data\n",
    "\n",
    "1) Nominal Data :Data wih no numeric value\n",
    "2) Ordinal Data :May contain numeric value but its most for sequence or ranking\n",
    "\n",
    "1) Nominal Data :Its without any type of quantitative value\n",
    "2) Ordinal Data :We can assign the number but coudnt do any arithmatics with it.\n",
    "\n",
    "1) Nominal Data:They dont have any meaningful order\n",
    "2) Ordinal Data :They have meaning ful order \n",
    "\n"
   ]
  },
  {
   "cell_type": "markdown",
   "id": "b5bcf958-eda9-417e-a442-223bbfa6e9ae",
   "metadata": {},
   "source": [
    "## Q8. Which type of plot can be used to display data in terms of range?"
   ]
  },
  {
   "cell_type": "markdown",
   "id": "e981e48e-9152-47b8-8d0a-d89e663f5657",
   "metadata": {},
   "source": [
    "we can use: Histogram\n",
    "\n",
    "1)Histogram : for Numerical, or quantitative data\n",
    "\n",
    "2)Bar Plot :\n",
    "3)Box plot :Discrete data as well as contineous data\n",
    "4)Line graph : majority for Continuous data\n",
    "5)Pie chart :Categorical, or qualitative, data\n",
    "6)Scatter plot.\n",
    "7)Heat Map"
   ]
  },
  {
   "cell_type": "markdown",
   "id": "6fde68f8-206f-4678-9094-5223c208c1ff",
   "metadata": {},
   "source": [
    "## Q9. Describe the difference between descriptive and inferential statistics. Give an example of each type of statistics and explain how they are used."
   ]
  },
  {
   "cell_type": "markdown",
   "id": "b2426354-076f-4024-990d-6d90d4ac3501",
   "metadata": {},
   "source": [
    "1 ) descriptive statistics : summarizing and describibg the target population\n",
    "2 ) inferential statistics : Make the inference of the sample data and generalize them them to the entire population\n",
    "\n",
    "1 ) descriptive statistics : Organizing analysing and discring the data in meaning ful manner\n",
    "2 ) inferential statistics : Compare test and predict the future outcome\n",
    "\n",
    "1 ) descriptive statistics : Final result are shown in form of charts graph and tables\n",
    "2 ) inferential statistics: final result should be probability score\n",
    "\n",
    "1 ) descriptive statistics : We have complete knowledge of data or have whole data in hand .\n",
    "2 ) inferential statistics : Tried to make conclusion about the population that is beyond the data available\n",
    "\n",
    "    \n",
    "1 ) descriptive statistics :Tool 1)Measure of central tendancy -(mean ,median,mode) and spread of data (standard deviation)\n",
    "2 ) inferential statistics : Tools :Hypothesis Test and Analysis of varience,Anova test,t-test,z -test"
   ]
  },
  {
   "cell_type": "markdown",
   "id": "54633709-ebae-4413-b10a-07bd29c20e9f",
   "metadata": {},
   "source": [
    "## Q10. What are some common measures of central tendency and variability used in statistics? Explain how each measure can be used to describe a dataset."
   ]
  },
  {
   "cell_type": "markdown",
   "id": "7e26e4db-9057-43e0-80dc-3e043ffd8384",
   "metadata": {},
   "source": [
    "Central Tendancy :\n",
    "    \n",
    "Measures of central tendency help you find the middle, or the average, of a dataset.\n",
    "The 3 most common measures of central tendency are the mode, median, and mean.\n",
    "\n",
    "Mode: the most frequent value.\n",
    "e.g \n",
    "Political ideology\t     Frequency\n",
    "Conservative\t          2\n",
    "Moderate\t              3\n",
    "Liberal\t                  4\n",
    "\n",
    "Mode is Liberal\n",
    "\n",
    "\n",
    "Median: the middle number in an ordered dataset.\n",
    "\n",
    "\n",
    "Participant   1\t      2\t     3  \t4\t   5\t    6\t    7\n",
    "Speed\t  Medium\tSlow\tFast\tFast\tMedium\tFast\tSlow\n",
    "\n",
    "Ordered dataset  \tSlow\tSlow\tMedium\tMedium\tFast\tFast\tFast\n",
    "\n",
    "median is the value in the 4th position. : Medium\n",
    "\n",
    "\n",
    "Mean: the sum of all values divided by the total number of values.\n",
    "The arithmetic mean of a dataset (which is different from the geometric mean) is the sum of all values divided by the total number of values. It’s the most commonly used measure of central tendency because all values are used in the calculation.\n",
    "\n",
    "e.g \n",
    "\n",
    "Example: Finding the mean\n",
    "\n",
    "Participant\t                       1\t   2\t   3\t   4\t    5\n",
    "Reaction time (milliseconds)\t  287\t   345\t  365\t        298  \t380\n",
    "\n",
    "Mean = 287+345+365+298+380/5 =335"
   ]
  },
  {
   "cell_type": "markdown",
   "id": "477ef4a1-32c3-4c18-86ed-98e3dbede17c",
   "metadata": {},
   "source": [
    "Below are some common level of measurement where we can use mode ,median and mean wrt to data."
   ]
  },
  {
   "cell_type": "markdown",
   "id": "4f88523f-f900-4fef-80d3-df6ede301ed8",
   "metadata": {},
   "source": [
    "When should you use the mean, median or mode?\n",
    "\n",
    "The mode can be used for any level of measurement, but it’s most meaningful for nominal and ordinal levels.\n",
    "\n",
    "The median can only be used on data that can be ordered – that is, from ordinal, interval and ratio levels of measurement.\n",
    "\n",
    "The mean can only be used on interval and ratio levels of measurement because it requires equal spacing between adjacent values or scores in the scale."
   ]
  },
  {
   "cell_type": "markdown",
   "id": "27d15bfd-b6b3-4c73-92aa-42269007ceaa",
   "metadata": {},
   "source": [
    "Levels of measurement\t         Examples\t                             Measure of central tendency\n",
    "\n",
    "Nominal\t                       Ethnicity                                              Mode\n",
    "                             Political ideology \n",
    "\n",
    "Ordinal\t                    Level of anxiety                                          Mode\n",
    "                            Income bracket                                            Median\n",
    "\n",
    "\n",
    "Interval and ratio\t           Reaction time                                           Mode\n",
    "                                Test score                                              Median\n",
    "                                Temperature                                            Mean\n",
    "\n",
    "\n"
   ]
  }
 ],
 "metadata": {
  "kernelspec": {
   "display_name": "Python 3 (ipykernel)",
   "language": "python",
   "name": "python3"
  },
  "language_info": {
   "codemirror_mode": {
    "name": "ipython",
    "version": 3
   },
   "file_extension": ".py",
   "mimetype": "text/x-python",
   "name": "python",
   "nbconvert_exporter": "python",
   "pygments_lexer": "ipython3",
   "version": "3.10.8"
  }
 },
 "nbformat": 4,
 "nbformat_minor": 5
}
