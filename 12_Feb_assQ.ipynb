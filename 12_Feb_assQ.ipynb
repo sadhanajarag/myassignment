{
 "cells": [
  {
   "cell_type": "markdown",
   "id": "c3b7cf0f-07f7-4775-9b3f-d3fceaa6423f",
   "metadata": {},
   "source": [
    "## Q1. Wht is an Exception in python? Write the differen,e etween Exceptions and syntax errors?"
   ]
  },
  {
   "cell_type": "code",
   "execution_count": null,
   "id": "d953c0fa-32cb-4330-93b7-084e96f6bbe9",
   "metadata": {},
   "outputs": [],
   "source": [
    "Exception is runtime error.\n",
    "\n",
    "Syntax errors \n",
    "The errors which occur during compiling of program are called syntax errors. \n",
    "If there is syntax error within program, program is not executed.\n",
    "These syntax errors are rectified by programmer in order to execute program.\n",
    "\n",
    "When the application user enter invalid/wrong input then we get Runtime Errors/Exceptions\n",
    "==>Invalid input gives u runtime errors.\n",
    "==>All runtime error are called exceptions(Invalid input gives runtime errors and they gives exceptions)\n",
    "==>hence all the invalid input gives exceptions\n",
    "==>All exceptions gives by default \"technical error messages\"."
   ]
  },
  {
   "cell_type": "markdown",
   "id": "c402f29a-5897-48f1-8dd7-6b10bb6343a1",
   "metadata": {},
   "source": [
    "## What happend if exception is not handled?Explain with example."
   ]
  },
  {
   "cell_type": "markdown",
   "id": "01160bc3-f04a-455b-8137-7cadaca270b0",
   "metadata": {},
   "source": [
    "\n",
    "When the exception occurs and its not handled in python program,\n",
    "Internally 3 steps take place\n",
    "\ta)PVM terminates the program execution abnormally.\n",
    "\tb)PVM comes out of program flow.\n",
    "\tc)By default PVM generates Technical Error Messages.\n",
    "==>To do a,b,c steps \"PVM creates an object of one of pre defined exception class\"."
   ]
  },
  {
   "cell_type": "code",
   "execution_count": 3,
   "id": "7fdb30b1-943c-4b06-948d-7f7c4e703495",
   "metadata": {},
   "outputs": [
    {
     "name": "stdin",
     "output_type": "stream",
     "text": [
      "Enter Age: 23\n"
     ]
    },
    {
     "name": "stdout",
     "output_type": "stream",
     "text": [
      "Your age is : 23\n"
     ]
    }
   ],
   "source": [
    "def a(age):\n",
    "    print(\"Your age is :\",age)\n",
    "\n",
    "a(int(input(\"Enter Age:\")))"
   ]
  },
  {
   "cell_type": "code",
   "execution_count": 4,
   "id": "106f19ce-956e-49fc-a38e-0935b38e6e8f",
   "metadata": {},
   "outputs": [
    {
     "name": "stdin",
     "output_type": "stream",
     "text": [
      "Enter Age: abs\n"
     ]
    },
    {
     "ename": "ValueError",
     "evalue": "invalid literal for int() with base 10: 'abs'",
     "output_type": "error",
     "traceback": [
      "\u001b[0;31m---------------------------------------------------------------------------\u001b[0m",
      "\u001b[0;31mValueError\u001b[0m                                Traceback (most recent call last)",
      "Cell \u001b[0;32mIn[4], line 4\u001b[0m\n\u001b[1;32m      1\u001b[0m \u001b[38;5;28;01mdef\u001b[39;00m \u001b[38;5;21ma\u001b[39m(age):\n\u001b[1;32m      2\u001b[0m     \u001b[38;5;28mprint\u001b[39m(\u001b[38;5;124m\"\u001b[39m\u001b[38;5;124mYour age is :\u001b[39m\u001b[38;5;124m\"\u001b[39m,age)\n\u001b[0;32m----> 4\u001b[0m a(\u001b[38;5;28;43mint\u001b[39;49m\u001b[43m(\u001b[49m\u001b[38;5;28;43minput\u001b[39;49m\u001b[43m(\u001b[49m\u001b[38;5;124;43m\"\u001b[39;49m\u001b[38;5;124;43mEnter Age:\u001b[39;49m\u001b[38;5;124;43m\"\u001b[39;49m\u001b[43m)\u001b[49m\u001b[43m)\u001b[49m)\n",
      "\u001b[0;31mValueError\u001b[0m: invalid literal for int() with base 10: 'abs'"
     ]
    }
   ],
   "source": [
    "def a(age):\n",
    "    print(\"Your age is :\",age)\n",
    "\n",
    "a(int(input(\"Enter Age:\")))"
   ]
  },
  {
   "cell_type": "markdown",
   "id": "45c41a0f-a0b1-48cf-a5df-e5440a662572",
   "metadata": {},
   "source": [
    "## Q3 Which python statement  are used to catch  and handle the exceptions ?Explain with example\n"
   ]
  },
  {
   "cell_type": "code",
   "execution_count": null,
   "id": "281f407a-b679-4bb1-acf4-bbaead795f95",
   "metadata": {},
   "outputs": [],
   "source": [
    "Except Block: It will handle and catch the exceptions\n",
    "==>It is the block ,In which we write block of stetments provides user-friendly error\n",
    "\tmessages.In otherwords except block supresses the technical error messages and generates user-\n",
    "\tfriendly error messages.Hence this block is called\"exception Prossesing block\".\n",
    "\n",
    "Note:Handling the  exception=try Block+except block\n",
    "\n",
    "except block will execute provided an exception occurs in try block\n",
    "Even though we write multiple except block,PVM can execute appropriate exceptblock\n",
    "depends on the type of execution occurs in try block\n",
    "Industry is highy reccomended to write multiple except block for generating multiple\n",
    "\tUser friendly error messages\n",
    "except block to be written after try block and before else block(if we write else block)"
   ]
  },
  {
   "cell_type": "code",
   "execution_count": 15,
   "id": "9270668a-d5c4-4ca5-8773-b8cca088fc1f",
   "metadata": {},
   "outputs": [
    {
     "name": "stdout",
     "output_type": "stream",
     "text": [
      "Division by zero\n"
     ]
    }
   ],
   "source": [
    "try:\n",
    "    a = 10\n",
    "    b = 0\n",
    "    c = a/b\n",
    "except:\n",
    "\tprint(\"Division by zero\")"
   ]
  },
  {
   "cell_type": "markdown",
   "id": "530ab603-37fa-49e3-b4c1-87f528a2086c",
   "metadata": {},
   "source": [
    "## Q4 Explain with an example.\n",
    "    a)try and else\n",
    "    b)finally\n",
    "    c)raise"
   ]
  },
  {
   "cell_type": "markdown",
   "id": "ef5a8db8-a687-4e83-ba47-1c87be01d22e",
   "metadata": {},
   "source": [
    "1)try:\n",
    "==>It is the block,In which we write\n",
    "Note:Handling the excepton=Tryblock+except block of statements causes problems at runtime\n",
    "\t\n",
    "In otherwards what are all the stements generating exception then those statements\n",
    "\tmust be written within try block.Hence try block is called \"exception Monitoring blocks\"\n",
    "==>When the exception occurs in try block then PVM comes out of tyr block and executes\n",
    "\tappropriate except block(if provided otherwise PVM goes out of program flow)\n",
    "==>after executing appropriate except block PVM never comes to try block \n",
    "==>Each and every try block must have atleast one except block(Otherwise we cants give\n",
    "\tUser friendly Error Messages)\n",
    "==>Each and Every Try block must be immediatly followed by except block.\n",
    "\n",
    "3)Else block:\n",
    "    \n",
    "==>It is the block,In which we are reccomended to write block of statemenst for generating results\n",
    "\tand hence this block is called result block\n",
    "==>else block will execute provided there is no excepton occurs in try block.\n",
    "==+Writing else block is optional\n",
    "==>The place of writing else block is after except block and before finally block(if we write finally block)\n",
    "\n",
    "4)finally block:\n",
    "\n",
    "==>It is the block,in which we are reccomended to write block of stements which will\n",
    "\trelinquish(close/release/terminate/clean up)the resourses(file/databases).\n",
    "\twhich a obtained in try block.\n",
    "==>writing finally block is optional.\n",
    "==>finally block will execute compulsary (if we write).\n",
    "==>finally block to be return after else block(if we write else block)\n",
    "\n",
    "raise Keyword\n",
    "\n",
    "==>raise kwd is used for hitting or  raising or generating the exeption which is occured as a part of python program when certain condition is satisfied.\n",
    "\n"
   ]
  },
  {
   "cell_type": "code",
   "execution_count": 17,
   "id": "af4297af-2591-4178-ad84-939ece1a3ffd",
   "metadata": {},
   "outputs": [
    {
     "name": "stdin",
     "output_type": "stream",
     "text": [
      "Enter the number:  10\n"
     ]
    },
    {
     "name": "stdout",
     "output_type": "stream",
     "text": [
      "result is: 10\n",
      "finally program ends\n",
      "END\n"
     ]
    }
   ],
   "source": [
    "try:\n",
    "    num = int(input(\"Enter the number: \"))\n",
    "    re = 100//num\n",
    "except:\n",
    "    print(\"num should be number value\")\n",
    "else:\n",
    "    print(\"result is:\",re)\n",
    "finally :\n",
    "    print(\"finally program ends\")\n",
    "\n",
    "print('END')"
   ]
  },
  {
   "cell_type": "code",
   "execution_count": 20,
   "id": "de84eb53-73fc-412c-9a48-c924c746991f",
   "metadata": {},
   "outputs": [
    {
     "name": "stdin",
     "output_type": "stream",
     "text": [
      "Enter the number between 1 to 100: 89\n"
     ]
    },
    {
     "ename": "ValueError",
     "evalue": "You just missed the GIFT!!!",
     "output_type": "error",
     "traceback": [
      "\u001b[0;31m---------------------------------------------------------------------------\u001b[0m",
      "\u001b[0;31mValueError\u001b[0m                                Traceback (most recent call last)",
      "Cell \u001b[0;32mIn[20], line 8\u001b[0m\n\u001b[1;32m      6\u001b[0m     \u001b[38;5;28mprint\u001b[39m(\u001b[38;5;124m\"\u001b[39m\u001b[38;5;124mYou typed the number in list!!Ypu will get price\u001b[39m\u001b[38;5;124m\"\u001b[39m)\n\u001b[1;32m      7\u001b[0m \u001b[38;5;28;01melse\u001b[39;00m:\n\u001b[0;32m----> 8\u001b[0m     \u001b[38;5;28;01mraise\u001b[39;00m \u001b[38;5;167;01mValueError\u001b[39;00m(\u001b[38;5;124m\"\u001b[39m\u001b[38;5;124mYou just missed the GIFT!!!\u001b[39m\u001b[38;5;124m\"\u001b[39m)\n",
      "\u001b[0;31mValueError\u001b[0m: You just missed the GIFT!!!"
     ]
    }
   ],
   "source": [
    "#raise exampl9e0\n",
    "num=int(input(\"Enter the number between 1 to 100:\"))\n",
    "list1=[10,20,35,46,19,25,76]\n",
    "if num in list1:\n",
    "    print(\"CONGRATULATION!!!\")\n",
    "    print(\"You typed the number in list!!Ypu will get price\")\n",
    "else:\n",
    "    raise ValueError(\"You just missed the GIFT!!!\")"
   ]
  },
  {
   "cell_type": "markdown",
   "id": "f2751fbc-9e85-4fa2-b9fd-a201ce3a9f8d",
   "metadata": {},
   "source": [
    "## Q5 What are the cusom exception in python?why do we need the custom exceptions?Explain with an example"
   ]
  },
  {
   "cell_type": "code",
   "execution_count": null,
   "id": "2d48ce8d-16bf-4659-84ef-5d1d850de1b0",
   "metadata": {},
   "outputs": [],
   "source": []
  },
  {
   "cell_type": "code",
   "execution_count": null,
   "id": "2c274c91-38f1-43a7-b1f0-66a9390f0c46",
   "metadata": {},
   "outputs": [],
   "source": [
    "These exception classes are two types.\n",
    "⦁\tPredefined exception classes\n",
    "⦁\tUser defined exception classes or custom error types\n",
    "\n",
    "Programmer defined error types are called custom error types\n",
    "\n",
    "custom error types or user defined error types\n",
    "error type or exception is one class or data type.\n",
    "Error class or data type inherit the properties and behavior of one existing class called exception.\n",
    "We need custom exceptions because when program fetch an exception some times customer cant understand technical words like ValueError n all\n",
    "We need simple language so they can understand actual issue with their inputs .\n"
   ]
  },
  {
   "cell_type": "code",
   "execution_count": 2,
   "id": "81ef7410-7ee3-4a32-9238-c2a1abf1b5d4",
   "metadata": {},
   "outputs": [],
   "source": [
    "class MyException(Exception):\n",
    "    pass"
   ]
  },
  {
   "cell_type": "code",
   "execution_count": 13,
   "id": "8878d6fb-54a9-48ab-ab83-e5e905dd42ff",
   "metadata": {},
   "outputs": [
    {
     "name": "stdin",
     "output_type": "stream",
     "text": [
      "Enter the list: ghg jhjhd,kkj\n"
     ]
    },
    {
     "name": "stdout",
     "output_type": "stream",
     "text": [
      "Even\n"
     ]
    }
   ],
   "source": [
    "try:\n",
    "    list1=list(input(\"Enter the list:\").split())\n",
    "    if len(list1) % 2 != 0:\n",
    "        raise MyException\n",
    "    else:\n",
    "        print(\"Even\")\n",
    "except MyException:\n",
    "    print(\"Your lenght of list is odd\")\n"
   ]
  },
  {
   "cell_type": "markdown",
   "id": "1bf7ad67-46db-4359-b2f4-5281e5137cfc",
   "metadata": {},
   "source": [
    "## Q6 Create a custom class and use this class to handle an exception"
   ]
  },
  {
   "cell_type": "code",
   "execution_count": 46,
   "id": "bf55b2c9-c28f-4cbf-9e87-38e4ecb13abf",
   "metadata": {},
   "outputs": [],
   "source": [
    "class Numbernotzero(Exception):\n",
    "    pass"
   ]
  },
  {
   "cell_type": "code",
   "execution_count": 47,
   "id": "555d0d0d-43f3-4695-9a3e-5dbe5054be1e",
   "metadata": {},
   "outputs": [],
   "source": [
    "class nonnumber(Exception):\n",
    "    pass"
   ]
  },
  {
   "cell_type": "code",
   "execution_count": 49,
   "id": "3146c366-a6ef-4055-b102-e7d8e471c52a",
   "metadata": {},
   "outputs": [
    {
     "name": "stdin",
     "output_type": "stream",
     "text": [
      "Enter any number: 4567\n"
     ]
    },
    {
     "name": "stdout",
     "output_type": "stream",
     "text": [
      "Number: 4567\n"
     ]
    }
   ],
   "source": [
    "try:\n",
    "    a=input(\"Enter any number:\")\n",
    "    if a.isnumeric()==False:\n",
    "        raise nonnumber\n",
    "    elif int(a)==0:\n",
    "        raise Numbernotzero\n",
    "    else:\n",
    "        print (\"Number:\",a)\n",
    "except Numbernotzero:\n",
    "    print(\"Number should not be zero\")\n",
    "except nonnumber:\n",
    "    print(\"Number should not be NEGATIVE, any letter or special char\")"
   ]
  },
  {
   "cell_type": "code",
   "execution_count": null,
   "id": "a3eab6ec-fbfd-44ab-8167-250918e6f39b",
   "metadata": {},
   "outputs": [],
   "source": []
  },
  {
   "cell_type": "code",
   "execution_count": null,
   "id": "2a3efbbb-a13f-42a6-a77a-efaaaea79069",
   "metadata": {},
   "outputs": [],
   "source": []
  },
  {
   "cell_type": "code",
   "execution_count": null,
   "id": "2b84c90f-60d8-4953-8fd1-7c24eb976663",
   "metadata": {},
   "outputs": [],
   "source": []
  },
  {
   "cell_type": "code",
   "execution_count": null,
   "id": "e1873852-161b-4965-b4d4-1ad950afd417",
   "metadata": {},
   "outputs": [],
   "source": []
  },
  {
   "cell_type": "code",
   "execution_count": null,
   "id": "43024f95-bdd0-4f90-9ac7-dbf4349c50d2",
   "metadata": {},
   "outputs": [],
   "source": []
  },
  {
   "cell_type": "code",
   "execution_count": null,
   "id": "66d2cd15-3480-4abb-a2bb-779f5b7ca344",
   "metadata": {},
   "outputs": [],
   "source": []
  },
  {
   "cell_type": "code",
   "execution_count": null,
   "id": "ef90b9f5-5748-4f8e-aba2-3ee14cfc090f",
   "metadata": {},
   "outputs": [],
   "source": []
  },
  {
   "cell_type": "code",
   "execution_count": null,
   "id": "04d1ba0c-393f-4d4f-97ea-12f3b9568ce7",
   "metadata": {},
   "outputs": [],
   "source": []
  },
  {
   "cell_type": "code",
   "execution_count": null,
   "id": "a10ce3ab-c653-4956-a8ab-24a8b73746af",
   "metadata": {},
   "outputs": [],
   "source": []
  },
  {
   "cell_type": "code",
   "execution_count": null,
   "id": "202fd2dd-8f61-42a0-b4ff-04fa477ed6ec",
   "metadata": {},
   "outputs": [],
   "source": []
  },
  {
   "cell_type": "code",
   "execution_count": null,
   "id": "45161cbe-819d-4d65-9f52-777f4dc03fd7",
   "metadata": {},
   "outputs": [],
   "source": []
  },
  {
   "cell_type": "code",
   "execution_count": null,
   "id": "bf465685-1668-4b5b-9e72-96e3df7f56b1",
   "metadata": {},
   "outputs": [],
   "source": []
  },
  {
   "cell_type": "code",
   "execution_count": null,
   "id": "822037ce-3fcc-4ccc-8007-a16d66d1addc",
   "metadata": {},
   "outputs": [],
   "source": []
  },
  {
   "cell_type": "code",
   "execution_count": null,
   "id": "11a64943-f078-4869-8b5c-95f554ba62b4",
   "metadata": {},
   "outputs": [],
   "source": []
  },
  {
   "cell_type": "code",
   "execution_count": null,
   "id": "a5b11cc7-d274-4d48-97d3-1d28c9a8c800",
   "metadata": {},
   "outputs": [],
   "source": []
  },
  {
   "cell_type": "code",
   "execution_count": null,
   "id": "b8d0a36c-90e5-4e7f-a601-8f24e3e6c24e",
   "metadata": {},
   "outputs": [],
   "source": []
  },
  {
   "cell_type": "code",
   "execution_count": null,
   "id": "105ad418-bb61-408c-b1b5-1673561ea40c",
   "metadata": {},
   "outputs": [],
   "source": []
  },
  {
   "cell_type": "code",
   "execution_count": null,
   "id": "6fe2b646-64d8-45f1-a62e-57feef55bb92",
   "metadata": {},
   "outputs": [],
   "source": []
  },
  {
   "cell_type": "code",
   "execution_count": null,
   "id": "66fa0c10-5d50-4f1e-996e-973c5d17ea9e",
   "metadata": {},
   "outputs": [],
   "source": []
  },
  {
   "cell_type": "code",
   "execution_count": null,
   "id": "ecd10689-ce1f-473f-aca7-160cc2dfbe91",
   "metadata": {},
   "outputs": [],
   "source": []
  },
  {
   "cell_type": "code",
   "execution_count": null,
   "id": "b2623be4-35a8-4f77-80a6-42d32af2cce0",
   "metadata": {},
   "outputs": [],
   "source": []
  },
  {
   "cell_type": "code",
   "execution_count": null,
   "id": "e86caf1a-08b3-42fa-936b-44ad55406653",
   "metadata": {},
   "outputs": [],
   "source": []
  },
  {
   "cell_type": "code",
   "execution_count": null,
   "id": "c2c65227-a1d8-402b-b5ec-a03002e6710a",
   "metadata": {},
   "outputs": [],
   "source": []
  },
  {
   "cell_type": "code",
   "execution_count": null,
   "id": "b1ce74b1-b9c6-4686-87b0-2703b91b3739",
   "metadata": {},
   "outputs": [],
   "source": []
  }
 ],
 "metadata": {
  "kernelspec": {
   "display_name": "Python 3 (ipykernel)",
   "language": "python",
   "name": "python3"
  },
  "language_info": {
   "codemirror_mode": {
    "name": "ipython",
    "version": 3
   },
   "file_extension": ".py",
   "mimetype": "text/x-python",
   "name": "python",
   "nbconvert_exporter": "python",
   "pygments_lexer": "ipython3",
   "version": "3.10.8"
  }
 },
 "nbformat": 4,
 "nbformat_minor": 5
}
