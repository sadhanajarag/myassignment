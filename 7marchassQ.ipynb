{
 "cells": [
  {
   "cell_type": "markdown",
   "id": "c2979234-7fef-4707-8780-ba14ec935fba",
   "metadata": {},
   "source": [
    "## Q1. What are the three measures of central tendency?"
   ]
  },
  {
   "cell_type": "markdown",
   "id": "bac26a42-8807-430c-a5de-82c2b05cb162",
   "metadata": {},
   "source": [
    "Measures of central tendency can be defined as the statistical measures that describe the central point of distribution. \n",
    "It is classified into three parts, namely, Mean, Median and Mode.\n",
    "\n",
    "Mean: The mean can be calculated by adding up all the values in the distribution and dividing by the total number of values. \n",
    "\n",
    "Median: The median is the value separating the distribution into two equal parts. It is not affected by outliers and is the middle value of an ordered set of data.\n",
    "    \n",
    "Mode: The mode is the value that occurs most frequently in a kind of distribution. It is useful for finding the most common value, but can be misleading if there are multiple modes or the data is continuous."
   ]
  },
  {
   "cell_type": "markdown",
   "id": "5ab7204a-dbe2-40c0-ab25-32715c7632d0",
   "metadata": {},
   "source": [
    "## Q2. What is the difference between the mean, median, and mode? How are they used to measure the central tendency of a dataset?"
   ]
  },
  {
   "cell_type": "markdown",
   "id": "9adb7f4a-eb98-4def-bb74-fc79f2f26e0e",
   "metadata": {},
   "source": [
    "Sl. No.\t      Mean\t                                   Median\t                                 Mode\n",
    " \n",
    "1.  The average taken for a set of numbers      The middle value in the data set           The number that occurs the most in a       is called a mean                                      is called the Median.             given list of numbers is called a                                                                                                   mode.\n",
    "                                \n",
    "      .\t\t\n",
    "2.\tAdd all of the numbers together and          Place all the given numbers in            It shows the frequency of occurrence.\n",
    "    divide the sum by the total number of values  an ascending order\n",
    "  .\t\t\n",
    "3.\tThe result is the mean or average score.\tThe next step is to find the       We can have more than one mode or no mode at                                                    middle number on the list.                                      all.\n",
    "                                                 It is called the median\n",
    "                                               .\t\n",
    "4.\tExample: To find the average of the four     Example: 4, 2, 8, 10, 19.        Example: 3, 3, 5, 6, 7, 7, 8, 1, 1, 1, 4, 5, 6.\n",
    "numbers 2, 4, 6, and 8,                       Arrange the numbers                 Find the frequency of each number\n",
    "we need to add the number first.             in ascending order. i                For number 3, it’s 2. For 5\n",
    "2 + 4 + 6+ 8 = 20                             .e., 2, 4, 8, 10, 19.               it’s 2. For 6, it’s 2. For 7, it’s\n",
    "Divide the sum by the total                      As the total numbers             2. For 8, it’s one. For 1, it’s\n",
    "number of numbers, i. e 4.                       As the total numbers             3. For 4, it’s 1.\n",
    "20/4 = 5 is the average or mean                 number 8 is the                    The number with the\n",
    "                                                number 8 is the                   highest frequency is the\n",
    "                                                                                    mode. Hence, the mode of\n",
    "                                                                                    the given sequence of\n",
    "                                                                                    numbers is 1.\n",
    "                                         \n"
   ]
  },
  {
   "cell_type": "markdown",
   "id": "5e8cd0f8-fdc3-4b8b-81b3-563ba932037c",
   "metadata": {},
   "source": [
    "Outlier : when in our database we have an outlier then by mean method we get very different value than the previous \n",
    "one but if we use the median then out mean will be slighty deviated.\n",
    "while dealing with missing value,dropping that value wont be the solution so we used mode to fill out the missing value\n",
    "when we have missing value then we can fill that value with most frequent value...i.e mode\n",
    "if outlier is present then we use the median to fill out the missing value\n"
   ]
  },
  {
   "cell_type": "markdown",
   "id": "4cb4d465-bd0d-49fd-8c1f-5c90f4bade77",
   "metadata": {},
   "source": [
    "## Q3. Measure the three measures of central tendency for the given height data:\n",
    "[178,177,176,177,178.2,178,175,179,180,175,178.9,176.2,177,172.5,178,176.5]"
   ]
  },
  {
   "cell_type": "code",
   "execution_count": 1,
   "id": "91c79e40-0f12-4c51-b11c-9a35846fd99a",
   "metadata": {},
   "outputs": [],
   "source": [
    "data = [178,177,176,177,178.2,178,175,179,180,175,178.9,176.2,177,172.5,178,176.5]"
   ]
  },
  {
   "cell_type": "code",
   "execution_count": 3,
   "id": "0dabf715-8c3a-43fc-bae2-d87163199396",
   "metadata": {},
   "outputs": [],
   "source": [
    "import numpy as np"
   ]
  },
  {
   "cell_type": "code",
   "execution_count": 6,
   "id": "76f9a52a-107d-401d-9a91-7e76c77e00c0",
   "metadata": {},
   "outputs": [
    {
     "name": "stdout",
     "output_type": "stream",
     "text": [
      "177.01875\n"
     ]
    }
   ],
   "source": [
    "mean_data = np.mean(data)\n",
    "print(mean_data)"
   ]
  },
  {
   "cell_type": "code",
   "execution_count": 10,
   "id": "9dfa4857-cf5c-4fd2-a8bc-bea62bd535cc",
   "metadata": {},
   "outputs": [
    {
     "name": "stdout",
     "output_type": "stream",
     "text": [
      "177.0\n"
     ]
    }
   ],
   "source": [
    "median_data=np.median(data)\n",
    "print(median_data)"
   ]
  },
  {
   "cell_type": "code",
   "execution_count": 11,
   "id": "a0f9aee2-da98-4674-9561-b23e824bf826",
   "metadata": {},
   "outputs": [],
   "source": [
    "from scipy import stats"
   ]
  },
  {
   "cell_type": "code",
   "execution_count": 14,
   "id": "bd7c917b-e0a4-452d-b600-d656aadeb249",
   "metadata": {},
   "outputs": [
    {
     "name": "stdout",
     "output_type": "stream",
     "text": [
      "ModeResult(mode=array([177.]), count=array([3]))\n"
     ]
    },
    {
     "name": "stderr",
     "output_type": "stream",
     "text": [
      "/tmp/ipykernel_957/1867295917.py:1: FutureWarning: Unlike other reduction functions (e.g. `skew`, `kurtosis`), the default behavior of `mode` typically preserves the axis it acts along. In SciPy 1.11.0, this behavior will change: the default value of `keepdims` will become False, the `axis` over which the statistic is taken will be eliminated, and the value None will no longer be accepted. Set `keepdims` to True or False to avoid this warning.\n",
      "  mode_data =stats.mode(data)\n"
     ]
    }
   ],
   "source": [
    "mode_data =stats.mode(data)\n",
    "print(mode_data)"
   ]
  },
  {
   "cell_type": "markdown",
   "id": "5299b1be-4f0e-496f-989b-3dfd4f128f6b",
   "metadata": {},
   "source": [
    "## Q4. Find the standard deviation for the given data:\n",
    "[178,177,176,177,178.2,178,175,179,180,175,178.9,176.2,177,172.5,178,176.5]"
   ]
  },
  {
   "cell_type": "code",
   "execution_count": 15,
   "id": "75fceca8-8898-4c38-a99c-02364a1e271c",
   "metadata": {},
   "outputs": [],
   "source": [
    "data =[178,177,176,177,178.2,178,175,179,180,175,178.9,176.2,177,172.5,178,176.5]"
   ]
  },
  {
   "cell_type": "code",
   "execution_count": 17,
   "id": "7b9c4edc-21f2-4739-b8c4-08d406bef5e4",
   "metadata": {},
   "outputs": [],
   "source": [
    "import numpy as np"
   ]
  },
  {
   "cell_type": "code",
   "execution_count": 20,
   "id": "53bcd5f0-7206-40e2-afc4-93c483bb8696",
   "metadata": {},
   "outputs": [
    {
     "name": "stdout",
     "output_type": "stream",
     "text": [
      "1.7885814036548633\n"
     ]
    }
   ],
   "source": [
    "std_data = np.std(data)\n",
    "print(std_data)"
   ]
  },
  {
   "cell_type": "markdown",
   "id": "5e0695af-1c0d-4177-b7e1-9dd4d582df3b",
   "metadata": {},
   "source": [
    "## Q5. How are measures of dispersion such as range, variance, and standard deviation used to describe the spread of a dataset? Provide an example."
   ]
  },
  {
   "cell_type": "markdown",
   "id": "c9e217d8-7f2a-471c-af9c-972e00b65ecc",
   "metadata": {},
   "source": [
    "Range : we have to substract the max value and min value of dataset to get the range of data"
   ]
  },
  {
   "cell_type": "code",
   "execution_count": 2,
   "id": "07e4cd51-2ba2-466b-98ea-8b0565add5a6",
   "metadata": {},
   "outputs": [
    {
     "name": "stdout",
     "output_type": "stream",
     "text": [
      "75\n"
     ]
    }
   ],
   "source": [
    "import numpy as np\n",
    "## Find the range\n",
    "\n",
    "\n",
    "values = [13,21,21,40,48,55,72,87,88,83]\n",
    "\n",
    "x = np.ptp(values)\n",
    "\n",
    "print(x)"
   ]
  },
  {
   "cell_type": "code",
   "execution_count": 11,
   "id": "12ff7a78-5b6a-4b66-9fdb-dd29402448c8",
   "metadata": {},
   "outputs": [
    {
     "data": {
      "text/plain": [
       "52.8"
      ]
     },
     "execution_count": 11,
     "metadata": {},
     "output_type": "execute_result"
    }
   ],
   "source": [
    "np.mean(values)"
   ]
  },
  {
   "cell_type": "code",
   "execution_count": 12,
   "id": "e1689fec-7427-4f75-bd3d-0651ffa5591c",
   "metadata": {},
   "outputs": [
    {
     "data": {
      "text/plain": [
       "51.5"
      ]
     },
     "execution_count": 12,
     "metadata": {},
     "output_type": "execute_result"
    }
   ],
   "source": [
    "np.median(values)"
   ]
  },
  {
   "cell_type": "code",
   "execution_count": 13,
   "id": "df24b85d-da2c-43a7-a482-0bf811da85cb",
   "metadata": {},
   "outputs": [
    {
     "name": "stderr",
     "output_type": "stream",
     "text": [
      "/tmp/ipykernel_126/3816961579.py:2: FutureWarning: Unlike other reduction functions (e.g. `skew`, `kurtosis`), the default behavior of `mode` typically preserves the axis it acts along. In SciPy 1.11.0, this behavior will change: the default value of `keepdims` will become False, the `axis` over which the statistic is taken will be eliminated, and the value None will no longer be accepted. Set `keepdims` to True or False to avoid this warning.\n",
      "  stats.mode(values)\n"
     ]
    },
    {
     "data": {
      "text/plain": [
       "ModeResult(mode=array([21]), count=array([2]))"
      ]
     },
     "execution_count": 13,
     "metadata": {},
     "output_type": "execute_result"
    }
   ],
   "source": [
    "from scipy import stats\n",
    "stats.mode(values)"
   ]
  },
  {
   "cell_type": "markdown",
   "id": "2660f11c-e4b8-45ff-b845-10ee2bc36687",
   "metadata": {},
   "source": [
    "find the varience:\n",
    "\n",
    "The variance is the average of squared deviations from the mean. A deviation from the mean is how far a score lies from the mean.\n",
    "\n",
    "The actual data points could lie on either side of the mean, and thus, the deviations could be either positive or negative.\n",
    "\n",
    "if varience is less then spread of data from median will be less but when varience is more then spread of data will be more.\n",
    "\n",
    "if all data points are very close to the mean, the variance will be small; if data points are spread out over a wide range, the variance will be larger.\n",
    "        \n"
   ]
  },
  {
   "cell_type": "code",
   "execution_count": 5,
   "id": "c2e8994c-42f2-437d-9e43-50b4d64be035",
   "metadata": {},
   "outputs": [
    {
     "name": "stdout",
     "output_type": "stream",
     "text": [
      "748.76\n"
     ]
    }
   ],
   "source": [
    "y = np.var(values)\n",
    "print(y)"
   ]
  },
  {
   "cell_type": "markdown",
   "id": "f10e5be4-2bc8-4006-97a6-2c339f537da1",
   "metadata": {},
   "source": [
    "find the stadard deviation\n",
    "\n",
    "Standard deviation (σ) measures how far a 'typical' observation is from the average of the data (μ).\n",
    "\n",
    "A standard deviation close to 0 indicates that the data points tend to be close to the mean. The further the data points are from the mean, the greater the standard deviation.     \n",
    "\n",
    "In above example varience is not small that means data points are spread out in wide range ."
   ]
  },
  {
   "cell_type": "code",
   "execution_count": 8,
   "id": "f6fc5f6c-9f5e-4e7d-8913-b9b5bee19c56",
   "metadata": {},
   "outputs": [
    {
     "name": "stdout",
     "output_type": "stream",
     "text": [
      "27.36347931093559\n"
     ]
    }
   ],
   "source": [
    "z = np.std(values)\n",
    "print(z)"
   ]
  },
  {
   "cell_type": "markdown",
   "id": "f96f79de-55ab-477c-a3c0-cc10853e5908",
   "metadata": {},
   "source": [
    "In above data standard deviation is not close to zero means data points are far away from mean."
   ]
  },
  {
   "cell_type": "markdown",
   "id": "88358918-3c24-4adc-9551-b036f9af33bc",
   "metadata": {},
   "source": [
    "## Q6. What is a Venn diagram?"
   ]
  },
  {
   "cell_type": "markdown",
   "id": "8d9e1f25-035d-461b-a841-3ada2298babb",
   "metadata": {},
   "source": [
    "A Venn diagram is a diagram that helps us visualize the logical relationship between sets and their elements and helps us solve examples based on these sets. A Venn diagram typically uses intersecting and non-intersecting circles (although other closed figures like squares may be used) to denote the relationship between sets."
   ]
  },
  {
   "cell_type": "markdown",
   "id": "c505341d-b8d0-4fed-a75c-927d2b5a1099",
   "metadata": {},
   "source": [
    "## Q7. For the two given sets A = (2,3,4,5,6,7) & B = (0,2,6,8,10). Find:\n",
    "(i) A ⋂ B\n",
    "(ii) A ⋃ B"
   ]
  },
  {
   "cell_type": "code",
   "execution_count": 14,
   "id": "b9265471-ba53-479d-9dd5-97d217ac8d2b",
   "metadata": {},
   "outputs": [],
   "source": [
    " A = {2,3,4,5,6,7}"
   ]
  },
  {
   "cell_type": "code",
   "execution_count": 15,
   "id": "8520a785-1e6d-486a-bbb4-5cac7c00c622",
   "metadata": {},
   "outputs": [],
   "source": [
    "B = {0,2,6,8,10}"
   ]
  },
  {
   "cell_type": "code",
   "execution_count": 17,
   "id": "b03956bd-453f-46a6-8db2-0305862359a7",
   "metadata": {},
   "outputs": [
    {
     "data": {
      "text/plain": [
       "{2, 6}"
      ]
     },
     "execution_count": 17,
     "metadata": {},
     "output_type": "execute_result"
    }
   ],
   "source": [
    "A.intersection(B)"
   ]
  },
  {
   "cell_type": "code",
   "execution_count": 18,
   "id": "40bdd3cd-fbe7-4359-89c5-e3e67993bf11",
   "metadata": {},
   "outputs": [
    {
     "data": {
      "text/plain": [
       "{0, 2, 3, 4, 5, 6, 7, 8, 10}"
      ]
     },
     "execution_count": 18,
     "metadata": {},
     "output_type": "execute_result"
    }
   ],
   "source": [
    "A.union(B)"
   ]
  },
  {
   "cell_type": "markdown",
   "id": "47f9fefe-d566-49cc-8cc5-aaf83f66a8a1",
   "metadata": {},
   "source": [
    "## Q8. What do you understand about skewness in data?"
   ]
  },
  {
   "cell_type": "markdown",
   "id": "b2ce1b74-fe43-409f-a764-4d719f653308",
   "metadata": {},
   "source": [
    "In the field of statistics, we use skewness to describe the symmetry of a distribution.\n",
    "\n",
    "-- We say that a distribution of data values is left skewed if it has a “tail” on the left side of the distribution.\n",
    "\n",
    "--We say that a distribution is right skewed if it has a “tail” on the right side of the distribution.\n",
    "\n",
    "--And we say a distribution has no skew if it’s symmetrical on both sides."
   ]
  },
  {
   "cell_type": "markdown",
   "id": "1656d3fe-44e0-4097-8d8b-6df0f6094d2b",
   "metadata": {},
   "source": [
    "How to Interpret Skewness:\n",
    "    \n",
    "The value for skewness can range from negative infinity to positive infinity.\n",
    "\n",
    "Here’s how to interpret skewness values:\n",
    "\n",
    "A negative value for skewness indicates that the tail is on the left side of the distribution, which extends towards more negative values.\n",
    "\n",
    "A positive value for skewness indicates that the tail is on the right side of the distribution, which extends towards more positive values.\n",
    "\n",
    "A value of zero indicates that there is no skewness in the distribution at all, meaning the distribution is perfectly symmetrical."
   ]
  },
  {
   "cell_type": "markdown",
   "id": "a7707427-77e7-48b6-ac28-19c077748f19",
   "metadata": {},
   "source": [
    "## Q9. If a data is right skewed then what will be the position of median with respect to mean?"
   ]
  },
  {
   "cell_type": "markdown",
   "id": "536d6485-55e6-4a6e-92a4-8a5f83cc6d93",
   "metadata": {},
   "source": [
    "If the data is right skewed then that distribution will be +ve skewed distribution.\n",
    "\n",
    "and mean will be at the bulge side of distribution.\n",
    "\n",
    "and  the mean and the median are both greater than the mode.\n",
    "\n",
    "we can say mean>median>mode"
   ]
  },
  {
   "cell_type": "markdown",
   "id": "c93f1ba7-aa94-4c1c-9d78-f7c331b20749",
   "metadata": {},
   "source": [
    "## Q10. Explain the difference between covariance and correlation. How are these measures used in statistical analysis?"
   ]
  },
  {
   "cell_type": "markdown",
   "id": "09c56c9b-87c9-4968-a4b8-7bf815cb0c7b",
   "metadata": {},
   "source": [
    " difference between covariance and correlation:\n",
    "        \n",
    "1) covariance :measure the extend of change in one with regards the change in another\n",
    "2) correlation :interconnection or corelation/strenght between two variable provided other conditions are constant\n",
    "\n",
    "1) covariance :value lie between +infinity to -infinity\n",
    "2) correlation :Value lie between -1 to 1\n",
    "\n",
    "1) covariance :Not unit free measure.measured in with unit of variable\n",
    "2) correlation :Unit free measure\n",
    "\n",
    "1) covariance :If we change the scale the covarience will be changing\n",
    "2) correlation :Any change in scale would not affect the co-relation\n",
    "\n",
    "\n",
    "\n",
    "Use in statastical Analysis:\n",
    "\n",
    "Why it is useful?\n",
    "\n",
    "1. If two variables are closely correlated, then we can predict one variable from the other.\n",
    "\n",
    "2. Correlation plays a vital role in locating the important variables on which other variables depend.\n",
    "\n",
    "3. It’s used as the foundation for various modeling techniques.\n",
    "\n",
    "4. Proper correlation analysis leads to better understanding of data.\n",
    "\n",
    "5. Correlation contribute towards the understanding of causal relationship(if any).\n",
    "\n",
    "\n",
    "Covariance: The prefix ‘Co’ defines some kind of joint action and variance refers to the change or variation. So it says, two variables are related based on how these variables change in relation with each other.\n",
    "\n",
    "But wait, is covariance same as correlation?\n",
    "\n",
    "As covariance says something on same lines as correlation, correlation takes a step further than covariance and also tells us about the strength of the relationship.\n",
    "\n",
    "Both can be positive or negative. Covariance is positive if one increases other also increases and negative if one increases other decreases.\n",
    "\n"
   ]
  },
  {
   "cell_type": "markdown",
   "id": "4aa55903-1dad-4679-9d19-abd24d883bf2",
   "metadata": {},
   "source": [
    "## Q11. What is the formula for calculating the sample mean? Provide an example calculation for a dataset."
   ]
  },
  {
   "cell_type": "markdown",
   "id": "37171df4-3dc6-4c73-ae9d-0e080c090ccb",
   "metadata": {},
   "source": [
    "Calculating sample mean is as simple as adding up the number of items in a sample set and then dividing that sum by the number of items in the sample set. \n",
    "\n",
    "x̄ = ( Σ xi ) / n\n",
    "\n",
    "Here, x̄ represents the sample mean, \n",
    "Σ tells us to add,\n",
    "xi refers to all the X-values and\n",
    "n stands for the number of items in the data set."
   ]
  },
  {
   "cell_type": "code",
   "execution_count": 21,
   "id": "52b14e85-20ee-499b-9205-c8748fd52bb0",
   "metadata": {},
   "outputs": [],
   "source": [
    "data = [60 ,57 ,109 ,50]\n",
    "n=4\n",
    "#n= no of item in set ...here is 4"
   ]
  },
  {
   "cell_type": "code",
   "execution_count": 23,
   "id": "6e00396c-d739-429a-9862-95d13ac5c639",
   "metadata": {},
   "outputs": [
    {
     "data": {
      "text/plain": [
       "69.0"
      ]
     },
     "execution_count": 23,
     "metadata": {},
     "output_type": "execute_result"
    }
   ],
   "source": [
    "sample_mean =sum(data)/4\n",
    "sample_mean"
   ]
  },
  {
   "cell_type": "markdown",
   "id": "c581f882-bed2-4698-886d-00b9d0eb9c8b",
   "metadata": {},
   "source": [
    "## Q12. For a normal distribution data what is the relationship between its measure of central tendency?"
   ]
  },
  {
   "cell_type": "markdown",
   "id": "42cd12ab-1d2a-4ef6-bda5-2f4ad920c946",
   "metadata": {},
   "source": [
    "Any normal distribution has a graph that is perfectly symmetric about a vertical line through its peak.\n",
    "\n",
    "Therefore, all measures of central tendency (most commonly, the mean, median, and mode) give the same answer.\n",
    "\n",
    "In any normal distribution the mode and the median are the same as the mean\n",
    "\n",
    "is converted to 0 (and the standard deviation σ  is set to 1).\n",
    "\n",
    "So mode and median are then also 0"
   ]
  },
  {
   "cell_type": "code",
   "execution_count": 37,
   "id": "55b8048a-2a3e-4c66-b485-b8d9b51a477e",
   "metadata": {},
   "outputs": [],
   "source": [
    "data = [27,29,31,33,35,37,39]"
   ]
  },
  {
   "cell_type": "code",
   "execution_count": 38,
   "id": "585fc1e6-43ad-468d-a9ab-89265c68e43c",
   "metadata": {},
   "outputs": [
    {
     "data": {
      "text/plain": [
       "33.0"
      ]
     },
     "execution_count": 38,
     "metadata": {},
     "output_type": "execute_result"
    }
   ],
   "source": [
    "import numpy as np\n",
    "a = np.array(data)\n",
    "np.mean(a)"
   ]
  },
  {
   "cell_type": "code",
   "execution_count": 39,
   "id": "85ccbb79-2bbe-4cd5-b2c4-d7e0fda72740",
   "metadata": {},
   "outputs": [
    {
     "data": {
      "text/plain": [
       "33.0"
      ]
     },
     "execution_count": 39,
     "metadata": {},
     "output_type": "execute_result"
    }
   ],
   "source": [
    "np.median(a)"
   ]
  },
  {
   "cell_type": "code",
   "execution_count": 40,
   "id": "69961afa-d117-43a3-af6a-2086ae18f22c",
   "metadata": {},
   "outputs": [
    {
     "name": "stderr",
     "output_type": "stream",
     "text": [
      "/tmp/ipykernel_126/542156891.py:2: FutureWarning: Unlike other reduction functions (e.g. `skew`, `kurtosis`), the default behavior of `mode` typically preserves the axis it acts along. In SciPy 1.11.0, this behavior will change: the default value of `keepdims` will become False, the `axis` over which the statistic is taken will be eliminated, and the value None will no longer be accepted. Set `keepdims` to True or False to avoid this warning.\n",
      "  stats.mode(a)\n"
     ]
    },
    {
     "data": {
      "text/plain": [
       "ModeResult(mode=array([27]), count=array([1]))"
      ]
     },
     "execution_count": 40,
     "metadata": {},
     "output_type": "execute_result"
    }
   ],
   "source": [
    "from scipy import stats\n",
    "stats.mode(a)"
   ]
  },
  {
   "cell_type": "markdown",
   "id": "147ee390-eef1-4919-b172-baf350ee9712",
   "metadata": {},
   "source": [
    "## Q13. How is covariance different from correlation?"
   ]
  },
  {
   "cell_type": "markdown",
   "id": "477b05c2-9980-49d6-bff8-e8a3476f4c23",
   "metadata": {},
   "source": [
    "Covariance is a quantitative measure of the degree to which the deviation of one variable (X) from its mean is related to the deviation of another variable (Y) from its mean.\n",
    "\n",
    "covariance measures the joint variability of two random variables.\n",
    "\n",
    "For example, if greater values of one variable tend to correspond with greater values of another variable, this suggests positive covariance\n",
    "\n",
    "Positive covariance means both the variables (X, Y) move in the same direction\n",
    "Negative covariance means both the variables (X, Y) move in the opposite direction.\n",
    "\n",
    "\n",
    "covariance indicates the extent to which two random variables increase or decrease in tandem with each other. Correlation tells us both the strength and the direction of this relationship\n",
    "\n",
    "Correlation is best used for multiple variables that express a linear relationship with one another. When we assume a correlation between two variables, we are essentially deducing that a change in one variable impacts a change in another variable. Correlation helps us to determine whether or not, and how strongly, changes in various variables relate to each other.\n",
    "\n",
    "As covariance says something on same lines as correlation, correlation takes a step further than covariance and also tells us about the strength of the relationship.\n",
    "\n",
    "Positive correlation\n",
    "Two variables are considered to have a positive correlation if they are directly proportional. That is, if the value of one variable increases, then the value of the other variable will also increase\n",
    "A perfect positive correlation holds a value of “1”.\n",
    "\n",
    "A perfect negative correlation holds a value of “-1” which means that, as the value of one variable increases, the value of the second variable decreases (and vice versa).\n",
    "The value “0” denotes that there is no correlation. I"
   ]
  },
  {
   "cell_type": "markdown",
   "id": "d924f6fe-46ef-40c1-9271-91a284db9221",
   "metadata": {},
   "source": [
    "# Q14. How do outliers affect measures of central tendency and dispersion? Provide an example."
   ]
  },
  {
   "cell_type": "markdown",
   "id": "51700c7f-6312-49c4-a250-7dbb647c0c46",
   "metadata": {},
   "source": [
    "When a outlier is present it can effect the shape of the graph, if we have outliers to the right of the graph.\n",
    "These outliers are causing the mean to increase, but if we have outliers to the left of the graph these outliers are dragging down the mean. This causes a conflict because the mean no longer provides a good representation of the data, \n",
    "alternatively we would much rather use the median.\n",
    "The median on the other hand is less likely to be affect by outliers."
   ]
  },
  {
   "cell_type": "code",
   "execution_count": 109,
   "id": "3b1e4269-46b0-4d02-8d3c-35b0808ba629",
   "metadata": {},
   "outputs": [
    {
     "data": {
      "text/plain": [
       "array([[1, 3, 5],\n",
       "       [2, 3, 5],\n",
       "       [1, 9, 6]])"
      ]
     },
     "execution_count": 109,
     "metadata": {},
     "output_type": "execute_result"
    }
   ],
   "source": [
    "np.random.seed(1)\n",
    "x =np.array([[1,3,5],[2,3,5],[1,9,6]])\n",
    "x"
   ]
  },
  {
   "cell_type": "markdown",
   "id": "dc73cbc1-9944-4696-86b3-b5aa9a2d274a",
   "metadata": {},
   "source": [
    "### With outlier"
   ]
  },
  {
   "cell_type": "code",
   "execution_count": 129,
   "id": "5044e428-e931-4789-8407-89da556a8dbb",
   "metadata": {},
   "outputs": [
    {
     "data": {
      "text/plain": [
       "array([[ 1,  2,  5],\n",
       "       [ 2,  4,  5],\n",
       "       [ 1,  4, 80]])"
      ]
     },
     "execution_count": 129,
     "metadata": {},
     "output_type": "execute_result"
    }
   ],
   "source": [
    "##With Oulier\n",
    "y =np.array([[1,2,5],[2,4,5],[1,4,80]])\n",
    "y"
   ]
  },
  {
   "cell_type": "code",
   "execution_count": 130,
   "id": "97d0029e-3282-4d33-a625-74282b37de83",
   "metadata": {},
   "outputs": [
    {
     "name": "stdout",
     "output_type": "stream",
     "text": [
      "x array mean : 3.888888888888889\n",
      "x array median : 3.0\n",
      "x array std axis =0 : [0.47140452 2.82842712 0.47140452]\n",
      "x array std axis =1: [1.63299316 1.24721913 3.29983165]\n"
     ]
    }
   ],
   "source": [
    "##X array\n",
    "print(\"x array mean :\",np.mean(x))\n",
    "print(\"x array median :\",np.median(x))\n",
    "print(\"x array std axis =0 :\",np.std(x,axis=0))\n",
    "print(\"x array std axis =1:\",np.std(x,axis=1))"
   ]
  },
  {
   "cell_type": "code",
   "execution_count": 131,
   "id": "961b7641-3aea-4a21-9a67-8f5fb71d31b7",
   "metadata": {},
   "outputs": [
    {
     "name": "stdout",
     "output_type": "stream",
     "text": [
      "y array mean : 11.555555555555555\n",
      "y array median : 4.0\n",
      "y array std axis =0 : [ 0.47140452  0.94280904 35.35533906]\n",
      "y array std axis =1: [ 1.69967317  1.24721913 36.5543735 ]\n"
     ]
    }
   ],
   "source": [
    "print(\"y array mean :\",np.mean(y))\n",
    "print(\"y array median :\",np.median(y))\n",
    "print(\"y array std axis =0 :\",np.std(y,axis=0))\n",
    "print(\"y array std axis =1:\",np.std(y,axis=1))"
   ]
  },
  {
   "cell_type": "code",
   "execution_count": 132,
   "id": "088797de-6996-4df3-ba69-c42935592635",
   "metadata": {},
   "outputs": [],
   "source": [
    "import pandas as pd\n",
    "x1=pd.DataFrame(x)\n",
    "y1=pd.DataFrame(y)"
   ]
  },
  {
   "cell_type": "code",
   "execution_count": 133,
   "id": "413e8d13-2d32-47f3-9a14-76bc8eefd331",
   "metadata": {},
   "outputs": [
    {
     "data": {
      "text/plain": [
       "0     0.333333\n",
       "1    12.000000\n",
       "2     0.333333\n",
       "dtype: float64"
      ]
     },
     "execution_count": 133,
     "metadata": {},
     "output_type": "execute_result"
    }
   ],
   "source": [
    "x1.var()"
   ]
  },
  {
   "cell_type": "code",
   "execution_count": 134,
   "id": "80c6fbeb-c880-4e9a-a7dd-3b109db3610b",
   "metadata": {},
   "outputs": [
    {
     "data": {
      "text/plain": [
       "0     4.000000\n",
       "1     2.333333\n",
       "2    16.333333\n",
       "dtype: float64"
      ]
     },
     "execution_count": 134,
     "metadata": {},
     "output_type": "execute_result"
    }
   ],
   "source": [
    "x1.var(axis=1)"
   ]
  },
  {
   "cell_type": "code",
   "execution_count": 135,
   "id": "16d0ea6d-b642-4de4-8884-342df407067d",
   "metadata": {},
   "outputs": [
    {
     "data": {
      "text/html": [
       "<div>\n",
       "<style scoped>\n",
       "    .dataframe tbody tr th:only-of-type {\n",
       "        vertical-align: middle;\n",
       "    }\n",
       "\n",
       "    .dataframe tbody tr th {\n",
       "        vertical-align: top;\n",
       "    }\n",
       "\n",
       "    .dataframe thead th {\n",
       "        text-align: right;\n",
       "    }\n",
       "</style>\n",
       "<table border=\"1\" class=\"dataframe\">\n",
       "  <thead>\n",
       "    <tr style=\"text-align: right;\">\n",
       "      <th></th>\n",
       "      <th>0</th>\n",
       "      <th>1</th>\n",
       "      <th>2</th>\n",
       "    </tr>\n",
       "  </thead>\n",
       "  <tbody>\n",
       "    <tr>\n",
       "      <th>0</th>\n",
       "      <td>0.333333</td>\n",
       "      <td>-1.0</td>\n",
       "      <td>-0.166667</td>\n",
       "    </tr>\n",
       "    <tr>\n",
       "      <th>1</th>\n",
       "      <td>-1.000000</td>\n",
       "      <td>12.0</td>\n",
       "      <td>2.000000</td>\n",
       "    </tr>\n",
       "    <tr>\n",
       "      <th>2</th>\n",
       "      <td>-0.166667</td>\n",
       "      <td>2.0</td>\n",
       "      <td>0.333333</td>\n",
       "    </tr>\n",
       "  </tbody>\n",
       "</table>\n",
       "</div>"
      ],
      "text/plain": [
       "          0     1         2\n",
       "0  0.333333  -1.0 -0.166667\n",
       "1 -1.000000  12.0  2.000000\n",
       "2 -0.166667   2.0  0.333333"
      ]
     },
     "execution_count": 135,
     "metadata": {},
     "output_type": "execute_result"
    }
   ],
   "source": [
    "x1.cov()"
   ]
  },
  {
   "cell_type": "code",
   "execution_count": 136,
   "id": "f332ba7c-e365-4602-96ab-f74233834989",
   "metadata": {},
   "outputs": [
    {
     "data": {
      "text/html": [
       "<div>\n",
       "<style scoped>\n",
       "    .dataframe tbody tr th:only-of-type {\n",
       "        vertical-align: middle;\n",
       "    }\n",
       "\n",
       "    .dataframe tbody tr th {\n",
       "        vertical-align: top;\n",
       "    }\n",
       "\n",
       "    .dataframe thead th {\n",
       "        text-align: right;\n",
       "    }\n",
       "</style>\n",
       "<table border=\"1\" class=\"dataframe\">\n",
       "  <thead>\n",
       "    <tr style=\"text-align: right;\">\n",
       "      <th></th>\n",
       "      <th>0</th>\n",
       "      <th>1</th>\n",
       "      <th>2</th>\n",
       "    </tr>\n",
       "  </thead>\n",
       "  <tbody>\n",
       "    <tr>\n",
       "      <th>0</th>\n",
       "      <td>1.0</td>\n",
       "      <td>-0.5</td>\n",
       "      <td>-0.5</td>\n",
       "    </tr>\n",
       "    <tr>\n",
       "      <th>1</th>\n",
       "      <td>-0.5</td>\n",
       "      <td>1.0</td>\n",
       "      <td>1.0</td>\n",
       "    </tr>\n",
       "    <tr>\n",
       "      <th>2</th>\n",
       "      <td>-0.5</td>\n",
       "      <td>1.0</td>\n",
       "      <td>1.0</td>\n",
       "    </tr>\n",
       "  </tbody>\n",
       "</table>\n",
       "</div>"
      ],
      "text/plain": [
       "     0    1    2\n",
       "0  1.0 -0.5 -0.5\n",
       "1 -0.5  1.0  1.0\n",
       "2 -0.5  1.0  1.0"
      ]
     },
     "execution_count": 136,
     "metadata": {},
     "output_type": "execute_result"
    }
   ],
   "source": [
    "x1.corr()"
   ]
  },
  {
   "cell_type": "code",
   "execution_count": 139,
   "id": "54b976b5-139c-4440-8e11-a51d43e097db",
   "metadata": {},
   "outputs": [
    {
     "data": {
      "text/plain": [
       "0       0.333333\n",
       "1       1.333333\n",
       "2    1875.000000\n",
       "dtype: float64"
      ]
     },
     "execution_count": 139,
     "metadata": {},
     "output_type": "execute_result"
    }
   ],
   "source": [
    "y1.var()"
   ]
  },
  {
   "cell_type": "code",
   "execution_count": 140,
   "id": "0c5481ce-114c-4602-a34d-aa5f7e508527",
   "metadata": {},
   "outputs": [
    {
     "data": {
      "text/plain": [
       "0       4.333333\n",
       "1       2.333333\n",
       "2    2004.333333\n",
       "dtype: float64"
      ]
     },
     "execution_count": 140,
     "metadata": {},
     "output_type": "execute_result"
    }
   ],
   "source": [
    "y1.var(axis=1)"
   ]
  },
  {
   "cell_type": "markdown",
   "id": "29c23508-b91a-470b-babd-5bbf84d994d3",
   "metadata": {},
   "source": [
    "y1.cov()"
   ]
  },
  {
   "cell_type": "code",
   "execution_count": 143,
   "id": "af596bd6-4867-455e-a037-303307800b5a",
   "metadata": {},
   "outputs": [
    {
     "data": {
      "text/html": [
       "<div>\n",
       "<style scoped>\n",
       "    .dataframe tbody tr th:only-of-type {\n",
       "        vertical-align: middle;\n",
       "    }\n",
       "\n",
       "    .dataframe tbody tr th {\n",
       "        vertical-align: top;\n",
       "    }\n",
       "\n",
       "    .dataframe thead th {\n",
       "        text-align: right;\n",
       "    }\n",
       "</style>\n",
       "<table border=\"1\" class=\"dataframe\">\n",
       "  <thead>\n",
       "    <tr style=\"text-align: right;\">\n",
       "      <th></th>\n",
       "      <th>0</th>\n",
       "      <th>1</th>\n",
       "      <th>2</th>\n",
       "    </tr>\n",
       "  </thead>\n",
       "  <tbody>\n",
       "    <tr>\n",
       "      <th>0</th>\n",
       "      <td>1.0</td>\n",
       "      <td>0.5</td>\n",
       "      <td>-0.5</td>\n",
       "    </tr>\n",
       "    <tr>\n",
       "      <th>1</th>\n",
       "      <td>0.5</td>\n",
       "      <td>1.0</td>\n",
       "      <td>0.5</td>\n",
       "    </tr>\n",
       "    <tr>\n",
       "      <th>2</th>\n",
       "      <td>-0.5</td>\n",
       "      <td>0.5</td>\n",
       "      <td>1.0</td>\n",
       "    </tr>\n",
       "  </tbody>\n",
       "</table>\n",
       "</div>"
      ],
      "text/plain": [
       "     0    1    2\n",
       "0  1.0  0.5 -0.5\n",
       "1  0.5  1.0  0.5\n",
       "2 -0.5  0.5  1.0"
      ]
     },
     "execution_count": 143,
     "metadata": {},
     "output_type": "execute_result"
    }
   ],
   "source": [
    "y1.corr()"
   ]
  },
  {
   "cell_type": "markdown",
   "id": "657e09a2-dd81-451a-99d4-c325ab00f261",
   "metadata": {},
   "source": [
    "== >In above example we can easily seen that mean is drastically changes from eariler value 3 to 11"
   ]
  },
  {
   "cell_type": "markdown",
   "id": "ea3f38cc-620f-4f89-90dd-03f422e73182",
   "metadata": {},
   "source": [
    "==>stadard deviation also changes noticable"
   ]
  },
  {
   "cell_type": "markdown",
   "id": "e0f40beb-1b06-4efe-943f-52d10f437fab",
   "metadata": {},
   "source": [
    "==>with outlier varience value is also changed too much."
   ]
  },
  {
   "cell_type": "markdown",
   "id": "23164edb-b17c-40a0-b9f5-ad81ae3dddc9",
   "metadata": {},
   "source": [
    "==>so normal distribution graph affected by the outlier and value of central tendancy also get changed."
   ]
  },
  {
   "cell_type": "markdown",
   "id": "2445f1a0-b9c0-45b3-ae9a-6dd29bd4532b",
   "metadata": {},
   "source": [
    "A mathematical outlier, which is a value vastly different from the majority of data, causes a skewed or misleading distribution in certain measures of central tendency within a data set, namely the mean and range, according to About Statistics. The affected mean or range incorrectly displays a bias toward the outlier value. "
   ]
  }
 ],
 "metadata": {
  "kernelspec": {
   "display_name": "Python 3 (ipykernel)",
   "language": "python",
   "name": "python3"
  },
  "language_info": {
   "codemirror_mode": {
    "name": "ipython",
    "version": 3
   },
   "file_extension": ".py",
   "mimetype": "text/x-python",
   "name": "python",
   "nbconvert_exporter": "python",
   "pygments_lexer": "ipython3",
   "version": "3.10.8"
  }
 },
 "nbformat": 4,
 "nbformat_minor": 5
}
