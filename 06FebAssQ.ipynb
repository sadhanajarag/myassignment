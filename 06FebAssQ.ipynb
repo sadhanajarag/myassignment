{
 "cells": [
  {
   "cell_type": "markdown",
   "id": "51dfcfc0-5c35-4240-80c3-e4c4a796d30c",
   "metadata": {},
   "source": [
    "## Q1. Create a function which will take a list as an argument and return the product of all the numbers after creating a flat list.\n",
    "## Use the below-given list as an argument for your function.\n",
    "## list1 = [1,2,3,4, [44,55,66, True], False, (34,56,78,89,34), {1,2,3,3,2,1}, {1:34, \"key2\": [55, 67, 78, 89], 4: (45,\n",
    "## 22, 61, 34)}, [56, 'data science'], 'Machine Learning']\n",
    "## Note: you must extract numeric keys and values of the dictionary also."
   ]
  },
  {
   "cell_type": "code",
   "execution_count": 1,
   "id": "ac28ad08-0f06-4f54-99ba-3c33f16ab1c1",
   "metadata": {},
   "outputs": [],
   "source": [
    "#list1=[ [1,2,3,4, [44,55,66, True], False, (34,56,78,89,34), {1,2,3,3,2,1}, {1:34, \"key2\": [55, 67, 78, 89], 4: (45,\n",
    "#22, 61, 34)}, [56, 'data science'], 'Machine Learning']]"
   ]
  },
  {
   "cell_type": "code",
   "execution_count": 61,
   "id": "e05c575a-e124-476b-878e-877649866447",
   "metadata": {},
   "outputs": [
    {
     "data": {
      "text/plain": [
       "4134711838987085478833841242112000"
      ]
     },
     "execution_count": 61,
     "metadata": {},
     "output_type": "execute_result"
    }
   ],
   "source": [
    "def flatten_list(list1):\n",
    "    flat_list = []\n",
    "    product=1\n",
    "    # Iterate through the outer list\n",
    "    for element in list1:\n",
    "        if type(element) in (list,tuple,set):\n",
    "            for item in element:\n",
    "                flat_list.append(item)\n",
    "        elif type(element) is dict:\n",
    "            # If the element is of type tuple, iterate through the sublist\n",
    "            for k,v in element.items():\n",
    "                if type(v) in (list,tuple):\n",
    "                    for value in v:\n",
    "                        flat_list.append(value)\n",
    "                else:\n",
    "                    flat_list.append(v)\n",
    "                flat_list.append(k)\n",
    "        else:\n",
    "            flat_list.append(element)\n",
    "        \n",
    "    list3=[]\n",
    "    for i in flat_list:\n",
    "        if type(i) in (int,float):\n",
    "            list3.append(i)\n",
    "    for i in list3:\n",
    "        product=product*i\n",
    "              \n",
    "    return product\n",
    "\n",
    "#list1 = [1,2,3,4, [44,55,66, True], False, (34,56,78,89,34), {1,2,3,3,2,1}, [56, 'data science'], 'Machine Learning',{1:34, \"key2\": [55, 67, 78, 89], 4: (45,22, 61, 34)}]\n",
    "#list2= flatten_list(list1)\n",
    "#print('Original List', list1)\n",
    "#print('Transformed Flat List', list3)\n",
    "flatten_list([1,2,3,4, [44,55,66, True], False, (34,56,78,89,34), {1,2,3,3,2,1}, [56, 'data science'], 'Machine Learning',{1:34, \"key2\": [55, 67, 78, 89], 4: (45,22, 61, 34)}])"
   ]
  },
  {
   "cell_type": "markdown",
   "id": "3e8a4cda-2704-4709-9064-ecf03f523e8a",
   "metadata": {},
   "source": [
    "## Q2. Write a python program for encrypting a message sent to you by your friend. The logic of encryptionshould be such that, for a the output ## ## should be z. For b, the output should be y. For c, the output should be x respectively. Also, the whitespace should be replaced with a dollar sign. Keep the punctuation marks unchanged.\n",
    "\n",
    "## Input Sentence: I want to become a Data Scientist.\n",
    "## Encrypt the above input sentence using the program you just created.\n",
    "## Note: Convert the given input sentence into lowercase before encrypting. The final output should be lowercase."
   ]
  },
  {
   "cell_type": "code",
   "execution_count": 80,
   "id": "d4df6976-1ea3-4b66-a1c3-f0d2a8c86438",
   "metadata": {},
   "outputs": [],
   "source": [
    "e_table = {'a': 'z', 'b': 'y', 'c': 'x', 'd': 'w', 'e': 'v', 'f': 'u',\n",
    "                 'g': 't', 'h': 's', 'i': 'r', 'j': 'q', 'k': 'p', 'l': 'o',\n",
    "                 'm': 'n', 'n': 'm', 'o': 'l', 'p': 'k', 'q': 'j', 'r': 'i',\n",
    "                 's': 'h', 't': 'g', 'u': 'f', 'v': 'e', 'w': 'd', 'x': 'c',\n",
    "                 'y': 'b', 'z': 'a'}"
   ]
  },
  {
   "cell_type": "code",
   "execution_count": 82,
   "id": "71a7d183-0f1e-48d7-89b4-8663a885f56f",
   "metadata": {},
   "outputs": [],
   "source": [
    "#e_table"
   ]
  },
  {
   "cell_type": "code",
   "execution_count": 132,
   "id": "eb1b0be7-263b-4b95-84d6-57d5d1577d27",
   "metadata": {},
   "outputs": [
    {
     "name": "stdout",
     "output_type": "stream",
     "text": [
      "r$dzmg$gl$yvxlnv$z$wzgz$hxrvmgrhg.\n"
     ]
    }
   ],
   "source": [
    "str=\"I want to become a Data Scientist.\"\n",
    "str2=\"\"\n",
    "str3=\"@#!$%^&*.\"# we can all special char here\n",
    "for i in (str.lower()):\n",
    "    if i==' ':\n",
    "        str2=str2+'$'\n",
    "    elif i in (str3):\n",
    "        str2=str2+i\n",
    "    #print(str1)\n",
    "    elif i in (e_table.keys()):\n",
    "        str2=str2+e_table[i]\n",
    "print(str2)\n",
    "        #print(i) "
   ]
  },
  {
   "cell_type": "code",
   "execution_count": null,
   "id": "42af2a57-18cb-4828-88e2-705a3292a4c3",
   "metadata": {},
   "outputs": [],
   "source": []
  },
  {
   "cell_type": "code",
   "execution_count": null,
   "id": "a1e5a60c-c7b5-4faa-a928-054dc98cb492",
   "metadata": {},
   "outputs": [],
   "source": []
  },
  {
   "cell_type": "code",
   "execution_count": null,
   "id": "e68243ab-c791-482c-93c0-dd96ce14c39d",
   "metadata": {},
   "outputs": [],
   "source": []
  }
 ],
 "metadata": {
  "kernelspec": {
   "display_name": "Python 3 (ipykernel)",
   "language": "python",
   "name": "python3"
  },
  "language_info": {
   "codemirror_mode": {
    "name": "ipython",
    "version": 3
   },
   "file_extension": ".py",
   "mimetype": "text/x-python",
   "name": "python",
   "nbconvert_exporter": "python",
   "pygments_lexer": "ipython3",
   "version": "3.10.8"
  }
 },
 "nbformat": 4,
 "nbformat_minor": 5
}
