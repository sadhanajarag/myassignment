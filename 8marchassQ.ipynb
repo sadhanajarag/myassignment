{
 "cells": [
  {
   "cell_type": "markdown",
   "id": "74574f40-380d-4c04-ad4f-67d527cabe08",
   "metadata": {},
   "source": [
    "# Q1. What is the Probability density function?"
   ]
  },
  {
   "cell_type": "markdown",
   "id": "30b42d17-fb88-420e-b8a9-a182b96f1864",
   "metadata": {},
   "source": [
    "Probability density function is a function that provides the likelihood that the value of a random variable will fall between a certain range of values. We use the probability density function in the case of continuous random variables.\n"
   ]
  },
  {
   "cell_type": "markdown",
   "id": "1dc66e42-dbe4-4f1b-95cb-94e430cf3e86",
   "metadata": {},
   "source": [
    "## Q2. What are the types of Probability distribution?"
   ]
  },
  {
   "cell_type": "markdown",
   "id": "1c9db40b-7ce3-41ad-ad3c-56de37f6837e",
   "metadata": {},
   "source": [
    "Types of Probability Distributions:\n",
    "    \n",
    "Statisticians divide probability distributions into the following types:\n",
    "\n",
    "        1)Normal or Continuous Probability Distribution\n",
    "        2)Binomial or Discrete Probability Distribution\n",
    "\n",
    "Discrete Probability Distributions:\n",
    "    \n",
    "        Discrete probability functions are the probability of mass functions. It assumes a discrete number of values. \n",
    "        \n",
    "        e.g  when you toss a coin, then counts of events are discrete functions because there are no in-between values\n",
    "    \n",
    "Characteristics of Discrete Distribution:\n",
    "\n",
    "-- We can add up individual values to find out the probability of an interval\n",
    "-- Discrete distributions can be expressed with a graph, piece-wise function or table\n",
    "--In discrete distributions, graph consists of bars lined up one after the other\n",
    "--Expected values might not be achievable\n",
    "--P(Y≤y) = P(Y < y + 1)\n",
    "        \n",
    "Types of Discrete Probability Distributions:\n",
    "          \n",
    "                1)Bernoulli Distribution\n",
    "                2)Binomial Distribution\n",
    "                3)Uniform Distribution\n",
    "                4)Poisson Distribution\n",
    "                \n",
    "            1)Bernoulli Distribution:\n",
    "            In Bernoulli distribution there is only one trial and only two possible outcomes \n",
    "            i.e. success or failure. It is denoted by y ~Bern(p).\n",
    "            \n",
    "            Characteristics of Bernoulli distributions\n",
    "\n",
    "                1) It consists of a single trial\n",
    "                2) Two possible outcomes\n",
    "                3) E(Y) = p\n",
    "                4)Var(Y) = p × (1 – p)\n",
    "                \n",
    "            Examples and Uses:\n",
    "                        Guessing a single True/False question.\n",
    "                        It is mostly used when trying to find out what we expect to obtain a single trial of an experiment.\n",
    "    \n",
    "            2) Binomial distributions – \n",
    "                           A sequence of identical Bernoulli events is called Binomial and follows\n",
    "                           a Binomial distribution. It is denoted by Y ~B(n, p).\n",
    "                           \n",
    "                    Characteristics of Binomial distribution\n",
    "\n",
    "                        1) Over the n trials, it measures the frequency of occurrence of one of the possible result.\n",
    "                        2) E(Y) = n × p\n",
    "                        3) P(Y = y) = C(y, n) × py× (1 – p)n-y\n",
    "                        4) Var(Y) = n × p × (1 – p)\n",
    "        Examples and Uses:\n",
    "                    Simply determine, how many times we obtain a head if we flip a coin 10 times.\n",
    "                    It is mostly used when we try to predict how likelihood an event occurs over a series of trials.\n",
    "\n",
    "            3)Uniform  distributions – \n",
    "                            In uniform distribution all the outcomes are equally likely.\n",
    "                            It is denoted by Y ~U(a, b). If the values are categorical, \n",
    "                            we simply indicate the number of categories, like Y ~U(a).\n",
    "                            \n",
    "                            \n",
    "            Characteristics of Uniform Distribution:\n",
    "                    1)In uniform distribution all the outcomes are equally likely.\n",
    "                    2)In graph, all the bars are equally tall\n",
    "                    3)The expected value and variance have no predictive power\n",
    "                    \n",
    "            Examples and Uses:\n",
    "            Result obtained after rolling a die\n",
    "            Due to its equality, it is mostly used in shuffling algorithms\n",
    "\n",
    "          \n",
    "            \n",
    "            4)Poisson Distribution:\n",
    "                        Poisson distribution is used to determine how likelihood a certain event occur over a given i\n",
    "                        nterval of time or distance. It is denoted by Y ~ Po( λ ).\n",
    "\n",
    "            Characteristics of poisson distribution:\n",
    "            1)It measures the frequency over an interval of time or distance.\n",
    "            2)E(y) =  λ\n",
    "            3)P(Y=y) = λy/ λ!e −λ\n",
    "            4)Var (Y)= λ\n",
    "            \n",
    "    \n",
    "            Examples and Uses:\n",
    "                It is used to determine how likelihood a certain event occur over a given interval of time or distance.\n",
    "                Mostly used in marketing analysis to find out whether more than average visits are out of the ordinary or otherwise.\n",
    "            \n",
    "\n",
    "\n",
    "    \n",
    "Continuous Probability Distributions:\n",
    "\n",
    "                It is also known as probability density functions. There is a continuous distribution if the \n",
    "                variable assumes to have an infinite number of values between any two values.\n",
    "                Continuous variables are measured on scales, like height, weight and temperature.\n",
    "                \n",
    "Characteristics of Continuous Distributions:\n",
    "\n",
    "\n",
    "--We cannot add up individual values to find out the probability of an interval because there are many of them\n",
    "--Continuous distributions can be expressed with a continuous function or graph\n",
    "--In continuous distributions, graph consists of a smooth curve\n",
    "--To calculate the chance of an interval, we required integrals\n",
    "--P(Y = y) = 0 for any distinct value y.\n",
    "--P(Y<y) = P(Y ≤ y)\n",
    "                \n",
    "Types of Continuous Probability Distributions:\n",
    "\n",
    "                    1)Normal Distribution\n",
    "                    2)Chi-Squared Distribution\n",
    "                    3)Exponential Distribution\n",
    "                    4)Logistic Distribution\n",
    "                    5)Students’ T Distribution\n",
    "\n",
    "                    1)Normal Distribution:\n",
    "                                It shows a distribution that most natural events follow. \n",
    "                                It is denoted by Y ~  (µ, σ2). The main characteristics of normal distribution are:\n",
    "\n",
    "                    Characteristics of normal distribution\n",
    "\n",
    "                        1)Graph obtained from normal distribution is bell-shaped curve, symmetric and has shrill tails.\n",
    "                        2)68% of all its all values should fall in the interval, i.e. (µ – σ , µ+ σ )\n",
    "                        3)E(Y) = µ\n",
    "                        4)Var(Y) = σ2\n",
    "                       5) Mean, median, and mode coincides.\n",
    "                       6) The distribution curve is symmetrical along x = μ.\n",
    "                        7)The area under the curve is 1.\n",
    "                        \n",
    "                    Examples and Uses\n",
    "\n",
    "                        --Normal distributions are mostly observed in the size of animals in the desert.\n",
    "                        --e can convert any normal distribution into a standard normal distribution. \n",
    "                        Normal distribution could be standardized to use the Z-table.\n",
    "                        --z-table\n",
    "                            z=y-µ/σ\n",
    "                        \n",
    "                        Where, σ ensures standard deviation is 1 and µ ensures mean is 0.\n",
    "                    \n",
    "                    2)Chi-Squared Distribution:\n",
    "                        Chi-Squared distribution is frequently being used. \n",
    "                        It is mostly used to test wow of fit. It is denoted by Y ~ X2 (k).\n",
    "\n",
    "                        Characteristics of Chi-Squared distribution:\n",
    "                        --The graph obtained from Chi-Squared distribution is asymmetric and skewed to the right.\n",
    "                        --It is square of the t-distribution.\n",
    "                        --E(Y) = k\n",
    "                        --Var(Y) = 2k\n",
    "                        \n",
    "                        Examples and Uses:\n",
    "\n",
    "                        It is mostly used to test wow of fit.\n",
    "                        It comprises a table of known values for its CDF called the x2 – table.\n",
    "                        \n",
    "                    3 Exponential Distribution:\n",
    "                            It is usually observed in events which considerably change early on.  It is denoted by Y ~ Exp(λ).\n",
    "\n",
    "                        Characteristics of exponential distribution:\n",
    "                        --Probability and Cumulative Distributed Functions (PDF & CDF) plateau after a certain point.\n",
    "                        --We do not have a table to known the values like the Normal or Chi-Squared Distributions, \n",
    "                        therefore, we mostly used natural logarithm to change the values of exponential distributions.\n",
    "                        --E(Y)=1/λ\n",
    "                        --Var(Y)=1/λ2\n",
    "                        \n",
    "\n",
    "                        Examples and Uses:\n",
    "                        It is mostly used with dynamically changing variables, such as online websites traffic.\n",
    "\n",
    "                    4)Logistic Distribution:\n",
    "                    It is used to observe how continuous variable inputs can affect the probability of a binary result.\n",
    "                    It is denoted by Y ~ Logistic(µ, s).\n",
    "\n",
    "                        Characteristics of logistic distribution:\n",
    "                        --The Cumulative Distributed Function picks up when we reach values near the mean.\n",
    "                        --The lesser the scale parameter, the faster it reaches values close to 1.\n",
    "                        --E(Y)=µ\n",
    "                        --var(Y)=s2*pi2/3\n",
    "                    \n",
    "                    Examples and Uses:\n",
    "                    It is mostly used in sports to predict how a player’s or team’s feat can conclude the result of the matc\n",
    "                    \n",
    "                    5)Students’ T Distribution:\n",
    "                    Students’ T Distribution or simply called T Distribution is used to estimate population limitation \n",
    "                    when the sample size is small and population variance is not known. It is denoted by Y~ t(k).\n",
    "\n",
    "                Characteristics of Students’ T Distribution:\n",
    "                    -- A small sample size estimation of a normal distribution\n",
    "                    --Its graph is symmetric and bell-shaped curve, however, it has large tails.\n",
    "                    --if k>1 the E(Y)=µ\n",
    "                    --var(Y)=s2*k/k-2\n",
    "                        \n",
    "                    5)Examples and Uses\n",
    "                            It is used in examination of a small sample data which usually follows a normal distribution.\n",
    "                                        2)Cumulative probability distributions –\n",
    "                When the probability that the value of a random variable X is within a specified range, \n",
    "                cumulative probability comes into the picture.Suppose you toss a coin, then what is the \n",
    "                probability of the outcome to be one or fewer heads. This is a cumulative probability.\n",
    " \n",
    " \n",
    " A power law distribution:\n",
    " \n",
    "-- a characteristic of the 80/20 rule.\n",
    "--is represented by a continuous decreasing curve and is indicative of the distribution of ‘real-world’ networks such as the Internet.\n",
    "--Power-law distributions can be continuous or discrete.\n",
    "--The Pareto principle states that for many outcomes, roughly 80% of consequences come from 20% of causes.\n",
    "\n",
    "General examples of the Pareto principle:\n",
    "        20% of a plant contains 80% of the fruit\n",
    "        80% of a company’s profits come from 20% of customers\n",
    "        20% of players result in 80% of points scored\n"
   ]
  },
  {
   "cell_type": "markdown",
   "id": "aa261ddb-4098-4e0f-bd26-2bf8155e9ce3",
   "metadata": {},
   "source": [
    "## Q3. Write a Python function to calculate the probability density function of a normal distribution with given mean and standard deviation at a given point."
   ]
  },
  {
   "cell_type": "code",
   "execution_count": null,
   "id": "33a8389f-2f16-4752-beb4-ef69af10bf3f",
   "metadata": {},
   "outputs": [],
   "source": [
    "Normal probability density formula\tExplanation\n",
    "\n",
    "  f(x)=1/σ√2π e−(x−μ)2/(2σ2)\n",
    "    \n",
    "f(x) = probability\n",
    "x = value of the variable\n",
    "μ = mean\n",
    "σ = standard deviation\n",
    "σ2 = variance\n",
    "\n",
    " # prob_density = (np.pi*sd) * np.exp(-0.5*((x-mean)/sd)**2)"
   ]
  },
  {
   "cell_type": "code",
   "execution_count": null,
   "id": "4c744f8f-440a-4579-906e-547b43fad0d9",
   "metadata": {},
   "outputs": [],
   "source": [
    "scipy.stats.norm.pdf(data,loc,scale)\n",
    "\n",
    "Where parameters are:\n",
    "\n",
    "data: It is a set of points or values that represent evenly sampled data in the form of array data.\n",
    "loc: It is used to specify the mean, by default it is 0.\n",
    "scale: It is used to specify the standard deviation, by default it is 1.\n"
   ]
  },
  {
   "cell_type": "code",
   "execution_count": 49,
   "id": "1f9e4429-edc9-43d1-91d3-8e4c32f8c0f4",
   "metadata": {},
   "outputs": [
    {
     "data": {
      "image/png": "[encoded data removed]",
      "text/plain": [
       "<Figure size 1000x600 with 2 Axes>"
      ]
     },
     "metadata": {},
     "output_type": "display_data"
    }
   ],
   "source": [
    "# Importing required libraries\n",
    " \n",
    "import numpy as np\n",
    "from scipy.stats import norm\n",
    "import matplotlib.pyplot as plt\n",
    "%matplotlib inline\n",
    " \n",
    "# Creating a series of data of in range of 1-50.\n",
    "x = np.linspace(-5,5,37)\n",
    "#plot with default values\n",
    "normal_dist1 = norm.pdf(x,0,1)\n",
    "#Calculate mean and Standard deviation.\n",
    "mean = np.mean(x)\n",
    "sd = np.std(x)\n",
    "\n",
    "normal_dist = norm.pdf(x,mean,sd)\n",
    "plt.figure(figsize=(10,6))\n",
    "plt.subplot(1,2,1)\n",
    "plt.plot(x, normal_dist1) \n",
    "plt.subplot(1,2,2)\n",
    "plt.plot(x, normal_dist) \n",
    "plt.show()\n"
   ]
  },
  {
   "cell_type": "code",
   "execution_count": null,
   "id": "1ab7981d-b5da-45ce-9c7e-c726b644c78b",
   "metadata": {},
   "outputs": [],
   "source": []
  },
  {
   "cell_type": "markdown",
   "id": "f842f99f-2b26-48c0-83f7-dc6ac98a0ba4",
   "metadata": {},
   "source": [
    "## Q4. What are the properties of Binomial distribution? Give two examples of events where binomial distribution can be applied."
   ]
  },
  {
   "cell_type": "code",
   "execution_count": null,
   "id": "705a8a8a-d3ed-42bf-aee0-44d4fc576486",
   "metadata": {},
   "outputs": [],
   "source": [
    " 2) Binomial distributions – \n",
    "                           A sequence of identical Bernoulli events is called Binomial and follows\n",
    "                           a Binomial distribution. It is denoted by Y ~B(n, p).\n",
    "                           \n",
    "        Characteristics of Binomial distribution:\n",
    "\n",
    "                        1) Over the n trials, it measures the frequency of occurrence of one of the possible result.\n",
    "                        2) E(Y) = n × p\n",
    "                        3) P(Y = y) = C(y, n) *  py *  (1 – p)n-y\n",
    "                        4) Var(Y) = n * p *  (1 – p)\n",
    "                        5)std deviation =root of npq\n",
    "                        \n",
    "    conditions and criteria to use binomial distributions:\n",
    "        \n",
    "        Rule 1: Situation where there are only two possible mutually exclusive outcomes (for example, yes/no survey questions).\n",
    "        Rule2: A fixed number of repeated experiments and trials are conducted (the process must have a clearly defined number of trials).\n",
    "        Rule 3: All trials are identical and independent (identical means every trial must be performed the same way as the others; independent means that the result of one trial does not affect the results of the other subsequent trials).\n",
    "        Rule: 4: The probability of success is the same in every one of the trials.\n",
    "                        \n",
    "                        \n",
    "        Examples and Uses:\n",
    "                    1) Simply determine, how many times we obtain a head if we flip a coin 10 times.\n",
    "                   2)  Number of Spam Emails per Day:Email companies use the binomial distribution to model\n",
    "                    the probability that a certain number of spam emails land in an inbox per day\n",
    "                    \n",
    "                    It is mostly used when we try to predict how likelihood an event occurs over a series of trials."
   ]
  },
  {
   "cell_type": "markdown",
   "id": "efc8331f-6ba6-400f-a1d5-8476473a073a",
   "metadata": {},
   "source": [
    "## Q5. Generate a random sample of size 1000 from a binomial distribution with probability of success 0.4 and plot a histogram of the results using matplotlib."
   ]
  },
  {
   "cell_type": "code",
   "execution_count": 21,
   "id": "6bdb1645-d691-4e50-9364-26484a93d6db",
   "metadata": {},
   "outputs": [
    {
     "data": {
      "image/png": "[encoded data removed]",
      "text/plain": [
       "<Figure size 640x480 with 1 Axes>"
      ]
     },
     "metadata": {},
     "output_type": "display_data"
    }
   ],
   "source": [
    "#It has three parameters:\n",
    "\n",
    "#n - number of trials.\n",
    "\n",
    "#p - probability of occurence of each trial (e.g. for toss of a coin 0.5 each).\n",
    "\n",
    "#size - The shape of the returned array.\n",
    "\n",
    "from numpy import random\n",
    "import matplotlib.pyplot as plt\n",
    "import seaborn as sns\n",
    "\n",
    "x = random.binomial(n=10, p=0.4, size=1000)\n",
    "\n",
    "#sns.distplot(x, hist=True, kde=False)\n",
    "sns.histplot(x,kde=False)\n",
    "plt.show()"
   ]
  },
  {
   "cell_type": "markdown",
   "id": "0139beee-53da-4353-8386-c159089685f6",
   "metadata": {},
   "source": [
    "## Q6. Write a Python function to calculate the cumulative distribution function of a Poisson distribution with given mean at a given point."
   ]
  },
  {
   "cell_type": "markdown",
   "id": "6d04c778-ba82-41c0-9eaf-4f7bd4b4f72f",
   "metadata": {},
   "source": [
    "In order to calculate the Poisson PMF using Python,\n",
    "we will use the .pmf() method of the scipy.poisson generator. \n",
    "\n",
    "It will need two parameters:\n",
    "\n",
    "k value (the k array that we created)\n",
    "μ value  means λ\n",
    "\n",
    "\n",
    "How to Calculate Probabilities Using a Poisson Distribution:\n",
    "\n",
    "You can use the poisson.pmf(k, mu) and poisson.cdf(k, mu) functions to calculate probabilities related to the Poisson distribution."
   ]
  },
  {
   "cell_type": "markdown",
   "id": "2c2d53a2-3240-4a99-99b1-397d41df9891",
   "metadata": {},
   "source": [
    "e.g A store sells 3 apples per day on average. What is the probability that they will sell 5 apples on a given day? "
   ]
  },
  {
   "cell_type": "code",
   "execution_count": 30,
   "id": "01e6eb90-bfbf-4d28-8576-256a686a1402",
   "metadata": {},
   "outputs": [
    {
     "name": "stdout",
     "output_type": "stream",
     "text": [
      "Probability Mass Function :: 0.10081881344492458\n"
     ]
    }
   ],
   "source": [
    "#import the library\n",
    "#Poisson PMF (probability mass function) in Python\n",
    "from scipy.stats import poisson\n",
    "\n",
    "#calculate probability\n",
    "p= poisson.pmf(k=5, mu=3)\n",
    "\n",
    "print(\"Probability Mass Function ::\",p)\n",
    "\n"
   ]
  },
  {
   "cell_type": "code",
   "execution_count": 32,
   "id": "2fa0ab24-2e2a-4e93-a75f-3621a8d5c7b5",
   "metadata": {},
   "outputs": [
    {
     "name": "stdout",
     "output_type": "stream",
     "text": [
      "cumulative distribution function :: 0.3007082761743609\n",
      "0.3007082761743609\n"
     ]
    }
   ],
   "source": [
    "#Poisson CDF (cumulative distribution function) in Python\n",
    "\n",
    "from scipy.stats import poisson\n",
    "\n",
    "cdf = poisson.cdf(k=5, mu=7)\n",
    "\n",
    "print(\"cumulative distribution function ::\",cdf)\n"
   ]
  },
  {
   "cell_type": "code",
   "execution_count": 33,
   "id": "77024553-b30e-4289-822a-b3a82912504f",
   "metadata": {},
   "outputs": [
    {
     "name": "stdout",
     "output_type": "stream",
     "text": [
      "[ 0  1  2  3  4  5  6  7  8  9 10 11 12 13 14 15 16]\n"
     ]
    },
    {
     "data": {
      "image/png": "[encoded data removed]",
      "text/plain": [
       "<Figure size 640x480 with 1 Axes>"
      ]
     },
     "metadata": {},
     "output_type": "display_data"
    }
   ],
   "source": [
    "import numpy as np\n",
    "import matplotlib.pyplot as plt\n",
    "from scipy.stats import poisson\n",
    "\n",
    "k = np.arange(0, 17)\n",
    "\n",
    "print(k)\n",
    "\n",
    "pmf = poisson.pmf(k, mu=7)\n",
    "plt.plot(k, pmf, marker='o')\n",
    "plt.show()"
   ]
  },
  {
   "cell_type": "markdown",
   "id": "cdd3bc0c-6797-48fc-9687-3a781eb9c494",
   "metadata": {},
   "source": [
    "## Q7. How Binomial distribution different from Poisson distribution?"
   ]
  },
  {
   "cell_type": "markdown",
   "id": "ee28acbf-b180-44c3-876a-752400b55351",
   "metadata": {},
   "source": [
    "1) Binomial Distribution :Probability of repeated number of trials are studied\n",
    "1) Poisson distribution :Gives the count of independent number of events are occur randomly with given period of time\n",
    "\n",
    "2) Binomial Distribution :Probability of repeated number of trials are studied  :: FIXED\n",
    "2) Poisson distribution :Gives the count of independent number of events are occur randomly with given period of time  :: INFINITE\n",
    "\n",
    "3) Binomial Distribution :Only two possible of outcome ...success or failure\n",
    "3) Poisson distribution :Unlimited number of possible outcome\n",
    "\n",
    "4) Binomial Distribution :Mean > Varience\n",
    "4) Poisson distribution :Mean = Varience\n",
    "\n",
    "5) Binomial Distribution :e.g Coin tossing outcome ..either head or tail\n",
    "5) Poisson distribution :No of people visting in every hour to the temple\n"
   ]
  },
  {
   "cell_type": "markdown",
   "id": "bf3ee9a8-791e-4af7-9499-c8c381983f4a",
   "metadata": {},
   "source": [
    "## Q8. Generate a random sample of size 1000 from a Poisson distribution with mean 5 and calculate the sample mean and variance."
   ]
  },
  {
   "cell_type": "code",
   "execution_count": 63,
   "id": "f4dd9fbd-255e-4b18-9d0d-3da52e90cf19",
   "metadata": {},
   "outputs": [
    {
     "name": "stdout",
     "output_type": "stream",
     "text": [
      "Sample mean of distribution is sum of all 1000 data /1000 : 0.08699840641764978\n",
      "Varience  of distribution is equal to sample mean : 0.08699840641764978\n"
     ]
    }
   ],
   "source": [
    "import numpy as np\n",
    "import matplotlib.pyplot as plt\n",
    "from scipy.stats import poisson\n",
    "\n",
    "\n",
    "k = np.random.randint(5,size=1000)\n",
    "\n",
    "#print(k)\n",
    "pmf = poisson.pmf(k, mu=5)\n",
    "\n",
    "sample_mean = sum(pmf)/1000\n",
    "\n",
    "print(\"Sample mean of distribution is sum of all 1000 data /1000 :\",sample_mean)\n",
    "print(\"Varience  of distribution is equal to sample mean :\",sample_mean)\n",
    "#print(pmf)"
   ]
  },
  {
   "cell_type": "markdown",
   "id": "0c02e817-a18d-41a8-90b8-bc6017a6d2cf",
   "metadata": {},
   "source": [
    "## Q9. How mean and variance are related in Binomial distribution and Poisson distribution?"
   ]
  },
  {
   "cell_type": "code",
   "execution_count": null,
   "id": "f1139ad0-fbf2-4bb3-95f8-ebed13c914e9",
   "metadata": {},
   "outputs": [],
   "source": [
    "In binomial distribution Mean > Variance \n",
    "\n",
    "Mean(µ) = np\n",
    "Variance(σ2) = npq\n",
    "\n",
    "In poisson distribution mean = variance.\n",
    "\n",
    "Poisson Distribution Mean and Variance\n",
    "\n",
    "Assume that, we conduct a Poisson experiment, in which the average number of successes within a given range is taken as λ. \n",
    "In Poisson distribution, the mean of the distribution is represented by λ and e is constant, \n",
    "which is approximately equal to 2.71828. Then, the Poisson probability is:\n",
    "\n",
    "P(x, λ ) =(e– λ λx)/x!\n",
    "\n",
    "In Poisson distribution, the mean is represented as E(X) = λ.\n",
    "For a Poisson Distribution, the mean and the variance are equal. It means that E(X) = V(X)=λ *t\n",
    "\n",
    "Where,\n",
    "V(X) is the variance."
   ]
  },
  {
   "cell_type": "markdown",
   "id": "a454c197-3b8d-4580-927c-d2c80538b6de",
   "metadata": {},
   "source": [
    "## Q10. In normal distribution with respect to mean position, where does the least frequent data appear?"
   ]
  },
  {
   "cell_type": "code",
   "execution_count": null,
   "id": "da1ea3fa-9cdb-46b7-b4af-1065b296e569",
   "metadata": {},
   "outputs": [],
   "source": [
    "In normal distribution with respect to mean position:\n",
    "    \n",
    "mean and median are equal; both located at the center of the distribution\n",
    "≈68% percent of the data falls within 1 standard deviation of the mean\n",
    "≈95% percent of the data falls within 2 standard deviations of the mean\n",
    "≈99.7% percent of the data falls within 3 standard deviations of the mean\n",
    "\n",
    "Most of the continuous data values in a normal distribution tend to cluster around the mean,\n",
    "and the further a value is from the mean, the less likely it is to occur."
   ]
  },
  {
   "cell_type": "code",
   "execution_count": null,
   "id": "031e77b0-21c9-40b6-86f2-684806266858",
   "metadata": {},
   "outputs": [],
   "source": []
  }
 ],
 "metadata": {
  "kernelspec": {
   "display_name": "Python 3 (ipykernel)",
   "language": "python",
   "name": "python3"
  },
  "language_info": {
   "codemirror_mode": {
    "name": "ipython",
    "version": 3
   },
   "file_extension": ".py",
   "mimetype": "text/x-python",
   "name": "python",
   "nbconvert_exporter": "python",
   "pygments_lexer": "ipython3",
   "version": "3.10.8"
  }
 },
 "nbformat": 4,
 "nbformat_minor": 5
}
