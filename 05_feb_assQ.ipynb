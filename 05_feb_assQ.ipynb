{
 "cells": [
  {
   "cell_type": "markdown",
   "id": "a9bf615f-0283-49e1-a134-63294e06ad6d",
   "metadata": {},
   "source": [
    "## Q1. Explain Class and Object with respect to Object-Oriented Programming. Give a suitable example."
   ]
  },
  {
   "cell_type": "markdown",
   "id": "7bed60e7-17d1-4111-9445-ab549b4f7419",
   "metadata": {},
   "source": [
    "Class\n",
    "In object oriented application development data is represented as objects and every data type is class.\n",
    "\n",
    "There are two type of classes\n",
    "-- Predefined classes\n",
    "        •\tint class\n",
    "        •\tfloat class\n",
    "        •\tcomplex class\n",
    "        •\tlist class\n",
    "        •\tset class\n",
    "        •\tdict class\n",
    "        •\ttuple class\n",
    "        •\tstr class\n",
    "-- User defined classes:\n",
    "     When existing classes does not fulfill application requirement we build our own classes, which are called user defined classes or custom classes.\n",
    "    Class is data type which allocates memory for object\n",
    "    Class is building block of an object oriented programming\n",
    "    Class is an implementation of encapsulation\n",
    "    Class is encapsulated with properties and behavior object.\n",
    "    Class is a collection of members,\n",
    "            1.\tdata members/variables/attributes/properties\n",
    "            2.\tmember functions/methods\n",
    "    Class is encapsulated with variables and methods of object.\n",
    "    Class is blueprint of object\n",
    "    Using class we build our own “data types”\n",
    "    Class is model of the object.\n",
    "    Class defines the structure of object.\n",
    "Object:\n",
    "\n",
    "Object is an instance of class\n",
    "Object is an implementation of class.\n",
    "In object oriented application data is stored inside object.\n",
    "Every object is having\n",
    "    1.\tproperties : defines state of the object\n",
    "    2.\tbehavior : defines the functionality of the object\n",
    "\n",
    "\n",
    "Syntax:\n",
    "    class <class-name>:\n",
    "        variables\n",
    "        methods/functions/member functions\n",
    "\n",
    "__init__:\n",
    "    \n",
    "Constructors are used to initializing the object’s state. \n",
    "The task of constructors is to initialize(assign values) to the data members of the class when an object of the class is created. \n",
    "Like methods, a constructor also contains a collection of statements(i.e. instructions) that are executed at the time of Object creation. It is run as soon as an object of a class is instantiated. The method is useful to do any initialization you want to do with your object."
   ]
  },
  {
   "cell_type": "code",
   "execution_count": 18,
   "id": "a63030ae-da16-4e36-b983-e2408ba9c3f8",
   "metadata": {},
   "outputs": [],
   "source": [
    "class test: ## class\n",
    "    a1=10 ## class level variable\n",
    "    b1=100\n",
    "    c1=\"sadhana\"\n",
    "    def __init__(self,a,b,c): #constructor created\n",
    "        self.a=a #assigning  values\n",
    "        self.b=b\n",
    "        self.c=c\n",
    "    def test1(self): # defining function and passing the  values of constructor\n",
    "        return (self.a,self.b,self.c)"
   ]
  },
  {
   "cell_type": "code",
   "execution_count": 16,
   "id": "2d797716-120d-471c-91f0-3375c0fb52ad",
   "metadata": {},
   "outputs": [],
   "source": [
    "t1=test(11,22,'PWSkills') # creating and object and calling constructor"
   ]
  },
  {
   "cell_type": "code",
   "execution_count": 17,
   "id": "9f143498-e52f-493a-905f-399e35c0970e",
   "metadata": {},
   "outputs": [
    {
     "data": {
      "text/plain": [
       "(11, 22)"
      ]
     },
     "execution_count": 17,
     "metadata": {},
     "output_type": "execute_result"
    }
   ],
   "source": [
    "t1.test1() # calling the method of class by using class object"
   ]
  },
  {
   "cell_type": "code",
   "execution_count": 13,
   "id": "a8ce9ae2-ced0-4624-8c3a-9b0cc38f8fbe",
   "metadata": {},
   "outputs": [
    {
     "data": {
      "text/plain": [
       "10"
      ]
     },
     "execution_count": 13,
     "metadata": {},
     "output_type": "execute_result"
    }
   ],
   "source": [
    "test.a1"
   ]
  },
  {
   "cell_type": "code",
   "execution_count": 14,
   "id": "3071fe15-bb37-4b8e-b270-909d1e53519a",
   "metadata": {},
   "outputs": [
    {
     "data": {
      "text/plain": [
       "100"
      ]
     },
     "execution_count": 14,
     "metadata": {},
     "output_type": "execute_result"
    }
   ],
   "source": [
    "test.b1"
   ]
  },
  {
   "cell_type": "markdown",
   "id": "14effb59-7222-4e5b-859c-6de39f75742d",
   "metadata": {},
   "source": [
    "# Q2. Name the four pillars of OOPs."
   ]
  },
  {
   "cell_type": "code",
   "execution_count": null,
   "id": "cd38a528-8e98-41b8-9bde-d2756c5c9c1b",
   "metadata": {},
   "outputs": [],
   "source": [
    "Ans: The four pillars of object-oriented programming are:\n",
    "\n",
    "Abstraction\n",
    "Encapsulation\n",
    "Inheritance\n",
    "Polymorphism"
   ]
  },
  {
   "cell_type": "markdown",
   "id": "b2aa4154-877f-4f78-8f74-177de41dbe1c",
   "metadata": {},
   "source": [
    "## Q3. Explain why the __init__() function is used. Give a suitable example."
   ]
  },
  {
   "cell_type": "markdown",
   "id": "bffe66a1-b868-4518-b2fe-d0dc3c5921b1",
   "metadata": {},
   "source": [
    "Ans: __init__:\n",
    "    \n",
    "Constructors are used to initializing the object’s state. \n",
    "The task of constructors is to initialize(assign values) to the data members of the class when an object of the class is created. \n",
    "Like methods, a constructor also contains a collection of statements(i.e. instructions) that are executed at the time of Object creation. It is run as soon as an object of a class is instantiated. The method is useful to do any initialization you want to do with your object."
   ]
  },
  {
   "cell_type": "code",
   "execution_count": 3,
   "id": "e984cc24-c9aa-4149-912f-d217130667f2",
   "metadata": {},
   "outputs": [
    {
     "data": {
      "text/plain": [
       "'Triangle'"
      ]
     },
     "execution_count": 3,
     "metadata": {},
     "output_type": "execute_result"
    }
   ],
   "source": [
    "class shape:\n",
    "    def __init__(self,name):\n",
    "        self.name=name\n",
    "    def show(self):\n",
    "        return self.name\n",
    "    \n",
    "#main()\n",
    "s=shape(\"Triangle\")\n",
    "s.show()\n",
    "        "
   ]
  },
  {
   "cell_type": "markdown",
   "id": "287bfa87-1016-45e1-8a0d-c98ca904d1a0",
   "metadata": {},
   "source": [
    "## Q4. Why self is used in OOPs?"
   ]
  },
  {
   "cell_type": "markdown",
   "id": "9ead58cb-ebdf-4723-ab8e-0146c20f72c2",
   "metadata": {},
   "source": [
    "“self” is a argument name or variable-name, which hold address of current object on which this method called.\n",
    "“self” is variable which hold address of current object to which method is bind.\\\n",
    "\n",
    "The reason you need to use self. is because Python does not use the @ syntax to refer to instance attributes. Python decided to do methods in a way that makes the instance to which the method belongs be passed automatically, but not received automatically: the first parameter of methods is the instance the method is called on."
   ]
  },
  {
   "cell_type": "code",
   "execution_count": 12,
   "id": "4fd13a36-0a91-4f3c-938b-7b6b68d7e4b4",
   "metadata": {},
   "outputs": [
    {
     "name": "stdout",
     "output_type": "stream",
     "text": [
      "I am in init\n",
      "Oval\n"
     ]
    }
   ],
   "source": [
    "class shape:\n",
    "    def __init__(self,name):\n",
    "        self.name=name\n",
    "        print(\"I am in init\")\n",
    "        \n",
    "#main()\n",
    "o1= shape(\"Oval\")\n",
    "print(o1.name)\n",
    "#print(o1)"
   ]
  },
  {
   "cell_type": "markdown",
   "id": "652e850a-2212-418a-aefa-f5377a475532",
   "metadata": {},
   "source": [
    "## Q5. What is inheritance? Give an example for each type of inheritance."
   ]
  },
  {
   "cell_type": "code",
   "execution_count": null,
   "id": "0bc1a940-a02a-4ad0-ace7-6a024f263fb4",
   "metadata": {},
   "outputs": [],
   "source": [
    "Inheritance\n",
    "\n",
    "Inheritance is a process of acquiring the properties and behavior of one class inside class.\n",
    "\n",
    "Inheritance is a powerful feature in object oriented programming. It refers to defining a new class with little or no modification to an existing class. The new class is called derived (or child) class and the one from which it inherits is called the base (or parent) class.\n",
    "\n",
    "When a class derives from another class.\n",
    "\n",
    "Inheritance allows to create a new class using the variables and methods of existing class.\n",
    "\n",
    "Advantage of inheritance\n",
    "\n",
    "Advantage of inheritance is reusability. \n",
    "Inheritance allows to use the content of one class inside another class.  \n",
    "It allows using the variables and methods of one class inside another class.\n",
    "The relationship between classes in inheritances is IS-A\n",
    "\n",
    "Inheritance is process of grouping all the classes which share common properties and behavior.\n",
    "\n",
    "Based on the reusability and organization of classes, inheritances are classified into different categories\n",
    "⦁\tSingle Level Inheritance\n",
    "⦁\tMulti Level Inheritance\n",
    "⦁\tMultiple Inheritance\n",
    "⦁\tHierarchical inheritance\n",
    "⦁\tHybrid Inheritance\n",
    "\n",
    "Syntax of inheritance\n",
    "\n",
    "class <derived-class-name>/<sub-class-name>(base-class-name/super-class>,…):\n",
    "\tstatement-1\n",
    "\tstatement-2\n",
    "\n",
    "Note: Variables of super class are not inherited automatically within child class.\n",
    "    Inorder to inherit the variables of super class within subclass we have to call constructor method of super class with sub class. This calling is done using super() method.\n",
    "\tSyntax: super().__init__()\n",
    "\n",
    "Note 2: Private members of base class are not accessible within derived class.\n",
    "    Inorder to access private members of base class within derived class we have use public methods.\n",
    "\n"
   ]
  },
  {
   "cell_type": "code",
   "execution_count": 4,
   "id": "cabff4ab-9c6f-4093-b5b2-b7fe6149ef0c",
   "metadata": {},
   "outputs": [
    {
     "name": "stdout",
     "output_type": "stream",
     "text": [
      "I am from method B1 and class B\n",
      "I am from method A1 with class A\n"
     ]
    }
   ],
   "source": [
    "#Single Level Inheritance:\n",
    "# one class is inherited by another class\n",
    "class A:\n",
    "    def A1(self):\n",
    "        print(\"I am from method A1 with class A\")\n",
    "\n",
    "class B(A):\n",
    "    def B1(self):\n",
    "        print(\"I am from method B1 and class B\")\n",
    "\n",
    "def main()\n",
    "    b1=B()\n",
    "    b1.B1()\n",
    "    b1.A1()\n",
    "\n",
    "main()"
   ]
  },
  {
   "cell_type": "code",
   "execution_count": 6,
   "id": "c588770d-6629-4078-b600-3267e660370e",
   "metadata": {},
   "outputs": [
    {
     "name": "stdout",
     "output_type": "stream",
     "text": [
      "I am from method B1 and class B\n",
      "I am from method A1 with class A\n",
      "I am from method C1 and class C\n"
     ]
    }
   ],
   "source": [
    "#Multilevel Inheritance\n",
    " #More than one level of inheritance is called multilevel inheritance\n",
    "class A:\n",
    "    def A1(self):\n",
    "        print(\"I am from method A1 with class A\")\n",
    "\n",
    "class B(A):\n",
    "    def B1(self):\n",
    "        print(\"I am from method B1 and class B\")\n",
    "        \n",
    "class C(B):\n",
    "    def C1(self):\n",
    "        print(\"I am from method C1 and class C\")\n",
    "\n",
    "def main():\n",
    "    c1=C()\n",
    "    c1.B1()\n",
    "    c1.A1()\n",
    "    c1.C1()\n",
    "\n",
    "main()\n",
    "    "
   ]
  },
  {
   "cell_type": "code",
   "execution_count": 11,
   "id": "79d5a368-cffc-4d04-b8f5-f68de0f5d7b4",
   "metadata": {},
   "outputs": [
    {
     "name": "stdout",
     "output_type": "stream",
     "text": [
      "I am from base Class A with method a\n",
      "I am from base Class B with method b1\n",
      "I am from child Class C with method c1\n"
     ]
    }
   ],
   "source": [
    "#Multiple Inheritance\n",
    "#If class is derived from more than one base class, it is called multiple inheritance.\n",
    "class A:\n",
    "    def a1(self):\n",
    "        print(\"I am from base Class A with method a\")\n",
    "class B:\n",
    "    def b1(self):\n",
    "        print(\"I am from base Class B with method b1\")\n",
    "        \n",
    "class C(A,B):\n",
    "    def c1(self):\n",
    "        print(\"I am from child Class C with method c1\")\n",
    "        \n",
    "\n",
    "def main():\n",
    "    objc=C()\n",
    "    objc.a1()\n",
    "    objc.b1()\n",
    "    objc.c1()\n",
    "    \n",
    "main()\n",
    "    "
   ]
  },
  {
   "cell_type": "code",
   "execution_count": 14,
   "id": "fee4e0f4-8f43-42c0-ab38-efd028092f43",
   "metadata": {},
   "outputs": [
    {
     "name": "stdout",
     "output_type": "stream",
     "text": [
      "I am from base Class A with method a\n",
      "I am from child Class B with method b1\n",
      "I am from base Class A with method a\n",
      "I am from child Class C with method c1\n"
     ]
    }
   ],
   "source": [
    "#Hierarchical Inheritance\n",
    "#If more than one class derived from same base class, it is called hierarchical inheritance.\n",
    "\n",
    "class A:\n",
    "    def a1(self):\n",
    "        print(\"I am from base Class A with method a\")\n",
    "class B(A):\n",
    "    def b1(self):\n",
    "        print(\"I am from child Class B with method b1\")\n",
    "        \n",
    "class C(A):\n",
    "    def c1(self):\n",
    "        print(\"I am from child Class C with method c1\")\n",
    "        \n",
    "\n",
    "def main():\n",
    "    objc=C()\n",
    "    objb=B()\n",
    "    objc.a1()\n",
    "    objb.b1()\n",
    "    objb.a1()\n",
    "    objc.c1()\n",
    "    \n",
    "main()"
   ]
  },
  {
   "cell_type": "code",
   "execution_count": 22,
   "id": "01ea38ee-0678-4ff8-acc0-95784c23d812",
   "metadata": {},
   "outputs": [
    {
     "name": "stdout",
     "output_type": "stream",
     "text": [
      "a1 of A\n",
      "b1 of B\n",
      "c1 of C\n",
      "d1 of D\n"
     ]
    }
   ],
   "source": [
    "#Hybrid Inheritance\n",
    "#If there is more than one type of inheritance used to create derived class, it is called hybrid inheritance\n",
    "#Example:\n",
    "class A:\n",
    "    def a1(self):\n",
    "        print(\"a1 of A\")\n",
    "class B(A):\n",
    "    def b1(self):\n",
    "        print(\"b1 of B\")\n",
    "class C(A):\n",
    "    def c1(self):\n",
    "        print(\"c1 of C\")\n",
    "class D(B,C):\n",
    "    def d1(self):\n",
    "        print(\"d1 of D\")\n",
    "\n",
    "def main():\n",
    "    objd=D()\n",
    "    objd.a1()\n",
    "    objd.b1()\n",
    "    objd.c1()\n",
    "    objd.d1()\n",
    "    \n",
    "main()"
   ]
  },
  {
   "cell_type": "code",
   "execution_count": null,
   "id": "070b8768-94eb-4bfc-b904-f714ab851bd1",
   "metadata": {},
   "outputs": [],
   "source": []
  },
  {
   "cell_type": "code",
   "execution_count": null,
   "id": "f08a38a0-7a8a-4333-8025-41eb74764f9d",
   "metadata": {},
   "outputs": [],
   "source": []
  },
  {
   "cell_type": "code",
   "execution_count": null,
   "id": "6b2de2be-4d15-4b7f-a458-4a73f757a1d1",
   "metadata": {},
   "outputs": [],
   "source": []
  },
  {
   "cell_type": "code",
   "execution_count": null,
   "id": "14d2687b-4bb3-46aa-9dd4-9c65b0576a3f",
   "metadata": {},
   "outputs": [],
   "source": []
  },
  {
   "cell_type": "code",
   "execution_count": null,
   "id": "9693d7ff-cb89-44a0-8eb0-77a3ef864b0c",
   "metadata": {},
   "outputs": [],
   "source": []
  },
  {
   "cell_type": "code",
   "execution_count": null,
   "id": "74fa985c-621b-480d-be0c-74cd2c992728",
   "metadata": {},
   "outputs": [],
   "source": []
  }
 ],
 "metadata": {
  "kernelspec": {
   "display_name": "Python 3 (ipykernel)",
   "language": "python",
   "name": "python3"
  },
  "language_info": {
   "codemirror_mode": {
    "name": "ipython",
    "version": 3
   },
   "file_extension": ".py",
   "mimetype": "text/x-python",
   "name": "python",
   "nbconvert_exporter": "python",
   "pygments_lexer": "ipython3",
   "version": "3.10.8"
  }
 },
 "nbformat": 4,
 "nbformat_minor": 5
}
