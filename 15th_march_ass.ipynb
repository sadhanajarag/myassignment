{
 "cells": [
  {
   "cell_type": "markdown",
   "id": "e6422bff",
   "metadata": {},
   "source": [
    "## Q1- Explain the following with an Example\n",
    "\n",
    "\n",
    "1) Artificial Intelligence\n",
    "\n",
    "2) Machine  Learning,\n",
    "\n",
    "3) Deep Learning"
   ]
  },
  {
   "cell_type": "markdown",
   "id": "9190c7d5",
   "metadata": {},
   "source": [
    "1) Artificial Intelligence:\n",
    "    \n",
    "Artificial Intelligence (AI) refers to the simulation of human intelligence in machines that are programmed to think and act like humans. \n",
    "The main focus of artificial intelligence is towards understanding human behavior and performance. This can be done by creating computers with human-like intelligence and capabilities. \n",
    "\n",
    "Example self driving car and Robots\n",
    "\n",
    "2) Machine Learning:\n",
    "   It is a branch of artificial intelligence based on the idea that systems can learn from data, identify patterns and make decisions with minimal human intervention.\n",
    "   Example :\n",
    "        1) Recommendations system  : When you watch Netflix or Hulu or when you shop on Amazon, you always get recommendations.\n",
    "        These recommendation lists are provided by machine learning algorithms. The programs look at the things you’ve watched or shopped for in the past, and find similar options to suggest to you. It learns about you and your preferences and is able to serve you up similar items or movies for the future.\n",
    "        2)Online customer support. When you go on a website to ask for help you may interact with a chatbot. These chatbots utilize machine learning to read what you type and come up with similar questions or the right responses to help you. \n",
    "\n",
    "\n",
    "3)Deep Learning :\n",
    "                Deep learning is a subset of machine learning, which is essentially a neural network with three or more layers. These neural networks attempt to simulate the behavior of the human brain—albeit far from matching its ability—allowing it to “learn” from large amounts of data. While a neural network with a single layer can still make approximate predictions, additional hidden layers can help to optimize and refine for accuracy.\n",
    "      Example :\n",
    "           Deep learning technology lies behind everyday products and services such as digital assistants, voice-enabled TV remotes, and credit card fraud detection as well as emerging technologies such as self-driving cars.Chat GPT are latest example."
   ]
  },
  {
   "cell_type": "markdown",
   "id": "8cc83597",
   "metadata": {},
   "source": [
    "## Q2- What is supervised learning ?list some example of supervised learning."
   ]
  },
  {
   "cell_type": "markdown",
   "id": "8e8cc7f4",
   "metadata": {},
   "source": [
    "Defintion :\n",
    "\n",
    "    Supervised learning, as the name indicates, has the presence of a supervisor as a teacher. Basically supervised learning is when we teach or train the machine using data that is well labelled. Which means some data is already tagged with the correct answer. After that, the machine is provided with a new set of examples(data) so that the supervised learning algorithm analyses the training data(set of training examples) and produces a correct outcome from labelled data.\n",
    "    Examples :\n",
    "        1) The fruits name :Here if we want to machine to label the fruits with their correct name then we have to feed the machine with all characteristic of each fruit like shape color taste etc like for banana color is yellow  shape is curved and color is yellow and green sometime so at the end if we feed image of yellow to machine ,the machine can easily recognised the fruit.\n",
    "       2)Shape recognization: Suppose if we train the machine with all kind of shape then while testing machine can recognise the shape of image with trained data.\n",
    "       3)You can labeled the student on basis of study hours and play ours whether he can fail or pass.Here we train the model with all labeled data and test the result.\n",
    "       \n",
    "Supervised learning is classified into two categories of algorithms: \n",
    "\n",
    "Classification: \n",
    "            A classification problem is when the output variable is a category, such as “Red” or “blue” , “disease” or “no                     disease”.\n",
    "            Example:\n",
    "                    You can labeled the student on basis of study hours and play ours whether he can fail or pass.Here we train             the model with all labeled data and test the result.\n",
    "Regression: \n",
    "            A regression problem is when the output variable is a real value, such as “dollars” or “weight”.\n",
    "            Example :\n",
    "                    House prices based on size of house and no of rooms we can get price of house which is contineous variable.\n",
    "                    "
   ]
  },
  {
   "cell_type": "markdown",
   "id": "678f98c1",
   "metadata": {},
   "source": [
    "## Q2- What is unsupervised learning ?list some example of unsupervised learning."
   ]
  },
  {
   "cell_type": "markdown",
   "id": "fdfc6c1e",
   "metadata": {},
   "source": [
    "Defination :\n",
    "\n",
    "   Unsupervised learning is a machine learning technique in which we do not supervise the training of the models using a training or labeled dataset. As a replacement for that, we train the models in such a way that they themselves recognize the hidden patterns(clusters)and insights from the given data. We can compare this technique to the biological learning techniques of the human brain.\n",
    "We can define Unsupervised learning as a type of machine learning in which we train the models using an unlabeled dataset and we do not allow them to operate on that data without any supervision of the trained data.\n",
    "        Unsupervised learning mainly focuses on finding the underlying structure of the dataset, the grouping that data according to similarities, and representing that dataset in a compressed format for ease in regression and classification problems.\n",
    "        \n",
    "Types of Unsupervised Machine Learning\n",
    "\n",
    "We can further divide the Unsupervised Machine Learning algorithm into two types on the basis of the problems that we need to tackle.\n",
    "\n",
    "1. Clustering\n",
    "Clustering is a technique of grouping the objects into clusters in such a way that the objects with the most similarities remain in a group. Apart from that, the objects having less or no similarities with other objects of another group. Cluster analysis discovers the commonalities between the data objects and on the basis of these commonalities, categorizes them into various groups.\n",
    "\n",
    "2. Association\n",
    "An association rule is an unsupervised learning technique that we make use of for finding the relationships between variables in large databases. It tends to determine the set of items that occur collectively in the dataset. Association rule is beneficial for making marketing strategy more effective. As an example, consider if people who buy X items also tend to purchase Y items. A typical real-life application of the Association rule is Market Basket Analysis.\n",
    "\n",
    "\n",
    "Example :\n",
    "            Market Basket Analysis:\n",
    "            \n",
    "                            It is a machine learning model that follows the principle that if you buy a certain group of items, you are less or more likely to buy another group of items along with the first set.\n",
    "\n",
    "            News Sections:\n",
    "            \n",
    "Google News makes use of unsupervised learning to categorize articles on the same story from various online news outlets. As an example, consider the results of a presidential election that we could categorize under their label for “US” news."
   ]
  },
  {
   "cell_type": "markdown",
   "id": "b174b672",
   "metadata": {},
   "source": [
    "## Q4- What is the Difference  between AI, ML, DL, and DS?"
   ]
  },
  {
   "cell_type": "markdown",
   "id": "0a70f299",
   "metadata": {},
   "source": [
    "1) AI :  Superset of all .Artificial Intelligence describes machines that can perform tasks resembling those of humans. So AI implies machines that artificially model human intelligence. AI systems help us manage, model, and analyze complex systems. It is the superset which has Machine Learning & Deep Learning as subset.\n",
    "\n",
    "1) ML : Subset of AI but superset DL.Machine learning uses algorithms to parse data, learn from that data, and make informed decisions based on what it has learned.\n",
    "\n",
    "1) DL : DL is subset of ML which is subset of AI . Deep learning structures algorithms in layers to create an “artificial neural network” that can learn and make intelligent decisions on its own. Deep learning is a subfield of machine learning. While both fall under the broad category of artificial intelligence, deep learning is what powers the most human-like artificial intelligence.\n",
    "\n",
    "1) DS : Data science is a broad field that spans the collection, management, analysis and interpretation of large amounts of data with a wide range of applications. It integrates all the terms above and summarizes or extract insights from data (exploratory data analysis) and make predictions from large datasets (predictive analytics).\n",
    "\n",
    "\n",
    "2) Point of reference: DS:\n",
    "                DS intersects with ML on the grounds of cleaning and modelling the data.\n",
    "                The cleaning and munging steps of DS help is feature extraction and grouping of information in DL.\n",
    "                The interference and decision making phases are advanced version of describing and modelling steps of DS.\n",
    "2) Point of reference: ML\n",
    "\n",
    "                Cleansing and preparing data in ML is the precursor step of extracting features in DL\n",
    "                The evaluation provided in ML acts as a prototype for evaluating the performance of neural network in DL\n",
    "                Simply put, AI is applied based on ML or ML can be called as subset of AI.\n",
    "2) Point of reference: DL\n",
    "\n",
    "             The evaluation and self-improving stages of DL assists in developing superior AI models."
   ]
  },
  {
   "cell_type": "markdown",
   "id": "e9e65fe7",
   "metadata": {},
   "source": [
    "## Q5- What are the main difference between supervised ,unsupervised and semi supervised learning?"
   ]
  },
  {
   "cell_type": "code",
   "execution_count": null,
   "id": "62f8d178",
   "metadata": {},
   "outputs": [],
   "source": [
    "1) Supervised Learning:\n",
    "    \n",
    "1) Supervised Learning :  Input data is labeled.\n",
    "1) Semi-Supervised learning: A large amount of input data is unlabeled while a small amount is labeled.\n",
    "1) Unsupervised learning Input data is unlabeled \n",
    " \n",
    "2) Supervised Learning : Used for prediction and classification models.\n",
    "2) Semi-Supervised learning :  It is used when labeling the whole dataset is expensive. \n",
    "2) Unsupervised learning :  Used for extracting information from large amounts of data.\n",
    "    \n",
    "3) Supervised Learning :  It takes direct feedback of the output.\n",
    "3) Unsupervised learning : Does not have a feedback mechanism. \n",
    "    \n",
    "4) Supervised Learning : These models predict the output.\n",
    "4) Unsupervised learning:  These models find underlying patterns in data.\n",
    "    \n",
    "5)Supervised Learning : It can be used in cases where we know the input and their respective outputs.\n",
    "5) Semi-Supervised learning: Semi-Supervised learning It is a type of weak supervision.\n",
    "5) Unsupervised learning: Unsupervised learning We can use these models where we only know the input data and do not have the knowledge of the corresponding output."
   ]
  },
  {
   "cell_type": "markdown",
   "id": "8918b0c9",
   "metadata": {},
   "source": [
    "## Q6- What is train, test and validation split? Explain the importance of each term."
   ]
  },
  {
   "cell_type": "markdown",
   "id": "b76742e0",
   "metadata": {},
   "source": [
    "Train Dataset :\n",
    "        The difference between the training set and the validation set is the training set is the largest corpus of your dataset that you reserve for training your model. After training, inference on these images will be taken with a grain of salt, since the model has already had a chance to look at and memorize the correct output.\n",
    "        \n",
    "For a default, we recommend allocating 70% of your dataset to the training set.\n",
    "\n",
    "Validation data :\n",
    "        Validation Set is used to evaluate the model’s hyperparameters. Our machine learning model will go through this data, but it will never learn anything from the validation set. A Data Scientist uses the results of a Validation set to update higher level hyperparameters.\n",
    "        In this dataset we tuned the parameter of the model to get the more accuracy so we are fine tunning the parameter to achive that.\n",
    "        We recommend holding out 20% of your dataset for the validation set.\n",
    "        \n",
    "Test Dataset :\n",
    "                Once a machine learning model is trained by using a training set, then the model is evaluated on a test set. The test data provides a brilliant opportunity for us to evaluate the model. The test set is only used once our machine learning model is trained correctly using the training set. Generally, a test set is only taken from the same dataset from where the training set has been received.The machine model never know about the test data.\n",
    "         We recommend allocating 10% of your dataset to the test set.\n",
    "         \n",
    "Importance : \n",
    "\n",
    "1) The validation set is then used to evaluate the models in order to perform model selection. On the other hand, the test set is used to evaluate whether final model (that was selected in the previous step) can generalise well to new, unseen data. Ideally, training, validation and testing sets should contain mutually exclusive data points\n",
    "\n",
    "Problems linked with splitting the dataset into two: train and test ???\n",
    "\n",
    "Suppose we did make changes to our model multiple times and we finally achieve a lower generalization error(example: 5%), we then launch our model and it ends up not performing well.\n",
    "\n",
    "What do you think went wrong here?\n",
    "\n",
    "Well, when we made changes to our model multiple times to achieve a lower generalization error on our test data. This indicates that we are not testing our model on completely new data(unseen).\n",
    "\n",
    "Solution: Creating a Validation Set\n",
    "\n",
    "To solve this issue, we will use a Validation Set.\n",
    "\n",
    "We can split the existing dataset into three parts, train, validate, and test.\n",
    "\n",
    "Now that we have three sets we will use the training set to train the model, the validation set to optimize the model, and the test set to check how the model performs on unseen data."
   ]
  },
  {
   "cell_type": "markdown",
   "id": "eb372833",
   "metadata": {},
   "source": [
    "## Q7- How can unsupervised learning be used in anomaly detection?"
   ]
  },
  {
   "cell_type": "markdown",
   "id": "663b0dab",
   "metadata": {},
   "source": [
    "Anomaly Detection:\n",
    "    \n",
    "            Anomaly is a synonym for the word ‘outlier’. Anomaly detection (or outlier detection) is the identification of rare items, events or observations which raise suspicions by differing significantly from the majority of the data. Anomalous activities can be linked to some kind of problems or rare events such as bank fraud, medical problems, structural defects, malfunctioning equipment etc.\n",
    "            In the unsupervised learning we are detecting the pattern of data and making cluster of data and  look for patterns that allow us to detect anomalies/.\n",
    "            Unsupervised machine learning is one of the main branches of machine learning and it has a multitude of applications. One of the most important is anomaly detection: identifying normal patterns within a data sample and then detecting outliers based on the natural characteristics of the data set itself.\n",
    "            In unsupervised learning we have some algorithms which can useful to find out the cluster and the data points which is irrelevent with all the other clusters of data."
   ]
  },
  {
   "cell_type": "markdown",
   "id": "635ac3d8",
   "metadata": {},
   "source": [
    "## Q8- List down some commonly used supervised learning algorithms and unsupervised learning aloorithms."
   ]
  },
  {
   "cell_type": "code",
   "execution_count": null,
   "id": "aa4ff659",
   "metadata": {},
   "outputs": [],
   "source": [
    "Some popular examples of supervised machine learning algorithms are:\n",
    "\n",
    "1) Linear regression for regression problems.\n",
    "2) Random forest for classification and regression problems.\n",
    "3) Support vector machines for classification problems.\n",
    "4) Poisson Regression\n",
    "5) Logistic Regression\n",
    "6) Neural Network\n",
    "7) Decision Tree\n",
    "8) Naïve Bayes Classifier\n",
    "\n",
    "Some popular examples of unsupervised learning algorithms are:\n",
    "\n",
    "1) k-means for clustering problems.\n",
    "2) Apriori algorithm for association rule learning problems\n",
    "3) KNN\n",
    "4) Hierarchical clustering\n",
    "5) Principal Component Analysis\n",
    "6) Association Rules\n"
   ]
  }
 ],
 "metadata": {
  "kernelspec": {
   "display_name": "Python 3 (ipykernel)",
   "language": "python",
   "name": "python3"
  },
  "language_info": {
   "codemirror_mode": {
    "name": "ipython",
    "version": 3
   },
   "file_extension": ".py",
   "mimetype": "text/x-python",
   "name": "python",
   "nbconvert_exporter": "python",
   "pygments_lexer": "ipython3",
   "version": "3.9.13"
  }
 },
 "nbformat": 4,
 "nbformat_minor": 5
}
