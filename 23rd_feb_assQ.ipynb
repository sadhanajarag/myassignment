{
 "cells": [
  {
   "cell_type": "markdown",
   "id": "7ac5aff5-e669-42d8-a930-fb9d6defd6d6",
   "metadata": {},
   "source": [
    "## Q1. Create a Pandas Series that contains the following data: 4, 8, 15, 16, 23, and 42. Then, print the series."
   ]
  },
  {
   "cell_type": "code",
   "execution_count": 18,
   "id": "a41ee1a9-5e80-4b14-91d6-e02cb52ec066",
   "metadata": {},
   "outputs": [],
   "source": [
    "import pandas as pd"
   ]
  },
  {
   "cell_type": "code",
   "execution_count": 31,
   "id": "ad7ac3fd-a09a-4382-9aef-dcda0408c711",
   "metadata": {},
   "outputs": [],
   "source": [
    "sr1 = pd.Series([4,8,15,16,23,42])"
   ]
  },
  {
   "cell_type": "code",
   "execution_count": 32,
   "id": "b162271e-8e6e-44a6-83b6-258240619f9b",
   "metadata": {},
   "outputs": [
    {
     "data": {
      "text/plain": [
       "pandas.core.series.Series"
      ]
     },
     "execution_count": 32,
     "metadata": {},
     "output_type": "execute_result"
    }
   ],
   "source": [
    "type(sr1)"
   ]
  },
  {
   "cell_type": "markdown",
   "id": "0cbfe590-730f-45c0-9c95-3779f71f5f2c",
   "metadata": {},
   "source": [
    "## Q2. Create a variable of list type containing 10 elements in it, and apply pandas.Series function on the variable print it."
   ]
  },
  {
   "cell_type": "code",
   "execution_count": 41,
   "id": "0cf6b9fc-3f5d-4a5a-9ce1-2038c655f2d7",
   "metadata": {},
   "outputs": [],
   "source": [
    "list1 = [ i for i in range (11,21)]"
   ]
  },
  {
   "cell_type": "code",
   "execution_count": 42,
   "id": "efee6768-e519-4135-ba37-b69786291dea",
   "metadata": {},
   "outputs": [
    {
     "data": {
      "text/plain": [
       "[11, 12, 13, 14, 15, 16, 17, 18, 19, 20]"
      ]
     },
     "execution_count": 42,
     "metadata": {},
     "output_type": "execute_result"
    }
   ],
   "source": [
    "list1"
   ]
  },
  {
   "cell_type": "code",
   "execution_count": 36,
   "id": "b2e2d68c-9873-46e1-97d2-f63be5b5fb35",
   "metadata": {},
   "outputs": [],
   "source": [
    "import pandas"
   ]
  },
  {
   "cell_type": "code",
   "execution_count": 44,
   "id": "0e03bef5-91f7-4130-8a35-03e5a5ebc616",
   "metadata": {},
   "outputs": [],
   "source": [
    "sr2 = pandas.Series(list1)"
   ]
  },
  {
   "cell_type": "code",
   "execution_count": 45,
   "id": "9a182501-d1bb-49de-b5eb-db491ab93c97",
   "metadata": {},
   "outputs": [
    {
     "name": "stdout",
     "output_type": "stream",
     "text": [
      "0    11\n",
      "1    12\n",
      "2    13\n",
      "3    14\n",
      "4    15\n",
      "5    16\n",
      "6    17\n",
      "7    18\n",
      "8    19\n",
      "9    20\n",
      "dtype: int64\n"
     ]
    }
   ],
   "source": [
    "print(sr2)"
   ]
  },
  {
   "cell_type": "markdown",
   "id": "016c8ed2-06fd-40ed-a926-23fa4d4924c3",
   "metadata": {},
   "source": [
    "## Q3. Create a Pandas DataFrame that contains the following data:\n",
    "Name    Age    Gender\n",
    "\n",
    "Alice   25     Female\n",
    "\n",
    "Bob     30     Male\n",
    "\n",
    "Claire  27     Female\n",
    "\n"
   ]
  },
  {
   "cell_type": "code",
   "execution_count": 48,
   "id": "9880173b-6f35-47ac-9dde-3127dee707c8",
   "metadata": {},
   "outputs": [],
   "source": [
    "dict1 ={\"Name\" : [\"Alice\",\"Bob\",\"Claire\"],\"Age\" : [\"25\" , \"30\", \"27\"],\"Gender\" : [\"Female\",\"Male\",\"Female\"]}"
   ]
  },
  {
   "cell_type": "code",
   "execution_count": 49,
   "id": "98e8ff8f-11cf-4073-ab70-ee55cb778731",
   "metadata": {},
   "outputs": [
    {
     "data": {
      "text/plain": [
       "{'Name': ['Alice', 'Bob', 'Claire'],\n",
       " 'Age': ['25', '30', '27'],\n",
       " 'Gender': ['Female', 'Male', 'Female']}"
      ]
     },
     "execution_count": 49,
     "metadata": {},
     "output_type": "execute_result"
    }
   ],
   "source": [
    "dict1"
   ]
  },
  {
   "cell_type": "code",
   "execution_count": 3,
   "id": "2745f0d9-3e79-4f5d-8cda-ad620ffba745",
   "metadata": {},
   "outputs": [],
   "source": [
    "import pandas as pd"
   ]
  },
  {
   "cell_type": "code",
   "execution_count": 53,
   "id": "0a0630b7-e528-4519-b046-9d35444dce1c",
   "metadata": {},
   "outputs": [],
   "source": [
    "df1 = pd.DataFrame(dict1)"
   ]
  },
  {
   "cell_type": "code",
   "execution_count": 54,
   "id": "f0dc5688-5019-4422-a498-3b9a8a519aeb",
   "metadata": {},
   "outputs": [
    {
     "data": {
      "text/html": [
       "<div>\n",
       "<style scoped>\n",
       "    .dataframe tbody tr th:only-of-type {\n",
       "        vertical-align: middle;\n",
       "    }\n",
       "\n",
       "    .dataframe tbody tr th {\n",
       "        vertical-align: top;\n",
       "    }\n",
       "\n",
       "    .dataframe thead th {\n",
       "        text-align: right;\n",
       "    }\n",
       "</style>\n",
       "<table border=\"1\" class=\"dataframe\">\n",
       "  <thead>\n",
       "    <tr style=\"text-align: right;\">\n",
       "      <th></th>\n",
       "      <th>Name</th>\n",
       "      <th>Age</th>\n",
       "      <th>Gender</th>\n",
       "    </tr>\n",
       "  </thead>\n",
       "  <tbody>\n",
       "    <tr>\n",
       "      <th>0</th>\n",
       "      <td>Alice</td>\n",
       "      <td>25</td>\n",
       "      <td>Female</td>\n",
       "    </tr>\n",
       "    <tr>\n",
       "      <th>1</th>\n",
       "      <td>Bob</td>\n",
       "      <td>30</td>\n",
       "      <td>Male</td>\n",
       "    </tr>\n",
       "    <tr>\n",
       "      <th>2</th>\n",
       "      <td>Claire</td>\n",
       "      <td>27</td>\n",
       "      <td>Female</td>\n",
       "    </tr>\n",
       "  </tbody>\n",
       "</table>\n",
       "</div>"
      ],
      "text/plain": [
       "     Name Age  Gender\n",
       "0   Alice  25  Female\n",
       "1     Bob  30    Male\n",
       "2  Claire  27  Female"
      ]
     },
     "execution_count": 54,
     "metadata": {},
     "output_type": "execute_result"
    }
   ],
   "source": [
    "df1"
   ]
  },
  {
   "cell_type": "code",
   "execution_count": 55,
   "id": "a0770e4d-835a-4c79-b91b-20f3729bd9c6",
   "metadata": {},
   "outputs": [
    {
     "data": {
      "text/plain": [
       "pandas.core.frame.DataFrame"
      ]
     },
     "execution_count": 55,
     "metadata": {},
     "output_type": "execute_result"
    }
   ],
   "source": [
    "type(df1)"
   ]
  },
  {
   "cell_type": "markdown",
   "id": "73ab6b8b-a51f-4d7e-adec-1c5ce16eec4b",
   "metadata": {},
   "source": [
    "## Q4. What is ‘DataFrame’ in pandas and how is it different from pandas.series? Explain with an example."
   ]
  },
  {
   "cell_type": "code",
   "execution_count": null,
   "id": "33f87efa-f447-4483-b05d-3b508bc9eb17",
   "metadata": {},
   "outputs": [],
   "source": [
    "In pandas we have 3 type of DATA structres They are\n",
    "\ta)Series===can contain ndarray==>ndarray contain list.\n",
    "\tb)Data Frame\n",
    "\tc)Panel\n",
    "    \n",
    "Data frame is one of the two dimentional labeled data structureto organize the data\n",
    "in the form of rows and columns\n",
    "In otherwards ,Data frames stores the data in the form of rows and columns\n",
    "\n",
    "Features of Data frames\n",
    "-------------------------------\n",
    "1)The column names of DataFrame can be different or same data type(int,float,str etc)\n",
    "2)The size of data frame is muttable.\n",
    "3)Data frames contains two axes(Row and column)\n",
    "\n",
    "How Series and Dataframe differ :\n",
    "    \n",
    "1)DataFrame is container of Series.\n",
    "2)we kmow that Series is one dimensional labelled array capable of holding homogeneous\n",
    "    data of any type(Integer,String,Float,python object)\n",
    "3)DataFrame, we have multiple columns and multiple rows.\n",
    "3)To create a series ,we use a predefined function Series()\n",
    "4)To crete a dataframe ,we use we use Dataframe()\n",
    "\n",
    "Note: \n",
    "    \n",
    "Series in pandas contains a single list which can store heterogeneous type of data, \n",
    "because of this, series is also considered as a 1-dimensional data structure.\n",
    "\n",
    "DataFrame is a 2-dimensional data structure which contains multiple lists of heterogeneous type of data.\n",
    "DataFrame can contain multiple series or it can be considered as a collection of series."
   ]
  },
  {
   "cell_type": "code",
   "execution_count": 57,
   "id": "be4fada7-6ccb-4d15-a7d5-982845161188",
   "metadata": {},
   "outputs": [],
   "source": [
    "#e.g consider below dictonary.\n",
    "\n",
    "dict1 ={\"Girl\" : [\"Radha\" ,\"Sita\"] ,\"Boys\" : [\"Krishna\",\"Ram\"]}"
   ]
  },
  {
   "cell_type": "code",
   "execution_count": 58,
   "id": "14a71cce-95c8-47e1-ad47-2036ed511113",
   "metadata": {},
   "outputs": [
    {
     "data": {
      "text/plain": [
       "{'Girl': ['Radha', 'Sita'], 'Boys': ['Krishna', 'Ram']}"
      ]
     },
     "execution_count": 58,
     "metadata": {},
     "output_type": "execute_result"
    }
   ],
   "source": [
    "dict1"
   ]
  },
  {
   "cell_type": "code",
   "execution_count": 67,
   "id": "98115075-7a2a-49d6-9ee6-92d190e46d15",
   "metadata": {},
   "outputs": [],
   "source": [
    "sr4 = pd.Series(dict1)"
   ]
  },
  {
   "cell_type": "code",
   "execution_count": 68,
   "id": "dfae1793-8700-4554-a8e9-84a6e7f3d742",
   "metadata": {},
   "outputs": [
    {
     "data": {
      "text/plain": [
       "Girl     [Radha, Sita]\n",
       "Boys    [Krishna, Ram]\n",
       "dtype: object"
      ]
     },
     "execution_count": 68,
     "metadata": {},
     "output_type": "execute_result"
    }
   ],
   "source": [
    "sr4"
   ]
  },
  {
   "cell_type": "code",
   "execution_count": 72,
   "id": "9baa914a-00f3-41fb-9178-51b4f6df8826",
   "metadata": {},
   "outputs": [
    {
     "data": {
      "text/plain": [
       "['Radha', 'Sita']"
      ]
     },
     "execution_count": 72,
     "metadata": {},
     "output_type": "execute_result"
    }
   ],
   "source": [
    "sr4[\"Girl\"]"
   ]
  },
  {
   "cell_type": "code",
   "execution_count": 61,
   "id": "8d3c7da9-4ae8-4e5e-9b4b-e62a142d9ce7",
   "metadata": {},
   "outputs": [
    {
     "data": {
      "text/plain": [
       "pandas.core.series.Series"
      ]
     },
     "execution_count": 61,
     "metadata": {},
     "output_type": "execute_result"
    }
   ],
   "source": [
    "type(sr4)"
   ]
  },
  {
   "cell_type": "code",
   "execution_count": 63,
   "id": "fbcafba4-b219-4861-b098-e03456d45fb0",
   "metadata": {},
   "outputs": [],
   "source": [
    "df3 = pd.DataFrame(dict1)"
   ]
  },
  {
   "cell_type": "code",
   "execution_count": 66,
   "id": "f25f582b-decb-4f07-b151-2d9b87a737e1",
   "metadata": {},
   "outputs": [
    {
     "data": {
      "text/html": [
       "<div>\n",
       "<style scoped>\n",
       "    .dataframe tbody tr th:only-of-type {\n",
       "        vertical-align: middle;\n",
       "    }\n",
       "\n",
       "    .dataframe tbody tr th {\n",
       "        vertical-align: top;\n",
       "    }\n",
       "\n",
       "    .dataframe thead th {\n",
       "        text-align: right;\n",
       "    }\n",
       "</style>\n",
       "<table border=\"1\" class=\"dataframe\">\n",
       "  <thead>\n",
       "    <tr style=\"text-align: right;\">\n",
       "      <th></th>\n",
       "      <th>Girl</th>\n",
       "      <th>Boys</th>\n",
       "    </tr>\n",
       "  </thead>\n",
       "  <tbody>\n",
       "    <tr>\n",
       "      <th>0</th>\n",
       "      <td>Radha</td>\n",
       "      <td>Krishna</td>\n",
       "    </tr>\n",
       "    <tr>\n",
       "      <th>1</th>\n",
       "      <td>Sita</td>\n",
       "      <td>Ram</td>\n",
       "    </tr>\n",
       "  </tbody>\n",
       "</table>\n",
       "</div>"
      ],
      "text/plain": [
       "    Girl     Boys\n",
       "0  Radha  Krishna\n",
       "1   Sita      Ram"
      ]
     },
     "execution_count": 66,
     "metadata": {},
     "output_type": "execute_result"
    }
   ],
   "source": [
    "df3"
   ]
  },
  {
   "cell_type": "code",
   "execution_count": 71,
   "id": "47906741-e6f2-475c-ab9a-90090b5015de",
   "metadata": {},
   "outputs": [
    {
     "data": {
      "text/plain": [
       "0    Radha\n",
       "1     Sita\n",
       "Name: Girl, dtype: object"
      ]
     },
     "execution_count": 71,
     "metadata": {},
     "output_type": "execute_result"
    }
   ],
   "source": [
    "df3[\"Girl\"]"
   ]
  },
  {
   "cell_type": "markdown",
   "id": "64d9a36e-85e3-4ea4-8715-0cca6d8fc912",
   "metadata": {},
   "source": [
    "## Q5. What are some common functions you can use to manipulate data in a Pandas DataFrame? Can you give an example of when you might use one of these functions?"
   ]
  },
  {
   "cell_type": "code",
   "execution_count": 4,
   "id": "dab7fa13-118c-4cb3-afd5-87f700b7d4c6",
   "metadata": {},
   "outputs": [],
   "source": [
    "df1 =pd.read_csv(\"services.csv\")"
   ]
  },
  {
   "cell_type": "code",
   "execution_count": 27,
   "id": "7e9f0fd8-4d9f-4a16-bcac-a8159cf6a6c5",
   "metadata": {},
   "outputs": [
    {
     "data": {
      "text/html": [
       "<div>\n",
       "<style scoped>\n",
       "    .dataframe tbody tr th:only-of-type {\n",
       "        vertical-align: middle;\n",
       "    }\n",
       "\n",
       "    .dataframe tbody tr th {\n",
       "        vertical-align: top;\n",
       "    }\n",
       "\n",
       "    .dataframe thead th {\n",
       "        text-align: right;\n",
       "    }\n",
       "</style>\n",
       "<table border=\"1\" class=\"dataframe\">\n",
       "  <thead>\n",
       "    <tr style=\"text-align: right;\">\n",
       "      <th></th>\n",
       "      <th>id</th>\n",
       "      <th>location_id</th>\n",
       "      <th>program_id</th>\n",
       "      <th>accepted_payments</th>\n",
       "      <th>alternate_name</th>\n",
       "      <th>application_process</th>\n",
       "      <th>audience</th>\n",
       "      <th>description</th>\n",
       "      <th>eligibility</th>\n",
       "      <th>email</th>\n",
       "      <th>...</th>\n",
       "      <th>interpretation_services</th>\n",
       "      <th>keywords</th>\n",
       "      <th>languages</th>\n",
       "      <th>name</th>\n",
       "      <th>required_documents</th>\n",
       "      <th>service_areas</th>\n",
       "      <th>status</th>\n",
       "      <th>wait_time</th>\n",
       "      <th>website</th>\n",
       "      <th>taxonomy_ids</th>\n",
       "    </tr>\n",
       "  </thead>\n",
       "  <tbody>\n",
       "    <tr>\n",
       "      <th>0</th>\n",
       "      <td>1</td>\n",
       "      <td>1</td>\n",
       "      <td>NaN</td>\n",
       "      <td>NaN</td>\n",
       "      <td>NaN</td>\n",
       "      <td>Walk in or apply by phone.</td>\n",
       "      <td>Older adults age 55 or over, ethnic minorities...</td>\n",
       "      <td>A walk-in center for older adults that provide...</td>\n",
       "      <td>Age 55 or over for most programs, age 60 or ov...</td>\n",
       "      <td>NaN</td>\n",
       "      <td>...</td>\n",
       "      <td>NaN</td>\n",
       "      <td>ADULT PROTECTION AND CARE SERVICES, Meal Sites...</td>\n",
       "      <td>NaN</td>\n",
       "      <td>Fair Oaks Adult Activity Center</td>\n",
       "      <td>NaN</td>\n",
       "      <td>Colma</td>\n",
       "      <td>active</td>\n",
       "      <td>No wait.</td>\n",
       "      <td>NaN</td>\n",
       "      <td>NaN</td>\n",
       "    </tr>\n",
       "    <tr>\n",
       "      <th>1</th>\n",
       "      <td>2</td>\n",
       "      <td>2</td>\n",
       "      <td>NaN</td>\n",
       "      <td>NaN</td>\n",
       "      <td>NaN</td>\n",
       "      <td>Apply by phone for an appointment.</td>\n",
       "      <td>Residents of San Mateo County age 55 or over</td>\n",
       "      <td>Provides training and job placement to eligibl...</td>\n",
       "      <td>Age 55 or over, county resident and willing an...</td>\n",
       "      <td>NaN</td>\n",
       "      <td>...</td>\n",
       "      <td>NaN</td>\n",
       "      <td>EMPLOYMENT/TRAINING SERVICES, Job Development,...</td>\n",
       "      <td>NaN</td>\n",
       "      <td>Second Career Employment Program</td>\n",
       "      <td>NaN</td>\n",
       "      <td>San Mateo County</td>\n",
       "      <td>active</td>\n",
       "      <td>Varies.</td>\n",
       "      <td>NaN</td>\n",
       "      <td>NaN</td>\n",
       "    </tr>\n",
       "    <tr>\n",
       "      <th>2</th>\n",
       "      <td>3</td>\n",
       "      <td>3</td>\n",
       "      <td>NaN</td>\n",
       "      <td>NaN</td>\n",
       "      <td>NaN</td>\n",
       "      <td>Phone for information (403-4300 Ext. 4322).</td>\n",
       "      <td>Older adults age 55 or over who can benefit fr...</td>\n",
       "      <td>Offers supportive counseling services to San M...</td>\n",
       "      <td>Resident of San Mateo County age 55 or over</td>\n",
       "      <td>NaN</td>\n",
       "      <td>...</td>\n",
       "      <td>NaN</td>\n",
       "      <td>Geriatric Counseling, Older Adults, Gay, Lesbi...</td>\n",
       "      <td>NaN</td>\n",
       "      <td>Senior Peer Counseling</td>\n",
       "      <td>NaN</td>\n",
       "      <td>San Mateo County</td>\n",
       "      <td>active</td>\n",
       "      <td>Varies.</td>\n",
       "      <td>NaN</td>\n",
       "      <td>NaN</td>\n",
       "    </tr>\n",
       "    <tr>\n",
       "      <th>3</th>\n",
       "      <td>4</td>\n",
       "      <td>4</td>\n",
       "      <td>NaN</td>\n",
       "      <td>NaN</td>\n",
       "      <td>NaN</td>\n",
       "      <td>Apply by phone.</td>\n",
       "      <td>Parents, children, families with problems of c...</td>\n",
       "      <td>Provides supervised visitation services and a ...</td>\n",
       "      <td>None</td>\n",
       "      <td>NaN</td>\n",
       "      <td>...</td>\n",
       "      <td>NaN</td>\n",
       "      <td>INDIVIDUAL AND FAMILY DEVELOPMENT SERVICES, Gr...</td>\n",
       "      <td>NaN</td>\n",
       "      <td>Family Visitation Center</td>\n",
       "      <td>NaN</td>\n",
       "      <td>San Mateo County</td>\n",
       "      <td>active</td>\n",
       "      <td>No wait.</td>\n",
       "      <td>NaN</td>\n",
       "      <td>NaN</td>\n",
       "    </tr>\n",
       "    <tr>\n",
       "      <th>4</th>\n",
       "      <td>5</td>\n",
       "      <td>5</td>\n",
       "      <td>NaN</td>\n",
       "      <td>NaN</td>\n",
       "      <td>NaN</td>\n",
       "      <td>Phone for information.</td>\n",
       "      <td>Low-income working families with children tran...</td>\n",
       "      <td>Provides fixed 8% short term loans to eligible...</td>\n",
       "      <td>Eligibility: Low-income family with legal cust...</td>\n",
       "      <td>NaN</td>\n",
       "      <td>...</td>\n",
       "      <td>NaN</td>\n",
       "      <td>COMMUNITY SERVICES, Speakers, Automobile Loans</td>\n",
       "      <td>NaN</td>\n",
       "      <td>Economic Self-Sufficiency Program</td>\n",
       "      <td>NaN</td>\n",
       "      <td>San Mateo County</td>\n",
       "      <td>active</td>\n",
       "      <td>NaN</td>\n",
       "      <td>NaN</td>\n",
       "      <td>NaN</td>\n",
       "    </tr>\n",
       "  </tbody>\n",
       "</table>\n",
       "<p>5 rows × 22 columns</p>\n",
       "</div>"
      ],
      "text/plain": [
       "   id  location_id  program_id accepted_payments alternate_name  \\\n",
       "0   1            1         NaN               NaN            NaN   \n",
       "1   2            2         NaN               NaN            NaN   \n",
       "2   3            3         NaN               NaN            NaN   \n",
       "3   4            4         NaN               NaN            NaN   \n",
       "4   5            5         NaN               NaN            NaN   \n",
       "\n",
       "                           application_process  \\\n",
       "0                   Walk in or apply by phone.   \n",
       "1           Apply by phone for an appointment.   \n",
       "2  Phone for information (403-4300 Ext. 4322).   \n",
       "3                              Apply by phone.   \n",
       "4                       Phone for information.   \n",
       "\n",
       "                                            audience  \\\n",
       "0  Older adults age 55 or over, ethnic minorities...   \n",
       "1       Residents of San Mateo County age 55 or over   \n",
       "2  Older adults age 55 or over who can benefit fr...   \n",
       "3  Parents, children, families with problems of c...   \n",
       "4  Low-income working families with children tran...   \n",
       "\n",
       "                                         description  \\\n",
       "0  A walk-in center for older adults that provide...   \n",
       "1  Provides training and job placement to eligibl...   \n",
       "2  Offers supportive counseling services to San M...   \n",
       "3  Provides supervised visitation services and a ...   \n",
       "4  Provides fixed 8% short term loans to eligible...   \n",
       "\n",
       "                                         eligibility email  ...  \\\n",
       "0  Age 55 or over for most programs, age 60 or ov...   NaN  ...   \n",
       "1  Age 55 or over, county resident and willing an...   NaN  ...   \n",
       "2        Resident of San Mateo County age 55 or over   NaN  ...   \n",
       "3                                               None   NaN  ...   \n",
       "4  Eligibility: Low-income family with legal cust...   NaN  ...   \n",
       "\n",
       "  interpretation_services                                           keywords  \\\n",
       "0                     NaN  ADULT PROTECTION AND CARE SERVICES, Meal Sites...   \n",
       "1                     NaN  EMPLOYMENT/TRAINING SERVICES, Job Development,...   \n",
       "2                     NaN  Geriatric Counseling, Older Adults, Gay, Lesbi...   \n",
       "3                     NaN  INDIVIDUAL AND FAMILY DEVELOPMENT SERVICES, Gr...   \n",
       "4                     NaN     COMMUNITY SERVICES, Speakers, Automobile Loans   \n",
       "\n",
       "  languages                               name required_documents  \\\n",
       "0       NaN    Fair Oaks Adult Activity Center                NaN   \n",
       "1       NaN   Second Career Employment Program                NaN   \n",
       "2       NaN             Senior Peer Counseling                NaN   \n",
       "3       NaN           Family Visitation Center                NaN   \n",
       "4       NaN  Economic Self-Sufficiency Program                NaN   \n",
       "\n",
       "      service_areas  status wait_time website taxonomy_ids  \n",
       "0             Colma  active  No wait.     NaN          NaN  \n",
       "1  San Mateo County  active   Varies.     NaN          NaN  \n",
       "2  San Mateo County  active   Varies.     NaN          NaN  \n",
       "3  San Mateo County  active  No wait.     NaN          NaN  \n",
       "4  San Mateo County  active       NaN     NaN          NaN  \n",
       "\n",
       "[5 rows x 22 columns]"
      ]
     },
     "execution_count": 27,
     "metadata": {},
     "output_type": "execute_result"
    }
   ],
   "source": [
    "df1.head()##gives u by default first 5 entries file.you can enter the number of entries u want to see"
   ]
  },
  {
   "cell_type": "code",
   "execution_count": 28,
   "id": "9b5f6c31-ca88-407e-9314-378d1078ebd1",
   "metadata": {},
   "outputs": [
    {
     "data": {
      "text/html": [
       "<div>\n",
       "<style scoped>\n",
       "    .dataframe tbody tr th:only-of-type {\n",
       "        vertical-align: middle;\n",
       "    }\n",
       "\n",
       "    .dataframe tbody tr th {\n",
       "        vertical-align: top;\n",
       "    }\n",
       "\n",
       "    .dataframe thead th {\n",
       "        text-align: right;\n",
       "    }\n",
       "</style>\n",
       "<table border=\"1\" class=\"dataframe\">\n",
       "  <thead>\n",
       "    <tr style=\"text-align: right;\">\n",
       "      <th></th>\n",
       "      <th>id</th>\n",
       "      <th>location_id</th>\n",
       "      <th>program_id</th>\n",
       "      <th>accepted_payments</th>\n",
       "      <th>alternate_name</th>\n",
       "      <th>application_process</th>\n",
       "      <th>audience</th>\n",
       "      <th>description</th>\n",
       "      <th>eligibility</th>\n",
       "      <th>email</th>\n",
       "      <th>...</th>\n",
       "      <th>interpretation_services</th>\n",
       "      <th>keywords</th>\n",
       "      <th>languages</th>\n",
       "      <th>name</th>\n",
       "      <th>required_documents</th>\n",
       "      <th>service_areas</th>\n",
       "      <th>status</th>\n",
       "      <th>wait_time</th>\n",
       "      <th>website</th>\n",
       "      <th>taxonomy_ids</th>\n",
       "    </tr>\n",
       "  </thead>\n",
       "  <tbody>\n",
       "    <tr>\n",
       "      <th>18</th>\n",
       "      <td>19</td>\n",
       "      <td>19</td>\n",
       "      <td>NaN</td>\n",
       "      <td>NaN</td>\n",
       "      <td>NaN</td>\n",
       "      <td>Call for screening appointment (650-347-3648).</td>\n",
       "      <td>NaN</td>\n",
       "      <td>Provides free medical and dental care to those...</td>\n",
       "      <td>Low-income person without access to health care</td>\n",
       "      <td>NaN</td>\n",
       "      <td>...</td>\n",
       "      <td>NaN</td>\n",
       "      <td>HEALTH SERVICES, Outpatient Care, Community Cl...</td>\n",
       "      <td>NaN</td>\n",
       "      <td>San Mateo Free Medical Clinic</td>\n",
       "      <td>NaN</td>\n",
       "      <td>Belmont, Burlingame</td>\n",
       "      <td>active</td>\n",
       "      <td>Varies.</td>\n",
       "      <td>NaN</td>\n",
       "      <td>NaN</td>\n",
       "    </tr>\n",
       "    <tr>\n",
       "      <th>19</th>\n",
       "      <td>20</td>\n",
       "      <td>20</td>\n",
       "      <td>NaN</td>\n",
       "      <td>NaN</td>\n",
       "      <td>NaN</td>\n",
       "      <td>Walk in.</td>\n",
       "      <td>NaN</td>\n",
       "      <td>no unrequired fields for this service</td>\n",
       "      <td>NaN</td>\n",
       "      <td>NaN</td>\n",
       "      <td>...</td>\n",
       "      <td>NaN</td>\n",
       "      <td>NaN</td>\n",
       "      <td>NaN</td>\n",
       "      <td>Service with blank fields</td>\n",
       "      <td>NaN</td>\n",
       "      <td>NaN</td>\n",
       "      <td>defunct</td>\n",
       "      <td>NaN</td>\n",
       "      <td>NaN</td>\n",
       "      <td>NaN</td>\n",
       "    </tr>\n",
       "    <tr>\n",
       "      <th>20</th>\n",
       "      <td>21</td>\n",
       "      <td>21</td>\n",
       "      <td>NaN</td>\n",
       "      <td>NaN</td>\n",
       "      <td>NaN</td>\n",
       "      <td>By phone during business hours.</td>\n",
       "      <td>NaN</td>\n",
       "      <td>just a test service</td>\n",
       "      <td>NaN</td>\n",
       "      <td>NaN</td>\n",
       "      <td>...</td>\n",
       "      <td>NaN</td>\n",
       "      <td>NaN</td>\n",
       "      <td>NaN</td>\n",
       "      <td>Service for Admin Test Location</td>\n",
       "      <td>NaN</td>\n",
       "      <td>San Mateo County</td>\n",
       "      <td>inactive</td>\n",
       "      <td>NaN</td>\n",
       "      <td>NaN</td>\n",
       "      <td>NaN</td>\n",
       "    </tr>\n",
       "    <tr>\n",
       "      <th>21</th>\n",
       "      <td>22</td>\n",
       "      <td>22</td>\n",
       "      <td>NaN</td>\n",
       "      <td>Cash, Check, Credit Card</td>\n",
       "      <td>Fotos para pasaportes</td>\n",
       "      <td>Walk in or apply by phone or mail</td>\n",
       "      <td>Profit and nonprofit businesses, the public, m...</td>\n",
       "      <td>[NOTE THIS IS NOT A REAL SERVICE--THIS IS FOR ...</td>\n",
       "      <td>None</td>\n",
       "      <td>passports@example.org</td>\n",
       "      <td>...</td>\n",
       "      <td>We offer 3-way interpretation services over th...</td>\n",
       "      <td>Salud, Medicina</td>\n",
       "      <td>Spanish</td>\n",
       "      <td>Passport Photos</td>\n",
       "      <td>Government-issued picture identification</td>\n",
       "      <td>Alameda County, San Mateo County</td>\n",
       "      <td>active</td>\n",
       "      <td>No wait to 2 weeks.</td>\n",
       "      <td>http://www.example.com</td>\n",
       "      <td>105, 108, 108-05, 108-05-01, 111, 111-05</td>\n",
       "    </tr>\n",
       "    <tr>\n",
       "      <th>22</th>\n",
       "      <td>23</td>\n",
       "      <td>22</td>\n",
       "      <td>NaN</td>\n",
       "      <td>NaN</td>\n",
       "      <td>NaN</td>\n",
       "      <td>Walk in or apply by phone or mail</td>\n",
       "      <td>Second service and nonprofit businesses, the p...</td>\n",
       "      <td>[NOTE THIS IS NOT A REAL ORGANIZATION--THIS IS...</td>\n",
       "      <td>None</td>\n",
       "      <td>NaN</td>\n",
       "      <td>...</td>\n",
       "      <td>NaN</td>\n",
       "      <td>Ruby on Rails/Postgres/Redis, testing, wic</td>\n",
       "      <td>NaN</td>\n",
       "      <td>Example Service Name</td>\n",
       "      <td>NaN</td>\n",
       "      <td>San Mateo County, Alameda County</td>\n",
       "      <td>active</td>\n",
       "      <td>No wait to 2 weeks</td>\n",
       "      <td>http://www.example.com</td>\n",
       "      <td>NaN</td>\n",
       "    </tr>\n",
       "  </tbody>\n",
       "</table>\n",
       "<p>5 rows × 22 columns</p>\n",
       "</div>"
      ],
      "text/plain": [
       "    id  location_id  program_id         accepted_payments  \\\n",
       "18  19           19         NaN                       NaN   \n",
       "19  20           20         NaN                       NaN   \n",
       "20  21           21         NaN                       NaN   \n",
       "21  22           22         NaN  Cash, Check, Credit Card   \n",
       "22  23           22         NaN                       NaN   \n",
       "\n",
       "           alternate_name                             application_process  \\\n",
       "18                    NaN  Call for screening appointment (650-347-3648).   \n",
       "19                    NaN                                        Walk in.   \n",
       "20                    NaN                 By phone during business hours.   \n",
       "21  Fotos para pasaportes               Walk in or apply by phone or mail   \n",
       "22                    NaN               Walk in or apply by phone or mail   \n",
       "\n",
       "                                             audience  \\\n",
       "18                                                NaN   \n",
       "19                                                NaN   \n",
       "20                                                NaN   \n",
       "21  Profit and nonprofit businesses, the public, m...   \n",
       "22  Second service and nonprofit businesses, the p...   \n",
       "\n",
       "                                          description  \\\n",
       "18  Provides free medical and dental care to those...   \n",
       "19              no unrequired fields for this service   \n",
       "20                                just a test service   \n",
       "21  [NOTE THIS IS NOT A REAL SERVICE--THIS IS FOR ...   \n",
       "22  [NOTE THIS IS NOT A REAL ORGANIZATION--THIS IS...   \n",
       "\n",
       "                                        eligibility                  email  \\\n",
       "18  Low-income person without access to health care                    NaN   \n",
       "19                                              NaN                    NaN   \n",
       "20                                              NaN                    NaN   \n",
       "21                                             None  passports@example.org   \n",
       "22                                             None                    NaN   \n",
       "\n",
       "    ...                            interpretation_services  \\\n",
       "18  ...                                                NaN   \n",
       "19  ...                                                NaN   \n",
       "20  ...                                                NaN   \n",
       "21  ...  We offer 3-way interpretation services over th...   \n",
       "22  ...                                                NaN   \n",
       "\n",
       "                                             keywords languages  \\\n",
       "18  HEALTH SERVICES, Outpatient Care, Community Cl...       NaN   \n",
       "19                                                NaN       NaN   \n",
       "20                                                NaN       NaN   \n",
       "21                                    Salud, Medicina   Spanish   \n",
       "22         Ruby on Rails/Postgres/Redis, testing, wic       NaN   \n",
       "\n",
       "                               name                        required_documents  \\\n",
       "18    San Mateo Free Medical Clinic                                       NaN   \n",
       "19        Service with blank fields                                       NaN   \n",
       "20  Service for Admin Test Location                                       NaN   \n",
       "21                  Passport Photos  Government-issued picture identification   \n",
       "22             Example Service Name                                       NaN   \n",
       "\n",
       "                       service_areas    status            wait_time  \\\n",
       "18               Belmont, Burlingame    active              Varies.   \n",
       "19                               NaN   defunct                  NaN   \n",
       "20                  San Mateo County  inactive                  NaN   \n",
       "21  Alameda County, San Mateo County    active  No wait to 2 weeks.   \n",
       "22  San Mateo County, Alameda County    active   No wait to 2 weeks   \n",
       "\n",
       "                   website                              taxonomy_ids  \n",
       "18                     NaN                                       NaN  \n",
       "19                     NaN                                       NaN  \n",
       "20                     NaN                                       NaN  \n",
       "21  http://www.example.com  105, 108, 108-05, 108-05-01, 111, 111-05  \n",
       "22  http://www.example.com                                       NaN  \n",
       "\n",
       "[5 rows x 22 columns]"
      ]
     },
     "execution_count": 28,
     "metadata": {},
     "output_type": "execute_result"
    }
   ],
   "source": [
    "df1.tail()#we can see lst 5 entries by defauly"
   ]
  },
  {
   "cell_type": "code",
   "execution_count": 95,
   "id": "08a02944-25c3-4e8b-98c7-f26a0e5118a1",
   "metadata": {},
   "outputs": [
    {
     "data": {
      "text/plain": [
       "pandas.core.frame.DataFrame"
      ]
     },
     "execution_count": 95,
     "metadata": {},
     "output_type": "execute_result"
    }
   ],
   "source": [
    "type(df1)#type of structure"
   ]
  },
  {
   "cell_type": "code",
   "execution_count": 96,
   "id": "beecdad3-9e87-4925-9a1b-e1f79a15e4ac",
   "metadata": {},
   "outputs": [
    {
     "data": {
      "text/plain": [
       "Index(['id', 'location_id', 'program_id', 'accepted_payments',\n",
       "       'alternate_name', 'application_process', 'audience', 'description',\n",
       "       'eligibility', 'email', 'fees', 'funding_sources',\n",
       "       'interpretation_services', 'keywords', 'languages', 'name',\n",
       "       'required_documents', 'service_areas', 'status', 'wait_time', 'website',\n",
       "       'taxonomy_ids'],\n",
       "      dtype='object')"
      ]
     },
     "execution_count": 96,
     "metadata": {},
     "output_type": "execute_result"
    }
   ],
   "source": [
    "df1.columns"
   ]
  },
  {
   "cell_type": "code",
   "execution_count": 29,
   "id": "32e13eb3-789b-485c-86f0-9c6be2696bde",
   "metadata": {},
   "outputs": [
    {
     "name": "stdout",
     "output_type": "stream",
     "text": [
      "<class 'pandas.core.frame.DataFrame'>\n",
      "RangeIndex: 23 entries, 0 to 22\n",
      "Data columns (total 22 columns):\n",
      " #   Column                   Non-Null Count  Dtype  \n",
      "---  ------                   --------------  -----  \n",
      " 0   id                       23 non-null     int64  \n",
      " 1   location_id              23 non-null     int64  \n",
      " 2   program_id               0 non-null      float64\n",
      " 3   accepted_payments        1 non-null      object \n",
      " 4   alternate_name           1 non-null      object \n",
      " 5   application_process      23 non-null     object \n",
      " 6   audience                 14 non-null     object \n",
      " 7   description              23 non-null     object \n",
      " 8   eligibility              21 non-null     object \n",
      " 9   email                    1 non-null      object \n",
      " 10  fees                     21 non-null     object \n",
      " 11  funding_sources          21 non-null     object \n",
      " 12  interpretation_services  1 non-null      object \n",
      " 13  keywords                 21 non-null     object \n",
      " 14  languages                1 non-null      object \n",
      " 15  name                     23 non-null     object \n",
      " 16  required_documents       1 non-null      object \n",
      " 17  service_areas            21 non-null     object \n",
      " 18  status                   23 non-null     object \n",
      " 19  wait_time                19 non-null     object \n",
      " 20  website                  2 non-null      object \n",
      " 21  taxonomy_ids             1 non-null      object \n",
      "dtypes: float64(1), int64(2), object(19)\n",
      "memory usage: 4.1+ KB\n"
     ]
    }
   ],
   "source": [
    "df1.info()"
   ]
  },
  {
   "cell_type": "code",
   "execution_count": 30,
   "id": "c863d840-0414-47c3-916b-8acf103af027",
   "metadata": {},
   "outputs": [
    {
     "data": {
      "text/plain": [
       "id                          0\n",
       "location_id                 0\n",
       "program_id                 23\n",
       "accepted_payments          22\n",
       "alternate_name             22\n",
       "application_process         0\n",
       "audience                    9\n",
       "description                 0\n",
       "eligibility                 2\n",
       "email                      22\n",
       "fees                        2\n",
       "funding_sources             2\n",
       "interpretation_services    22\n",
       "keywords                    2\n",
       "languages                  22\n",
       "name                        0\n",
       "required_documents         22\n",
       "service_areas               2\n",
       "status                      0\n",
       "wait_time                   4\n",
       "website                    21\n",
       "taxonomy_ids               22\n",
       "dtype: int64"
      ]
     },
     "execution_count": 30,
     "metadata": {},
     "output_type": "execute_result"
    }
   ],
   "source": [
    "#total no of missing values in each column\n",
    "df1.isnull().sum()"
   ]
  },
  {
   "cell_type": "code",
   "execution_count": 33,
   "id": "19f98542-de41-4813-a9fd-37221b380a2b",
   "metadata": {},
   "outputs": [
    {
     "name": "stdout",
     "output_type": "stream",
     "text": [
      "             id  location_id  program_id\n",
      "count  23.00000    23.000000         0.0\n",
      "mean   12.00000    11.956522         NaN\n",
      "std     6.78233     6.711444         NaN\n",
      "min     1.00000     1.000000         NaN\n",
      "25%     6.50000     6.500000         NaN\n",
      "50%    12.00000    12.000000         NaN\n",
      "75%    17.50000    17.500000         NaN\n",
      "max    23.00000    22.000000         NaN\n"
     ]
    }
   ],
   "source": [
    "#descriptive statastical value of columns\n",
    "print(df1.describe())"
   ]
  },
  {
   "cell_type": "code",
   "execution_count": 34,
   "id": "b77ed1b8-45ee-4b0e-bb03-5b2b8276dcbe",
   "metadata": {},
   "outputs": [
    {
     "name": "stdout",
     "output_type": "stream",
     "text": [
      "              id  location_id  program_id         accepted_payments  \\\n",
      "count   23.00000    23.000000         0.0                         1   \n",
      "unique       NaN          NaN         NaN                         1   \n",
      "top          NaN          NaN         NaN  Cash, Check, Credit Card   \n",
      "freq         NaN          NaN         NaN                         1   \n",
      "mean    12.00000    11.956522         NaN                       NaN   \n",
      "std      6.78233     6.711444         NaN                       NaN   \n",
      "min      1.00000     1.000000         NaN                       NaN   \n",
      "25%      6.50000     6.500000         NaN                       NaN   \n",
      "50%     12.00000    12.000000         NaN                       NaN   \n",
      "75%     17.50000    17.500000         NaN                       NaN   \n",
      "max     23.00000    22.000000         NaN                       NaN   \n",
      "\n",
      "               alternate_name                application_process  \\\n",
      "count                       1                                 23   \n",
      "unique                      1                                 20   \n",
      "top     Fotos para pasaportes  Walk in or apply by phone or mail   \n",
      "freq                        1                                  2   \n",
      "mean                      NaN                                NaN   \n",
      "std                       NaN                                NaN   \n",
      "min                       NaN                                NaN   \n",
      "25%                       NaN                                NaN   \n",
      "50%                       NaN                                NaN   \n",
      "75%                       NaN                                NaN   \n",
      "max                       NaN                                NaN   \n",
      "\n",
      "                                                 audience  \\\n",
      "count                                                  14   \n",
      "unique                                                 14   \n",
      "top     Older adults age 55 or over, ethnic minorities...   \n",
      "freq                                                    1   \n",
      "mean                                                  NaN   \n",
      "std                                                   NaN   \n",
      "min                                                   NaN   \n",
      "25%                                                   NaN   \n",
      "50%                                                   NaN   \n",
      "75%                                                   NaN   \n",
      "max                                                   NaN   \n",
      "\n",
      "                                              description eligibility  \\\n",
      "count                                                  23          21   \n",
      "unique                                                 23          16   \n",
      "top     A walk-in center for older adults that provide...        None   \n",
      "freq                                                    1           4   \n",
      "mean                                                  NaN         NaN   \n",
      "std                                                   NaN         NaN   \n",
      "min                                                   NaN         NaN   \n",
      "25%                                                   NaN         NaN   \n",
      "50%                                                   NaN         NaN   \n",
      "75%                                                   NaN         NaN   \n",
      "max                                                   NaN         NaN   \n",
      "\n",
      "                        email  ...  \\\n",
      "count                       1  ...   \n",
      "unique                      1  ...   \n",
      "top     passports@example.org  ...   \n",
      "freq                        1  ...   \n",
      "mean                      NaN  ...   \n",
      "std                       NaN  ...   \n",
      "min                       NaN  ...   \n",
      "25%                       NaN  ...   \n",
      "50%                       NaN  ...   \n",
      "75%                       NaN  ...   \n",
      "max                       NaN  ...   \n",
      "\n",
      "                                  interpretation_services  \\\n",
      "count                                                   1   \n",
      "unique                                                  1   \n",
      "top     We offer 3-way interpretation services over th...   \n",
      "freq                                                    1   \n",
      "mean                                                  NaN   \n",
      "std                                                   NaN   \n",
      "min                                                   NaN   \n",
      "25%                                                   NaN   \n",
      "50%                                                   NaN   \n",
      "75%                                                   NaN   \n",
      "max                                                   NaN   \n",
      "\n",
      "                                                 keywords languages  \\\n",
      "count                                                  21         1   \n",
      "unique                                                 18         1   \n",
      "top     EDUCATION SERVICES, Library, Libraries, Public...   Spanish   \n",
      "freq                                                    4         1   \n",
      "mean                                                  NaN       NaN   \n",
      "std                                                   NaN       NaN   \n",
      "min                                                   NaN       NaN   \n",
      "25%                                                   NaN       NaN   \n",
      "50%                                                   NaN       NaN   \n",
      "75%                                                   NaN       NaN   \n",
      "max                                                   NaN       NaN   \n",
      "\n",
      "                                   name  \\\n",
      "count                                23   \n",
      "unique                               23   \n",
      "top     Fair Oaks Adult Activity Center   \n",
      "freq                                  1   \n",
      "mean                                NaN   \n",
      "std                                 NaN   \n",
      "min                                 NaN   \n",
      "25%                                 NaN   \n",
      "50%                                 NaN   \n",
      "75%                                 NaN   \n",
      "max                                 NaN   \n",
      "\n",
      "                              required_documents     service_areas  status  \\\n",
      "count                                          1                21      23   \n",
      "unique                                         1                10       3   \n",
      "top     Government-issued picture identification  San Mateo County  active   \n",
      "freq                                           1                10      21   \n",
      "mean                                         NaN               NaN     NaN   \n",
      "std                                          NaN               NaN     NaN   \n",
      "min                                          NaN               NaN     NaN   \n",
      "25%                                          NaN               NaN     NaN   \n",
      "50%                                          NaN               NaN     NaN   \n",
      "75%                                          NaN               NaN     NaN   \n",
      "max                                          NaN               NaN     NaN   \n",
      "\n",
      "       wait_time                 website  \\\n",
      "count         19                       2   \n",
      "unique         7                       1   \n",
      "top     No wait.  http://www.example.com   \n",
      "freq          10                       2   \n",
      "mean         NaN                     NaN   \n",
      "std          NaN                     NaN   \n",
      "min          NaN                     NaN   \n",
      "25%          NaN                     NaN   \n",
      "50%          NaN                     NaN   \n",
      "75%          NaN                     NaN   \n",
      "max          NaN                     NaN   \n",
      "\n",
      "                                    taxonomy_ids  \n",
      "count                                          1  \n",
      "unique                                         1  \n",
      "top     105, 108, 108-05, 108-05-01, 111, 111-05  \n",
      "freq                                           1  \n",
      "mean                                         NaN  \n",
      "std                                          NaN  \n",
      "min                                          NaN  \n",
      "25%                                          NaN  \n",
      "50%                                          NaN  \n",
      "75%                                          NaN  \n",
      "max                                          NaN  \n",
      "\n",
      "[11 rows x 22 columns]\n"
     ]
    }
   ],
   "source": [
    "print(df1.describe(include='all'))"
   ]
  },
  {
   "cell_type": "code",
   "execution_count": 38,
   "id": "d3e18ffb-67e2-46b5-8942-e3be50f73d4e",
   "metadata": {},
   "outputs": [],
   "source": [
    "#Dropping the column\n",
    "\n",
    "df1.drop('eligibility',axis=1,inplace=True)"
   ]
  },
  {
   "cell_type": "code",
   "execution_count": 5,
   "id": "4c08469b-7c05-44bd-a45b-1cb644de3d3e",
   "metadata": {},
   "outputs": [
    {
     "data": {
      "text/plain": [
       "23"
      ]
     },
     "execution_count": 5,
     "metadata": {},
     "output_type": "execute_result"
    }
   ],
   "source": [
    "len(df1)"
   ]
  },
  {
   "cell_type": "code",
   "execution_count": 9,
   "id": "6462e7ca-6273-4f26-a298-d429f88794e4",
   "metadata": {},
   "outputs": [
    {
     "data": {
      "text/plain": [
       "22"
      ]
     },
     "execution_count": 9,
     "metadata": {},
     "output_type": "execute_result"
    }
   ],
   "source": [
    "max(df1['location_id'])"
   ]
  },
  {
   "cell_type": "code",
   "execution_count": 13,
   "id": "34aaee4e-2ae3-40b1-a88c-3e4318f17b98",
   "metadata": {},
   "outputs": [
    {
     "data": {
      "text/html": [
       "<div>\n",
       "<style scoped>\n",
       "    .dataframe tbody tr th:only-of-type {\n",
       "        vertical-align: middle;\n",
       "    }\n",
       "\n",
       "    .dataframe tbody tr th {\n",
       "        vertical-align: top;\n",
       "    }\n",
       "\n",
       "    .dataframe thead th {\n",
       "        text-align: right;\n",
       "    }\n",
       "</style>\n",
       "<table border=\"1\" class=\"dataframe\">\n",
       "  <thead>\n",
       "    <tr style=\"text-align: right;\">\n",
       "      <th></th>\n",
       "      <th>location_id</th>\n",
       "      <th>program_id</th>\n",
       "    </tr>\n",
       "  </thead>\n",
       "  <tbody>\n",
       "    <tr>\n",
       "      <th>0</th>\n",
       "      <td>1</td>\n",
       "      <td>NaN</td>\n",
       "    </tr>\n",
       "    <tr>\n",
       "      <th>1</th>\n",
       "      <td>2</td>\n",
       "      <td>NaN</td>\n",
       "    </tr>\n",
       "    <tr>\n",
       "      <th>2</th>\n",
       "      <td>3</td>\n",
       "      <td>NaN</td>\n",
       "    </tr>\n",
       "  </tbody>\n",
       "</table>\n",
       "</div>"
      ],
      "text/plain": [
       "   location_id  program_id\n",
       "0            1         NaN\n",
       "1            2         NaN\n",
       "2            3         NaN"
      ]
     },
     "execution_count": 13,
     "metadata": {},
     "output_type": "execute_result"
    }
   ],
   "source": [
    "df1.iloc[0:3,[1,2]]"
   ]
  },
  {
   "cell_type": "code",
   "execution_count": 14,
   "id": "e2eb2c02-2156-4a2b-bfc0-a3d3920c0224",
   "metadata": {},
   "outputs": [
    {
     "data": {
      "text/html": [
       "<div>\n",
       "<style scoped>\n",
       "    .dataframe tbody tr th:only-of-type {\n",
       "        vertical-align: middle;\n",
       "    }\n",
       "\n",
       "    .dataframe tbody tr th {\n",
       "        vertical-align: top;\n",
       "    }\n",
       "\n",
       "    .dataframe thead th {\n",
       "        text-align: right;\n",
       "    }\n",
       "</style>\n",
       "<table border=\"1\" class=\"dataframe\">\n",
       "  <thead>\n",
       "    <tr style=\"text-align: right;\">\n",
       "      <th></th>\n",
       "      <th>email</th>\n",
       "      <th>location_id</th>\n",
       "    </tr>\n",
       "  </thead>\n",
       "  <tbody>\n",
       "    <tr>\n",
       "      <th>0</th>\n",
       "      <td>NaN</td>\n",
       "      <td>1</td>\n",
       "    </tr>\n",
       "    <tr>\n",
       "      <th>1</th>\n",
       "      <td>NaN</td>\n",
       "      <td>2</td>\n",
       "    </tr>\n",
       "    <tr>\n",
       "      <th>2</th>\n",
       "      <td>NaN</td>\n",
       "      <td>3</td>\n",
       "    </tr>\n",
       "    <tr>\n",
       "      <th>3</th>\n",
       "      <td>NaN</td>\n",
       "      <td>4</td>\n",
       "    </tr>\n",
       "  </tbody>\n",
       "</table>\n",
       "</div>"
      ],
      "text/plain": [
       "  email  location_id\n",
       "0   NaN            1\n",
       "1   NaN            2\n",
       "2   NaN            3\n",
       "3   NaN            4"
      ]
     },
     "execution_count": 14,
     "metadata": {},
     "output_type": "execute_result"
    }
   ],
   "source": [
    "df1.loc[0:3,['email','location_id']]"
   ]
  },
  {
   "cell_type": "markdown",
   "id": "43ed8b10-9b68-47f9-a6bf-3ae6f7b60f80",
   "metadata": {},
   "source": [
    "### Append"
   ]
  },
  {
   "cell_type": "code",
   "execution_count": 3,
   "id": "cd08b25d-688b-4be2-821a-389047579685",
   "metadata": {},
   "outputs": [],
   "source": [
    "df3=pd.DataFrame([[12,2,33,45],[12,34,56]],columns=['Pen','Shirt','Box','Mouse'])"
   ]
  },
  {
   "cell_type": "code",
   "execution_count": 5,
   "id": "f6f21b47-00be-4884-88a9-faa23dae63d2",
   "metadata": {},
   "outputs": [],
   "source": [
    "df4=pd.DataFrame([[22,2,33,56],[12,3,65,89]],columns=['Pens','Shirt','Box','Mouse'])"
   ]
  },
  {
   "cell_type": "code",
   "execution_count": 6,
   "id": "e1a92af0-09ff-44a3-9197-5442a6bdd10b",
   "metadata": {},
   "outputs": [
    {
     "name": "stderr",
     "output_type": "stream",
     "text": [
      "/tmp/ipykernel_84/3607133396.py:1: FutureWarning: The frame.append method is deprecated and will be removed from pandas in a future version. Use pandas.concat instead.\n",
      "  df5=df3.append(df4)\n"
     ]
    }
   ],
   "source": [
    "df5=df3.append(df4)"
   ]
  },
  {
   "cell_type": "code",
   "execution_count": 8,
   "id": "9e3a473c-552f-426b-ad5b-0880a332d367",
   "metadata": {},
   "outputs": [
    {
     "data": {
      "text/html": [
       "<div>\n",
       "<style scoped>\n",
       "    .dataframe tbody tr th:only-of-type {\n",
       "        vertical-align: middle;\n",
       "    }\n",
       "\n",
       "    .dataframe tbody tr th {\n",
       "        vertical-align: top;\n",
       "    }\n",
       "\n",
       "    .dataframe thead th {\n",
       "        text-align: right;\n",
       "    }\n",
       "</style>\n",
       "<table border=\"1\" class=\"dataframe\">\n",
       "  <thead>\n",
       "    <tr style=\"text-align: right;\">\n",
       "      <th></th>\n",
       "      <th>Pen</th>\n",
       "      <th>Shirt</th>\n",
       "      <th>Box</th>\n",
       "      <th>Mouse</th>\n",
       "      <th>Pens</th>\n",
       "    </tr>\n",
       "  </thead>\n",
       "  <tbody>\n",
       "    <tr>\n",
       "      <th>0</th>\n",
       "      <td>12.0</td>\n",
       "      <td>2</td>\n",
       "      <td>33</td>\n",
       "      <td>45.0</td>\n",
       "      <td>NaN</td>\n",
       "    </tr>\n",
       "    <tr>\n",
       "      <th>1</th>\n",
       "      <td>12.0</td>\n",
       "      <td>34</td>\n",
       "      <td>56</td>\n",
       "      <td>NaN</td>\n",
       "      <td>NaN</td>\n",
       "    </tr>\n",
       "    <tr>\n",
       "      <th>0</th>\n",
       "      <td>NaN</td>\n",
       "      <td>2</td>\n",
       "      <td>33</td>\n",
       "      <td>56.0</td>\n",
       "      <td>22.0</td>\n",
       "    </tr>\n",
       "    <tr>\n",
       "      <th>1</th>\n",
       "      <td>NaN</td>\n",
       "      <td>3</td>\n",
       "      <td>65</td>\n",
       "      <td>89.0</td>\n",
       "      <td>12.0</td>\n",
       "    </tr>\n",
       "  </tbody>\n",
       "</table>\n",
       "</div>"
      ],
      "text/plain": [
       "    Pen  Shirt  Box  Mouse  Pens\n",
       "0  12.0      2   33   45.0   NaN\n",
       "1  12.0     34   56    NaN   NaN\n",
       "0   NaN      2   33   56.0  22.0\n",
       "1   NaN      3   65   89.0  12.0"
      ]
     },
     "execution_count": 8,
     "metadata": {},
     "output_type": "execute_result"
    }
   ],
   "source": [
    "df5"
   ]
  },
  {
   "cell_type": "markdown",
   "id": "89be1068-72c9-4b3b-9d5f-2986f7014350",
   "metadata": {},
   "source": [
    "### Merging the dataframes "
   ]
  },
  {
   "cell_type": "code",
   "execution_count": 23,
   "id": "7be431cb-6477-4b91-9b43-ac7c9d509f30",
   "metadata": {},
   "outputs": [],
   "source": [
    "india_wheather =pd.DataFrame({\"city\" : ['Mumbai','Pune','Delhi'],\"temp\":[35,34,23],\"Humidity\":[45,56,34]})\n",
    "us_wheather =pd.DataFrame({\"city\" : ['Newyork','Chicago','orlando'],\"temp\":[23,22,56],\"Humidity\":[23,45,66]})\n",
    "india_wheather1 =pd.DataFrame({\"city\" : ['Pune','Solapur','Delhi'],\"temp\":[30,38,40],\"Humidity\":[23,46,55]})"
   ]
  },
  {
   "cell_type": "code",
   "execution_count": 11,
   "id": "f181b938-d1d1-487d-bbe6-7f60a109602c",
   "metadata": {},
   "outputs": [
    {
     "data": {
      "text/html": [
       "<div>\n",
       "<style scoped>\n",
       "    .dataframe tbody tr th:only-of-type {\n",
       "        vertical-align: middle;\n",
       "    }\n",
       "\n",
       "    .dataframe tbody tr th {\n",
       "        vertical-align: top;\n",
       "    }\n",
       "\n",
       "    .dataframe thead th {\n",
       "        text-align: right;\n",
       "    }\n",
       "</style>\n",
       "<table border=\"1\" class=\"dataframe\">\n",
       "  <thead>\n",
       "    <tr style=\"text-align: right;\">\n",
       "      <th></th>\n",
       "      <th>city</th>\n",
       "      <th>temp</th>\n",
       "      <th>Humidity</th>\n",
       "    </tr>\n",
       "  </thead>\n",
       "  <tbody>\n",
       "    <tr>\n",
       "      <th>0</th>\n",
       "      <td>Mumbai</td>\n",
       "      <td>35</td>\n",
       "      <td>45</td>\n",
       "    </tr>\n",
       "    <tr>\n",
       "      <th>1</th>\n",
       "      <td>Pune</td>\n",
       "      <td>34</td>\n",
       "      <td>56</td>\n",
       "    </tr>\n",
       "    <tr>\n",
       "      <th>2</th>\n",
       "      <td>Delhi</td>\n",
       "      <td>23</td>\n",
       "      <td>34</td>\n",
       "    </tr>\n",
       "  </tbody>\n",
       "</table>\n",
       "</div>"
      ],
      "text/plain": [
       "     city  temp  Humidity\n",
       "0  Mumbai    35        45\n",
       "1    Pune    34        56\n",
       "2   Delhi    23        34"
      ]
     },
     "execution_count": 11,
     "metadata": {},
     "output_type": "execute_result"
    }
   ],
   "source": [
    "india_wheather"
   ]
  },
  {
   "cell_type": "code",
   "execution_count": 12,
   "id": "5d6b4306-5271-47c4-bf57-3e748c02c8c3",
   "metadata": {},
   "outputs": [
    {
     "data": {
      "text/html": [
       "<div>\n",
       "<style scoped>\n",
       "    .dataframe tbody tr th:only-of-type {\n",
       "        vertical-align: middle;\n",
       "    }\n",
       "\n",
       "    .dataframe tbody tr th {\n",
       "        vertical-align: top;\n",
       "    }\n",
       "\n",
       "    .dataframe thead th {\n",
       "        text-align: right;\n",
       "    }\n",
       "</style>\n",
       "<table border=\"1\" class=\"dataframe\">\n",
       "  <thead>\n",
       "    <tr style=\"text-align: right;\">\n",
       "      <th></th>\n",
       "      <th>city</th>\n",
       "      <th>temp</th>\n",
       "      <th>Humidity</th>\n",
       "    </tr>\n",
       "  </thead>\n",
       "  <tbody>\n",
       "    <tr>\n",
       "      <th>0</th>\n",
       "      <td>Newyork</td>\n",
       "      <td>23</td>\n",
       "      <td>23</td>\n",
       "    </tr>\n",
       "    <tr>\n",
       "      <th>1</th>\n",
       "      <td>Chicago</td>\n",
       "      <td>22</td>\n",
       "      <td>45</td>\n",
       "    </tr>\n",
       "    <tr>\n",
       "      <th>2</th>\n",
       "      <td>orlando</td>\n",
       "      <td>56</td>\n",
       "      <td>66</td>\n",
       "    </tr>\n",
       "  </tbody>\n",
       "</table>\n",
       "</div>"
      ],
      "text/plain": [
       "      city  temp  Humidity\n",
       "0  Newyork    23        23\n",
       "1  Chicago    22        45\n",
       "2  orlando    56        66"
      ]
     },
     "execution_count": 12,
     "metadata": {},
     "output_type": "execute_result"
    }
   ],
   "source": [
    "us_wheather"
   ]
  },
  {
   "cell_type": "code",
   "execution_count": 16,
   "id": "64f113d0-02b1-4b3f-aba6-5a9295e3188e",
   "metadata": {},
   "outputs": [],
   "source": [
    "df5 = pd.merge(india_wheather,us_wheather,on='city',how='outer')"
   ]
  },
  {
   "cell_type": "code",
   "execution_count": 19,
   "id": "06ff4966-9594-49b1-84a4-4113ac74c2d6",
   "metadata": {},
   "outputs": [
    {
     "data": {
      "text/html": [
       "<div>\n",
       "<style scoped>\n",
       "    .dataframe tbody tr th:only-of-type {\n",
       "        vertical-align: middle;\n",
       "    }\n",
       "\n",
       "    .dataframe tbody tr th {\n",
       "        vertical-align: top;\n",
       "    }\n",
       "\n",
       "    .dataframe thead th {\n",
       "        text-align: right;\n",
       "    }\n",
       "</style>\n",
       "<table border=\"1\" class=\"dataframe\">\n",
       "  <thead>\n",
       "    <tr style=\"text-align: right;\">\n",
       "      <th></th>\n",
       "      <th>city</th>\n",
       "      <th>temp_x</th>\n",
       "      <th>Humidity_x</th>\n",
       "      <th>temp_y</th>\n",
       "      <th>Humidity_y</th>\n",
       "    </tr>\n",
       "  </thead>\n",
       "  <tbody>\n",
       "    <tr>\n",
       "      <th>0</th>\n",
       "      <td>Mumbai</td>\n",
       "      <td>35.0</td>\n",
       "      <td>45.0</td>\n",
       "      <td>NaN</td>\n",
       "      <td>NaN</td>\n",
       "    </tr>\n",
       "    <tr>\n",
       "      <th>1</th>\n",
       "      <td>Pune</td>\n",
       "      <td>34.0</td>\n",
       "      <td>56.0</td>\n",
       "      <td>NaN</td>\n",
       "      <td>NaN</td>\n",
       "    </tr>\n",
       "    <tr>\n",
       "      <th>2</th>\n",
       "      <td>Delhi</td>\n",
       "      <td>23.0</td>\n",
       "      <td>34.0</td>\n",
       "      <td>NaN</td>\n",
       "      <td>NaN</td>\n",
       "    </tr>\n",
       "    <tr>\n",
       "      <th>3</th>\n",
       "      <td>Newyork</td>\n",
       "      <td>NaN</td>\n",
       "      <td>NaN</td>\n",
       "      <td>23.0</td>\n",
       "      <td>23.0</td>\n",
       "    </tr>\n",
       "    <tr>\n",
       "      <th>4</th>\n",
       "      <td>Chicago</td>\n",
       "      <td>NaN</td>\n",
       "      <td>NaN</td>\n",
       "      <td>22.0</td>\n",
       "      <td>45.0</td>\n",
       "    </tr>\n",
       "    <tr>\n",
       "      <th>5</th>\n",
       "      <td>orlando</td>\n",
       "      <td>NaN</td>\n",
       "      <td>NaN</td>\n",
       "      <td>56.0</td>\n",
       "      <td>66.0</td>\n",
       "    </tr>\n",
       "  </tbody>\n",
       "</table>\n",
       "</div>"
      ],
      "text/plain": [
       "      city  temp_x  Humidity_x  temp_y  Humidity_y\n",
       "0   Mumbai    35.0        45.0     NaN         NaN\n",
       "1     Pune    34.0        56.0     NaN         NaN\n",
       "2    Delhi    23.0        34.0     NaN         NaN\n",
       "3  Newyork     NaN         NaN    23.0        23.0\n",
       "4  Chicago     NaN         NaN    22.0        45.0\n",
       "5  orlando     NaN         NaN    56.0        66.0"
      ]
     },
     "execution_count": 19,
     "metadata": {},
     "output_type": "execute_result"
    }
   ],
   "source": [
    "df5"
   ]
  },
  {
   "cell_type": "code",
   "execution_count": 24,
   "id": "0054a7b0-01b7-4dfc-b840-a5199b9bb5c6",
   "metadata": {},
   "outputs": [],
   "source": [
    "df6 = pd.merge(india_wheather,india_wheather1,on='city')"
   ]
  },
  {
   "cell_type": "code",
   "execution_count": 25,
   "id": "cd1439b8-3676-474a-b022-f3a6a2c7963a",
   "metadata": {},
   "outputs": [
    {
     "data": {
      "text/html": [
       "<div>\n",
       "<style scoped>\n",
       "    .dataframe tbody tr th:only-of-type {\n",
       "        vertical-align: middle;\n",
       "    }\n",
       "\n",
       "    .dataframe tbody tr th {\n",
       "        vertical-align: top;\n",
       "    }\n",
       "\n",
       "    .dataframe thead th {\n",
       "        text-align: right;\n",
       "    }\n",
       "</style>\n",
       "<table border=\"1\" class=\"dataframe\">\n",
       "  <thead>\n",
       "    <tr style=\"text-align: right;\">\n",
       "      <th></th>\n",
       "      <th>city</th>\n",
       "      <th>temp_x</th>\n",
       "      <th>Humidity_x</th>\n",
       "      <th>temp_y</th>\n",
       "      <th>Humidity_y</th>\n",
       "    </tr>\n",
       "  </thead>\n",
       "  <tbody>\n",
       "    <tr>\n",
       "      <th>0</th>\n",
       "      <td>Pune</td>\n",
       "      <td>34</td>\n",
       "      <td>56</td>\n",
       "      <td>30</td>\n",
       "      <td>23</td>\n",
       "    </tr>\n",
       "    <tr>\n",
       "      <th>1</th>\n",
       "      <td>Delhi</td>\n",
       "      <td>23</td>\n",
       "      <td>34</td>\n",
       "      <td>40</td>\n",
       "      <td>55</td>\n",
       "    </tr>\n",
       "  </tbody>\n",
       "</table>\n",
       "</div>"
      ],
      "text/plain": [
       "    city  temp_x  Humidity_x  temp_y  Humidity_y\n",
       "0   Pune      34          56      30          23\n",
       "1  Delhi      23          34      40          55"
      ]
     },
     "execution_count": 25,
     "metadata": {},
     "output_type": "execute_result"
    }
   ],
   "source": [
    "df6"
   ]
  },
  {
   "cell_type": "markdown",
   "id": "f4e16256-7b6c-40aa-9f7d-b563e239cae4",
   "metadata": {},
   "source": [
    "## Q6. Which of the following is mutable in nature Series, DataFrame, Panel?"
   ]
  },
  {
   "cell_type": "markdown",
   "id": "8bc94a69-61b2-4c65-9b09-7994916a5d32",
   "metadata": {},
   "source": [
    "Series – 1D labeled homogeneous array, sizeimmutable\n",
    "\n",
    "features :\n",
    "    Homogeneous data\n",
    "    Size Immutable –size cannot be changed\n",
    "    Values of Data Mutable\n",
    "    \n",
    "    \n",
    "Data Frames – 2D labeled, size-mutable tabular structure with heterogenic columns\n",
    "    \n",
    "features :\n",
    "    Heterogeneous data\n",
    "    Size Mutable\n",
    "    Data Mutable\n",
    "    \n",
    "Panel – 3D labeled size mutable array.\n",
    "    \n",
    "features:\n",
    "    Heterogeneous data\n",
    "    Size Mutable\n",
    "    Data Mutable\n",
    "   "
   ]
  },
  {
   "cell_type": "code",
   "execution_count": null,
   "id": "d6b4d42e-6574-4dc7-ac7f-fbc0584cd525",
   "metadata": {},
   "outputs": [],
   "source": []
  },
  {
   "cell_type": "markdown",
   "id": "10f05152-6c02-4d5d-8ea2-ec0d3549edb9",
   "metadata": {},
   "source": [
    "## Q7. Create a DataFrame using multiple Series. Explain with an example."
   ]
  },
  {
   "cell_type": "code",
   "execution_count": 75,
   "id": "3af543b9-0fe2-480e-aca0-4b4c11bff535",
   "metadata": {},
   "outputs": [],
   "source": [
    "s=pd.Series([10,20,30,40,50,60],index=['a','b','c','d','e','f'])"
   ]
  },
  {
   "cell_type": "code",
   "execution_count": 83,
   "id": "711fb723-f72a-4057-a3b8-cdc6ea802a31",
   "metadata": {},
   "outputs": [],
   "source": [
    "s1 =pd.Series([70,75,36,80,50,90],index=['a','b','c','d','e','f'])\n",
    "s2 =pd.Series([75,75,35,50,57,88],index=['a','b','c','d','e','f'])"
   ]
  },
  {
   "cell_type": "code",
   "execution_count": 88,
   "id": "6b04f69f-92ba-4ce2-a0de-9537583b8613",
   "metadata": {},
   "outputs": [
    {
     "name": "stdout",
     "output_type": "stream",
     "text": [
      "s: <class 'pandas.core.series.Series'> s1: <class 'pandas.core.series.Series'> s2: <class 'pandas.core.series.Series'>\n"
     ]
    }
   ],
   "source": [
    "print (\"s:\", type(s1) ,\"s1:\",type(s1),\"s2:\",type(s2))"
   ]
  },
  {
   "cell_type": "code",
   "execution_count": 85,
   "id": "da928261-0612-4243-879b-24e94432db47",
   "metadata": {},
   "outputs": [],
   "source": [
    "df1 =pd.concat([s,s1,s2],axis=1)"
   ]
  },
  {
   "cell_type": "code",
   "execution_count": 86,
   "id": "180ec29e-6819-4e3f-8891-261b19ce33f2",
   "metadata": {},
   "outputs": [
    {
     "data": {
      "text/html": [
       "<div>\n",
       "<style scoped>\n",
       "    .dataframe tbody tr th:only-of-type {\n",
       "        vertical-align: middle;\n",
       "    }\n",
       "\n",
       "    .dataframe tbody tr th {\n",
       "        vertical-align: top;\n",
       "    }\n",
       "\n",
       "    .dataframe thead th {\n",
       "        text-align: right;\n",
       "    }\n",
       "</style>\n",
       "<table border=\"1\" class=\"dataframe\">\n",
       "  <thead>\n",
       "    <tr style=\"text-align: right;\">\n",
       "      <th></th>\n",
       "      <th>0</th>\n",
       "      <th>1</th>\n",
       "      <th>2</th>\n",
       "    </tr>\n",
       "  </thead>\n",
       "  <tbody>\n",
       "    <tr>\n",
       "      <th>a</th>\n",
       "      <td>10</td>\n",
       "      <td>70</td>\n",
       "      <td>75</td>\n",
       "    </tr>\n",
       "    <tr>\n",
       "      <th>b</th>\n",
       "      <td>20</td>\n",
       "      <td>75</td>\n",
       "      <td>75</td>\n",
       "    </tr>\n",
       "    <tr>\n",
       "      <th>c</th>\n",
       "      <td>30</td>\n",
       "      <td>36</td>\n",
       "      <td>35</td>\n",
       "    </tr>\n",
       "    <tr>\n",
       "      <th>d</th>\n",
       "      <td>40</td>\n",
       "      <td>80</td>\n",
       "      <td>50</td>\n",
       "    </tr>\n",
       "    <tr>\n",
       "      <th>e</th>\n",
       "      <td>50</td>\n",
       "      <td>50</td>\n",
       "      <td>57</td>\n",
       "    </tr>\n",
       "    <tr>\n",
       "      <th>f</th>\n",
       "      <td>60</td>\n",
       "      <td>90</td>\n",
       "      <td>88</td>\n",
       "    </tr>\n",
       "  </tbody>\n",
       "</table>\n",
       "</div>"
      ],
      "text/plain": [
       "    0   1   2\n",
       "a  10  70  75\n",
       "b  20  75  75\n",
       "c  30  36  35\n",
       "d  40  80  50\n",
       "e  50  50  57\n",
       "f  60  90  88"
      ]
     },
     "execution_count": 86,
     "metadata": {},
     "output_type": "execute_result"
    }
   ],
   "source": [
    "df1"
   ]
  }
 ],
 "metadata": {
  "kernelspec": {
   "display_name": "Python 3 (ipykernel)",
   "language": "python",
   "name": "python3"
  },
  "language_info": {
   "codemirror_mode": {
    "name": "ipython",
    "version": 3
   },
   "file_extension": ".py",
   "mimetype": "text/x-python",
   "name": "python",
   "nbconvert_exporter": "python",
   "pygments_lexer": "ipython3",
   "version": "3.10.8"
  }
 },
 "nbformat": 4,
 "nbformat_minor": 5
}
