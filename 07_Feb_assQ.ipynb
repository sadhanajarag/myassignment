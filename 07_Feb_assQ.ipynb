{
 "cells": [
  {
   "cell_type": "markdown",
   "id": "b27a6da1-23c3-44ac-8dc2-62a5580f1cc5",
   "metadata": {
    "tags": []
   },
   "source": [
    "## Q1. You are writing code for a company. The requirement of the company is that you create a python function that will check whether the password entered by the user is correct or not. The function should take the password as input and return the string “Valid Password” if the entered password follows the below-given password guidelines else it should return “Invalid Password”.\n",
    "\n",
    "## Note: 1. The Password should contain at least two uppercase letters and at least two lowercase letters.\n",
    "### 2. The Password should contain at least a number and three special characters.\n",
    "### 3. The length of the password should be 10 characters long."
   ]
  },
  {
   "cell_type": "code",
   "execution_count": 73,
   "id": "90cca83a-4182-4662-b106-bb347c4fab64",
   "metadata": {},
   "outputs": [
    {
     "name": "stdout",
     "output_type": "stream",
     "text": [
      "Valid Password\n",
      "Invalid Password\n",
      "Invalid Password\n",
      "Invalid Password\n"
     ]
    }
   ],
   "source": [
    "def validate_pwd(p):\n",
    "    \n",
    "    countd=0\n",
    "    if len(p)==10:\n",
    "        countu=0\n",
    "        for i in p:           \n",
    "            if i.isupper():\n",
    "                countu=countu+1\n",
    "        if countu>=2:\n",
    "            countl=0\n",
    "            for i in p:                \n",
    "                if i.islower():\n",
    "                    countl=countl+1                    \n",
    "            if countl>=2:\n",
    "                countd=0\n",
    "                for i in p:                    \n",
    "                    if i.isdigit():\n",
    "                        countd=countd+1\n",
    "                if countd>=1:\n",
    "                    counts=0\n",
    "                    for i in p:                       \n",
    "                        if (i.isalpha() or i.isdigit() )==False:\n",
    "                            counts=counts+1\n",
    "                    if counts>=3:\n",
    "                        print(\"Valid Password\")\n",
    "    else:\n",
    "        print(\"Invalid Password\")\n",
    "                        \n",
    "\n",
    "                   \n",
    "                \n",
    "validate_pwd(\"ADsd1!@#er\")    \n",
    "validate_pwd(\"ADsd!@#er\")\n",
    "validate_pwd(\"ADsd1!er\")\n",
    "validate_pwd(\"Asd1!@#er\") "
   ]
  },
  {
   "cell_type": "markdown",
   "id": "100cdbd9-418c-4e02-a803-15b106183bab",
   "metadata": {},
   "source": [
    "## Q2. Solve the below-given questions using at least one of the following:\n",
    "\n",
    "    1. Lambda functioJ\n",
    "    2. Filter functioJ\n",
    "    3. map functioJ\n",
    "    4. List ComprehensioI\n",
    "    B Check if the string starts with a particular letterY\n",
    "    B Check if the string is numericY\n",
    "    B Sort a list of tuples having fruit names and their quantity. [(\"mango\",99),(\"orange\",80), (\"grapes\", 1000)-\n",
    "    B Find the squares of numbers from 1 to 10Y\n",
    "    B Find the cube root of numbers from 1 to 10Y\n",
    "    B Check if a given number is evenY\n",
    "    B Filter odd numbers from the given list.\n",
    "[1,2,3,4,5,6,7,8,9,10-\n",
    "B Sort a list of integers into positive and negative integers lists.\n",
    "[1,2,3,4,5,6,-1,-2,-3,-4,-5,0]"
   ]
  },
  {
   "cell_type": "markdown",
   "id": "d36b3311-0420-4c15-8bf1-e0bb6f4f43f6",
   "metadata": {},
   "source": [
    "### 1)Check if the string starts with a particular letter"
   ]
  },
  {
   "cell_type": "code",
   "execution_count": 96,
   "id": "8b29f39d-ba69-472d-a2a5-0289362256a3",
   "metadata": {},
   "outputs": [
    {
     "name": "stdout",
     "output_type": "stream",
     "text": [
      "True\n",
      "False\n",
      "False\n"
     ]
    }
   ],
   "source": [
    "str1=lambda x : True if x[0].isalpha() else False\n",
    "print (str1(\"Neha\"))\n",
    "print (str1(\"1hjy\"))\n",
    "print ( str1(\"#hjy\"))"
   ]
  },
  {
   "cell_type": "markdown",
   "id": "1b543d14-08cf-41d5-8517-6109015b65b2",
   "metadata": {},
   "source": [
    "##  2) Check if the string is numeric"
   ]
  },
  {
   "cell_type": "code",
   "execution_count": null,
   "id": "1e5bd32f-6a82-472e-9620-17ef703bf026",
   "metadata": {},
   "outputs": [
    {
     "name": "stdout",
     "output_type": "stream",
     "text": [
      "False\n",
      "True\n",
      "False\n"
     ]
    }
   ],
   "source": [
    "str1=lambda x : True if x.isdigit() else False\n",
    "print (str1(\"Neha\"))\n",
    "print (str1(\"1234\"))\n",
    "print ( str1(\"#hjy\"))"
   ]
  },
  {
   "cell_type": "markdown",
   "id": "98f55d95-d6dd-415b-8907-64cb37cb98c4",
   "metadata": {},
   "source": [
    "## 3) Sort a list of tuples having fruit names and their quantity."
   ]
  },
  {
   "cell_type": "code",
   "execution_count": 126,
   "id": "5569c271-74d5-4029-983a-5c2d69470dfb",
   "metadata": {},
   "outputs": [
    {
     "data": {
      "text/plain": [
       "[('mango', 99), ('orange', 80), ('grapes', 1000)]"
      ]
     },
     "execution_count": 126,
     "metadata": {},
     "output_type": "execute_result"
    }
   ],
   "source": [
    "list1= [(\"mango\",99),(\"orange\",80), (\"grapes\", 1000)]\n",
    "list1"
   ]
  },
  {
   "cell_type": "code",
   "execution_count": 105,
   "id": "97cca1b6-d140-4f97-98cd-63f23c2b52a2",
   "metadata": {},
   "outputs": [
    {
     "data": {
      "text/plain": [
       "[('orange', 80), ('mango', 99), ('grapes', 1000)]"
      ]
     },
     "execution_count": 105,
     "metadata": {},
     "output_type": "execute_result"
    }
   ],
   "source": [
    "#sorted(list1, reverse=True)"
   ]
  },
  {
   "cell_type": "code",
   "execution_count": 127,
   "id": "61f9b821-0b1f-4628-8e9a-4b6cfc183f15",
   "metadata": {},
   "outputs": [
    {
     "name": "stdout",
     "output_type": "stream",
     "text": [
      "[('orange', 80), ('mango', 99), ('grapes', 1000)]\n"
     ]
    }
   ],
   "source": [
    "list1.sort(key = lambda x: x[1])\n",
    "print(list1)"
   ]
  },
  {
   "cell_type": "markdown",
   "id": "6f2e3dd0-5960-4e46-bca3-2d6b380951b1",
   "metadata": {},
   "source": [
    "## 4.Find the squares of numbers from 1 to 10Y"
   ]
  },
  {
   "cell_type": "code",
   "execution_count": 129,
   "id": "2e9ed04c-538f-4d5a-8e0d-425ada00ec6b",
   "metadata": {},
   "outputs": [
    {
     "data": {
      "text/plain": [
       "[1, 4, 9, 16, 25, 36, 49, 64, 81, 100]"
      ]
     },
     "execution_count": 129,
     "metadata": {},
     "output_type": "execute_result"
    }
   ],
   "source": [
    "list(map(lambda x:x**2,range(1,11)))"
   ]
  },
  {
   "cell_type": "markdown",
   "id": "d2ad2d7b-f2a8-47a8-aaed-f150c70b3f6f",
   "metadata": {},
   "source": [
    "## 5 Find the cube root of numbers from 1 to 10"
   ]
  },
  {
   "cell_type": "code",
   "execution_count": 130,
   "id": "d5a0433e-cfa1-40fc-9350-f63611a0ce64",
   "metadata": {},
   "outputs": [
    {
     "data": {
      "text/plain": [
       "[1.0,\n",
       " 1.2599210498948732,\n",
       " 1.4422495703074083,\n",
       " 1.5874010519681994,\n",
       " 1.7099759466766968,\n",
       " 1.8171205928321397,\n",
       " 1.912931182772389,\n",
       " 2.0,\n",
       " 2.080083823051904,\n",
       " 2.154434690031884]"
      ]
     },
     "execution_count": 130,
     "metadata": {},
     "output_type": "execute_result"
    }
   ],
   "source": [
    "list(map(lambda x : x ** (1. / 3),range(1,11)))"
   ]
  },
  {
   "cell_type": "markdown",
   "id": "320a4ba8-5eb7-4370-bdc5-218c82464095",
   "metadata": {},
   "source": [
    "## 6. Check if a given number is even"
   ]
  },
  {
   "cell_type": "code",
   "execution_count": 152,
   "id": "3243a01a-4b43-4766-94ab-bd2970765713",
   "metadata": {},
   "outputs": [
    {
     "name": "stdout",
     "output_type": "stream",
     "text": [
      "Invalid Input\n"
     ]
    }
   ],
   "source": [
    "#even_odd=lambda x : print(\"Even\") if (x%2==0 and x in range(0,9)) else print (\"odd\") if (x%2!=0 and x in range(0,9))  else print(\"Invalid Input\")\n",
    "#even_odd(345)"
   ]
  },
  {
   "cell_type": "code",
   "execution_count": 153,
   "id": "c73019ec-1c7e-4064-b611-54390c882f8c",
   "metadata": {},
   "outputs": [],
   "source": [
    "even_odd =lambda x : print(\"Even\") if x%2==0 else print (\"Odd\")"
   ]
  },
  {
   "cell_type": "code",
   "execution_count": 155,
   "id": "f2ac0c62-94c8-4e71-a7bc-256e669784bc",
   "metadata": {},
   "outputs": [
    {
     "name": "stdout",
     "output_type": "stream",
     "text": [
      "Odd\n",
      "Even\n"
     ]
    }
   ],
   "source": [
    "even_odd(81)\n",
    "even_odd(80)"
   ]
  },
  {
   "cell_type": "markdown",
   "id": "af5583e0-3e3c-4e3a-8735-06ee6239dc8e",
   "metadata": {},
   "source": [
    "## 7. Filter odd numbers from the given list"
   ]
  },
  {
   "cell_type": "code",
   "execution_count": 156,
   "id": "d33f498e-c4f2-4d47-bf52-e8f507fe7396",
   "metadata": {},
   "outputs": [],
   "source": [
    "list2=[1,2,3,4,5,6,7,8,9,10]"
   ]
  },
  {
   "cell_type": "code",
   "execution_count": 158,
   "id": "58fe9b87-523e-443d-a69c-4b6ccfcc7786",
   "metadata": {},
   "outputs": [
    {
     "data": {
      "text/plain": [
       "[1, 3, 5, 7, 9]"
      ]
     },
     "execution_count": 158,
     "metadata": {},
     "output_type": "execute_result"
    }
   ],
   "source": [
    "list(filter(lambda x: x%2!=0,list2))"
   ]
  },
  {
   "cell_type": "markdown",
   "id": "97ef9a26-1696-47f8-b51b-1a8d39c8038b",
   "metadata": {},
   "source": [
    "## 8.Sort a list of integers into positive and negative integers lists.\n",
    "[1,2,3,4,5,6,-1,-2,-3,-4,-5,0]"
   ]
  },
  {
   "cell_type": "code",
   "execution_count": 163,
   "id": "9bb34101-644f-4e7f-9db2-0e68245127dd",
   "metadata": {},
   "outputs": [],
   "source": [
    "list3=[1,2,3,4,5,6,-1,-2,-3,-4,-5,0]"
   ]
  },
  {
   "cell_type": "code",
   "execution_count": 160,
   "id": "faca4f26-70a5-49c4-8915-a53c8111404b",
   "metadata": {},
   "outputs": [
    {
     "data": {
      "text/plain": [
       "[1, 2, 3, 4, 5, 6, -1, -2, -3, -4, -5, 0]"
      ]
     },
     "execution_count": 160,
     "metadata": {},
     "output_type": "execute_result"
    }
   ],
   "source": [
    "list3"
   ]
  },
  {
   "cell_type": "code",
   "execution_count": 170,
   "id": "575854b8-aed7-4c58-9619-f89a3b8839ce",
   "metadata": {},
   "outputs": [
    {
     "name": "stdout",
     "output_type": "stream",
     "text": [
      "Positive Numbers List:  [1, 2, 3, 4, 5, 6]\n",
      "Negative Numbers List :  [-1, -2, -3, -4, -5]\n"
     ]
    }
   ],
   "source": [
    "def p_n(l):\n",
    "    positive_number=list(filter(lambda x: x>0,list3))\n",
    "    negative_number=list(filter(lambda x: x<0,list3))\n",
    "    print(\"Positive Numbers List: \",positive_number)\n",
    "    print(\"Negative Numbers List : \",negative_number)\n",
    "    \n",
    "p_n(list3)"
   ]
  },
  {
   "cell_type": "code",
   "execution_count": null,
   "id": "5cdbaecb-2656-40ac-82f8-95c8eff1f309",
   "metadata": {},
   "outputs": [],
   "source": []
  },
  {
   "cell_type": "code",
   "execution_count": null,
   "id": "77a329d7-c4cc-452e-aa55-f2bcac5d60d5",
   "metadata": {},
   "outputs": [],
   "source": []
  },
  {
   "cell_type": "code",
   "execution_count": null,
   "id": "27ce4761-2085-452b-b4af-9659635633e5",
   "metadata": {},
   "outputs": [],
   "source": []
  },
  {
   "cell_type": "code",
   "execution_count": null,
   "id": "fc8b7103-ba81-4b72-a375-071db16c3a9b",
   "metadata": {},
   "outputs": [],
   "source": []
  },
  {
   "cell_type": "code",
   "execution_count": null,
   "id": "34a1f298-0c68-400c-a06f-07d550af8822",
   "metadata": {},
   "outputs": [],
   "source": []
  },
  {
   "cell_type": "code",
   "execution_count": null,
   "id": "95ef63f4-c303-4e04-9694-a751cd4a7974",
   "metadata": {},
   "outputs": [],
   "source": []
  },
  {
   "cell_type": "code",
   "execution_count": null,
   "id": "44db6afb-2b2f-4ccc-81e5-c8f85f1bebe5",
   "metadata": {},
   "outputs": [],
   "source": []
  },
  {
   "cell_type": "code",
   "execution_count": null,
   "id": "3ee6716f-dc65-4673-af01-d42d02cd6e72",
   "metadata": {},
   "outputs": [],
   "source": []
  },
  {
   "cell_type": "code",
   "execution_count": null,
   "id": "9774c72b-3e2b-47ef-8463-5e718483e602",
   "metadata": {},
   "outputs": [],
   "source": []
  },
  {
   "cell_type": "code",
   "execution_count": null,
   "id": "0119fbc7-fc9c-4b3d-86a4-c69b66bee0d5",
   "metadata": {},
   "outputs": [],
   "source": []
  },
  {
   "cell_type": "code",
   "execution_count": null,
   "id": "ba0b2d48-427e-4450-9611-c9d6466a2433",
   "metadata": {},
   "outputs": [],
   "source": []
  },
  {
   "cell_type": "code",
   "execution_count": null,
   "id": "39da2516-a4c8-485d-bda9-b275a182b8a1",
   "metadata": {},
   "outputs": [],
   "source": []
  }
 ],
 "metadata": {
  "kernelspec": {
   "display_name": "Python 3 (ipykernel)",
   "language": "python",
   "name": "python3"
  },
  "language_info": {
   "codemirror_mode": {
    "name": "ipython",
    "version": 3
   },
   "file_extension": ".py",
   "mimetype": "text/x-python",
   "name": "python",
   "nbconvert_exporter": "python",
   "pygments_lexer": "ipython3",
   "version": "3.10.8"
  }
 },
 "nbformat": 4,
 "nbformat_minor": 5
}
