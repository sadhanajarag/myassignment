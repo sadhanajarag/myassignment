{
 "cells": [
  {
   "cell_type": "markdown",
   "id": "5b3f8db2-fedf-4999-80f3-a7e6d77743e7",
   "metadata": {},
   "source": [
    "# 02 Feb_AssQ"
   ]
  },
  {
   "cell_type": "markdown",
   "id": "3bce86f9-26d6-444c-a10a-790df62a9179",
   "metadata": {},
   "source": [
    "## Q1. What are the characteristics of the tuples? Is tuple immutable?"
   ]
  },
  {
   "cell_type": "markdown",
   "id": "de12dd6c-ee71-41d1-891d-24edf3cb8187",
   "metadata": {},
   "source": [
    "1) tuple is an immutable sequence/list\n",
    "2) After creating tuple we cannot do any changes (append,insert,remove,del,….)\n",
    "3)Tuples are immutable sequences, typically used to store collections of heterogeneous data (such as the 2-tuples produced by the    enumerate() built-in). \n",
    "4) Tuples are also used for cases where an immutable sequence of homogeneous data is needed (such as allowing storage in a set or dict instance).\n",
    "5) “tuple class” or data type is used for constructing tuple object.\n",
    "\n",
    "#### Tuples may be constructed in a number of ways:\n",
    "    \n",
    "•\tUsing a pair of parentheses to denote the empty tuple: ()\n",
    "\n",
    "•\tUsing a trailing comma for a singleton tuple: a, or (a,)\n",
    "\n",
    "•\tSeparating items with commas: a, b, c or (a, b, c)\n",
    "\n",
    "•\tUsing the tuple() built-in: tuple() or tuple(iterable)\n"
   ]
  },
  {
   "cell_type": "markdown",
   "id": "1e8200ef-32e0-4d84-8b76-110f1ed45cf7",
   "metadata": {},
   "source": [
    "### Q2. What are the two tuple methods in python? Give an example of each method. Give a reason why tuples have only two in-built methods as compared to Lists."
   ]
  },
  {
   "cell_type": "code",
   "execution_count": 2,
   "id": "2790fff1-f775-4490-8db9-428f66051ee0",
   "metadata": {},
   "outputs": [],
   "source": [
    "On tuple object we can use index() and count() methids of list object but not other functions of list because  tuple \n",
    "object belongs to Immutable\n"
   ]
  },
  {
   "cell_type": "code",
   "execution_count": 2,
   "id": "e7652aca-2f4a-4250-ad0a-68e68dad4d42",
   "metadata": {},
   "outputs": [
    {
     "data": {
      "text/plain": [
       "3"
      ]
     },
     "execution_count": 2,
     "metadata": {},
     "output_type": "execute_result"
    }
   ],
   "source": [
    "#Example\n",
    "t1=(1,2,3,4,5,6,True,False,1)\n",
    "#counting number of occurances of 1 + True(as it consider 1) in given tuple\n",
    "t1.count(1)"
   ]
  },
  {
   "cell_type": "code",
   "execution_count": 4,
   "id": "51d1ea54-e5cd-47cd-85f5-f08e4e4c19df",
   "metadata": {},
   "outputs": [
    {
     "data": {
      "text/plain": [
       "1"
      ]
     },
     "execution_count": 4,
     "metadata": {},
     "output_type": "execute_result"
    }
   ],
   "source": [
    "#index of 2\n",
    "t1.index(2)"
   ]
  },
  {
   "cell_type": "code",
   "execution_count": 9,
   "id": "f0965516-66d7-46e7-8b2d-f74f99111d6e",
   "metadata": {},
   "outputs": [
    {
     "ename": "ValueError",
     "evalue": "tuple.index(x): x not in tuple",
     "output_type": "error",
     "traceback": [
      "\u001b[0;31m---------------------------------------------------------------------------\u001b[0m",
      "\u001b[0;31mValueError\u001b[0m                                Traceback (most recent call last)",
      "Cell \u001b[0;32mIn[9], line 1\u001b[0m\n\u001b[0;32m----> 1\u001b[0m \u001b[43mt1\u001b[49m\u001b[38;5;241;43m.\u001b[39;49m\u001b[43mindex\u001b[49m\u001b[43m(\u001b[49m\u001b[38;5;241;43m9\u001b[39;49m\u001b[43m)\u001b[49m\n",
      "\u001b[0;31mValueError\u001b[0m: tuple.index(x): x not in tuple"
     ]
    }
   ],
   "source": [
    "t1.index(9)#value error as 9 is not in given tuple"
   ]
  },
  {
   "cell_type": "markdown",
   "id": "fa3953f8-e66c-43e3-96d0-f908be298494",
   "metadata": {},
   "source": [
    "### Q3. Which collection datatypes in python do not allow duplicate items? Write a code using a set to remove duplicates from the given list.\n",
    "##### List = [1, 1, 1, 2, 1, 3, 1, 4, 2, 1, 2, 2, 2, 3, 2, 4, 3, 1, 3, 2, 3, 3, 3, 4, 4, 1, 4, 2, 4, 3, 4, 4]"
   ]
  },
  {
   "cell_type": "markdown",
   "id": "30a5153a-e58b-4650-8921-9812faa5d8f1",
   "metadata": {},
   "source": [
    "##### ANS:Set collection datatype in python do not allow duplicate items."
   ]
  },
  {
   "cell_type": "code",
   "execution_count": 11,
   "id": "a77efea8-acaa-47e9-8afe-1bee7fdd6d52",
   "metadata": {},
   "outputs": [],
   "source": [
    "List = [1, 1, 1, 2, 1, 3, 1, 4, 2, 1, 2, 2, 2, 3, 2, 4, 3, 1, 3, 2, 3, 3, 3, 4, 4, 1, 4, 2, 4, 3, 4, 4]"
   ]
  },
  {
   "cell_type": "code",
   "execution_count": 12,
   "id": "80eeff2f-9231-45aa-b9a9-e20c321b6f1e",
   "metadata": {},
   "outputs": [],
   "source": [
    "set1=set(List)"
   ]
  },
  {
   "cell_type": "code",
   "execution_count": 13,
   "id": "f7a2aa21-d1eb-4f71-baa0-4e74e2e20000",
   "metadata": {},
   "outputs": [
    {
     "data": {
      "text/plain": [
       "{1, 2, 3, 4}"
      ]
     },
     "execution_count": 13,
     "metadata": {},
     "output_type": "execute_result"
    }
   ],
   "source": [
    "set1"
   ]
  },
  {
   "cell_type": "markdown",
   "id": "57003901-b41a-4114-800e-aac5d0d1a8f6",
   "metadata": {},
   "source": [
    "### Q4. Explain the difference between the union() and update() methods for a set. Give an example of each method."
   ]
  },
  {
   "cell_type": "code",
   "execution_count": null,
   "id": "f893c1f7-9feb-4e3a-969d-fda637ca9d22",
   "metadata": {},
   "outputs": [],
   "source": [
    "Union :Return a new set with elements from the set and all others.\n",
    "Update : Update the set, adding elements from all others."
   ]
  },
  {
   "cell_type": "code",
   "execution_count": 14,
   "id": "bb5c93d4-c69a-49d9-af27-d444018a45b8",
   "metadata": {},
   "outputs": [],
   "source": [
    "s1={1,2,3,4,5,6}"
   ]
  },
  {
   "cell_type": "code",
   "execution_count": 15,
   "id": "0af4ce69-b168-4676-87b5-69875ecf0b1c",
   "metadata": {},
   "outputs": [],
   "source": [
    "s2={3,4,6,7,8,9}"
   ]
  },
  {
   "cell_type": "code",
   "execution_count": 19,
   "id": "d3ce4a85-ec97-417d-b776-66e2d7f44cf9",
   "metadata": {},
   "outputs": [],
   "source": [
    "s1.union(s2)#here we have to assign that union new set to make it permenant\n",
    "s3=s1.union(s2)"
   ]
  },
  {
   "cell_type": "code",
   "execution_count": 17,
   "id": "04442a98-c1e5-463f-9d6f-7a4ef515f03a",
   "metadata": {},
   "outputs": [
    {
     "data": {
      "text/plain": [
       "{1, 2, 3, 4, 5, 6}"
      ]
     },
     "execution_count": 17,
     "metadata": {},
     "output_type": "execute_result"
    }
   ],
   "source": [
    "s1"
   ]
  },
  {
   "cell_type": "code",
   "execution_count": 18,
   "id": "f4585cce-6312-4a09-a111-2ad4f4737a42",
   "metadata": {},
   "outputs": [
    {
     "data": {
      "text/plain": [
       "{3, 4, 6, 7, 8, 9}"
      ]
     },
     "execution_count": 18,
     "metadata": {},
     "output_type": "execute_result"
    }
   ],
   "source": [
    "s2"
   ]
  },
  {
   "cell_type": "code",
   "execution_count": 20,
   "id": "0e06a063-c08f-4c8a-9fb1-9de981e1ad00",
   "metadata": {},
   "outputs": [
    {
     "data": {
      "text/plain": [
       "{1, 2, 3, 4, 5, 6, 7, 8, 9}"
      ]
     },
     "execution_count": 20,
     "metadata": {},
     "output_type": "execute_result"
    }
   ],
   "source": [
    "s3"
   ]
  },
  {
   "cell_type": "code",
   "execution_count": 21,
   "id": "60bd3f01-9ec1-459b-b429-16a1152edd26",
   "metadata": {},
   "outputs": [],
   "source": [
    "s4={1,2,3,4,5,6}\n",
    "s5={3,4,6,7,8,9}"
   ]
  },
  {
   "cell_type": "code",
   "execution_count": 22,
   "id": "2d29d8cc-7889-4309-ab58-a09315bab7f2",
   "metadata": {},
   "outputs": [],
   "source": [
    "s4.update(s5)#Here S4 is updated with value of s5"
   ]
  },
  {
   "cell_type": "code",
   "execution_count": 23,
   "id": "b8315174-317d-45cb-b6ac-9a3f45be1ae8",
   "metadata": {},
   "outputs": [
    {
     "data": {
      "text/plain": [
       "{1, 2, 3, 4, 5, 6, 7, 8, 9}"
      ]
     },
     "execution_count": 23,
     "metadata": {},
     "output_type": "execute_result"
    }
   ],
   "source": [
    "s4"
   ]
  },
  {
   "cell_type": "code",
   "execution_count": 24,
   "id": "32c1dd8c-ea66-4e41-b609-8dad022b8b1d",
   "metadata": {},
   "outputs": [
    {
     "data": {
      "text/plain": [
       "{3, 4, 6, 7, 8, 9}"
      ]
     },
     "execution_count": 24,
     "metadata": {},
     "output_type": "execute_result"
    }
   ],
   "source": [
    "s5"
   ]
  },
  {
   "cell_type": "markdown",
   "id": "62539c2e-f513-44c0-8d4e-2c66cc5e58f4",
   "metadata": {},
   "source": [
    "### Q5. What is a dictionary? Give an example. Also, state whether a dictionary is ordered or unordered."
   ]
  },
  {
   "cell_type": "markdown",
   "id": "fa886c67-d9ae-4f13-85a7-3b170941410f",
   "metadata": {},
   "source": [
    "A) dictionary is a collection of items. Each item is having,\n",
    "1.\tKey\n",
    "2.\tValue\n",
    "B) In dictionary data is organized as pair of values (key,value)\n",
    "    One key is mapped with one or more than one value\n",
    "    Duplicate keys are not allowed but duplicate values allowed.\n",
    "    Keys as hashables and immutables.\n",
    "\n",
    "C) Dictionary is mutable collection, where we cannot modify keys but we can modify values.\n",
    "\n",
    "D) An application required to represent data as pair values we use dictionary collection.\n",
    "Example: phone book, shopping cart, employee record,…\n",
    "\n",
    "E) Dictionary is a key based collection where reading and writing is done using key.\n",
    "\n",
    "\n",
    "Dictionary is termed as an unordered collection of objects because it doesn’t remember the order of positioning of its elements but just the mapping of its keys and values."
   ]
  },
  {
   "cell_type": "markdown",
   "id": "173a1e3d-7ecf-4051-b608-f18f41533158",
   "metadata": {},
   "source": [
    "### Q6. Can we create a nested dictionary? If so, please give an example by creating a simple one-level nested dictionary."
   ]
  },
  {
   "cell_type": "markdown",
   "id": "5141f878-b7e0-480e-98ff-082d3aa84312",
   "metadata": {},
   "source": [
    "### ANS: we can create nested dictionary\n",
    "### Example"
   ]
  },
  {
   "cell_type": "code",
   "execution_count": 41,
   "id": "52e06238-fb05-4db6-9600-d277ab57539a",
   "metadata": {},
   "outputs": [],
   "source": [
    "dict1={\"std1\":{\"name\":\"Ram\",\"Age\":27},\"std2\":{\"name\":\"Radha\",\"Age\":26}}"
   ]
  },
  {
   "cell_type": "code",
   "execution_count": 42,
   "id": "e4735a21-c0e0-4e14-9eaa-0f734085361e",
   "metadata": {},
   "outputs": [
    {
     "data": {
      "text/plain": [
       "{'std1': {'name': 'Ram', 'Age': 27}, 'std2': {'name': 'Radha', 'Age': 26}}"
      ]
     },
     "execution_count": 42,
     "metadata": {},
     "output_type": "execute_result"
    }
   ],
   "source": [
    "dict1"
   ]
  },
  {
   "cell_type": "markdown",
   "id": "bffaac1b-fc8f-4a81-9d47-c559adbfd302",
   "metadata": {},
   "source": [
    "### Q7. Using setdefault() method, create key named topics in the given dictionary and also add the value of the key as this list ['Python', 'Machine Learning’, 'Deep Learning']"
   ]
  },
  {
   "cell_type": "markdown",
   "id": "6cc5eeaa-8e20-4077-b2f2-13fd015181c9",
   "metadata": {},
   "source": [
    "Ans: setdefault(key[, default])\n",
    "\n",
    "If key is in the dictionary, return its value. If not, insert key with a value of default and return default. default defaults to None.\n"
   ]
  },
  {
   "cell_type": "code",
   "execution_count": 61,
   "id": "07a553cd-2d24-4087-b948-1a5096e3caaa",
   "metadata": {},
   "outputs": [],
   "source": [
    "dict1 = {'language' : 'Python', 'course': 'Data Science Masters'}"
   ]
  },
  {
   "cell_type": "code",
   "execution_count": 62,
   "id": "eaf3f977-07b8-4894-b55f-e91dd20f3f5f",
   "metadata": {},
   "outputs": [
    {
     "data": {
      "text/plain": [
       "{'language': 'Python', 'course': 'Data Science Masters'}"
      ]
     },
     "execution_count": 62,
     "metadata": {},
     "output_type": "execute_result"
    }
   ],
   "source": [
    "dict1"
   ]
  },
  {
   "cell_type": "code",
   "execution_count": 65,
   "id": "330f605f-b89c-47ca-b694-5444341ce3d4",
   "metadata": {},
   "outputs": [],
   "source": [
    "dict1.setdefault(\"topics\")"
   ]
  },
  {
   "cell_type": "code",
   "execution_count": 66,
   "id": "61a52660-9096-4eb6-aff2-d0affc83b6c9",
   "metadata": {},
   "outputs": [
    {
     "data": {
      "text/plain": [
       "{'language': 'Python', 'course': 'Data Science Masters', 'topics': None}"
      ]
     },
     "execution_count": 66,
     "metadata": {},
     "output_type": "execute_result"
    }
   ],
   "source": [
    "dict1"
   ]
  },
  {
   "cell_type": "code",
   "execution_count": 71,
   "id": "d344f90d-73e4-44e6-96d3-361246647b3d",
   "metadata": {},
   "outputs": [],
   "source": [
    "dict1[\"topics\"]=['Python', 'Machine Learning','Deep Learning']"
   ]
  },
  {
   "cell_type": "code",
   "execution_count": 72,
   "id": "97a6f0c2-f6ab-4779-9d71-7894a7c83c9e",
   "metadata": {},
   "outputs": [
    {
     "data": {
      "text/plain": [
       "{'language': 'Python',\n",
       " 'course': 'Data Science Masters',\n",
       " 'topics': ['Python', 'Machine Learning', 'Deep Learning']}"
      ]
     },
     "execution_count": 72,
     "metadata": {},
     "output_type": "execute_result"
    }
   ],
   "source": [
    "dict1"
   ]
  },
  {
   "cell_type": "markdown",
   "id": "6f2b4b0e-6d15-4591-8da3-f031eb6fae75",
   "metadata": {},
   "source": [
    "### Q8. What are the three view objects in dictionaries? Use the three in-built methods in python to display these three view objects for the given dictionary.\n",
    "    dict1 = {'Sport': 'Cricket' , 'Teams': ['India', 'Australia', 'England', 'South Africa', 'Sri Lanka', 'New Zealand']}"
   ]
  },
  {
   "cell_type": "markdown",
   "id": "279e8876-2f59-4773-83f8-52a868ae786c",
   "metadata": {},
   "source": [
    "#### The objects returned by dict.keys(), dict.values() and dict.items() are view objects. They provide a dynamic view on the dictionary’s entries, which means that when the dictionary changes, the view reflects these changes."
   ]
  },
  {
   "cell_type": "code",
   "execution_count": 84,
   "id": "2bf8f2ef-2bed-4488-93a9-0b17243df08f",
   "metadata": {},
   "outputs": [],
   "source": [
    "dict1 = {'Sport': 'Cricket' ,\n",
    "                      'Teams': ['India', 'Australia', 'England', 'South Africa', 'Sri Lanka', 'New Zealand']}"
   ]
  },
  {
   "cell_type": "code",
   "execution_count": 85,
   "id": "1ecbbc00-0946-4fb1-859e-32b70dd163d3",
   "metadata": {},
   "outputs": [
    {
     "data": {
      "text/plain": [
       "{'Sport': 'Cricket',\n",
       " 'Teams': ['India',\n",
       "  'Australia',\n",
       "  'England',\n",
       "  'South Africa',\n",
       "  'Sri Lanka',\n",
       "  'New Zealand']}"
      ]
     },
     "execution_count": 85,
     "metadata": {},
     "output_type": "execute_result"
    }
   ],
   "source": [
    "dict1"
   ]
  },
  {
   "cell_type": "code",
   "execution_count": 86,
   "id": "e1380214-ce25-490a-bc9d-abbd4d56d518",
   "metadata": {},
   "outputs": [
    {
     "data": {
      "text/plain": [
       "dict_keys(['Sport', 'Teams'])"
      ]
     },
     "execution_count": 86,
     "metadata": {},
     "output_type": "execute_result"
    }
   ],
   "source": [
    "dict1.keys()"
   ]
  },
  {
   "cell_type": "code",
   "execution_count": 87,
   "id": "3c078be0-f1d5-48e0-945a-ecb815188cef",
   "metadata": {},
   "outputs": [
    {
     "data": {
      "text/plain": [
       "dict_values([['Banana', 'Grapes'], ('Kale', 'Lettuce')])"
      ]
     },
     "execution_count": 87,
     "metadata": {},
     "output_type": "execute_result"
    }
   ],
   "source": [
    "dict2.values()"
   ]
  },
  {
   "cell_type": "code",
   "execution_count": 88,
   "id": "22517bf2-9c2d-410a-93ed-d706e46a4301",
   "metadata": {},
   "outputs": [
    {
     "data": {
      "text/plain": [
       "dict_items([('Sport', 'Cricket'), ('Teams', ['India', 'Australia', 'England', 'South Africa', 'Sri Lanka', 'New Zealand'])])"
      ]
     },
     "execution_count": 88,
     "metadata": {},
     "output_type": "execute_result"
    }
   ],
   "source": [
    "dict1.items()"
   ]
  },
  {
   "cell_type": "code",
   "execution_count": 89,
   "id": "d0c533ff-bb5c-449c-ad1e-698fcfc84bab",
   "metadata": {},
   "outputs": [
    {
     "data": {
      "text/plain": [
       "{'Sport', 'Teams'}"
      ]
     },
     "execution_count": 89,
     "metadata": {},
     "output_type": "execute_result"
    }
   ],
   "source": [
    " {i for i in dict1.keys() }"
   ]
  },
  {
   "cell_type": "code",
   "execution_count": null,
   "id": "a549f847-7788-4a6f-a57b-b461aac40d23",
   "metadata": {},
   "outputs": [],
   "source": []
  },
  {
   "cell_type": "code",
   "execution_count": null,
   "id": "80e4a8f1-6691-4435-b621-b8e238be4068",
   "metadata": {},
   "outputs": [],
   "source": []
  },
  {
   "cell_type": "code",
   "execution_count": null,
   "id": "53b9a401-835b-46c5-9a5b-7bb128c6bb56",
   "metadata": {},
   "outputs": [],
   "source": []
  },
  {
   "cell_type": "code",
   "execution_count": null,
   "id": "2ae67045-58ca-4a61-aa94-ef7e6dbe7f3c",
   "metadata": {},
   "outputs": [],
   "source": []
  },
  {
   "cell_type": "code",
   "execution_count": null,
   "id": "d038cedd-2c0e-4afa-977d-ef46b40ca515",
   "metadata": {},
   "outputs": [],
   "source": []
  },
  {
   "cell_type": "code",
   "execution_count": null,
   "id": "3b719d41-bae8-4833-9428-1fd786715b32",
   "metadata": {},
   "outputs": [],
   "source": []
  },
  {
   "cell_type": "code",
   "execution_count": null,
   "id": "b7784bd5-efe2-44ff-bb51-0148f7b8a719",
   "metadata": {},
   "outputs": [],
   "source": []
  },
  {
   "cell_type": "code",
   "execution_count": null,
   "id": "a18ebc98-1dcc-4df3-ba76-67eb09865e44",
   "metadata": {},
   "outputs": [],
   "source": []
  },
  {
   "cell_type": "code",
   "execution_count": null,
   "id": "f8c21746-c608-4d17-9306-315fff997b7a",
   "metadata": {},
   "outputs": [],
   "source": []
  },
  {
   "cell_type": "code",
   "execution_count": null,
   "id": "3dcfede3-dfb8-4ea6-8496-87d709e4c557",
   "metadata": {},
   "outputs": [],
   "source": []
  },
  {
   "cell_type": "code",
   "execution_count": null,
   "id": "f7176c32-1c82-47c4-81bc-c926a25953bc",
   "metadata": {},
   "outputs": [],
   "source": []
  }
 ],
 "metadata": {
  "kernelspec": {
   "display_name": "Python 3 (ipykernel)",
   "language": "python",
   "name": "python3"
  },
  "language_info": {
   "codemirror_mode": {
    "name": "ipython",
    "version": 3
   },
   "file_extension": ".py",
   "mimetype": "text/x-python",
   "name": "python",
   "nbconvert_exporter": "python",
   "pygments_lexer": "ipython3",
   "version": "3.10.8"
  }
 },
 "nbformat": 4,
 "nbformat_minor": 5
}
