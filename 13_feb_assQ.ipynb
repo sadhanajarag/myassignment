{
 "cells": [
  {
   "cell_type": "markdown",
   "id": "9526a751-5e0e-4cc5-b56c-bdade5c61d23",
   "metadata": {},
   "source": [
    "## Q1. Explain why we have to use the Exception class while creating a Custom Exception."
   ]
  },
  {
   "cell_type": "code",
   "execution_count": null,
   "id": "2df514a2-6805-4555-9cc7-9f8af01d2069",
   "metadata": {},
   "outputs": [],
   "source": [
    "Ans: We have built in exception class that is 'Exception' class\n",
    "so while  defining custom exceptions in Python by creating a new class, that is derived from the built-in Exception class.\n",
    "So we can access in-built features as well in our derived class."
   ]
  },
  {
   "cell_type": "markdown",
   "id": "5bf9828e-6cbf-4252-834a-e0be45ae6904",
   "metadata": {},
   "source": [
    "## Q2. Write a python program to print Python Exception Hierarchy."
   ]
  },
  {
   "cell_type": "code",
   "execution_count": null,
   "id": "84c8573b-4065-47b1-838d-ba8712c6e1fe",
   "metadata": {},
   "outputs": [],
   "source": [
    "To print the tree hierarchy, we can use inspect module of Python. The inspect module is used for getting information about objects like modules, classes methods, functions, and objects of the program.\n",
    "To build a tree hierarchy, we can use inspect.getclasstree() function.\n",
    "inspect.getclasstree(classes, unique = False)  "
   ]
  },
  {
   "cell_type": "code",
   "execution_count": 6,
   "id": "9d85139b-9be5-431d-a5e2-d8c6df390228",
   "metadata": {},
   "outputs": [
    {
     "name": "stdout",
     "output_type": "stream",
     "text": [
      "The Hierarchy for inbuilt exceptions is: \n"
     ]
    }
   ],
   "source": [
    "import inspect as ipt  \n",
    "def tree_class(cls, ind = 0):\n",
    "    print ('-' * ind, cls.__name__)\n",
    "    for K in cls.__subclasses__():\n",
    "        tree_class(K, ind + 4)\n",
    "        \n",
    "print (\"The Hierarchy for inbuilt exceptions is: \") "
   ]
  },
  {
   "cell_type": "code",
   "execution_count": 4,
   "id": "02f86a3a-62b7-40d8-b252-99ea310e1fda",
   "metadata": {},
   "outputs": [
    {
     "data": {
      "text/plain": [
       "[(object, ()), [(BaseException, (object,))]]"
      ]
     },
     "execution_count": 4,
     "metadata": {},
     "output_type": "execute_result"
    }
   ],
   "source": [
    "ipt.getclasstree(ipt.getmro(BaseException)) "
   ]
  },
  {
   "cell_type": "code",
   "execution_count": 7,
   "id": "2c7f6859-a9ee-4a2f-9842-27726825b7ec",
   "metadata": {},
   "outputs": [
    {
     "name": "stdout",
     "output_type": "stream",
     "text": [
      " BaseException\n",
      "---- Exception\n",
      "-------- TypeError\n",
      "------------ FloatOperation\n",
      "------------ MultipartConversionError\n",
      "-------- StopAsyncIteration\n",
      "-------- StopIteration\n",
      "-------- ImportError\n",
      "------------ ModuleNotFoundError\n",
      "------------ ZipImportError\n",
      "-------- OSError\n",
      "------------ ConnectionError\n",
      "---------------- BrokenPipeError\n",
      "---------------- ConnectionAbortedError\n",
      "---------------- ConnectionRefusedError\n",
      "---------------- ConnectionResetError\n",
      "-------------------- RemoteDisconnected\n",
      "------------ BlockingIOError\n",
      "------------ ChildProcessError\n",
      "------------ FileExistsError\n",
      "------------ FileNotFoundError\n",
      "------------ IsADirectoryError\n",
      "------------ NotADirectoryError\n",
      "------------ InterruptedError\n",
      "---------------- InterruptedSystemCall\n",
      "------------ PermissionError\n",
      "------------ ProcessLookupError\n",
      "------------ TimeoutError\n",
      "------------ UnsupportedOperation\n",
      "------------ itimer_error\n",
      "------------ herror\n",
      "------------ gaierror\n",
      "------------ SSLError\n",
      "---------------- SSLCertVerificationError\n",
      "---------------- SSLZeroReturnError\n",
      "---------------- SSLWantWriteError\n",
      "---------------- SSLWantReadError\n",
      "---------------- SSLSyscallError\n",
      "---------------- SSLEOFError\n",
      "------------ Error\n",
      "---------------- SameFileError\n",
      "------------ SpecialFileError\n",
      "------------ ExecError\n",
      "------------ ReadError\n",
      "------------ URLError\n",
      "---------------- HTTPError\n",
      "---------------- ContentTooShortError\n",
      "------------ BadGzipFile\n",
      "-------- EOFError\n",
      "------------ IncompleteReadError\n",
      "-------- RuntimeError\n",
      "------------ RecursionError\n",
      "------------ NotImplementedError\n",
      "---------------- ZMQVersionError\n",
      "---------------- StdinNotImplementedError\n",
      "------------ _DeadlockError\n",
      "------------ BrokenBarrierError\n",
      "------------ BrokenExecutor\n",
      "---------------- BrokenThreadPool\n",
      "------------ SendfileNotAvailableError\n",
      "------------ ExtractionError\n",
      "------------ VariableError\n",
      "-------- NameError\n",
      "------------ UnboundLocalError\n",
      "-------- AttributeError\n",
      "------------ FrozenInstanceError\n",
      "-------- SyntaxError\n",
      "------------ IndentationError\n",
      "---------------- TabError\n",
      "-------- LookupError\n",
      "------------ IndexError\n",
      "------------ KeyError\n",
      "---------------- NoSuchKernel\n",
      "---------------- UnknownBackend\n",
      "------------ CodecRegistryError\n",
      "-------- ValueError\n",
      "------------ UnicodeError\n",
      "---------------- UnicodeEncodeError\n",
      "---------------- UnicodeDecodeError\n",
      "---------------- UnicodeTranslateError\n",
      "------------ UnsupportedOperation\n",
      "------------ JSONDecodeError\n",
      "------------ SSLCertVerificationError\n",
      "------------ Error\n",
      "------------ UnsupportedDigestmodError\n",
      "------------ IllegalMonthError\n",
      "------------ IllegalWeekdayError\n",
      "------------ ParserError\n",
      "------------ ClassNotFound\n",
      "------------ ClipboardEmpty\n",
      "------------ MessageDefect\n",
      "---------------- NoBoundaryInMultipartDefect\n",
      "---------------- StartBoundaryNotFoundDefect\n",
      "---------------- CloseBoundaryNotFoundDefect\n",
      "---------------- FirstHeaderLineIsContinuationDefect\n",
      "---------------- MisplacedEnvelopeHeaderDefect\n",
      "---------------- MissingHeaderBodySeparatorDefect\n",
      "---------------- MultipartInvariantViolationDefect\n",
      "---------------- InvalidMultipartContentTransferEncodingDefect\n",
      "---------------- UndecodableBytesDefect\n",
      "---------------- InvalidBase64PaddingDefect\n",
      "---------------- InvalidBase64CharactersDefect\n",
      "---------------- InvalidBase64LengthDefect\n",
      "---------------- HeaderDefect\n",
      "-------------------- InvalidHeaderDefect\n",
      "-------------------- HeaderMissingRequiredValue\n",
      "-------------------- NonPrintableDefect\n",
      "-------------------- ObsoleteHeaderDefect\n",
      "-------------------- NonASCIILocalPartDefect\n",
      "-------------------- InvalidDateDefect\n",
      "------------ MacroToEdit\n",
      "------------ InvalidFileException\n",
      "------------ UnequalIterablesError\n",
      "------------ InvalidVersion\n",
      "------------ _InvalidELFFileHeader\n",
      "------------ InvalidWheelFilename\n",
      "------------ InvalidSdistFilename\n",
      "------------ InvalidSpecifier\n",
      "------------ InvalidMarker\n",
      "------------ UndefinedComparison\n",
      "------------ UndefinedEnvironmentName\n",
      "------------ InvalidRequirement\n",
      "---------------- RequirementParseError\n",
      "------------ InvalidVersion\n",
      "-------- AssertionError\n",
      "-------- ArithmeticError\n",
      "------------ FloatingPointError\n",
      "------------ OverflowError\n",
      "------------ ZeroDivisionError\n",
      "---------------- DivisionByZero\n",
      "---------------- DivisionUndefined\n",
      "------------ DecimalException\n",
      "---------------- Clamped\n",
      "---------------- Rounded\n",
      "-------------------- Underflow\n",
      "-------------------- Overflow\n",
      "---------------- Inexact\n",
      "-------------------- Underflow\n",
      "-------------------- Overflow\n",
      "---------------- Subnormal\n",
      "-------------------- Underflow\n",
      "---------------- DivisionByZero\n",
      "---------------- FloatOperation\n",
      "---------------- InvalidOperation\n",
      "-------------------- ConversionSyntax\n",
      "-------------------- DivisionImpossible\n",
      "-------------------- DivisionUndefined\n",
      "-------------------- InvalidContext\n",
      "-------- SystemError\n",
      "------------ CodecRegistryError\n",
      "-------- ReferenceError\n",
      "-------- MemoryError\n",
      "-------- BufferError\n",
      "-------- Warning\n",
      "------------ UserWarning\n",
      "---------------- GetPassWarning\n",
      "---------------- FormatterWarning\n",
      "------------ EncodingWarning\n",
      "------------ DeprecationWarning\n",
      "---------------- ProvisionalWarning\n",
      "------------ PendingDeprecationWarning\n",
      "------------ SyntaxWarning\n",
      "------------ RuntimeWarning\n",
      "---------------- ProactorSelectorThreadWarning\n",
      "---------------- UnknownTimezoneWarning\n",
      "---------------- PEP440Warning\n",
      "------------ FutureWarning\n",
      "---------------- ProvisionalCompleterWarning\n",
      "------------ ImportWarning\n",
      "------------ UnicodeWarning\n",
      "------------ BytesWarning\n",
      "------------ ResourceWarning\n",
      "------------ DeprecatedTzFormatWarning\n",
      "------------ PkgResourcesDeprecationWarning\n",
      "-------- _OptionError\n",
      "-------- _Error\n",
      "-------- error\n",
      "-------- Verbose\n",
      "-------- Error\n",
      "-------- SubprocessError\n",
      "------------ CalledProcessError\n",
      "------------ TimeoutExpired\n",
      "-------- TokenError\n",
      "-------- StopTokenizing\n",
      "-------- ClassFoundException\n",
      "-------- EndOfBlock\n",
      "-------- TraitError\n",
      "-------- Error\n",
      "-------- Error\n",
      "------------ CancelledError\n",
      "------------ TimeoutError\n",
      "------------ InvalidStateError\n",
      "-------- _GiveupOnSendfile\n",
      "-------- error\n",
      "-------- Incomplete\n",
      "-------- TimeoutError\n",
      "-------- InvalidStateError\n",
      "-------- LimitOverrunError\n",
      "-------- QueueEmpty\n",
      "-------- QueueFull\n",
      "-------- Empty\n",
      "-------- Full\n",
      "-------- ArgumentError\n",
      "-------- ZMQBaseError\n",
      "------------ ZMQError\n",
      "---------------- ContextTerminated\n",
      "---------------- Again\n",
      "---------------- InterruptedSystemCall\n",
      "------------ ZMQBindError\n",
      "------------ NotDone\n",
      "-------- PickleError\n",
      "------------ PicklingError\n",
      "------------ UnpicklingError\n",
      "-------- _Stop\n",
      "-------- ArgumentError\n",
      "-------- ArgumentTypeError\n",
      "-------- ConfigError\n",
      "------------ ConfigLoaderError\n",
      "---------------- ArgumentError\n",
      "------------ ConfigFileNotFound\n",
      "-------- ConfigurableError\n",
      "------------ MultipleInstanceError\n",
      "-------- ApplicationError\n",
      "-------- error\n",
      "-------- TimeoutError\n",
      "-------- error\n",
      "-------- ReturnValueIgnoredError\n",
      "-------- KeyReuseError\n",
      "-------- UnknownKeyError\n",
      "-------- LeakedCallbackError\n",
      "-------- BadYieldError\n",
      "-------- ReturnValueIgnoredError\n",
      "-------- Return\n",
      "-------- InvalidPortNumber\n",
      "-------- error\n",
      "-------- LZMAError\n",
      "-------- RegistryError\n",
      "-------- _GiveupOnFastCopy\n",
      "-------- Error\n",
      "------------ NoSectionError\n",
      "------------ DuplicateSectionError\n",
      "------------ DuplicateOptionError\n",
      "------------ NoOptionError\n",
      "------------ InterpolationError\n",
      "---------------- InterpolationMissingOptionError\n",
      "---------------- InterpolationSyntaxError\n",
      "---------------- InterpolationDepthError\n",
      "------------ ParsingError\n",
      "---------------- MissingSectionHeaderError\n",
      "-------- NoIPAddresses\n",
      "-------- BadZipFile\n",
      "-------- LargeZipFile\n",
      "-------- BadEntryPoint\n",
      "-------- NoSuchEntryPoint\n",
      "-------- DuplicateKernelError\n",
      "-------- ErrorDuringImport\n",
      "-------- NotOneValueFound\n",
      "-------- CannotEval\n",
      "-------- OptionError\n",
      "-------- BdbQuit\n",
      "-------- Restart\n",
      "-------- ExceptionPexpect\n",
      "------------ EOF\n",
      "------------ TIMEOUT\n",
      "-------- PtyProcessError\n",
      "-------- FindCmdError\n",
      "-------- HomeDirError\n",
      "-------- ProfileDirError\n",
      "-------- IPythonCoreError\n",
      "------------ TryNext\n",
      "------------ UsageError\n",
      "------------ StdinNotImplementedError\n",
      "-------- InputRejected\n",
      "-------- GetoptError\n",
      "-------- ErrorToken\n",
      "-------- PrefilterError\n",
      "-------- AliasError\n",
      "------------ InvalidAliasError\n",
      "-------- Error\n",
      "------------ InterfaceError\n",
      "------------ DatabaseError\n",
      "---------------- InternalError\n",
      "---------------- OperationalError\n",
      "---------------- ProgrammingError\n",
      "---------------- IntegrityError\n",
      "---------------- DataError\n",
      "---------------- NotSupportedError\n",
      "-------- Warning\n",
      "-------- SpaceInInput\n",
      "-------- DOMException\n",
      "------------ IndexSizeErr\n",
      "------------ DomstringSizeErr\n",
      "------------ HierarchyRequestErr\n",
      "------------ WrongDocumentErr\n",
      "------------ InvalidCharacterErr\n",
      "------------ NoDataAllowedErr\n",
      "------------ NoModificationAllowedErr\n",
      "------------ NotFoundErr\n",
      "------------ NotSupportedErr\n",
      "------------ InuseAttributeErr\n",
      "------------ InvalidStateErr\n",
      "------------ SyntaxErr\n",
      "------------ InvalidModificationErr\n",
      "------------ NamespaceErr\n",
      "------------ InvalidAccessErr\n",
      "------------ ValidationErr\n",
      "-------- ValidationError\n",
      "-------- EditReadOnlyBuffer\n",
      "-------- _Retry\n",
      "-------- InvalidLayoutError\n",
      "-------- HeightIsUnknownError\n",
      "-------- ParserSyntaxError\n",
      "-------- InternalParseError\n",
      "-------- _PositionUpdatingFinished\n",
      "-------- SimpleGetItemNotFound\n",
      "-------- UncaughtAttributeError\n",
      "-------- HasNoContext\n",
      "-------- ParamIssue\n",
      "-------- _JediError\n",
      "------------ InternalError\n",
      "------------ WrongVersion\n",
      "------------ RefactoringError\n",
      "-------- OnErrorLeaf\n",
      "-------- InvalidPythonEnvironment\n",
      "-------- MessageError\n",
      "------------ MessageParseError\n",
      "---------------- HeaderParseError\n",
      "---------------- BoundaryError\n",
      "------------ MultipartConversionError\n",
      "------------ CharsetError\n",
      "-------- Error\n",
      "-------- HTTPException\n",
      "------------ NotConnected\n",
      "------------ InvalidURL\n",
      "------------ UnknownProtocol\n",
      "------------ UnknownTransferEncoding\n",
      "------------ UnimplementedFileMode\n",
      "------------ IncompleteRead\n",
      "------------ ImproperConnectionState\n",
      "---------------- CannotSendRequest\n",
      "---------------- CannotSendHeader\n",
      "---------------- ResponseNotReady\n",
      "------------ BadStatusLine\n",
      "---------------- RemoteDisconnected\n",
      "------------ LineTooLong\n",
      "-------- InteractivelyDefined\n",
      "-------- KillEmbedded\n",
      "-------- Error\n",
      "------------ NoSuchProcess\n",
      "---------------- ZombieProcess\n",
      "------------ AccessDenied\n",
      "------------ TimeoutExpired\n",
      "-------- _Ipv6UnsupportedError\n",
      "-------- QueueEmpty\n",
      "-------- QueueFull\n",
      "-------- DebuggerInitializationError\n",
      "-------- ExpatError\n",
      "-------- Error\n",
      "------------ ProtocolError\n",
      "------------ ResponseError\n",
      "------------ Fault\n",
      "-------- ParseBaseException\n",
      "------------ ParseException\n",
      "------------ ParseFatalException\n",
      "---------------- ParseSyntaxException\n",
      "-------- RecursiveGrammarException\n",
      "-------- ResolutionError\n",
      "------------ VersionConflict\n",
      "---------------- ContextualVersionConflict\n",
      "------------ DistributionNotFound\n",
      "------------ UnknownExtra\n",
      "-------- _Error\n",
      "-------- UnableToResolveVariableException\n",
      "-------- InvalidTypeInArgsException\n",
      "---- GeneratorExit\n",
      "---- SystemExit\n",
      "---- KeyboardInterrupt\n",
      "---- CancelledError\n",
      "---- AbortThread\n"
     ]
    }
   ],
   "source": [
    "tree_class(BaseException)"
   ]
  },
  {
   "cell_type": "markdown",
   "id": "c87d2998-900a-4ab1-9837-b192fc8df721",
   "metadata": {},
   "source": [
    "## Q3. What errors are defined in the ArithmeticError class? Explain any two with an example."
   ]
  },
  {
   "cell_type": "code",
   "execution_count": null,
   "id": "0001716b-8b88-402a-a1c7-4b087020960a",
   "metadata": {},
   "outputs": [],
   "source": [
    "The ArithmeticError Exception is the base class for all errors associated with arithmetic operation.\n",
    "While doing arithmatic operations if we gets error then it handled by this exception\n",
    "\n",
    "Mostly 3 general types of this error.\n",
    "\n",
    "ArithmeticError\n",
    "--> ZeroDivisionError\n",
    "--> OverflowError\n",
    "--> FloatingPointError"
   ]
  },
  {
   "cell_type": "code",
   "execution_count": 10,
   "id": "c63c2005-f81f-4abc-9646-267a7ed1332a",
   "metadata": {},
   "outputs": [
    {
     "name": "stdout",
     "output_type": "stream",
     "text": [
      "division by zero\n"
     ]
    }
   ],
   "source": [
    "# 1 . ZeroDivisionError\n",
    "try:\n",
    "    1/0\n",
    "except ZeroDivisionError as e:\n",
    "    print(f\"{e}\")"
   ]
  },
  {
   "cell_type": "code",
   "execution_count": null,
   "id": "037d16d5-3dd0-44a5-bb55-e3d198dc13a6",
   "metadata": {},
   "outputs": [],
   "source": [
    "#2.OverflowError:\n",
    "OverflowError occurs when any operations like arithmetic operations or any other variable storing any \n",
    "value above its limit then there occurs an overflow of values that will exceed it’s specified or already defined limit"
   ]
  },
  {
   "cell_type": "code",
   "execution_count": 13,
   "id": "d83000fe-1fae-4fba-b5ac-8f2145c1fb97",
   "metadata": {},
   "outputs": [
    {
     "name": "stdout",
     "output_type": "stream",
     "text": [
      "(34, 'Numerical result out of range')\n"
     ]
    }
   ],
   "source": [
    " a= 5.0\n",
    "try:\n",
    "    for i in range(1, 10000):\n",
    "        a = a**i\n",
    "except OverflowError as e:\n",
    "    print(f\"{e}\")"
   ]
  },
  {
   "cell_type": "markdown",
   "id": "000d318d-d13b-4614-9ec4-0ad740427304",
   "metadata": {},
   "source": [
    "## Q4. Why LookupError class is used? Explain with an example KeyError and IndexError."
   ]
  },
  {
   "cell_type": "code",
   "execution_count": null,
   "id": "76cb3492-9111-47d8-b15b-2760909e0219",
   "metadata": {},
   "outputs": [],
   "source": [
    "Ans:\n",
    "    LookupError Exception is the Base class for errors raised when something can’t be found. \n",
    "    The base class for the exceptions that are raised when a key or\n",
    "    index used on a mapping or sequence is invalid: IndexError, KeyError."
   ]
  },
  {
   "cell_type": "code",
   "execution_count": 3,
   "id": "8bd1dc1d-f53e-4250-9e91-e2b540f5fdbd",
   "metadata": {},
   "outputs": [
    {
     "name": "stdout",
     "output_type": "stream",
     "text": [
      "list index out of range\n"
     ]
    }
   ],
   "source": [
    "## IndexError example\n",
    "try:\n",
    "    lst=[1,2,3,4,5]\n",
    "    print(lst[5])\n",
    "except IndexError as e:\n",
    "    print(f\"{e}\")"
   ]
  },
  {
   "cell_type": "code",
   "execution_count": 17,
   "id": "c8ba1718-e660-4734-9a9a-dbf20152072a",
   "metadata": {},
   "outputs": [
    {
     "name": "stdout",
     "output_type": "stream",
     "text": [
      " There is no key with this name in dict 'f'\n"
     ]
    }
   ],
   "source": [
    "## KeyError\n",
    "try:\n",
    "    dict = {'a':10,'b':20,'c':30}\n",
    "    print(dict['f'])\n",
    "except KeyError as e:\n",
    "    print(f\" There is no key with this name in dict {e}\")"
   ]
  },
  {
   "cell_type": "markdown",
   "id": "7727395e-51a0-4126-8794-050151ce9741",
   "metadata": {},
   "source": [
    "## Q5. Explain ImportError. What is ModuleNotFoundError?"
   ]
  },
  {
   "cell_type": "code",
   "execution_count": null,
   "id": "40ed4ba0-9b15-4857-a2d1-891e10296ce7",
   "metadata": {},
   "outputs": [],
   "source": [
    "Import Error:\n",
    "    \n",
    "The ImportError is raised when an import statement has trouble successfully importing the specified module.\n",
    "\n",
    "ModuleNotFoundError:\n",
    "\n",
    "we got this type of error due to an invalid or incorrect path, which will raise a ModuleNotFoundError.\n"
   ]
  },
  {
   "cell_type": "code",
   "execution_count": 20,
   "id": "d37aacfe-df9d-46ea-b3f7-13afa162b4db",
   "metadata": {},
   "outputs": [
    {
     "name": "stdout",
     "output_type": "stream",
     "text": [
      "The module named No module named 'X' is not available\n"
     ]
    }
   ],
   "source": [
    "try:\n",
    "    import X\n",
    "    print(x.a)\n",
    "except ModuleNotFoundError as e:\n",
    "    print(f\"The module named {e} is not available\")"
   ]
  },
  {
   "cell_type": "markdown",
   "id": "9687af92-02e5-45c9-81b9-66a97997df8d",
   "metadata": {},
   "source": [
    "## Q6. List down some best practices for exception handling in python."
   ]
  },
  {
   "cell_type": "markdown",
   "id": "82afb187-a990-4389-a7cf-0cfaf7353644",
   "metadata": {},
   "source": [
    "Below are some best practices for exception handling in python:\n",
    "    \n",
    "    1)While handling the exception practice to use  always specific exception name so its will be very much clear while handling it.\n",
    "    2)Use always meaningful and proper message so user can understand his mistake easily and rectify it if message is not user friendly then it would be difficult to correct.\n",
    "    3)Always try to log each and evry error so it will help to build error free program.\n",
    "    4)Always try to log each and every meaning ful and related exception .Dont list down all exceptions which are never going to raise with given program.\n",
    "    5)Prepare proper documentation so anyone can easily understand.\n",
    "    6)Cleanup all resources so your memory will be free for next process and it will overcome the load from ur system and get better performance next time"
   ]
  },
  {
   "cell_type": "code",
   "execution_count": null,
   "id": "08b6dc13-5a00-41ac-a37e-5af5f31215ed",
   "metadata": {},
   "outputs": [],
   "source": []
  },
  {
   "cell_type": "code",
   "execution_count": null,
   "id": "da8dee17-5f4c-4499-bacf-ab4a49195142",
   "metadata": {},
   "outputs": [],
   "source": []
  },
  {
   "cell_type": "code",
   "execution_count": null,
   "id": "705689f8-1b45-45ad-ba57-77f93bbc7635",
   "metadata": {},
   "outputs": [],
   "source": []
  },
  {
   "cell_type": "code",
   "execution_count": null,
   "id": "119bd1e9-5d89-462b-8a9e-36b3203d7eb6",
   "metadata": {},
   "outputs": [],
   "source": []
  },
  {
   "cell_type": "code",
   "execution_count": null,
   "id": "8f2eff58-4e5b-4e95-80d9-3d9c03aa3bf4",
   "metadata": {},
   "outputs": [],
   "source": []
  },
  {
   "cell_type": "code",
   "execution_count": null,
   "id": "09d5c6e0-05bb-4d77-8ae5-4c17a44dcf4c",
   "metadata": {},
   "outputs": [],
   "source": []
  },
  {
   "cell_type": "code",
   "execution_count": null,
   "id": "3c6aac2d-53b2-4eaa-bb93-1258cc3816fe",
   "metadata": {},
   "outputs": [],
   "source": []
  },
  {
   "cell_type": "code",
   "execution_count": null,
   "id": "fbe5b3b6-fe70-4fe4-bbe9-2219ca447833",
   "metadata": {},
   "outputs": [],
   "source": []
  },
  {
   "cell_type": "code",
   "execution_count": null,
   "id": "26c14304-f23d-405e-9d90-06714dc6fefd",
   "metadata": {},
   "outputs": [],
   "source": []
  },
  {
   "cell_type": "code",
   "execution_count": null,
   "id": "6061afa4-eeda-473e-a54a-407411b4f3e4",
   "metadata": {},
   "outputs": [],
   "source": []
  },
  {
   "cell_type": "code",
   "execution_count": null,
   "id": "148e44cb-d7b6-4883-836a-2e4d7645cf7f",
   "metadata": {},
   "outputs": [],
   "source": []
  },
  {
   "cell_type": "code",
   "execution_count": null,
   "id": "e19a3ba9-efb7-4727-b45b-9b9af0e27895",
   "metadata": {},
   "outputs": [],
   "source": []
  }
 ],
 "metadata": {
  "kernelspec": {
   "display_name": "Python 3 (ipykernel)",
   "language": "python",
   "name": "python3"
  },
  "language_info": {
   "codemirror_mode": {
    "name": "ipython",
    "version": 3
   },
   "file_extension": ".py",
   "mimetype": "text/x-python",
   "name": "python",
   "nbconvert_exporter": "python",
   "pygments_lexer": "ipython3",
   "version": "3.10.8"
  }
 },
 "nbformat": 4,
 "nbformat_minor": 5
}
