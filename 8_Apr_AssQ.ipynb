{
 "cells": [
  {
   "cell_type": "markdown",
   "id": "7908b886",
   "metadata": {},
   "source": [
    "### Q1. In order to predict house price based on several characteristics, such as location, square footage,number of bedrooms, etc., you are developing an SVM regression model. Which regression metric in thissituation would be the best to employ?**"
   ]
  },
  {
   "cell_type": "markdown",
   "id": "d4bbeab6",
   "metadata": {},
   "source": [
    "Adjusted R2:\n",
    "\n",
    "        - The main difference between adjusted R-squared and R-square is that R-squared describes the amount of variance of the dependent variable represented by every single independent variable, while adjusted R-squared measures variation explained by only the independent variables that actually affect the dependent variable.\n",
    "        - So The model will be panalised if added unwanter or not useful feature wrt to predict the target features.\n",
    "        And help the model to select only the required features which help to predict the target value."
   ]
  },
  {
   "cell_type": "code",
   "execution_count": null,
   "id": "73b9c289",
   "metadata": {},
   "outputs": [],
   "source": [
    "Dataset Link :https://drive.google.com/file/d/1Z9oLpmt6IDRNw7IeNcHYTGeJRYypRSC0/view "
   ]
  },
  {
   "cell_type": "markdown",
   "id": "ec90aa20",
   "metadata": {},
   "source": [
    "### Q2. You have built an SVM regression model and are trying to decide between using MSE or R-squared as your evaluation metric. Which metric would be more appropriate if your goal is to predict the actual price of a house as accurately as possible?**"
   ]
  },
  {
   "cell_type": "markdown",
   "id": "ce92649a",
   "metadata": {},
   "source": [
    "MSE would be the good choice as It represents the squared distance between actual and predicted values. we perform squared to avoid the cancellation of negative terms and it is the benefit of MSE."
   ]
  },
  {
   "cell_type": "markdown",
   "id": "c6006f5b",
   "metadata": {},
   "source": [
    "### Q3. You have a dataset with a significant number of outliers and are trying to select an appropriate regression metric to use with your SVM model. Which metric would be the most appropriate in this scenario?**"
   ]
  },
  {
   "cell_type": "markdown",
   "id": "4d88a0ff",
   "metadata": {},
   "source": [
    "- Mean absolute error, also known as L1 loss is one of the simplest loss functions and an easy-to-understand evaluation metric.\n",
    "- It is calculated by taking the absolute difference between the predicted values and the actual values and averaging it across the dataset.\n",
    "- Mathematically speaking, it is the arithmetic average of absolute errors\n",
    "- MAE measures only the magnitude of the errors and doesn’t concern itself with their direction. The lower the MAE, the higher the accuracy of a model.\n",
    "\n",
    "**It is useful if the training data has outliers as MAE does not penalize high errors caused by outliers.\n",
    "It provides an even measure of how well the model is performing**"
   ]
  },
  {
   "cell_type": "markdown",
   "id": "c5aa1857",
   "metadata": {},
   "source": [
    "### Q4. You have built an SVM regression model using a polynomial kernel and are trying to select the best metric to evaluate its performance. You have calculated both MSE and RMSE and found that both values are very close. Which metric should you choose to use in this case?**"
   ]
  },
  {
   "cell_type": "markdown",
   "id": "c5ed9cfa",
   "metadata": {},
   "source": [
    "RMSE will be very good as RMSE is clear by the name itself, that it is a simple square root of mean squared error.\n",
    "So when MSE will be very close to RMSE means mole is performing well."
   ]
  },
  {
   "cell_type": "markdown",
   "id": "e44dd5b3",
   "metadata": {},
   "source": [
    "**Q5. You are comparing the performance of different SVM regression models using different kernels (linear,\n",
    "polynomial, and RBF) and are trying to select the best evaluation metric. Which metric would be most\n",
    "appropriate if your goal is to measure how well the model explains the variance in the target variable?**"
   ]
  },
  {
   "cell_type": "markdown",
   "id": "3fa67379",
   "metadata": {},
   "source": [
    "- R² represents the part of varience in y variable by the independent feature.\n",
    "- If the data points are very close to the regression line, then the model accounts for a good amount of variance, thus resulting in a high R² value.\n",
    "\n",
    "1) If R² is high (say 1), then the model represents the variance of the dependent variable.\n",
    "\n",
    "2) If R² is very low, then the model does not represent the variance of the dependent variable and regression is no better than taking the mean value, i.e. you are not using any information from the other variables.\n",
    "\n",
    "3) A Negative R² means you are doing worse than the mean value. It can have a negative value if the predictors do not explain the dependent variables at all such that RSS ~ TSS.\n",
    "\n",
    "- Thus R² evaluates the scattered data points about the regression line.\n",
    "\n",
    "- It is not possible to see a model with an R² of 1. In that case, all predicted values are the same as actual values and this essentially means that all values fall on the regression line."
   ]
  }
 ],
 "metadata": {
  "kernelspec": {
   "display_name": "Python 3 (ipykernel)",
   "language": "python",
   "name": "python3"
  },
  "language_info": {
   "codemirror_mode": {
    "name": "ipython",
    "version": 3
   },
   "file_extension": ".py",
   "mimetype": "text/x-python",
   "name": "python",
   "nbconvert_exporter": "python",
   "pygments_lexer": "ipython3",
   "version": "3.9.13"
  }
 },
 "nbformat": 4,
 "nbformat_minor": 5
}
