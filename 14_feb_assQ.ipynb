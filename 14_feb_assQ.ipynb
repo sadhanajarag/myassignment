{
 "cells": [
  {
   "cell_type": "markdown",
   "id": "6bd5ab56-a8f6-4835-81d2-1e56e4cacdcd",
   "metadata": {},
   "source": [
    "## Q1 .What is multithreading in python? why is it used? Name the module used to handle threads in python"
   ]
  },
  {
   "cell_type": "code",
   "execution_count": null,
   "id": "a43b99db-70c7-46fb-85de-60991f2495eb",
   "metadata": {},
   "outputs": [],
   "source": [
    "\n",
    "In Thread Based Multi Tasking ,A single process created and it creats single thread called main thread.\n",
    "==>The main thread in-turns creates/forks multiple threads depends on programmer code.\n",
    "==>The advantages of thread based multitasking are\n",
    "\t1.executon time is less\n",
    "\t2.efficient utilization of resources.(files,dtabase,memory)\n",
    "\t3.light weight component\n",
    "    4.Threads improve the performance of the processes through parallelism and concurrency.\n",
    "    \n",
    "Def of Thread:A flow of control is called thread.\n",
    "The thread is independant program which runs .\n",
    "\n",
    "Purpose of Thread:\n",
    "\n",
    "==>Each thread is ment for performing the oprtaions\n",
    "==>Threads are performing the operations ,whose logic is return in the form of function/methods simultaneously.\n",
    "\n",
    "To deal with multithreading programming we must import predefined module called \"Threading\"\n",
    "\n",
    "Example:import threading\n",
    "\t\tOR\n",
    "from threading import*"
   ]
  },
  {
   "cell_type": "markdown",
   "id": "9902ab43-f120-4405-baa4-53cd52eb5f46",
   "metadata": {},
   "source": [
    "## Q2 Why threading module used? rite the use of the following functions\n",
    "   1)  activeCount()\n",
    "   2) currentThread ()\n",
    "   3) enumerate()"
   ]
  },
  {
   "cell_type": "code",
   "execution_count": null,
   "id": "0b0c4411-e3d1-43a5-a819-bbc4b86d3946",
   "metadata": {},
   "outputs": [],
   "source": [
    "Ans : In python we have hugh library named 'threading'\n",
    "The threading module exposes all the methods of the thread module and provides some additional methods −\n",
    "\n",
    "threading.activeCount() − Returns the number of thread objects that are active.\n",
    "\n",
    "threading.currentThread() − Returns the number of thread objects in the caller's thread control.\n",
    "\n",
    "threading.enumerate() − Returns a list of all thread objects that are currently active.\n",
    "\n"
   ]
  },
  {
   "cell_type": "markdown",
   "id": "ace38703-0c66-4114-a58a-d4ccbbf08774",
   "metadata": {},
   "source": [
    "## Q3. Explain the following functions\n",
    "1) run () \n",
    "2) start ()\n",
    "3) join ()\n",
    "4) isAlive()"
   ]
  },
  {
   "cell_type": "code",
   "execution_count": null,
   "id": "c591a873-3d81-41f9-ae7b-a8706472e56c",
   "metadata": {},
   "outputs": [],
   "source": [
    "Ans: The threading module has the Thread class that implements threading. \n",
    "The methods provided by the Thread class are as follows −\n",
    "\n",
    "run()  − The run() method is the entry point for a thread.This method must be overridden by the programmer by inheriting from thread class.This method is used for defining logic of python \n",
    "program which is used by thread by child thread\n",
    "\n",
    "start()  − The start() method starts a thread by calling the run method.\n",
    "\n",
    "join([time])  − The join() waits for threads to terminate.This function is used for joining currently executing thread(s).Until current executing threads are joining ,main thread will wait.\n",
    "\n",
    "isAlive()  − The isAlive() method checks whether a thread is still executing.\n"
   ]
  },
  {
   "cell_type": "markdown",
   "id": "e3a36bd1-abfb-4ab0-acb0-fb1e1febb725",
   "metadata": {},
   "source": [
    "## Q4. Write a python program to create two threads. \n",
    "## Thread one must print the list of squares and thread two must print the list of cubes"
   ]
  },
  {
   "cell_type": "code",
   "execution_count": 177,
   "id": "36b4cdec-5381-4c9f-9d05-2bc28aa4a59a",
   "metadata": {},
   "outputs": [],
   "source": [
    "import threading\n",
    "import time"
   ]
  },
  {
   "cell_type": "code",
   "execution_count": 181,
   "id": "1f8e4309-29e6-4f7b-bc83-5189e4c7c224",
   "metadata": {},
   "outputs": [],
   "source": [
    "t1=[threading.Thread(target = cube1 , args = (i,)) for i in [1,2,3,4]]\n",
    "t2=[threading.Thread(target = square1, args = (i,)) for i in [1,2,3,4]]"
   ]
  },
  {
   "cell_type": "code",
   "execution_count": 179,
   "id": "58b53ba5-bcb7-423b-867e-5b4986fe1cbe",
   "metadata": {},
   "outputs": [],
   "source": [
    "L1 = []\n",
    "def cube1(n):\n",
    "    val = n*n*n\n",
    "    L1.append(val)\n",
    "    print(\"The list of cube now is {}\".format(L1))"
   ]
  },
  {
   "cell_type": "code",
   "execution_count": 182,
   "id": "d4c1eb79-e1d5-4cfa-b910-39e7736294b8",
   "metadata": {},
   "outputs": [],
   "source": [
    "L2 = []\n",
    "def square1(n):\n",
    "    val1=n*n\n",
    "    L2.append(val1)\n",
    "    print(\"The list of sqaure now is {}\".format(L2))"
   ]
  },
  {
   "cell_type": "code",
   "execution_count": 183,
   "id": "3df4425d-f7df-4078-bbd8-fead85309534",
   "metadata": {},
   "outputs": [
    {
     "name": "stdout",
     "output_type": "stream",
     "text": [
      "The list of cube now is [1]\n",
      "The list of cube now is [1, 8]\n",
      "The list of cube now is [1, 8, 27]\n",
      "The list of cube now is [1, 8, 27, 64]\n",
      "The list of sqaure now is [1]\n",
      "The list of sqaure now is [1, 4]\n",
      "The list of sqaure now is [1, 4, 9]\n",
      "The list of sqaure now is [1, 4, 9, 16]\n"
     ]
    }
   ],
   "source": [
    "for i in t1:\n",
    "    i.start()\n",
    "    time.sleep(1)\n",
    "for i in t2:\n",
    "    i.start()\n",
    "    time.sleep(1)"
   ]
  },
  {
   "cell_type": "markdown",
   "id": "1566b8dd-eeae-44d9-bc6f-014aa17618d5",
   "metadata": {},
   "source": [
    "## Q5 State advantages and disadvantages of multithreading"
   ]
  },
  {
   "cell_type": "code",
   "execution_count": null,
   "id": "ea0af974-feb5-4a6e-b6f5-bbcc96a9de77",
   "metadata": {},
   "outputs": [],
   "source": [
    "Advantages and Disadvantages of Multithreading in Python\n",
    "\n",
    "The advantages include:\n",
    "    \n",
    "1. Since the threads are independent of each other, the user is not blocked.\n",
    "2. Since the threads do parallel execution, the resources of the device can be used efficiently.\n",
    "3. Enhance the performance of the multi-processor machines.\n",
    "4. Many of the GUIs and CPUs used in the current days include multithreading.\n",
    "\n",
    "The disadvantages are:\n",
    "    \n",
    "1. complexity : The complexity increases with the increase in the number of threads\n",
    "2. synchronization:  It is necessary to maintain synchronization while sharing the resources among multiple threads\n",
    "3. debug :It is difficult to debug the programs with threads as the result is sometimes unpredictable."
   ]
  },
  {
   "cell_type": "markdown",
   "id": "d9373e86-9dcf-4701-962f-6dafa275602e",
   "metadata": {},
   "source": [
    "## Q 6. Explain deadlocks and race conditions."
   ]
  },
  {
   "cell_type": "code",
   "execution_count": null,
   "id": "4b42452f-5012-4dc8-9c05-9dcc53d07e6d",
   "metadata": {},
   "outputs": [],
   "source": [
    "===== What is a race condition:\n",
    "    \n",
    "A race condition occurs when two threads try to access a shared variable simultaneously.\n",
    "\n",
    "The first thread reads the value from the shared variable. The second thread also reads the value from the same shared variable.\n",
    "\n",
    "Then both threads try to change the value of the shared variable. And they race to see which thread writes a value to the variable last.\n",
    "\n",
    "The value from the thread that writes to the shared variable last is preserved because it overwrites the value that the previous thread wrote.\n",
    "\n",
    "==== What is a Deadlock\n",
    "\n",
    "A deadlock is a concurrency failure mode where a thread or threads wait for a condition that never occurs.\n",
    "\n",
    "The result is that the deadlock threads are unable to progress and the program is stuck or frozen and must be terminated forcefully.\n",
    "\n",
    "There are many ways in which you may encounter a deadlock in your concurrent program.\n",
    "\n",
    "Deadlocks are not developed intentionally, instead, they are an unexpected side effect or bug in concurrency programming.\n",
    "\n",
    "Common examples of the cause of threading deadlocks include:\n",
    "\n",
    "1) A thread that waits on itself (e.g. attempts to acquire the same mutex lock twice).\n",
    "2) Threads that wait on each other (e.g. A waits on B, B waits on A).\n",
    "3) Thread that fails to release a resource (e.g. mutex lock, semaphore, barrier, condition, event, etc.).\n",
    "4) Threads that acquire mutex locks in different orders (e.g. fail to perform lock ordering)."
   ]
  }
 ],
 "metadata": {
  "kernelspec": {
   "display_name": "Python 3 (ipykernel)",
   "language": "python",
   "name": "python3"
  },
  "language_info": {
   "codemirror_mode": {
    "name": "ipython",
    "version": 3
   },
   "file_extension": ".py",
   "mimetype": "text/x-python",
   "name": "python",
   "nbconvert_exporter": "python",
   "pygments_lexer": "ipython3",
   "version": "3.10.8"
  }
 },
 "nbformat": 4,
 "nbformat_minor": 5
}
