{
 "cells": [
  {
   "cell_type": "markdown",
   "id": "c5ce4ef6",
   "metadata": {},
   "source": [
    "## Q1. What is Gradient Boosting Regression?"
   ]
  },
  {
   "cell_type": "markdown",
   "id": "d7b80264",
   "metadata": {},
   "source": [
    "- Gradient boosting is a machine learning technique for regression and classification problems that produce a prediction model in the form of an ensemble of weak prediction models.\n",
    "- This technique builds a model in a stage-wise fashion and generalizes the model by allowing optimization of an arbitrary differentiable loss function. \n",
    "- Gradient boosting basically combines weak learners into a single strong learner in an iterative fashion. As each weak learner is added, a new model is fitted to provide a more accurate estimate of the response variable.\n",
    "- The new weak learners are maximally correlated with the negative gradient of the loss function, associated with the whole ensemble. \n",
    "- The idea of gradient boosting is that you can combine a group of relatively weak prediction models to build a stronger prediction model. \n",
    "\n",
    "- Gradient Boosting Regression is an analytical technique that is designed to explore the relationship between two or more variables (X, and Y). Its analytical output identifies important factors ( Xi ) impacting the dependent variable (y) and the nature of the relationship between each of these factors and the dependent variable."
   ]
  },
  {
   "cell_type": "markdown",
   "id": "64ddf3b3",
   "metadata": {},
   "source": [
    "## Q2. Implement a simple gradient boosting algorithm from scratch using Python and NumPy. Use a simple regression problem as an example and train the model on a small dataset. Evaluate the model's performance using metrics such as mean squared error and R-squared."
   ]
  },
  {
   "cell_type": "code",
   "execution_count": 189,
   "id": "2293563c",
   "metadata": {},
   "outputs": [],
   "source": [
    "import pandas as pd\n",
    "import numpy as np\n",
    "import matplotlib.pyplot as plt"
   ]
  },
  {
   "cell_type": "code",
   "execution_count": 190,
   "id": "e3096e37",
   "metadata": {},
   "outputs": [],
   "source": [
    "df = pd.DataFrame({'area' :[1500,2000,1700,2600,3000,3200,3600,4000,3750,2900,4200,4500,6000,6500,5000,1000],'price':[205000,250000,215000,550000,565000,610000,600000,725000,615000,475000,705000,715000,800000,725000,825000,25000] })"
   ]
  },
  {
   "cell_type": "code",
   "execution_count": 191,
   "id": "692de644",
   "metadata": {},
   "outputs": [
    {
     "data": {
      "text/html": [
       "<div>\n",
       "<style scoped>\n",
       "    .dataframe tbody tr th:only-of-type {\n",
       "        vertical-align: middle;\n",
       "    }\n",
       "\n",
       "    .dataframe tbody tr th {\n",
       "        vertical-align: top;\n",
       "    }\n",
       "\n",
       "    .dataframe thead th {\n",
       "        text-align: right;\n",
       "    }\n",
       "</style>\n",
       "<table border=\"1\" class=\"dataframe\">\n",
       "  <thead>\n",
       "    <tr style=\"text-align: right;\">\n",
       "      <th></th>\n",
       "      <th>area</th>\n",
       "      <th>price</th>\n",
       "    </tr>\n",
       "  </thead>\n",
       "  <tbody>\n",
       "    <tr>\n",
       "      <th>0</th>\n",
       "      <td>1500</td>\n",
       "      <td>205000</td>\n",
       "    </tr>\n",
       "    <tr>\n",
       "      <th>1</th>\n",
       "      <td>2000</td>\n",
       "      <td>250000</td>\n",
       "    </tr>\n",
       "    <tr>\n",
       "      <th>2</th>\n",
       "      <td>1700</td>\n",
       "      <td>215000</td>\n",
       "    </tr>\n",
       "    <tr>\n",
       "      <th>3</th>\n",
       "      <td>2600</td>\n",
       "      <td>550000</td>\n",
       "    </tr>\n",
       "    <tr>\n",
       "      <th>4</th>\n",
       "      <td>3000</td>\n",
       "      <td>565000</td>\n",
       "    </tr>\n",
       "    <tr>\n",
       "      <th>5</th>\n",
       "      <td>3200</td>\n",
       "      <td>610000</td>\n",
       "    </tr>\n",
       "    <tr>\n",
       "      <th>6</th>\n",
       "      <td>3600</td>\n",
       "      <td>600000</td>\n",
       "    </tr>\n",
       "    <tr>\n",
       "      <th>7</th>\n",
       "      <td>4000</td>\n",
       "      <td>725000</td>\n",
       "    </tr>\n",
       "    <tr>\n",
       "      <th>8</th>\n",
       "      <td>3750</td>\n",
       "      <td>615000</td>\n",
       "    </tr>\n",
       "    <tr>\n",
       "      <th>9</th>\n",
       "      <td>2900</td>\n",
       "      <td>475000</td>\n",
       "    </tr>\n",
       "    <tr>\n",
       "      <th>10</th>\n",
       "      <td>4200</td>\n",
       "      <td>705000</td>\n",
       "    </tr>\n",
       "    <tr>\n",
       "      <th>11</th>\n",
       "      <td>4500</td>\n",
       "      <td>715000</td>\n",
       "    </tr>\n",
       "    <tr>\n",
       "      <th>12</th>\n",
       "      <td>6000</td>\n",
       "      <td>800000</td>\n",
       "    </tr>\n",
       "    <tr>\n",
       "      <th>13</th>\n",
       "      <td>6500</td>\n",
       "      <td>725000</td>\n",
       "    </tr>\n",
       "    <tr>\n",
       "      <th>14</th>\n",
       "      <td>5000</td>\n",
       "      <td>825000</td>\n",
       "    </tr>\n",
       "    <tr>\n",
       "      <th>15</th>\n",
       "      <td>1000</td>\n",
       "      <td>25000</td>\n",
       "    </tr>\n",
       "  </tbody>\n",
       "</table>\n",
       "</div>"
      ],
      "text/plain": [
       "    area   price\n",
       "0   1500  205000\n",
       "1   2000  250000\n",
       "2   1700  215000\n",
       "3   2600  550000\n",
       "4   3000  565000\n",
       "5   3200  610000\n",
       "6   3600  600000\n",
       "7   4000  725000\n",
       "8   3750  615000\n",
       "9   2900  475000\n",
       "10  4200  705000\n",
       "11  4500  715000\n",
       "12  6000  800000\n",
       "13  6500  725000\n",
       "14  5000  825000\n",
       "15  1000   25000"
      ]
     },
     "execution_count": 191,
     "metadata": {},
     "output_type": "execute_result"
    }
   ],
   "source": [
    "df"
   ]
  },
  {
   "cell_type": "code",
   "execution_count": 192,
   "id": "a0c63cc4",
   "metadata": {},
   "outputs": [
    {
     "data": {
      "image/png": "[encoded data removed]",
      "text/plain": [
       "<Figure size 640x480 with 1 Axes>"
      ]
     },
     "metadata": {},
     "output_type": "display_data"
    }
   ],
   "source": [
    "plt.xlabel('area')\n",
    "plt.ylabel('price')\n",
    "plt.title('homeprice')\n",
    "plt.scatter(df.area,df.price,color = 'red',marker = \"*\")\n",
    "plt.show()"
   ]
  },
  {
   "cell_type": "code",
   "execution_count": 193,
   "id": "2072e696",
   "metadata": {},
   "outputs": [],
   "source": [
    "X=df[[\"area\"]]\n",
    "y=df[\"price\"]"
   ]
  },
  {
   "cell_type": "code",
   "execution_count": 194,
   "id": "9dc119b6",
   "metadata": {},
   "outputs": [],
   "source": [
    "from sklearn.model_selection import train_test_split\n",
    "X_train, X_test, y_train, y_test = train_test_split(X, y, test_size=0.30, random_state=40)"
   ]
  },
  {
   "cell_type": "code",
   "execution_count": 195,
   "id": "345d86e6",
   "metadata": {},
   "outputs": [],
   "source": [
    "from sklearn.preprocessing import StandardScaler"
   ]
  },
  {
   "cell_type": "code",
   "execution_count": 196,
   "id": "ce0ab5d1",
   "metadata": {},
   "outputs": [],
   "source": [
    "scaler=StandardScaler()"
   ]
  },
  {
   "cell_type": "code",
   "execution_count": 197,
   "id": "199b72f3",
   "metadata": {},
   "outputs": [],
   "source": [
    "X_train=scaler.fit_transform(X_train)\n",
    "X_test=scaler.transform(X_test)"
   ]
  },
  {
   "cell_type": "code",
   "execution_count": 198,
   "id": "b65bfde2",
   "metadata": {},
   "outputs": [],
   "source": [
    "from sklearn.ensemble import GradientBoostingRegressor"
   ]
  },
  {
   "cell_type": "code",
   "execution_count": 199,
   "id": "7290bdda",
   "metadata": {},
   "outputs": [],
   "source": [
    "grdreg = GradientBoostingRegressor()"
   ]
  },
  {
   "cell_type": "code",
   "execution_count": 200,
   "id": "1f5a1262",
   "metadata": {},
   "outputs": [
    {
     "data": {
      "text/plain": [
       "GradientBoostingRegressor()"
      ]
     },
     "execution_count": 200,
     "metadata": {},
     "output_type": "execute_result"
    }
   ],
   "source": [
    "grdreg.fit(X_train,y_train)"
   ]
  },
  {
   "cell_type": "code",
   "execution_count": 201,
   "id": "06cc6a64",
   "metadata": {},
   "outputs": [],
   "source": [
    "y_predgrd = grdreg.predict(X_test)"
   ]
  },
  {
   "cell_type": "code",
   "execution_count": 202,
   "id": "a256e64b",
   "metadata": {},
   "outputs": [
    {
     "name": "stdout",
     "output_type": "stream",
     "text": [
      "MSE: 9445603520.264349\n",
      "MAE: 68974.49405827202\n",
      "RMSE: 97188.49479369639\n"
     ]
    }
   ],
   "source": [
    "## Performance Metrics\n",
    "import numpy as np\n",
    "from sklearn.metrics import mean_squared_error\n",
    "from sklearn.metrics import mean_absolute_error\n",
    "print(\"MSE:\",mean_squared_error(y_test,y_predgrd))#MSE\n",
    "print(\"MAE:\",mean_absolute_error(y_test,y_predgrd))#mAE\n",
    "print(\"RMSE:\",np.sqrt(mean_squared_error(y_test,y_predgrd)))#RMSE"
   ]
  },
  {
   "cell_type": "code",
   "execution_count": 203,
   "id": "a1950006",
   "metadata": {},
   "outputs": [
    {
     "name": "stdout",
     "output_type": "stream",
     "text": [
      "R squared : 0.9045860083208983\n"
     ]
    }
   ],
   "source": [
    "## R square and adjusted R square\n",
    "from sklearn.metrics import r2_score\n",
    "score=r2_score(y_test,y_predgrd)\n",
    "print(\"R squared :\",score)"
   ]
  },
  {
   "cell_type": "code",
   "execution_count": 204,
   "id": "c35ede8c",
   "metadata": {},
   "outputs": [
    {
     "name": "stdout",
     "output_type": "stream",
     "text": [
      "Ajusted R2: 0.8727813444278644\n"
     ]
    }
   ],
   "source": [
    "## Adjusted R square\n",
    "#R2 = r2_score(actual, predicted)\n",
    "#Adj_r2 = 1-(1-R2)*(n-1)/(n-p-1)\n",
    "#display adjusted R-squared\n",
    "ajusted_r2 = 1 - (1-score)*(len(y_test)-1)/(len(y_test)-X_test.shape[1]-1)\n",
    "print(\"Ajusted R2:\",ajusted_r2)"
   ]
  },
  {
   "cell_type": "code",
   "execution_count": 205,
   "id": "059183ae",
   "metadata": {},
   "outputs": [
    {
     "name": "stdout",
     "output_type": "stream",
     "text": [
      "[824939.01797591]\n"
     ]
    }
   ],
   "source": [
    "print(grdreg.predict([[3300]]))"
   ]
  },
  {
   "cell_type": "code",
   "execution_count": 206,
   "id": "ec164b85",
   "metadata": {},
   "outputs": [
    {
     "data": {
      "text/plain": [
       "0.9045860083208983"
      ]
     },
     "execution_count": 206,
     "metadata": {},
     "output_type": "execute_result"
    }
   ],
   "source": [
    "grdreg.score(X_test,y_test)"
   ]
  },
  {
   "cell_type": "code",
   "execution_count": 207,
   "id": "1f5f7a5c",
   "metadata": {},
   "outputs": [
    {
     "data": {
      "text/plain": [
       "0.9999997147204288"
      ]
     },
     "execution_count": 207,
     "metadata": {},
     "output_type": "execute_result"
    }
   ],
   "source": [
    "grdreg.score(X_train,y_train)"
   ]
  },
  {
   "cell_type": "markdown",
   "id": "89b82873",
   "metadata": {},
   "source": [
    "## Q3. Experiment with different hyperparameters such as learning rate, number of trees, and tree depth to optimise the performance of the model. Use grid search or random search to find the best hyperparameters"
   ]
  },
  {
   "cell_type": "markdown",
   "id": "6ce9e18a",
   "metadata": {},
   "source": [
    "## Hyperparameter tunning with Grid search CV"
   ]
  },
  {
   "cell_type": "code",
   "execution_count": 208,
   "id": "9ccfbd36",
   "metadata": {},
   "outputs": [],
   "source": [
    "from sklearn.model_selection import GridSearchCV"
   ]
  },
  {
   "cell_type": "code",
   "execution_count": 247,
   "id": "03d6b80d",
   "metadata": {},
   "outputs": [],
   "source": [
    "parameter={\n",
    "    'n_estimators':range(10,100,10),\n",
    "    #'loss':['squared_error','absolute_error'],\n",
    " 'criterion':['friedman_mse','squared_error'],\n",
    "  'max_depth':[1,2],\n",
    "  'max_features':['auto','sqrt','log2'],\n",
    "    'learning_rate' : [0.1,0.5,1,5,5.5],\n",
    "}"
   ]
  },
  {
   "cell_type": "code",
   "execution_count": 248,
   "id": "69cdfc41",
   "metadata": {},
   "outputs": [],
   "source": [
    "clf=GridSearchCV(grdreg,param_grid=parameter,cv=5,scoring='r2')"
   ]
  },
  {
   "cell_type": "code",
   "execution_count": 260,
   "id": "5621f59b",
   "metadata": {},
   "outputs": [
    {
     "data": {
      "text/plain": [
       "GridSearchCV(cv=5, estimator=GradientBoostingRegressor(),\n",
       "             param_grid={'criterion': ['friedman_mse'], 'learning_rate': [0.1],\n",
       "                         'max_depth': [1], 'max_features': ['auto'],\n",
       "                         'n_estimators': [40]},\n",
       "             scoring='r2')"
      ]
     },
     "execution_count": 260,
     "metadata": {},
     "output_type": "execute_result"
    }
   ],
   "source": [
    "clf.fit(X_train,y_train)"
   ]
  },
  {
   "cell_type": "code",
   "execution_count": 261,
   "id": "e44a7dd3",
   "metadata": {},
   "outputs": [
    {
     "data": {
      "text/plain": [
       "{'criterion': 'friedman_mse',\n",
       " 'learning_rate': 0.1,\n",
       " 'max_depth': 1,\n",
       " 'max_features': 'auto',\n",
       " 'n_estimators': 40}"
      ]
     },
     "execution_count": 261,
     "metadata": {},
     "output_type": "execute_result"
    }
   ],
   "source": [
    "clf.best_params_"
   ]
  },
  {
   "cell_type": "code",
   "execution_count": 262,
   "id": "9d386af1",
   "metadata": {},
   "outputs": [],
   "source": [
    "y_predgrd = clf.predict(X_test)"
   ]
  },
  {
   "cell_type": "code",
   "execution_count": 263,
   "id": "2421d10f",
   "metadata": {},
   "outputs": [
    {
     "name": "stdout",
     "output_type": "stream",
     "text": [
      "MSE: 12034089262.838911\n",
      "MAE: 72393.84596549527\n",
      "RMSE: 109699.99664010438\n"
     ]
    }
   ],
   "source": [
    "## Performance Metrics\n",
    "import numpy as np\n",
    "from sklearn.metrics import mean_squared_error\n",
    "from sklearn.metrics import mean_absolute_error\n",
    "print(\"MSE:\",mean_squared_error(y_test,y_predgrd))#MSE\n",
    "print(\"MAE:\",mean_absolute_error(y_test,y_predgrd))#mAE\n",
    "print(\"RMSE:\",np.sqrt(mean_squared_error(y_test,y_predgrd)))#RMSE"
   ]
  },
  {
   "cell_type": "code",
   "execution_count": 264,
   "id": "da33d816",
   "metadata": {},
   "outputs": [
    {
     "name": "stdout",
     "output_type": "stream",
     "text": [
      "Ajusted R2: 0.8727813444278644\n"
     ]
    }
   ],
   "source": [
    "## Adjusted R square\n",
    "#R2 = r2_score(actual, predicted)\n",
    "#Adj_r2 = 1-(1-R2)*(n-1)/(n-p-1)\n",
    "#display adjusted R-squared\n",
    "ajusted_r2 = 1 - (1-score)*(len(y_test)-1)/(len(y_test)-X_test.shape[1]-1)\n",
    "print(\"Ajusted R2:\",ajusted_r2)"
   ]
  },
  {
   "cell_type": "code",
   "execution_count": 265,
   "id": "5d882f04",
   "metadata": {},
   "outputs": [
    {
     "name": "stdout",
     "output_type": "stream",
     "text": [
      "[784272.6379345]\n"
     ]
    }
   ],
   "source": [
    "print(clf.predict([[3300]]))"
   ]
  },
  {
   "cell_type": "code",
   "execution_count": 266,
   "id": "4090254f",
   "metadata": {},
   "outputs": [
    {
     "data": {
      "text/plain": [
       "0.9803447339732111"
      ]
     },
     "execution_count": 266,
     "metadata": {},
     "output_type": "execute_result"
    }
   ],
   "source": [
    "clf.score(X_train,y_train)"
   ]
  },
  {
   "cell_type": "code",
   "execution_count": 267,
   "id": "47cf8420",
   "metadata": {},
   "outputs": [
    {
     "data": {
      "text/plain": [
       "0.8784386312291516"
      ]
     },
     "execution_count": 267,
     "metadata": {},
     "output_type": "execute_result"
    }
   ],
   "source": [
    "clf.score(X_test,y_test)"
   ]
  },
  {
   "cell_type": "markdown",
   "id": "55f83b2f",
   "metadata": {},
   "source": [
    "## Q4. What is a weak learner in Gradient Boosting?"
   ]
  },
  {
   "cell_type": "markdown",
   "id": "864368ea",
   "metadata": {},
   "source": [
    "- The weak learners here are the individual decision trees. \n",
    "- All the trees are connected in series and each tree tries to minimize the error of the previous tree. Due to this sequential connection, boosting algorithms are usually slow to learn (controllable by the developer using the learning rate parameter), but also highly accurate."
   ]
  },
  {
   "cell_type": "markdown",
   "id": "05fd7383",
   "metadata": {},
   "source": [
    "## Q7. What are the steps involved in constructing the mathematical intuition of Gradient Boosting algorithm?"
   ]
  },
  {
   "cell_type": "markdown",
   "id": "62b2a5fe",
   "metadata": {},
   "source": [
    "- Gradient Boosting is an supervised machine learning algorithm used for classification and regression problems. It is an ensemble technique which uses multiple weak learners to produce a strong model for regression and classification.\n",
    "\n",
    "**Intuition:**\n",
    "\n",
    "Gradient Boosting relies on the intuition that the best possible next model , when combined with the previous models, minimizes the overall prediction errors. The key idea is to set the target outcomes from the previous models to the next model in order to minimize the errors.\n"
   ]
  },
  {
   "cell_type": "code",
   "execution_count": 269,
   "id": "1c32fc0f",
   "metadata": {},
   "outputs": [
    {
     "data": {
      "image/png": "[encoded data removed]",
      "text/plain": [
       "<IPython.core.display.Image object>"
      ]
     },
     "execution_count": 269,
     "metadata": {},
     "output_type": "execute_result"
    }
   ],
   "source": [
    "from IPython.display import Image\n",
    "Image(filename='gradient.png') "
   ]
  },
  {
   "cell_type": "markdown",
   "id": "cb67b617",
   "metadata": {},
   "source": [
    "Input requirement for Gradient Boosting:\n",
    "\n",
    "- A Loss Function to optimize.\n",
    "- A weak learner to make prediction(Generally Decision tree).\n",
    "- An additive model to add weak learners to minimize the loss function."
   ]
  },
  {
   "cell_type": "markdown",
   "id": "55dbb4ab",
   "metadata": {},
   "source": [
    "**1. Loss Function :**\n",
    "\n",
    "The loss function basically tells how my algorithm, models the data set.In simple terms it is difference between actual values and predicted values.\n",
    "\n",
    "A) Regression Loss functions:\n",
    "\n",
    "- L1 loss or Mean Absolute Errors (MAE)\n",
    "- L2 Loss or Mean Square Error(MSE)\n",
    "- Quadratic Loss\n",
    "\n",
    "B) Binary Classification Loss Functions:\n",
    "\n",
    "- Binary Cross Entropy Loss\n",
    "- Hinge Loss\n",
    "\n",
    "A gradient descent procedure is used to minimize the loss when adding trees."
   ]
  },
  {
   "cell_type": "markdown",
   "id": "d3dbdd6a",
   "metadata": {},
   "source": [
    "**2. Weak Learner:**\n",
    "\n",
    "- Weak learners are the models which is used sequentially to reduce the error generated from the previous models and to return a strong model on the end.\n",
    "\n",
    "- Decision trees are used as weak learner in gradient boosting algorithm."
   ]
  },
  {
   "cell_type": "markdown",
   "id": "4795158a",
   "metadata": {},
   "source": [
    "**3. Additive Model:**\n",
    "\n",
    "- In gradient boosting, decision trees are added one at a time (in sequence), and existing trees in the model are not changed."
   ]
  },
  {
   "cell_type": "markdown",
   "id": "38848ff8",
   "metadata": {},
   "source": [
    "##### Understanding Gradient Boosting Step by Step :\n",
    "    \n",
    "This is our data set.\n",
    "Here Age, Sft., Location is independent variables and Price is dependent variable or Target variable."
   ]
  },
  {
   "cell_type": "code",
   "execution_count": 305,
   "id": "89a4f2a1",
   "metadata": {},
   "outputs": [],
   "source": [
    "from IPython.display import Image\n",
    "Image(url='https://miro.medium.com/v2/resize:fit:640/format:webp/1*ULI9uquBUWfbJ20SNrU3dA.png')\n",
    "df = pd.DataFrame({\"Age\":[5,11,14,8,12,10],\"Sft\":[1500,2030,1442,2501,1300,1789],\"Locatio\":[5,12,6,4,9,11],\"Price\":[480,1090,350,1310,400,500]})"
   ]
  },
  {
   "cell_type": "code",
   "execution_count": 274,
   "id": "30cf7a61",
   "metadata": {},
   "outputs": [
    {
     "data": {
      "text/html": [
       "<div>\n",
       "<style scoped>\n",
       "    .dataframe tbody tr th:only-of-type {\n",
       "        vertical-align: middle;\n",
       "    }\n",
       "\n",
       "    .dataframe tbody tr th {\n",
       "        vertical-align: top;\n",
       "    }\n",
       "\n",
       "    .dataframe thead th {\n",
       "        text-align: right;\n",
       "    }\n",
       "</style>\n",
       "<table border=\"1\" class=\"dataframe\">\n",
       "  <thead>\n",
       "    <tr style=\"text-align: right;\">\n",
       "      <th></th>\n",
       "      <th>Age</th>\n",
       "      <th>Sft</th>\n",
       "      <th>Locatio</th>\n",
       "      <th>Price</th>\n",
       "    </tr>\n",
       "  </thead>\n",
       "  <tbody>\n",
       "    <tr>\n",
       "      <th>0</th>\n",
       "      <td>5</td>\n",
       "      <td>1500</td>\n",
       "      <td>5</td>\n",
       "      <td>480</td>\n",
       "    </tr>\n",
       "    <tr>\n",
       "      <th>1</th>\n",
       "      <td>11</td>\n",
       "      <td>2030</td>\n",
       "      <td>12</td>\n",
       "      <td>1090</td>\n",
       "    </tr>\n",
       "    <tr>\n",
       "      <th>2</th>\n",
       "      <td>14</td>\n",
       "      <td>1442</td>\n",
       "      <td>6</td>\n",
       "      <td>350</td>\n",
       "    </tr>\n",
       "    <tr>\n",
       "      <th>3</th>\n",
       "      <td>8</td>\n",
       "      <td>2501</td>\n",
       "      <td>4</td>\n",
       "      <td>1310</td>\n",
       "    </tr>\n",
       "    <tr>\n",
       "      <th>4</th>\n",
       "      <td>12</td>\n",
       "      <td>1300</td>\n",
       "      <td>9</td>\n",
       "      <td>400</td>\n",
       "    </tr>\n",
       "    <tr>\n",
       "      <th>5</th>\n",
       "      <td>10</td>\n",
       "      <td>1789</td>\n",
       "      <td>11</td>\n",
       "      <td>500</td>\n",
       "    </tr>\n",
       "  </tbody>\n",
       "</table>\n",
       "</div>"
      ],
      "text/plain": [
       "   Age   Sft  Locatio  Price\n",
       "0    5  1500        5    480\n",
       "1   11  2030       12   1090\n",
       "2   14  1442        6    350\n",
       "3    8  2501        4   1310\n",
       "4   12  1300        9    400\n",
       "5   10  1789       11    500"
      ]
     },
     "execution_count": 274,
     "metadata": {},
     "output_type": "execute_result"
    }
   ],
   "source": [
    "df"
   ]
  },
  {
   "cell_type": "markdown",
   "id": "f52e3415",
   "metadata": {},
   "source": [
    "**Step 1:**\n",
    "    \n",
    "    Calculate the average/mean of the target variable."
   ]
  },
  {
   "cell_type": "code",
   "execution_count": 275,
   "id": "e968d11c",
   "metadata": {},
   "outputs": [
    {
     "data": {
      "text/plain": [
       "688.3333333333334"
      ]
     },
     "execution_count": 275,
     "metadata": {},
     "output_type": "execute_result"
    }
   ],
   "source": [
    "import numpy as np\n",
    "np.mean(df[\"Price\"])"
   ]
  },
  {
   "cell_type": "code",
   "execution_count": 276,
   "id": "eff222d2",
   "metadata": {},
   "outputs": [],
   "source": [
    "df[\"Avg_price\"]=688"
   ]
  },
  {
   "cell_type": "code",
   "execution_count": 277,
   "id": "66a195e2",
   "metadata": {},
   "outputs": [
    {
     "data": {
      "text/html": [
       "<div>\n",
       "<style scoped>\n",
       "    .dataframe tbody tr th:only-of-type {\n",
       "        vertical-align: middle;\n",
       "    }\n",
       "\n",
       "    .dataframe tbody tr th {\n",
       "        vertical-align: top;\n",
       "    }\n",
       "\n",
       "    .dataframe thead th {\n",
       "        text-align: right;\n",
       "    }\n",
       "</style>\n",
       "<table border=\"1\" class=\"dataframe\">\n",
       "  <thead>\n",
       "    <tr style=\"text-align: right;\">\n",
       "      <th></th>\n",
       "      <th>Age</th>\n",
       "      <th>Sft</th>\n",
       "      <th>Locatio</th>\n",
       "      <th>Price</th>\n",
       "      <th>Avg_price</th>\n",
       "    </tr>\n",
       "  </thead>\n",
       "  <tbody>\n",
       "    <tr>\n",
       "      <th>0</th>\n",
       "      <td>5</td>\n",
       "      <td>1500</td>\n",
       "      <td>5</td>\n",
       "      <td>480</td>\n",
       "      <td>688</td>\n",
       "    </tr>\n",
       "    <tr>\n",
       "      <th>1</th>\n",
       "      <td>11</td>\n",
       "      <td>2030</td>\n",
       "      <td>12</td>\n",
       "      <td>1090</td>\n",
       "      <td>688</td>\n",
       "    </tr>\n",
       "    <tr>\n",
       "      <th>2</th>\n",
       "      <td>14</td>\n",
       "      <td>1442</td>\n",
       "      <td>6</td>\n",
       "      <td>350</td>\n",
       "      <td>688</td>\n",
       "    </tr>\n",
       "    <tr>\n",
       "      <th>3</th>\n",
       "      <td>8</td>\n",
       "      <td>2501</td>\n",
       "      <td>4</td>\n",
       "      <td>1310</td>\n",
       "      <td>688</td>\n",
       "    </tr>\n",
       "    <tr>\n",
       "      <th>4</th>\n",
       "      <td>12</td>\n",
       "      <td>1300</td>\n",
       "      <td>9</td>\n",
       "      <td>400</td>\n",
       "      <td>688</td>\n",
       "    </tr>\n",
       "    <tr>\n",
       "      <th>5</th>\n",
       "      <td>10</td>\n",
       "      <td>1789</td>\n",
       "      <td>11</td>\n",
       "      <td>500</td>\n",
       "      <td>688</td>\n",
       "    </tr>\n",
       "  </tbody>\n",
       "</table>\n",
       "</div>"
      ],
      "text/plain": [
       "   Age   Sft  Locatio  Price  Avg_price\n",
       "0    5  1500        5    480        688\n",
       "1   11  2030       12   1090        688\n",
       "2   14  1442        6    350        688\n",
       "3    8  2501        4   1310        688\n",
       "4   12  1300        9    400        688\n",
       "5   10  1789       11    500        688"
      ]
     },
     "execution_count": 277,
     "metadata": {},
     "output_type": "execute_result"
    }
   ],
   "source": [
    "df"
   ]
  },
  {
   "cell_type": "markdown",
   "id": "3155d217",
   "metadata": {},
   "source": [
    "**Step 2:**\n",
    "    \n",
    "    Calculate the residuals for each sample."
   ]
  },
  {
   "cell_type": "markdown",
   "id": "d7b2ffdb",
   "metadata": {},
   "source": [
    "Residual = Actual-Predicted_Value"
   ]
  },
  {
   "cell_type": "markdown",
   "id": "0943ab20",
   "metadata": {},
   "source": [
    "**Step 3:**\n",
    "    \n",
    "    Construct a decision tree. We build a tree with the goal of predicting the Residuals."
   ]
  },
  {
   "cell_type": "code",
   "execution_count": 283,
   "id": "625ac1a0",
   "metadata": {},
   "outputs": [
    {
     "data": {
      "text/html": [
       "<img src=\"https://miro.medium.com/v2/resize:fit:1400/format:webp/1*rRh2UY-HoGJeFfQ5RNVz2Q.png\"/>"
      ],
      "text/plain": [
       "<IPython.core.display.Image object>"
      ]
     },
     "execution_count": 283,
     "metadata": {},
     "output_type": "execute_result"
    }
   ],
   "source": [
    "Image(url='https://miro.medium.com/v2/resize:fit:1400/format:webp/1*rRh2UY-HoGJeFfQ5RNVz2Q.png')"
   ]
  },
  {
   "cell_type": "markdown",
   "id": "8c27abb8",
   "metadata": {},
   "source": [
    "In the event if there are more residuals then leaf nodes(here its 6 residuals),some residuals will end up inside the same leaf. When this happens, we compute their average and place that inside the leaf."
   ]
  },
  {
   "cell_type": "markdown",
   "id": "05b5a321",
   "metadata": {},
   "source": [
    "-388+(-288)/2 =-388   402+622/2=512"
   ]
  },
  {
   "cell_type": "markdown",
   "id": "581c43d4",
   "metadata": {},
   "source": [
    "- After this tree become like this."
   ]
  },
  {
   "cell_type": "code",
   "execution_count": 284,
   "id": "1948ee18",
   "metadata": {},
   "outputs": [
    {
     "data": {
      "text/html": [
       "<img src=\"https://miro.medium.com/v2/resize:fit:828/format:webp/1*VsALULZw3gEnpp4VATfPbA.png\"/>"
      ],
      "text/plain": [
       "<IPython.core.display.Image object>"
      ]
     },
     "execution_count": 284,
     "metadata": {},
     "output_type": "execute_result"
    }
   ],
   "source": [
    "Image(url='https://miro.medium.com/v2/resize:fit:828/format:webp/1*VsALULZw3gEnpp4VATfPbA.png')"
   ]
  },
  {
   "cell_type": "markdown",
   "id": "fe188d7b",
   "metadata": {},
   "source": [
    "**Step 4:**\n",
    "        \n",
    "        Predict the target label using all the trees within the ensemble."
   ]
  },
  {
   "cell_type": "markdown",
   "id": "ed304e7e",
   "metadata": {},
   "source": [
    "Each sample passes through the decision nodes of the newly formed tree until it reaches a given lead. The residual in the said leaf is used to predict the house price."
   ]
  },
  {
   "cell_type": "code",
   "execution_count": null,
   "id": "7d0a2b22",
   "metadata": {},
   "outputs": [],
   "source": [
    "Output = base model(avg price in this case)+Learning rate * Residual predicted by decision tree"
   ]
  },
  {
   "cell_type": "code",
   "execution_count": null,
   "id": "d612b681",
   "metadata": {},
   "outputs": [],
   "source": [
    "=688(0.1)*(-338)"
   ]
  },
  {
   "cell_type": "code",
   "execution_count": null,
   "id": "2acd8028",
   "metadata": {},
   "outputs": [],
   "source": [
    "=654.2"
   ]
  },
  {
   "cell_type": "code",
   "execution_count": null,
   "id": "db07d293",
   "metadata": {},
   "outputs": [],
   "source": [
    "=667.2(output)\n",
    "#Calculation above for Residual value (-338) and (-208) in Step 2"
   ]
  },
  {
   "cell_type": "markdown",
   "id": "ed19647e",
   "metadata": {},
   "source": [
    "Same way we will calculate the Predicted Price for other values"
   ]
  },
  {
   "cell_type": "markdown",
   "id": "98232cc9",
   "metadata": {},
   "source": [
    "Note: We have initially taken 0.1 as learning rate."
   ]
  },
  {
   "cell_type": "markdown",
   "id": "a3abe7f1",
   "metadata": {},
   "source": [
    "**Step 5 :**\n",
    "        \n",
    "        Compute the new residuals"
   ]
  },
  {
   "cell_type": "code",
   "execution_count": null,
   "id": "54987c63",
   "metadata": {},
   "outputs": [],
   "source": [
    "Residual = Actual- predicted\n",
    "Residual = 350-654.2=-304.2\n",
    "        = 480-667.2=-187.2\n",
    "#When Price is 350 and 480 Respectively."
   ]
  },
  {
   "cell_type": "markdown",
   "id": "89d58581",
   "metadata": {},
   "source": [
    "With our Single leaf with average value(688) we have the below column of Residual."
   ]
  },
  {
   "cell_type": "code",
   "execution_count": 285,
   "id": "5fab91ee",
   "metadata": {},
   "outputs": [
    {
     "data": {
      "text/html": [
       "<div>\n",
       "<style scoped>\n",
       "    .dataframe tbody tr th:only-of-type {\n",
       "        vertical-align: middle;\n",
       "    }\n",
       "\n",
       "    .dataframe tbody tr th {\n",
       "        vertical-align: top;\n",
       "    }\n",
       "\n",
       "    .dataframe thead th {\n",
       "        text-align: right;\n",
       "    }\n",
       "</style>\n",
       "<table border=\"1\" class=\"dataframe\">\n",
       "  <thead>\n",
       "    <tr style=\"text-align: right;\">\n",
       "      <th></th>\n",
       "      <th>Age</th>\n",
       "      <th>Sft</th>\n",
       "      <th>Locatio</th>\n",
       "      <th>Price</th>\n",
       "      <th>Avg_price</th>\n",
       "    </tr>\n",
       "  </thead>\n",
       "  <tbody>\n",
       "    <tr>\n",
       "      <th>0</th>\n",
       "      <td>5</td>\n",
       "      <td>1500</td>\n",
       "      <td>5</td>\n",
       "      <td>480</td>\n",
       "      <td>688</td>\n",
       "    </tr>\n",
       "    <tr>\n",
       "      <th>1</th>\n",
       "      <td>11</td>\n",
       "      <td>2030</td>\n",
       "      <td>12</td>\n",
       "      <td>1090</td>\n",
       "      <td>688</td>\n",
       "    </tr>\n",
       "  </tbody>\n",
       "</table>\n",
       "</div>"
      ],
      "text/plain": [
       "   Age   Sft  Locatio  Price  Avg_price\n",
       "0    5  1500        5    480        688\n",
       "1   11  2030       12   1090        688"
      ]
     },
     "execution_count": 285,
     "metadata": {},
     "output_type": "execute_result"
    }
   ],
   "source": [
    "df.head(2)"
   ]
  },
  {
   "cell_type": "code",
   "execution_count": 286,
   "id": "3c3e7d60",
   "metadata": {},
   "outputs": [],
   "source": [
    "df[\"Residual1\"] = df['Price']-df[\"Avg_price\"]"
   ]
  },
  {
   "cell_type": "code",
   "execution_count": 287,
   "id": "380838ce",
   "metadata": {},
   "outputs": [
    {
     "data": {
      "text/html": [
       "<div>\n",
       "<style scoped>\n",
       "    .dataframe tbody tr th:only-of-type {\n",
       "        vertical-align: middle;\n",
       "    }\n",
       "\n",
       "    .dataframe tbody tr th {\n",
       "        vertical-align: top;\n",
       "    }\n",
       "\n",
       "    .dataframe thead th {\n",
       "        text-align: right;\n",
       "    }\n",
       "</style>\n",
       "<table border=\"1\" class=\"dataframe\">\n",
       "  <thead>\n",
       "    <tr style=\"text-align: right;\">\n",
       "      <th></th>\n",
       "      <th>Age</th>\n",
       "      <th>Sft</th>\n",
       "      <th>Locatio</th>\n",
       "      <th>Price</th>\n",
       "      <th>Avg_price</th>\n",
       "      <th>Residual1</th>\n",
       "    </tr>\n",
       "  </thead>\n",
       "  <tbody>\n",
       "    <tr>\n",
       "      <th>0</th>\n",
       "      <td>5</td>\n",
       "      <td>1500</td>\n",
       "      <td>5</td>\n",
       "      <td>480</td>\n",
       "      <td>688</td>\n",
       "      <td>-208</td>\n",
       "    </tr>\n",
       "    <tr>\n",
       "      <th>1</th>\n",
       "      <td>11</td>\n",
       "      <td>2030</td>\n",
       "      <td>12</td>\n",
       "      <td>1090</td>\n",
       "      <td>688</td>\n",
       "      <td>402</td>\n",
       "    </tr>\n",
       "    <tr>\n",
       "      <th>2</th>\n",
       "      <td>14</td>\n",
       "      <td>1442</td>\n",
       "      <td>6</td>\n",
       "      <td>350</td>\n",
       "      <td>688</td>\n",
       "      <td>-338</td>\n",
       "    </tr>\n",
       "    <tr>\n",
       "      <th>3</th>\n",
       "      <td>8</td>\n",
       "      <td>2501</td>\n",
       "      <td>4</td>\n",
       "      <td>1310</td>\n",
       "      <td>688</td>\n",
       "      <td>622</td>\n",
       "    </tr>\n",
       "    <tr>\n",
       "      <th>4</th>\n",
       "      <td>12</td>\n",
       "      <td>1300</td>\n",
       "      <td>9</td>\n",
       "      <td>400</td>\n",
       "      <td>688</td>\n",
       "      <td>-288</td>\n",
       "    </tr>\n",
       "    <tr>\n",
       "      <th>5</th>\n",
       "      <td>10</td>\n",
       "      <td>1789</td>\n",
       "      <td>11</td>\n",
       "      <td>500</td>\n",
       "      <td>688</td>\n",
       "      <td>-188</td>\n",
       "    </tr>\n",
       "  </tbody>\n",
       "</table>\n",
       "</div>"
      ],
      "text/plain": [
       "   Age   Sft  Locatio  Price  Avg_price  Residual1\n",
       "0    5  1500        5    480        688       -208\n",
       "1   11  2030       12   1090        688        402\n",
       "2   14  1442        6    350        688       -338\n",
       "3    8  2501        4   1310        688        622\n",
       "4   12  1300        9    400        688       -288\n",
       "5   10  1789       11    500        688       -188"
      ]
     },
     "execution_count": 287,
     "metadata": {},
     "output_type": "execute_result"
    }
   ],
   "source": [
    "df"
   ]
  },
  {
   "cell_type": "markdown",
   "id": "f902635a",
   "metadata": {},
   "source": [
    "With our decision tree ,we ended up the below new residuals."
   ]
  },
  {
   "cell_type": "code",
   "execution_count": 298,
   "id": "27aeace3",
   "metadata": {},
   "outputs": [],
   "source": [
    "df['Output_by_DT1'] = df[\"Avg_price\"]+(0.1*df['Residual1'])"
   ]
  },
  {
   "cell_type": "code",
   "execution_count": 299,
   "id": "296efbdb",
   "metadata": {},
   "outputs": [
    {
     "data": {
      "text/html": [
       "<div>\n",
       "<style scoped>\n",
       "    .dataframe tbody tr th:only-of-type {\n",
       "        vertical-align: middle;\n",
       "    }\n",
       "\n",
       "    .dataframe tbody tr th {\n",
       "        vertical-align: top;\n",
       "    }\n",
       "\n",
       "    .dataframe thead th {\n",
       "        text-align: right;\n",
       "    }\n",
       "</style>\n",
       "<table border=\"1\" class=\"dataframe\">\n",
       "  <thead>\n",
       "    <tr style=\"text-align: right;\">\n",
       "      <th></th>\n",
       "      <th>Age</th>\n",
       "      <th>Sft</th>\n",
       "      <th>Locatio</th>\n",
       "      <th>Price</th>\n",
       "      <th>Avg_price</th>\n",
       "      <th>Residual1</th>\n",
       "      <th>Residual2</th>\n",
       "      <th>Output_by_DT1</th>\n",
       "    </tr>\n",
       "  </thead>\n",
       "  <tbody>\n",
       "    <tr>\n",
       "      <th>0</th>\n",
       "      <td>5</td>\n",
       "      <td>1500</td>\n",
       "      <td>5</td>\n",
       "      <td>480</td>\n",
       "      <td>688</td>\n",
       "      <td>-208</td>\n",
       "      <td>-187.2</td>\n",
       "      <td>667.2</td>\n",
       "    </tr>\n",
       "    <tr>\n",
       "      <th>1</th>\n",
       "      <td>11</td>\n",
       "      <td>2030</td>\n",
       "      <td>12</td>\n",
       "      <td>1090</td>\n",
       "      <td>688</td>\n",
       "      <td>402</td>\n",
       "      <td>361.8</td>\n",
       "      <td>728.2</td>\n",
       "    </tr>\n",
       "    <tr>\n",
       "      <th>2</th>\n",
       "      <td>14</td>\n",
       "      <td>1442</td>\n",
       "      <td>6</td>\n",
       "      <td>350</td>\n",
       "      <td>688</td>\n",
       "      <td>-338</td>\n",
       "      <td>-304.2</td>\n",
       "      <td>654.2</td>\n",
       "    </tr>\n",
       "    <tr>\n",
       "      <th>3</th>\n",
       "      <td>8</td>\n",
       "      <td>2501</td>\n",
       "      <td>4</td>\n",
       "      <td>1310</td>\n",
       "      <td>688</td>\n",
       "      <td>622</td>\n",
       "      <td>559.8</td>\n",
       "      <td>750.2</td>\n",
       "    </tr>\n",
       "    <tr>\n",
       "      <th>4</th>\n",
       "      <td>12</td>\n",
       "      <td>1300</td>\n",
       "      <td>9</td>\n",
       "      <td>400</td>\n",
       "      <td>688</td>\n",
       "      <td>-288</td>\n",
       "      <td>-259.2</td>\n",
       "      <td>659.2</td>\n",
       "    </tr>\n",
       "    <tr>\n",
       "      <th>5</th>\n",
       "      <td>10</td>\n",
       "      <td>1789</td>\n",
       "      <td>11</td>\n",
       "      <td>500</td>\n",
       "      <td>688</td>\n",
       "      <td>-188</td>\n",
       "      <td>-169.2</td>\n",
       "      <td>669.2</td>\n",
       "    </tr>\n",
       "  </tbody>\n",
       "</table>\n",
       "</div>"
      ],
      "text/plain": [
       "   Age   Sft  Locatio  Price  Avg_price  Residual1  Residual2  Output_by_DT1\n",
       "0    5  1500        5    480        688       -208     -187.2          667.2\n",
       "1   11  2030       12   1090        688        402      361.8          728.2\n",
       "2   14  1442        6    350        688       -338     -304.2          654.2\n",
       "3    8  2501        4   1310        688        622      559.8          750.2\n",
       "4   12  1300        9    400        688       -288     -259.2          659.2\n",
       "5   10  1789       11    500        688       -188     -169.2          669.2"
      ]
     },
     "execution_count": 299,
     "metadata": {},
     "output_type": "execute_result"
    }
   ],
   "source": [
    "df"
   ]
  },
  {
   "cell_type": "code",
   "execution_count": 293,
   "id": "20024ac3",
   "metadata": {},
   "outputs": [],
   "source": [
    "df['Residual2']=df['Price']-df['Output_by_DT1']"
   ]
  },
  {
   "cell_type": "code",
   "execution_count": 300,
   "id": "ee3d3666",
   "metadata": {},
   "outputs": [
    {
     "data": {
      "text/html": [
       "<div>\n",
       "<style scoped>\n",
       "    .dataframe tbody tr th:only-of-type {\n",
       "        vertical-align: middle;\n",
       "    }\n",
       "\n",
       "    .dataframe tbody tr th {\n",
       "        vertical-align: top;\n",
       "    }\n",
       "\n",
       "    .dataframe thead th {\n",
       "        text-align: right;\n",
       "    }\n",
       "</style>\n",
       "<table border=\"1\" class=\"dataframe\">\n",
       "  <thead>\n",
       "    <tr style=\"text-align: right;\">\n",
       "      <th></th>\n",
       "      <th>Age</th>\n",
       "      <th>Sft</th>\n",
       "      <th>Locatio</th>\n",
       "      <th>Price</th>\n",
       "      <th>Avg_price</th>\n",
       "      <th>Residual1</th>\n",
       "      <th>Residual2</th>\n",
       "      <th>Output_by_DT1</th>\n",
       "    </tr>\n",
       "  </thead>\n",
       "  <tbody>\n",
       "    <tr>\n",
       "      <th>0</th>\n",
       "      <td>5</td>\n",
       "      <td>1500</td>\n",
       "      <td>5</td>\n",
       "      <td>480</td>\n",
       "      <td>688</td>\n",
       "      <td>-208</td>\n",
       "      <td>-187.2</td>\n",
       "      <td>667.2</td>\n",
       "    </tr>\n",
       "    <tr>\n",
       "      <th>1</th>\n",
       "      <td>11</td>\n",
       "      <td>2030</td>\n",
       "      <td>12</td>\n",
       "      <td>1090</td>\n",
       "      <td>688</td>\n",
       "      <td>402</td>\n",
       "      <td>361.8</td>\n",
       "      <td>728.2</td>\n",
       "    </tr>\n",
       "    <tr>\n",
       "      <th>2</th>\n",
       "      <td>14</td>\n",
       "      <td>1442</td>\n",
       "      <td>6</td>\n",
       "      <td>350</td>\n",
       "      <td>688</td>\n",
       "      <td>-338</td>\n",
       "      <td>-304.2</td>\n",
       "      <td>654.2</td>\n",
       "    </tr>\n",
       "    <tr>\n",
       "      <th>3</th>\n",
       "      <td>8</td>\n",
       "      <td>2501</td>\n",
       "      <td>4</td>\n",
       "      <td>1310</td>\n",
       "      <td>688</td>\n",
       "      <td>622</td>\n",
       "      <td>559.8</td>\n",
       "      <td>750.2</td>\n",
       "    </tr>\n",
       "    <tr>\n",
       "      <th>4</th>\n",
       "      <td>12</td>\n",
       "      <td>1300</td>\n",
       "      <td>9</td>\n",
       "      <td>400</td>\n",
       "      <td>688</td>\n",
       "      <td>-288</td>\n",
       "      <td>-259.2</td>\n",
       "      <td>659.2</td>\n",
       "    </tr>\n",
       "    <tr>\n",
       "      <th>5</th>\n",
       "      <td>10</td>\n",
       "      <td>1789</td>\n",
       "      <td>11</td>\n",
       "      <td>500</td>\n",
       "      <td>688</td>\n",
       "      <td>-188</td>\n",
       "      <td>-169.2</td>\n",
       "      <td>669.2</td>\n",
       "    </tr>\n",
       "  </tbody>\n",
       "</table>\n",
       "</div>"
      ],
      "text/plain": [
       "   Age   Sft  Locatio  Price  Avg_price  Residual1  Residual2  Output_by_DT1\n",
       "0    5  1500        5    480        688       -208     -187.2          667.2\n",
       "1   11  2030       12   1090        688        402      361.8          728.2\n",
       "2   14  1442        6    350        688       -338     -304.2          654.2\n",
       "3    8  2501        4   1310        688        622      559.8          750.2\n",
       "4   12  1300        9    400        688       -288     -259.2          659.2\n",
       "5   10  1789       11    500        688       -188     -169.2          669.2"
      ]
     },
     "execution_count": 300,
     "metadata": {},
     "output_type": "execute_result"
    }
   ],
   "source": [
    "df"
   ]
  },
  {
   "cell_type": "markdown",
   "id": "d50e1c68",
   "metadata": {},
   "source": [
    "**Step 6:** \n",
    "    \n",
    "    Repeat steps 3 to 5 until the number of iterations matches the number specified by the hyper parameter(numbers of estimators)"
   ]
  },
  {
   "cell_type": "markdown",
   "id": "1715a4bd",
   "metadata": {},
   "source": [
    "**Step 7:**\n",
    "    \n",
    "    Once trained, use all of the trees in the ensemble to make a final prediction as to value of the target variable. The final prediction will be equal to the mean we computed in Step 1 plus all the residuals predicted by the trees that make up the forest multiplied by the learning rate."
   ]
  },
  {
   "cell_type": "code",
   "execution_count": null,
   "id": "e3f3533c",
   "metadata": {},
   "outputs": [],
   "source": []
  },
  {
   "cell_type": "markdown",
   "id": "d4db153d",
   "metadata": {},
   "source": [
    "Here,\n",
    "\n",
    "LR : Learning Rate\n",
    "\n",
    "DT: Decision Tree"
   ]
  },
  {
   "cell_type": "code",
   "execution_count": 304,
   "id": "7aece7cf",
   "metadata": {},
   "outputs": [
    {
     "data": {
      "text/html": [
       "<img src=\"https://miro.medium.com/v2/resize:fit:1400/format:webp/1*hOOvQbw9Jd_4yTc44wuPoA.png\"/>"
      ],
      "text/plain": [
       "<IPython.core.display.Image object>"
      ]
     },
     "execution_count": 304,
     "metadata": {},
     "output_type": "execute_result"
    }
   ],
   "source": [
    "Image(url= \"https://miro.medium.com/v2/resize:fit:1400/format:webp/1*hOOvQbw9Jd_4yTc44wuPoA.png\")"
   ]
  },
  {
   "cell_type": "markdown",
   "id": "a26d0213",
   "metadata": {},
   "source": [
    "## Q6. How does Gradient Boosting algorithm build an ensemble of weak learners?"
   ]
  },
  {
   "cell_type": "markdown",
   "id": "0e64ab28",
   "metadata": {},
   "source": [
    "- In Gradient Boosting we are building different decision tree step by step by correcting the error of previous predicted tree.\n",
    "  so at the end we can overcome all the misclassification and get the tree which gives us better result.\n",
    "\n",
    "- The weak learners here are the individual decision trees. All the trees are connected in series and each tree tries to minimize the error of the previous tree. Due to this sequential connection, boosting algorithms are usually slow to learn (controllable by the developer using the learning rate parameter), but also highly accurate.\n",
    "\n",
    "- In statistical learning, models that learn slowly perform better. The weak learners are fit in such a way that each new learner fits into the residuals of the previous step so as the model improves. The final model adds up the result of each step and thus a stronger learner is eventually achieved."
   ]
  },
  {
   "cell_type": "markdown",
   "id": "4856bdc7",
   "metadata": {},
   "source": [
    "## Q5. What is the intuition behind the Gradient Boosting algorithm?"
   ]
  },
  {
   "cell_type": "markdown",
   "id": "7711a706",
   "metadata": {},
   "source": [
    "- Gradient boosting is a machine learning technique for regression and classification problems, which produces a model in the form of an ensemble of weak prediction models, **typically decision trees.**\n",
    "\n",
    "- It builds the model in a stage-wise fashion like other boosting methods do, and it generalizes them by allowing optimization of an **arbitrary differentiable loss function.**\n",
    "\n",
    "\n",
    "- Gradient boosting involves three main steps. \n",
    "\n",
    "\n",
    "- 1. The first step that is required is that a **loss function be optimized**. The loss function must be diﬀerentiable. A loss function measures how well a machine learning model fits the data of a certain phenomenon. Different loss function may be used depending on the type of problem. Different loss function can be used on speech or image recognition, predicting the price of real estate, and describing user behavior on a web site. The loss function depends on the type of problem. For example, regression may use a squared error and classiﬁcation may use logarithmic loss.\n",
    "\n",
    "- 2. The second step is the use of a weak learner. In gradient boosters, the weak learner is a decision tree. Speciﬁcally regression trees are used that output real values for splits and whose output can be added together, allowing subsequent models outputs to be added to correct the residuals in the predictions of the previous iteration. \n",
    "    The algorithms for classification problems and for regression problems use a different algorithm, however, they both use the same approach for splitting the data into groups. \n",
    "    That approach is regression decision trees. Even classification problems use regression decision trees. In regression decision trees, the final answer is a range of real numbers, this makes it’s relatively simple to split the data based on the remaining error at each step. Steps are taken to ensure the weak learner remain weak yet is still constructed in a greedy fashion. It is common to constrain the weak learners in sundry ways. Often, weak learners can be constrained using a maximum number of layers, nodes, splits or leaf nodes.\n",
    "\n",
    "- 3. The third step is combing many weak learners in an additive fashion. Decision trees are added one at a time. A gradient descent procedure is used to minimize the loss when adding trees. That’s the gradient part of gradient boosters. Gradient descent optimization in the machine learning world is typically used to find the parameters associated with a single model that optimizes some loss function. In contrast, gradient boosters are meta-models consisting of multiple weak models whose output is added together to get an overall prediction. The gradient descent optimization occurs on the output of the model and not the parameters of the weak models.\n",
    "\n",
    "- Let’s look at this process pictorially. Below we can see that gradient boosting adds sub-models incrementally to minimize a loss function. Earlier we said that gradient boosting involved three main steps. In our example below the weak learner being used is a decision tree. Secondly, the trees are added sequentially. Lastly, the error of the model is being reduced."
   ]
  },
  {
   "cell_type": "code",
   "execution_count": 306,
   "id": "c599336b",
   "metadata": {},
   "outputs": [
    {
     "data": {
      "image/jpeg": "[encoded data removed]",
      "text/plain": [
       "<IPython.core.display.Image object>"
      ]
     },
     "execution_count": 306,
     "metadata": {},
     "output_type": "execute_result"
    }
   ],
   "source": [
    "Image(\"gradient_intution.jpg\")"
   ]
  },
  {
   "cell_type": "code",
   "execution_count": null,
   "id": "a002dfb9",
   "metadata": {},
   "outputs": [],
   "source": []
  }
 ],
 "metadata": {
  "kernelspec": {
   "display_name": "Python 3 (ipykernel)",
   "language": "python",
   "name": "python3"
  },
  "language_info": {
   "codemirror_mode": {
    "name": "ipython",
    "version": 3
   },
   "file_extension": ".py",
   "mimetype": "text/x-python",
   "name": "python",
   "nbconvert_exporter": "python",
   "pygments_lexer": "ipython3",
   "version": "3.9.13"
  }
 },
 "nbformat": 4,
 "nbformat_minor": 5
}
