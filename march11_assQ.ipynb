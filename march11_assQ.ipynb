{
 "cells": [
  {
   "cell_type": "markdown",
   "id": "b8177944-9fdc-4cfe-a795-77d430a83a2b",
   "metadata": {},
   "source": [
    "## Q1: What is the difference between a t-test and a z-test? Provide an example scenario where you would use each type of test."
   ]
  },
  {
   "cell_type": "markdown",
   "id": "f5e9bd3b-dd0f-409a-a81c-f212037e2dfd",
   "metadata": {},
   "source": [
    "BASIS FOR COMPARISON\t                 T-TEST\t                                    Z-TEST\n",
    "\n",
    "\n",
    "Meaning            \t     T-test refers to a type of parametric             Z-test implies a hypothesis test which\n",
    "                          test that is applied to identify, how              ascertains if the means of two\n",
    "                         the means of two sets of data differ               datasets are different from each other\n",
    "                         from one another when variance is not given.       when variance is given.\n",
    "                     \n",
    "                   \n",
    "Based on   : :           Student-t distribution                            Normal distribution\\\n",
    "\n",
    "Population variance  ::    Unknown                                              Known\n",
    "\n",
    "Sample  Size        ::          small                                             large\n",
    "                                                                       \n",
    "                                                                       \n",
    "formula ::            xbar-μ/s/root(n)                                              xbar-u/(σ/root(n))\n",
    "\n",
    "\n",
    "x ̅is the sample mean\n",
    "s is sample standard deviation\n",
    "n is sample size\n",
    "μ is the population mean\n",
    "σ is population standard deviation"
   ]
  },
  {
   "cell_type": "markdown",
   "id": "f42c2be1-ef9f-4f58-8edf-d7728f880601",
   "metadata": {},
   "source": [
    "Scenario where we can use t test and z test:\n",
    "    \n",
    "1) If the population standard deviation is known and the sample size is greater than 30, Z-test is recommended to be used.\n",
    "   e.g Suppose we take a random sample of n = 50 batteries and find that the sample mean is x = 21 hours. Perform a hypothesis test to determine if the true mean lifespan of all batteries manufactured by this company is equal to 20 hours.\n",
    "    \n",
    "2) If the population standard deviation is known, and the size of the sample is less than or equal to 30, T-test is recommended\n",
    "\n",
    "   e.g Suppose a delivery company claims they deliver their packages in 2 days on average, and mean of sample is 2.3  The hypotheses are to test this claim, you take a random sample of 10 packages and record their delivery times. You find the sample mean is 2.3 and the sample standard deviation is 0.35 days. (Because the population standard deviation,\n",
    "\n",
    "3) If the population standard deviation is unknown, T-test is recommended.\n",
    "\n",
    "   e.g Suppose we take a random sample of n = 20 burgers and find that the sample mean weight is x = 0.22 pounds with a standard deviation of s = 0.05 pounds. Perform a hypothesis test to determine if the true mean weight of all burgers produced by this restaurant is equal to 0.25 pounds."
   ]
  },
  {
   "cell_type": "markdown",
   "id": "0f6f1a4f-3b8a-4b65-8cb9-35f3569ff5dd",
   "metadata": {},
   "source": [
    "## Q2: Differentiate between one-tailed and two-tailed tests."
   ]
  },
  {
   "cell_type": "markdown",
   "id": "67b3cb57-81f4-4077-8e6a-27c2b9d68fc9",
   "metadata": {},
   "source": [
    "1) One-Tailed Test : A test of any statistical hypothesis, where the alternative hypothesis is one-tailed either right-                       tailed or left-tailed.\n",
    "1) Two-Tailed Test : A test of a statistical hypothesis, where the alternative hypothesis is two-tailed.\n",
    "    \n",
    "2) One-Tailed Test : For one-tailed, we use either > or < sign for the alternative hypothesis.\n",
    "2) Two-Tailed Test : For two-tailed, we use ≠ sign for the alternative hypothesis.\n",
    "    \n",
    "3) One-Tailed Test : When the alternative hypothesis specifies a direction then we use a one-tailed test.\n",
    "3) Two-Tailed Test : If no direction is given then we will use a two-tailed test.\n",
    "    \n",
    "4) One-Tailed Test : Critical region lies entirely on either the right side or left side of the sampling distribution. \n",
    "4) Two-Tailed Test : Critical region is given by the portion of the area lying in both the tails of the probability                         curve of the test statistic.\n",
    "    \n",
    "5) One-Tailed Test : Here, the Entire level of significance (α) i.e. 5% has either in the left tail or right tail.\n",
    "5) Two-Tailed Test : It splits the level of significance (α) into half.\n",
    "    \n",
    "6) One-Tailed Test : Rejection region is either from the left side or right side of the sampling distribution.\n",
    "6) Two-Tailed Test : Rejection region is from both sides i.e. left and right of the sampling distribution\n",
    "    \n",
    "7) One-Tailed Test : It checks the relation between the variable in a singles direction. \n",
    "7) Two-Tailed Test : It checks the relation between the variables in any direction.\n",
    "\n",
    "    \n",
    "8) One-Tailed Test : It checks the relation between the variables in any direction.\n",
    "8) Two-Tailed Test : It is used to check whether the two mean different from one another or not."
   ]
  },
  {
   "cell_type": "markdown",
   "id": "1489d697-b500-4fb1-a65b-d15696608094",
   "metadata": {},
   "source": [
    "## Q3: Explain the concept of Type 1 and Type 2 errors in hypothesis testing. Provide an example scenario for each type of error."
   ]
  },
  {
   "cell_type": "markdown",
   "id": "37fe0e7a-737c-40c2-b905-836c4b56c8b8",
   "metadata": {},
   "source": [
    "Type I Errors:\n",
    "\n",
    "    When conducting hypothesis tests, there is always a chance of rejecting a null hypothesis when it shouldn’t have been rejected.Type I error or False Positive.\n",
    "    in short null hypothesis is true but declare as false\n",
    "\n",
    "    \n",
    "Type I error: Frank thinks that his rock climbing equipment may not be safe when, in fact, it really is safe.\n",
    "    \n",
    "Type II Errors:\n",
    "\n",
    "    A Type II error occurs when a Data Scientist fails to reject a null hypothesis that should’ve been rejected. These errors are also referred to as False Negatives.\n",
    "    in short null hypothesis is false but declre as true.\n",
    "\n",
    "\n",
    "\n",
    "Type II error: Frank thinks that his rock climbing equipment may be safe when, in fact, it is not safe."
   ]
  },
  {
   "cell_type": "markdown",
   "id": "d6753b3f-31da-45e3-9874-6e0c00ede827",
   "metadata": {},
   "source": [
    "## Q4: Explain Bayes's theorem with an example."
   ]
  },
  {
   "cell_type": "markdown",
   "id": "86623835-4f59-4e1c-9809-590bee0a7683",
   "metadata": {},
   "source": [
    "What is Bayes Theorem?\n",
    "\n",
    "It is used to calculate the conditional probability.\n",
    "Conditional probability is the likelihood of an outcome occurring, based on a previous outcome having occurred in similar circumstances. Bayes' theorem provides a way to revise existing predictions or theories (update probabilities) given new or additional evidence.\n",
    "\n",
    " :\n",
    "\n",
    "If A and B are two events, then the conditional probability me be designated as P(A given B) or P(A|B). \n",
    "\n",
    "Conditional probability can be calculated from the joint probability(A | B) = P(A, B) / P(B)\n",
    "\n",
    "The conditional probability is not symmetrical; For example P(A | B) != P(B | A)\n",
    "\n",
    "conditional probability calculated as\n",
    "\n",
    "P(A|B) = P(B|A) * P(A) / P(B)\n",
    "\n",
    "P(B|A) = P(A|B) * P(B) / P(A)\n",
    "\n",
    "Bays Theorem:\n",
    "\n",
    "    We can say P(A and B) = P(B and A)\n",
    "    \n",
    "here we can say above equation as \n",
    "\n",
    "        p(A)*P(B/A) = P(B) * P(A/B)\n",
    "        \n",
    "        P(B/A)=P(B)*P(A/B)/P(A)\n",
    "        \n",
    "    \n",
    "    That is the bays Theorem.\n",
    "\n",
    "in Other words\n",
    "        \n",
    "        P(A/B)=P(B)*P(B/A)/P(A)\n",
    "\n",
    "A,B = Are the events \n",
    "P(A/B)= Probability os A given B as true means probalility of A when B event already occured\n",
    "P(B/A)= Probability os B given A as true means probalility of B when A event already occured\n",
    "P(A) and P(B) = These are the independent probability.\n",
    "\n",
    "example :\n",
    "\n",
    "Dangerous fires are rare (1%)\n",
    "But smoke is fairly common (10%) due to barbecues,\n",
    "And 90% of dangerous fires make smoke\n",
    "What is the probability of dangerous Fire when there is Smoke?\n",
    "\n",
    "Calculation\n",
    "\n",
    "P(Fire|Smoke) =P(Fire) P(Smoke|Fire)/P(Smoke)\n",
    "\n",
    "= 1% x 90%/10% \n",
    "\n",
    "= 9% probability of dangerous Fire when there is Smoke\n",
    "\n"
   ]
  },
  {
   "cell_type": "markdown",
   "id": "3f4bf516-8bb0-43c3-8f73-8d8c8bffc541",
   "metadata": {},
   "source": [
    "# Q5: What is a confidence interval? How to calculate the confidence interval, explain with an example."
   ]
  },
  {
   "cell_type": "markdown",
   "id": "4a3c75e4-f5b2-4012-8ebd-05da9436386c",
   "metadata": {},
   "source": [
    "Def :\n",
    "\n",
    "The confidence interval is a statistical measurement that gives you a range of numbers in which the standard mean should appear.\n",
    "The confidence interval is how much certainty you have about a sample set of data falling within a range of values.\n",
    "\n",
    "These values support the confidence level and represent the probability of a bigger population meeting the same outcomes as your statistical findings for the sample. \n",
    "\n",
    "To calculate the confidence interval, use the following formula:\n",
    "\n",
    "Confidence interval (CI) = ‾X ± Z(S ÷ √n)\n",
    "\n",
    "In the formula,\n",
    "‾X represents the sample mean, \n",
    "Z represents the Z-value you get from the normal standard distribution,\n",
    "S is the population standard deviation and\n",
    "n represents the sample size you're surveying.\n",
    "\n",
    "e.g \n",
    "In the survey of Americans’  television watching habits, \n",
    " the sample mean is 35, sample standard deviation is 5 and , and sample size is 100 \n",
    "calculate the population mean with  the 95% confidence interval \n",
    "\n",
    "95% of CI means alpha is 0.05 so both side are is 0.025 \n",
    "so Critical value of 1-0.025=0.9750  is ±1.96\n",
    "\n",
    "\n",
    "CI= ‾X ± Z(S ÷ √n)\n",
    "\n",
    "CI = 35±1.96(5/√100)\n",
    "\n",
    "CI= 35±1.96*0.5\n",
    "\n",
    "CI=35 ± 0.98\n",
    "\n",
    "CI =34.02 and 35.98\n",
    "\n"
   ]
  },
  {
   "cell_type": "markdown",
   "id": "c39c6d51-8c4c-4df2-87d4-edfd528672bb",
   "metadata": {},
   "source": [
    "## Q6. Use Bayes' Theorem to calculate the probability of an event occurring given prior knowledge of the event's probability and new evidence. Provide a sample problem and solution."
   ]
  },
  {
   "cell_type": "markdown",
   "id": "3bef0786-e97d-4869-8b0c-063d7a1783ce",
   "metadata": {},
   "source": [
    "A prior probability:\n",
    "    is an initial probability value originally obtained before any additional information is obtained.\n",
    "    \n",
    "    \n",
    "A posterior probability:\n",
    "    is a probability value that has been revised by using additional information that is later obtained"
   ]
  },
  {
   "cell_type": "markdown",
   "id": "17b52b72-b17f-4060-980e-e65bd26e046d",
   "metadata": {},
   "source": [
    "In this we use for revising a probability value based on additional information that is later obtained. One key to understanding the essence of Bayes' theorem is to recognize that we are dealing with sequential events, whereby new\n",
    "additional information is obtained for a subsequent event, and that new information is\n",
    "used to revise the probability of the initial event. In this context, the terms prior\n",
    "probability and posterior probability are commonly used."
   ]
  },
  {
   "cell_type": "markdown",
   "id": "8af2a32a-9e19-4d72-a0e1-a7ff22f7fdd3",
   "metadata": {},
   "source": [
    "Example:\n",
    "    The Gallup organization randomly selects an adult American for a survey about credit\n",
    "card usage. Use subjective probabilities to estimate the following.\n",
    "\n",
    "a. What is the probability that the selected subject is a male?\n",
    "\n",
    "b. After selecting a subject, it is later learned that this person was smoking a cigar\n",
    "during the interview. \n",
    "\n",
    "What is the probability that the selected subject is a male?\n",
    "\n",
    "c. Which of the preceding two results is a prior probability? Which is a posterior\n",
    "probability\n",
    "\n",
    "\n",
    "Solution:\n",
    "\n",
    "a. Roughly half of all Americans are males, so we estimate the probability of\n",
    "selecting a male subject to be 0.5. Denoting a male by M, we can express this\n",
    "probability as follows: P(M) = 0.5.\n",
    "\n",
    "b. Although some women smoke cigars, the vast majority of cigar smokers are\n",
    "males. A reasonable guess is that 85% of cigar smokers are males. Based on this\n",
    "additional subsequent information that the survey respondent was smoking a\n",
    "cigar, we estimate the probability of this person being a male as 0.85. Denoting a\n",
    "male by M and denoting a cigar smoker by C, we can express this result as\n",
    "follows: P(M | C) = 0.85.\n",
    "\n",
    "c. In part (a), the value of 0.5 is the initial probability, so we refer to it as the prior\n",
    "probability. Because the probability of 0.85 in part (b) is a revised probability \n",
    "based on the additional information that the survey subject was smoking a cigar,\n",
    "this value of 0.85 is referred to a posterior probability.\n",
    "\n",
    "Bayes' Theorem:\n",
    "\n",
    "The probability of event A, given that event B has subsequently occurred, is\n",
    "\n",
    "P(A|B)=P(A).P(B|A)/[P(A).P(B|A)] + [P(Abar).P(B|Abar)]\n",
    "\n",
    "Example:\n",
    "\n",
    "In Orange County, 51% of the adults are males. (It doesn't take too much advanced\n",
    "mathematics to deduce that the other 49% are females.) One adult is randomly selected\n",
    "for a survey involving credit card usage\n",
    "\n",
    "a. Find the prior probability that the selected person is a male.\n",
    "\n",
    "b. It is later learned that the selected survey subject was smoking a cigar. Also, 9.5%\n",
    "of males smoke cigars, whereas 1.7% of females smoke cigars (based on data\n",
    "from the Substance Abuse and Mental Health Services Administration). Use this\n",
    "additional information to find the probability that the selected subject is a male.\n",
    "\n",
    "Solution\n",
    "\n",
    "Let's use the following notation:\n",
    "M = male\n",
    "Mbar = female (or not male)\n",
    "C = cigar smoker\n",
    "Cbar = not a cigar smoker\n",
    "\n",
    "P(M) = 0.51  Defined in earlier part of question\n",
    "\n",
    "P(M) = 0.49 (1-0.51)\n",
    "\n",
    "P(C|M) = 0.095  (in part b the population of smoking cigar which having 0.095 male)\n",
    "\n",
    "P(C|Mbar) = 0.017  (in part b the population of smoking cigar which having 0.017 female)\n",
    "\n",
    "    \n",
    "\n",
    "                    P(M | C)=P(M).P(C|M)/[P(M).P(C|M)] + P(Mbar).P(C|Mbar)\n",
    "                            =0.51*0.095/[0.51*0.095]+[0.49*0.017]\n",
    "                            = 0.85329341\n"
   ]
  },
  {
   "cell_type": "markdown",
   "id": "c54131b4-77bf-4b07-a725-5000978e42c8",
   "metadata": {},
   "source": [
    "## Q7. Calculate the 95% confidence interval for a sample of data with a mean of 50 and a standard deviation of 5. Interpret the results."
   ]
  },
  {
   "cell_type": "code",
   "execution_count": null,
   "id": "545eada0-25d2-42ff-badd-34d072db929a",
   "metadata": {},
   "outputs": [],
   "source": [
    "u = 50\n",
    "std_dev = 5\n",
    "alpha = 0.05\n",
    "CI=95"
   ]
  },
  {
   "cell_type": "code",
   "execution_count": null,
   "id": "95d20f9c-8285-4c3c-9cd0-e384e83c91c4",
   "metadata": {},
   "outputs": [],
   "source": [
    "#calculate the decision boundry\n",
    "--> Here data is normally distributed and having 95% orf confidence interval so 0.025 area under the curve which is the rejection\n",
    "are of both side of graph.\n",
    "---> so if we want the  get critical value  under the curve ( 1-0.025) = 0.9750==>from the z table =1.96\n",
    "---> We have rejection area both side of graph so +-1.96 is the critical value.\n",
    "-->population mean = Xbar+-z_score*s/root(n)\n",
    "\n",
    "--->Inference is 95% data is in range u+-2*5=50+-10=40 to 60\n",
    "--->95% data in range of 40 to 60 in range\n",
    "\n",
    "\n"
   ]
  },
  {
   "cell_type": "markdown",
   "id": "806d6661-3d7d-489a-ae71-ced8481fcca6",
   "metadata": {},
   "source": [
    "## Q8. What is the margin of error in a confidence interval? How does sample size affect the margin of error? Provide an example of a scenario where a larger sample size would result in a smaller margin of error."
   ]
  },
  {
   "cell_type": "markdown",
   "id": "ef18225b-1286-4bd4-9fce-2ba6be8ea8a6",
   "metadata": {},
   "source": [
    "In statistics, margin of error is used to assess how precise some estimate is of a population proportion or a population mean.\n",
    "\n",
    "Example 1: Interpret Margin of Error for Population Proportion\n",
    "\n",
    "The portion of the equation that comes after the +/- sign represents the margin of error:\n",
    "\n",
    "Margin of Error = z*(√p(1-p) / n)\n",
    "\n",
    "p: sample proportion\n",
    "z: the chosen z-value\n",
    "n: sample size\n",
    "\n",
    "Example 2: Interpret Margin of Error for Population Mean\n",
    "\n",
    "We use the following formula to calculate a confidence interval for a population mean:\n",
    "\n",
    "Confidence Interval = x  +/-  z*(s/√n)\n",
    "\n",
    "Margin of Error = z*(s/√n)\n",
    "\n",
    "where:\n",
    "\n",
    "x: sample mean\n",
    "z: the z-critical value\n",
    "s: sample standard deviation\n",
    "n: sample size\n",
    "\n",
    "Sample size n = 40\n",
    "Sample mean weight x = 300\n",
    "Sample standard deviation s = 18.5\n",
    "\n",
    "Using the formula above, we calculate the margin of error to be:\n",
    "\n",
    "Margin of Error = z*(s/√n)\n",
    "Margin of Error = 1.96*(18.5/√40)\n",
    "Margin of Error = 5.733\n",
    "\n",
    "We can then calculate the 95% confidence interval to be:\n",
    "\n",
    "Confidence Interval = x  +/-  z*(s/√n)\n",
    "Confidence Interval = 300 +/- 5.733\n",
    "Confidence Interval =[294.267, 305.733]\n",
    "\n",
    "Effect of sample size :\n",
    "\n",
    "The relationship between margin of error and sample size is simple: As the sample size increases, the margin of error decreases."
   ]
  },
  {
   "cell_type": "markdown",
   "id": "a0ce005c-e2c5-4f1d-8e53-bef0378e65b6",
   "metadata": {},
   "source": [
    "Example :\n",
    "    \n",
    "x̄: 15\n",
    "s: 4\n",
    "n: 25\n",
    "Here’s how to calculate a 95% confidence interval for the population mean:\n",
    "\n",
    "Confidence Interval = x̄  ± z*(s/√n)\n",
    "Confidence Interval = 15 ±  1.96*(4/√25)\n",
    "Confidence Interval = 15 ± 1.568\n",
    "Confidence Interval = [13.432, 16.568]\n",
    "\n",
    "now if n= 64\n",
    "\n",
    "Confidence Interval = x̄  ± z*(s/√n)\n",
    "Confidence Interval = 15 ±  1.96*(4/√64)\n",
    "Confidence Interval = 15 ± (1.96*0.5)\n",
    "Confidence Interval = 15 ± 0.98\n",
    "Confidence Interval = [14.02, 15.98]\n",
    "\n",
    "Here is we increase the size of sample from 25 to 64 margin of error reduces from 1.568 to 0.98\n"
   ]
  },
  {
   "cell_type": "markdown",
   "id": "4479ac8d-b0b2-4865-88c3-84552ea632b1",
   "metadata": {},
   "source": [
    "## Q9. Calculate the z-score for a data point with a value of 75, a population mean of 70, and a population standard deviation of 5. Interpret the results."
   ]
  },
  {
   "cell_type": "code",
   "execution_count": 7,
   "id": "cd766fbb-acaa-488f-9711-f61658163b38",
   "metadata": {},
   "outputs": [],
   "source": [
    "xbar=75\n",
    "u=70\n",
    "std_dev=5"
   ]
  },
  {
   "cell_type": "code",
   "execution_count": 9,
   "id": "8a6f04e5-4f07-4ee6-9a80-ab76a5eadaba",
   "metadata": {},
   "outputs": [
    {
     "name": "stdout",
     "output_type": "stream",
     "text": [
      "1.0\n"
     ]
    }
   ],
   "source": [
    "z_score = (xbar-u)/std_dev\n",
    "print(z_score)"
   ]
  },
  {
   "cell_type": "code",
   "execution_count": null,
   "id": "8d969dc9-3a22-4e12-bbf2-74dafdefd213",
   "metadata": {},
   "outputs": [],
   "source": [
    "Result:You are 1 std deviation above the mean."
   ]
  },
  {
   "cell_type": "markdown",
   "id": "491fde6d-30ec-41a7-b77e-06f80897a8c9",
   "metadata": {},
   "source": [
    "The value of the z-score tells you how many standard deviations you are away from the mean. \n",
    "If a z-score is equal to 0, it is on the mean.\n",
    "A positive z-score indicates the raw score is higher than the mean average.\n",
    "For example, if a z-score is equal to +1, it is 1 standard deviation above the mean.\n",
    "A negative z-score reveals the raw score is below the mean average. For example, if a z-score is equal to -2, it is 2 standard deviations below the mean."
   ]
  },
  {
   "cell_type": "markdown",
   "id": "b7d1291d-2ffc-4116-8ef5-662bf815082d",
   "metadata": {},
   "source": [
    "## Q10. In a study of the effectiveness of a new weight loss drug, a sample of 50 participants lost an average of 6 pounds with a standard deviation of 2.5 pounds. Conduct a hypothesis test to determine if the drug is significantly effective at a 95% confidence level using a t-test."
   ]
  },
  {
   "cell_type": "markdown",
   "id": "d15110e4-fce0-4164-867b-519fe46b0de3",
   "metadata": {},
   "source": [
    "\n",
    "Null hypothesis (H0): The weight loss drug has no effect on weight loss. The population mean weight loss is μ = 0.\n",
    "\n",
    "\n",
    "Alternative hypothesis (Ha): The weight loss drug is effective. The population mean weight loss is μ < 0.\n"
   ]
  },
  {
   "cell_type": "code",
   "execution_count": null,
   "id": "975d3ab9-6bfb-4fac-91f1-41980056f239",
   "metadata": {},
   "outputs": [],
   "source": [
    "\n",
    "The significance level is 0.05, which corresponds to a 95% confidence level.\n",
    "\n",
    "We can use a one-sample t-test to test the null hypothesis. The test statistic is calculated as follows:\n",
    "\n",
    "t = (x̄ - μ) / (s / √n)\n",
    "\n",
    "where x̄ is the sample mean, μ is the population mean under the null hypothesis, s is the sample standard deviation, and n is the sample size.\n",
    "\n",
    "In this case, the sample mean is x̄ = 6, the population mean under the null hypothesis is μ = 0, the sample standard deviation is s = 2.5, and the sample size is n = 50.\n",
    "\n",
    "t = (6 - 0) / (2.5 / √50) = 12\n",
    "\n",
    "The degrees of freedom for this test are (n - 1) = 49. Using a t-table or a calculator, we can find the critical t-value for a one-tailed test with a significance level of 0.05 and 49 degrees of freedom to be -1.676.\n",
    "\n",
    "Since the calculated t-value (t = 12) is greater than the critical t-value (-1.676), we can reject the null hypothesis and conclude that the weight loss drug is significantly effective at a 95% confidence level."
   ]
  },
  {
   "cell_type": "markdown",
   "id": "3570a7c3-2e10-44f2-8624-740c86fbc87a",
   "metadata": {},
   "source": [
    "## Q11. In a survey of 500 people, 65% reported being satisfied with their current job. Calculate the 95% confidence interval for the true proportion of people who are satisfied with their job."
   ]
  },
  {
   "cell_type": "code",
   "execution_count": null,
   "id": "37a5b09c-4695-4f82-82dc-493b2c30e9fa",
   "metadata": {},
   "outputs": [],
   "source": [
    "Confidence Interval = p  +/-  z*√p(1-p) / n"
   ]
  },
  {
   "cell_type": "markdown",
   "id": "3611513b-7bdc-4251-a029-f1e1e0a52620",
   "metadata": {},
   "source": [
    "p: sample proportion = 65%\n",
    "z: the chosen z-value = for 95% CI : +-1.96\n",
    "n: sample size =500\n",
    "\n",
    "95% Confidence Interval: 0.65  +/-  1.96*(√0.65(1-0.65) / 100) \n",
    "                    = 0.65 +-1.96*(√0.002275)\n",
    "                    =0.65+-1.96*0.0476969600708473\n",
    "                    =0.65 +-0.0934860417388607\n",
    "                    =[0.7434860417388607,0.55651]\n",
    "                i.e[ 0.7434860417388607,0.55651]\n",
    "                \n",
    "Interprete : here’s only a 5% chance that the true proportion of who are satisfied with their job less than  to 74.34 % or greater than 55.65% ."
   ]
  },
  {
   "cell_type": "markdown",
   "id": "58f39758-4cb9-4da9-ab9b-4beb19e6b5e6",
   "metadata": {},
   "source": [
    "## Q12. A researcher is testing the effectiveness of two different teaching methods on student performance.Sample A has a mean score of 85 with a standard deviation of 6, while sample B has a mean score of 82 with a standard deviation of 5. Conduct a hypothesis test to determine if the two teaching methods have a significant difference in student performance using a t-test with a significance level of 0.01."
   ]
  },
  {
   "cell_type": "markdown",
   "id": "cc2bce33-d841-4cfb-9fad-7b712b53ce42",
   "metadata": {},
   "source": [
    "Null hypothesis (H0): The two teaching methods have no significant difference in student performance. The population mean difference is μd = 0.\n",
    "\n",
    "\n",
    "Alternative hypothesis (Ha): The two teaching methods have a significant difference in student performance. The population mean difference is μd ≠ 0.\n"
   ]
  },
  {
   "cell_type": "code",
   "execution_count": null,
   "id": "24ca0ccb-2633-4d01-8500-f9dc48a60627",
   "metadata": {},
   "outputs": [],
   "source": [
    "\n",
    "The significance level is 0.01, which corresponds to a 99% confidence level.\n",
    "\n",
    "We can use a two-sample t-test to test the null hypothesis. The test statistic is calculated as follows:\n",
    "\n",
    "t = (x̄A - x̄B) / (sP * √(1/na + 1/nb))\n",
    "\n",
    "where x̄A and x̄B are the sample means, sP is the pooled standard deviation, na and nb are the sample sizes.\n",
    "\n",
    "In this case, the sample mean for sample A is x̄A = 85, the sample mean for sample B is x̄B = 82, the sample standard deviation for sample A is sA = 6, \n",
    "the sample standard deviation for sample B is sB = 5, the sample size for sample A is nA = nB = 1 (assuming equal sample sizes), \n",
    "and the pooled standard deviation is calculated as:\n",
    "\n",
    "sP = sqrt(((nA - 1) * sA^2 + (nB - 1) * sB^2) / (nA + nB - 2)) \n",
    "   = sqrt(((1 - 1) * 6^2 + (1 - 1) * 5^2) / (1 + 1 - 2)) = 5.5\n",
    "\n",
    "t = (85 - 82) / (5.5 * √(1/1 + 1/1)) = 1.091\n",
    "\n",
    "The degrees of freedom for this test are (na + nb - 2) = 2. Using a t-table or a calculator,\n",
    "we can find the critical t-value for a two-tailed test with a significance level of 0.01 and 2 degrees of freedom to be 4.303.\n",
    "\n",
    "Since the calculated t-value (t = 1.091) is less than the critical t-value (-4.303 or 4.303), \n",
    "we fail to reject the null hypothesis and conclude that there is no significant difference in student performance between the two teaching methods at a 99% confidence level."
   ]
  },
  {
   "cell_type": "markdown",
   "id": "031a7636-1a7f-4745-b926-290ac4aeb032",
   "metadata": {},
   "source": [
    "## Q13. A population has a mean of 60 and a standard deviation of 8. A sample of 50 observations has a meanof 65. Calculate the 90% confidence interval for the true population mean."
   ]
  },
  {
   "cell_type": "code",
   "execution_count": 14,
   "id": "2992f036-c335-493d-b704-2c37e3a83faa",
   "metadata": {},
   "outputs": [],
   "source": [
    "u=60\n",
    "xbar =65\n",
    "sigma =8\n",
    "n=50\n",
    "alpha =0.1\n",
    "CI =90"
   ]
  },
  {
   "cell_type": "code",
   "execution_count": null,
   "id": "7ec87036-d321-4c01-9987-9d3db8d1a9c1",
   "metadata": {},
   "outputs": [],
   "source": [
    "z_value for two side = alpha /2=0.05\n",
    "critical_value = value related the z_score = 1- 0.05=0.95 =1.645 \n",
    "This is the value for  both side of curve =+-1.645 "
   ]
  },
  {
   "cell_type": "code",
   "execution_count": 18,
   "id": "ee7fd3b7-a957-4a47-8a97-a357bbe87490",
   "metadata": {},
   "outputs": [
    {
     "name": "stdout",
     "output_type": "stream",
     "text": [
      "Confidence_Interval: 63.13889495191701 to 66.86110504808299\n"
     ]
    }
   ],
   "source": [
    "#Confidence Interval = x  +/-  z*(s/√n)\n",
    "#Confidence_Interval = xbar +/- 1.645*(8/√50)\n",
    "from scipy import stats\n",
    "import math\n",
    "\n",
    "upper_bound_CI = xbar + (1.645*(8/math.sqrt(50)))\n",
    "lower_bound_CI = xbar - (1.645*(8/math.sqrt(50)))\n",
    "\n",
    "print (\"Confidence_Interval: \" +str (lower_bound_CI)+\" to \" +str(upper_bound_CI))"
   ]
  },
  {
   "cell_type": "markdown",
   "id": "348ee035-3088-4469-99a2-143708d09119",
   "metadata": {},
   "source": [
    "## Q14. In a study of the effects of caffeine on reaction time, a sample of 30 participants had an average reaction time of 0.25 seconds with a standard deviation of 0.05 seconds. Conduct a hypothesis test to determine if the caffeine has a significant effect on reaction time at a 90% confidence level using a t-test."
   ]
  },
  {
   "cell_type": "code",
   "execution_count": 20,
   "id": "ab9849f3-f69d-46af-96a8-ecaf7f70116c",
   "metadata": {},
   "outputs": [],
   "source": [
    "n=30\n",
    "x=0.25\n",
    "sigma=0.05\n",
    "CI=90\n",
    "alpha=0.1\n",
    "df=29\n",
    "#t distribution value at df 29 is 1.699"
   ]
  },
  {
   "cell_type": "code",
   "execution_count": null,
   "id": "92352605-f0c8-40c3-99d2-cc25e9f3b705",
   "metadata": {},
   "outputs": [],
   "source": [
    "Confidence interval with t distribution = x  +/-  t(1-α/2, n-1)*(s/√n)"
   ]
  },
  {
   "cell_type": "code",
   "execution_count": 25,
   "id": "db0674ec-8bc0-4fbd-bb6c-3a9c74c833ac",
   "metadata": {},
   "outputs": [
    {
     "name": "stdout",
     "output_type": "stream",
     "text": [
      "0.23449032291331204\n",
      "0.26550967708668793\n",
      "Result : caffeine has a significant effect on reaction time at a 90% confidence level using a t-test is less than 0.26550967708668793 and greater than 0.23449032291331204\n"
     ]
    }
   ],
   "source": [
    "import math\n",
    "lower_bound_CI = x - (1.699*(sigma/math.sqrt(n)))\n",
    "print(lower_bound_CI)\n",
    "upper_bound_CI = x + (1.699*(sigma/math.sqrt(n)))\n",
    "print(upper_bound_CI)\n",
    "print (f\"Result : caffeine has a significant effect on reaction time at a 90% confidence level using a t-test is less than {upper_bound_CI} and greater than {lower_bound_CI}\")"
   ]
  },
  {
   "cell_type": "code",
   "execution_count": null,
   "id": "1a83e061-bbfd-4911-9faa-bcbe43a0ed08",
   "metadata": {},
   "outputs": [],
   "source": []
  },
  {
   "cell_type": "code",
   "execution_count": null,
   "id": "158ca7ae-abe8-4b1c-80bc-0fb8be3709a1",
   "metadata": {},
   "outputs": [],
   "source": []
  },
  {
   "cell_type": "code",
   "execution_count": null,
   "id": "8391412b-9b85-4d28-bcbb-019630346f3f",
   "metadata": {},
   "outputs": [],
   "source": []
  }
 ],
 "metadata": {
  "kernelspec": {
   "display_name": "Python 3 (ipykernel)",
   "language": "python",
   "name": "python3"
  },
  "language_info": {
   "codemirror_mode": {
    "name": "ipython",
    "version": 3
   },
   "file_extension": ".py",
   "mimetype": "text/x-python",
   "name": "python",
   "nbconvert_exporter": "python",
   "pygments_lexer": "ipython3",
   "version": "3.10.8"
  }
 },
 "nbformat": 4,
 "nbformat_minor": 5
}
