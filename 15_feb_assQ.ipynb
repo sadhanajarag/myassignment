{
 "cells": [
  {
   "cell_type": "markdown",
   "id": "56a3b062-2bfa-447f-ac01-65fa8e71b072",
   "metadata": {},
   "source": [
    "## Q1. What is multiprocessing in python? Why is it useful?"
   ]
  },
  {
   "cell_type": "markdown",
   "id": "3e667abf-b4ae-44e2-b468-3148e5cf43b7",
   "metadata": {},
   "source": [
    "Multiprocessing refers to the ability of a system to support more than one processor at the same time.\n",
    "Applications in a multiprocessing system are broken to smaller routines that run independently. \n",
    "The operating system allocates these threads to the processors improving performance of the system.\n",
    "\n",
    "\n",
    "We hve to deal with very large data while handling the projects.\n",
    "If it is assigned several processes at the same time, it will have to interrupt each task and \n",
    "switch briefly to another, to keep all of the processes going.\n",
    "In this case 2nd process has to wait to finish 1st process or stop/interrupt.\n",
    "It will effect on the performance of system and very time consuming.\n",
    "\n",
    "Multiprocessing can make a program substantially more efficient by running multiple tasks in parallel instead of sequentially\n",
    "The Python Multiprocessing Module is a tool for you to increase your scripts’ efficiency by allocating tasks to different processes.\n"
   ]
  },
  {
   "cell_type": "markdown",
   "id": "8e169710-ada4-41ed-8cd7-1169c43a8c31",
   "metadata": {},
   "source": [
    "## Q2. What are the differences between multiprocessing and multithreading?"
   ]
  },
  {
   "cell_type": "markdown",
   "id": "b5f9574a-4748-4a00-a3a2-717bb07b566a",
   "metadata": {},
   "source": [
    "Parameter                             \tMultiprocessing\t                                                Multithreading\n",
    "\n",
    "1) Basic\t            Multiprocessing helps you to increase computing power.\t              Multithreading helps you to create computing                                                                                               threads of a single process to increase                                                                                                   computing power.\n",
    "\n",
    "2) Execution\t        It allows you to execute multiple processes concurrently.\t          Multiple threads of a single process are                                                                                                    executed concurrently.\n",
    "\n",
    "3) CPU switching\t    In Multiprocessing, CPU has to switch between multiple              In multithreading, CPU has to switch between \n",
    "                        programs so that it looks like that multiple programs               multiple threads to make it appear that all                                                                                              threads are running simultaneously.\n",
    "                        are running simultaneously.                                                                                \n",
    "                                                  \n",
    "                         \t\n",
    "        \n",
    "4) Creation\t            The creation of a process is slow and resource-specific.\t            The creation of a thread is economical in                                                                                                  time and resource.\n",
    "\n",
    "5)Classification\t    Multiprocessing can be symmetric or asymmetric.                         Multithreading is not classified.\n",
    "\n",
    "6) Memory\t            Multiprocessing allocates separate memory and resources                 Multithreading threads belonging to the                                                                                                   same process share the same \n",
    "                        for each process or program.\t                                        memory and resources as that of the                                                                                                         process.\n",
    "                        \n",
    "7)Pickling objects\t    Multithreading avoids pickling.\t                                        Multiprocessing relies on pickling objects                                                                                                 in memory to send to other processes.\n",
    "\n",
    "8) Program\t            Multiprocessing system allows executing multiple programs and tasks.\tMultithreading system executes multiple                                                                                                  threads of the same or different processes.\n",
    "\n",
    "9) Time taken\t        Less time is taken for job processing.\t                                A moderate amount of time is taken for job                                                                                                 processing."
   ]
  },
  {
   "cell_type": "markdown",
   "id": "7db42480-9ca5-4889-a4c9-e9957023994c",
   "metadata": {},
   "source": [
    "## Q3. Write a python code to create a process using the multiprocessing module."
   ]
  },
  {
   "cell_type": "code",
   "execution_count": 4,
   "id": "5c226d00-74f8-48e3-a617-cee0d1bd1bcd",
   "metadata": {},
   "outputs": [
    {
     "name": "stdout",
     "output_type": "stream",
     "text": [
      "Double of number 10 is 20\n",
      "Square of number 10 is 100\n",
      "DONE!!!\n"
     ]
    }
   ],
   "source": [
    "import multiprocessing\n",
    "\n",
    "def double(n):\n",
    "    print(\"Double of number {} is {}\".format(n,n+n))    \n",
    "\n",
    "def sqaure(n):\n",
    "    print(\"Square of number {} is {}\".format(n,n*n))\n",
    "    \n",
    "\n",
    "if __name__ == \"__main__\":\n",
    "    m1 = multiprocessing.Process(target = double , args =(10,))\n",
    "    m2 = multiprocessing.Process(target = sqaure , args = (10,))\n",
    "    m1.start()\n",
    "    m2.start()\n",
    "    m1.join()\n",
    "    m2.join()\n",
    "    print(\"DONE!!!\")"
   ]
  },
  {
   "cell_type": "markdown",
   "id": "8415da22-36fa-4c09-8e66-5565d9d3f3bb",
   "metadata": {},
   "source": [
    "## Q4. What is a multiprocessing pool in python? Why is it used?"
   ]
  },
  {
   "cell_type": "code",
   "execution_count": null,
   "id": "93af2604-c475-41f4-a0f7-21e8241087f4",
   "metadata": {},
   "outputs": [],
   "source": [
    "multiprocessing pool:\n",
    "    \n",
    "It creates multiple Python processes in the background and spreads out your computations for you across multiple CPU cores so \n",
    "that they all happen in parallel without you needing to do anything.\n",
    "\n",
    "when:\n",
    "    \n",
    "Use the multiprocessing pool if your tasks are independent. \n",
    "This means that each task is not dependent on other tasks that could execute at the same time. \n",
    "It also may mean tasks that are not dependent on any data other than data provided via function arguments to the task.\n",
    "Task is distributed to multiple processes so it will take less amount of time and increase efficiency of program.\n",
    "\n"
   ]
  },
  {
   "cell_type": "code",
   "execution_count": null,
   "id": "019122fa-ba4d-4c04-9212-7aab9fed8130",
   "metadata": {},
   "outputs": [],
   "source": [
    "Syntax:\n",
    "    \n",
    "multiprocessing.Pool(processes, initializer, initargs, maxtasksperchild, context)\n",
    "\n",
    "process:number of worker processes you want to create\n",
    "initializer :initialization\n",
    "initargs : arguments passed to it.\n",
    "maxtasksperchild :  number of tasks assigned to each child process.\n"
   ]
  },
  {
   "cell_type": "markdown",
   "id": "29cc2316-0bf2-4ed6-bb51-85b86b9a6a12",
   "metadata": {},
   "source": [
    "## Q5. How can we create a pool of worker processes in python using the multiprocessing module?"
   ]
  },
  {
   "cell_type": "code",
   "execution_count": 13,
   "id": "e52007c0-1c3c-4081-aa36-408e0538b18e",
   "metadata": {},
   "outputs": [
    {
     "name": "stdout",
     "output_type": "stream",
     "text": [
      "Cube of 1  is 1\n",
      "Cube of 2  is 8\n",
      "Cube of 3  is 27\n",
      "Cube of 5  is 125\n",
      "Cube of 6  is 216\n",
      "\n",
      "\n",
      "\n",
      "\n",
      "\n",
      "[1, 8, 27, 125, 216]\n"
     ]
    }
   ],
   "source": [
    "import multiprocessing\n",
    "def cube(n):\n",
    "    print(\"Cube of {}  is {}\\n\".format(n,n*n*n))\n",
    "    return n*n*n\n",
    "\n",
    "if __name__== \"__main__\":\n",
    "    with multiprocessing.Pool(processes=5) as pool:\n",
    "        a=pool.map(cube,[1,2,3,5,6])\n",
    "        print(a)"
   ]
  },
  {
   "cell_type": "markdown",
   "id": "48de84d2-e183-4688-a1e4-52be2f903851",
   "metadata": {},
   "source": [
    "## Q6. Write a python program to create 4 processes, each process should print a different number using the multiprocessing module in python."
   ]
  },
  {
   "cell_type": "code",
   "execution_count": 16,
   "id": "5f506384-497b-4ec6-bfcc-098df67b4800",
   "metadata": {},
   "outputs": [
    {
     "name": "stdout",
     "output_type": "stream",
     "text": [
      "current process is ForkPoolWorker-49 and Cube of 1  is 1\n",
      "current process is ForkPoolWorker-50 and Cube of 2  is 8\n",
      "current process is ForkPoolWorker-51 and Cube of 3  is 27\n",
      "current process is ForkPoolWorker-52 and Cube of 5  is 125\n",
      "\n",
      "\n",
      "\n",
      "\n",
      "current process is ForkPoolWorker-49 and Cube of 6  is 216\n",
      "current process is ForkPoolWorker-50 and Cube of 7  is 343\n",
      "current process is ForkPoolWorker-52 and Cube of 9  is 729\n",
      "current process is ForkPoolWorker-51 and Cube of 8  is 512\n",
      "\n",
      "\n",
      "\n",
      "\n",
      "[1, 8, 27, 125, 216, 343, 512, 729]\n"
     ]
    }
   ],
   "source": [
    "from multiprocessing import*\n",
    "def cube(n):\n",
    "    cname=current_process().name\n",
    "    print(\"current process is {} and Cube of {}  is {}\\n\".format(cname,n,n*n*n))\n",
    "    return n*n*n\n",
    "\n",
    "if __name__== \"__main__\":\n",
    "    with multiprocessing.Pool(processes=4) as pool:\n",
    "        a=pool.map(cube,[1,2,3,5,6,7,8,9])\n",
    "        print(a)"
   ]
  },
  {
   "cell_type": "code",
   "execution_count": null,
   "id": "2373d21d-ab0e-4786-b4b0-07648b33c6d8",
   "metadata": {},
   "outputs": [],
   "source": []
  },
  {
   "cell_type": "code",
   "execution_count": null,
   "id": "0c1e6541-e967-4750-937d-b61d0631b61f",
   "metadata": {},
   "outputs": [],
   "source": []
  },
  {
   "cell_type": "code",
   "execution_count": null,
   "id": "33f7e2e0-747f-4034-9400-01a2619fc761",
   "metadata": {},
   "outputs": [],
   "source": []
  }
 ],
 "metadata": {
  "kernelspec": {
   "display_name": "Python 3 (ipykernel)",
   "language": "python",
   "name": "python3"
  },
  "language_info": {
   "codemirror_mode": {
    "name": "ipython",
    "version": 3
   },
   "file_extension": ".py",
   "mimetype": "text/x-python",
   "name": "python",
   "nbconvert_exporter": "python",
   "pygments_lexer": "ipython3",
   "version": "3.10.8"
  }
 },
 "nbformat": 4,
 "nbformat_minor": 5
}
